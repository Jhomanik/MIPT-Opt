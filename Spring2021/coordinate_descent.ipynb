{
 "cells": [
  {
   "cell_type": "markdown",
   "metadata": {
    "slideshow": {
     "slide_type": "slide"
    }
   },
   "source": [
    "# Введение в координатный спуск (coordinate descent): теория и приложения"
   ]
  },
  {
   "cell_type": "markdown",
   "metadata": {
    "slideshow": {
     "slide_type": "slide"
    }
   },
   "source": [
    "## Постановка задачи и основное предположение\n",
    "\n",
    "$$\n",
    "\\min_{x \\in \\mathbb{R}^n} f(x)\n",
    "$$ \n",
    "\n",
    "- $f$ выпуклая функция\n",
    "- Если по каждой координате будет выполнено $f(x + \\varepsilon e_i) \\geq f(x)$, будет ли это означать, что $x$ точка минимума?"
   ]
  },
  {
   "cell_type": "markdown",
   "metadata": {
    "slideshow": {
     "slide_type": "slide"
    }
   },
   "source": [
    "- Если $f$ гладкая, то да, по критерию первого порядка $f'(x) = 0$\n",
    "- Если $f$ негладкая, то нет, так как условие может быть выполнено в \"угловых\" точках, которые не являются точками минимума\n",
    "- Если $f$ негладкая, но композитная с сепарабельной негладкой частью, то есть \n",
    "$$\n",
    "f(x) = g(x) + \\sum_{i=1}^n h_i(x_i),\n",
    "$$\n",
    "то да. Почему?"
   ]
  },
  {
   "cell_type": "markdown",
   "metadata": {
    "slideshow": {
     "slide_type": "slide"
    }
   },
   "source": [
    "- Для любого $y$ и $x$, в котором выполнено условие оптимальности по каждому направлению, выполнено\n",
    "$$\n",
    "f(y) - f(x) = g(y) - g(x) + \\sum_{i=1}^n (h_i(y_i) - h_i(x_i)) \\geq \\langle g'(x), y - x \\rangle+ \\sum_{i=1}^n (h_i(y_i) - h_i(x_i)) = \\sum_{i=1}^n [g'_i(x)(y_i - x_i) + h_i(y_i) - h_i(x_i)] \\geq 0\n",
    "$$\n",
    "- Значит для функций такого вида поиск минимума можно проводить покоординатно, а в результате всё равно получить точку минимума"
   ]
  },
  {
   "cell_type": "markdown",
   "metadata": {
    "slideshow": {
     "slide_type": "slide"
    }
   },
   "source": [
    "### Вычислительные нюансы\n",
    "\n",
    "- На этапе вычисления $i+1$ координаты используются обновлённые значения $1, 2, \\ldots, i$ координат при последовательном переборе координат\n",
    "- Вспомните разницу между методами Якоби и Гаусса-Зейделя для решения линейных систем!\n",
    "- Порядок выбора координат имеет значение\n",
    "- Сложность обновления полного вектора $\\sim$ сложности обновления $n$ его компонент, то есть для покоординатного обновления целевой переменной не требуется оперировать с полным градиентом!"
   ]
  },
  {
   "cell_type": "markdown",
   "metadata": {
    "slideshow": {
     "slide_type": "slide"
    }
   },
   "source": [
    "## Простой пример\n",
    "\n",
    "- $f(x) = \\frac12 \\|Ax - b\\|_2^2$, где $A \\in \\mathbb{R}^{m \\times n}$ и $m \\gg n$\n",
    "- Выберем некоторую координату $i$\n",
    "- Тогда покоординатное условие оптимальности $[f'(x)]_i = A^{\\top}_i(Ax - b) = A^{\\top}_i(A_{-i} x_{-i} + A_ix_i - b) = 0$\n",
    "- Откуда $x_i = \\dfrac{A^{\\top}_i (b - A_{-i} x_{-i})}{\\|A_i\\|_2^2}$ - сложность $O(nm)$, что сопоставимо с вычислением полного градиента. Можно ли быстрее?"
   ]
  },
  {
   "cell_type": "markdown",
   "metadata": {
    "slideshow": {
     "slide_type": "slide"
    }
   },
   "source": [
    "- Да, можно! Для этого необходимо заметить следующее\n",
    "\n",
    "$$\n",
    "x_i = \\dfrac{A^{\\top}_i (b - A_{-i} x_{-i})}{\\|A_i\\|_2^2} = \\dfrac{A^{\\top}_i (b - Ax + A_{i}x_i)}{\\|A_i\\|_2^2} = x_i - \\dfrac{A^{\\top}_i r}{\\|A_i\\|_2^2},\n",
    "$$\n",
    "\n",
    "где $r = Ax - b$\n",
    "\n",
    "- Обновление $r$ - $\\mathcal{O}(m)$, вычисление $A^{\\top}_i r$ - $\\mathcal{O}(m)$\n",
    "- В итоге, обновить одну координату стоит $\\mathcal{O}(n)$, то есть сложность обновления всех координат сопоставима с вычислением полного градиента $\\mathcal{O}(mn)$"
   ]
  },
  {
   "cell_type": "markdown",
   "metadata": {
    "slideshow": {
     "slide_type": "slide"
    }
   },
   "source": [
    "## Как выбирать координаты?\n",
    "\n",
    "- По циклы от 1 до $n$\n",
    "- Случайной перестановкой\n",
    "- Правило Gauss-Southwell: $i = \\arg\\max_k |f'_k(x)|$ - потенциально более дорогое чем остальные"
   ]
  },
  {
   "cell_type": "code",
   "execution_count": 169,
   "metadata": {
    "slideshow": {
     "slide_type": "slide"
    }
   },
   "outputs": [
    {
     "name": "stdout",
     "output_type": "stream",
     "text": [
      "6.497288488058076\n"
     ]
    }
   ],
   "source": [
    "import numpy as np\n",
    "import matplotlib.pyplot as plt\n",
    "plt.rc(\"text\", usetex=True)\n",
    "m = 1000\n",
    "n = 200\n",
    "A = np.random.randn(m, n)\n",
    "print(np.linalg.cond(A.T @ A))\n",
    "x_true = np.random.randn(n)\n",
    "b = A @ x_true + 1e-3 * np.random.randn(m)"
   ]
  },
  {
   "cell_type": "code",
   "execution_count": 174,
   "metadata": {
    "slideshow": {
     "slide_type": "slide"
    }
   },
   "outputs": [],
   "source": [
    "def coordinate_descent_lsq(x0, num_iter, sampler=\"sequential\"):\n",
    "    conv = [x0]\n",
    "    x = x0.copy()\n",
    "    r = A @ x0 - b\n",
    "    grad = A.T @ r\n",
    "    if sampler == \"sequential\" or sampler == \"GS\":\n",
    "        perm = np.arange(x.shape[0])\n",
    "    elif sampler == \"random\":\n",
    "        perm = np.random.permutation(x.shape[0])\n",
    "    else:\n",
    "        raise ValueError(\"Unknown sampler!\")\n",
    "    \n",
    "    for i in range(num_iter):\n",
    "        for idx in perm:\n",
    "            if sampler == \"GS\":\n",
    "                idx = np.argmax(np.abs(grad))\n",
    "            new_x_idx = x[idx] - A[:, idx] @ r / (A[:, idx] @ A[:, idx])\n",
    "            r = r + A[:, idx] * (new_x_idx - x[idx])\n",
    "            if sampler == \"GS\":\n",
    "                grad = A.T @ r\n",
    "            x[idx] = new_x_idx\n",
    "        if sampler == \"random\":\n",
    "            perm = np.random.permutation(x.shape[0])\n",
    "        conv.append(x.copy())\n",
    "#         print(np.linalg.norm(A @ x - b))\n",
    "    return x, conv"
   ]
  },
  {
   "cell_type": "code",
   "execution_count": 175,
   "metadata": {
    "slideshow": {
     "slide_type": "slide"
    }
   },
   "outputs": [],
   "source": [
    "x0 = np.random.randn(n)\n",
    "num_iter = 100\n",
    "x_cd_seq, conv_cd_seq = coordinate_descent_lsq(x0, num_iter)\n",
    "x_cd_rand, conv_cd_rand = coordinate_descent_lsq(x0, num_iter, \"random\")\n",
    "x_cd_gs, conv_cd_gs = coordinate_descent_lsq(x0, num_iter, \"GS\")"
   ]
  },
  {
   "cell_type": "code",
   "execution_count": 176,
   "metadata": {
    "slideshow": {
     "slide_type": "slide"
    }
   },
   "outputs": [],
   "source": [
    "# !pip install git+https://github.com/amkatrutsa/liboptpy\n",
    "import liboptpy.unconstr_solvers as methods\n",
    "import liboptpy.step_size as ss\n",
    "\n",
    "def f(x):\n",
    "    res = A @ x - b\n",
    "    return 0.5 * res @ res\n",
    "\n",
    "def gradf(x):\n",
    "    res = A @ x - b\n",
    "    return A.T @ res\n",
    "\n",
    "L = np.max(np.linalg.eigvalsh(A.T @ A))\n",
    "\n",
    "gd = methods.fo.GradientDescent(f, gradf, ss.ConstantStepSize(1 / L))\n",
    "x_gd = gd.solve(x0=x0, max_iter=num_iter)\n",
    "\n",
    "acc_gd = methods.fo.AcceleratedGD(f, gradf, ss.ConstantStepSize(1 / L))\n",
    "x_accgd = acc_gd.solve(x0=x0, max_iter=num_iter)"
   ]
  },
  {
   "cell_type": "code",
   "execution_count": 179,
   "metadata": {
    "slideshow": {
     "slide_type": "slide"
    }
   },
   "outputs": [
    {
     "data": {
      "image/png": "[encoded data removed]",
      "text/plain": [
       "<Figure size 432x288 with 1 Axes>"
      ]
     },
     "metadata": {
      "needs_background": "light"
     },
     "output_type": "display_data"
    }
   ],
   "source": [
    "plt.semilogy([np.linalg.norm(A @ x - b) for x in conv_cd_rand], label=\"Random\")\n",
    "plt.semilogy([np.linalg.norm(A @ x - b) for x in conv_cd_seq], label=\"Sequential\")\n",
    "plt.semilogy([np.linalg.norm(A @ x - b) for x in conv_cd_gs], label=\"GS\")\n",
    "plt.semilogy([np.linalg.norm(A @ x - b) for x in gd.get_convergence()], label=\"GD\")\n",
    "plt.semilogy([np.linalg.norm(A @ x - b) for x in acc_gd.get_convergence()], label=\"Nesterov\")\n",
    "\n",
    "plt.legend(fontsize=20)\n",
    "plt.xlabel(\"Number of iterations\", fontsize=24)\n",
    "plt.ylabel(\"$\\|Ax - b\\|_2$\", fontsize=24)\n",
    "plt.grid(True)\n",
    "plt.xticks(fontsize=18)\n",
    "plt.yticks(fontsize=18)\n",
    "plt.show()"
   ]
  },
  {
   "cell_type": "code",
   "execution_count": 181,
   "metadata": {
    "slideshow": {
     "slide_type": "slide"
    }
   },
   "outputs": [
    {
     "data": {
      "image/png": "[encoded data removed]",
      "text/plain": [
       "<Figure size 432x288 with 1 Axes>"
      ]
     },
     "metadata": {
      "needs_background": "light"
     },
     "output_type": "display_data"
    }
   ],
   "source": [
    "plt.semilogy([np.linalg.norm(x - x_true) for x in conv_cd_rand], label=\"Random\")\n",
    "plt.semilogy([np.linalg.norm(x - x_true) for x in conv_cd_seq], label=\"Sequential\")\n",
    "plt.semilogy([np.linalg.norm(x - x_true) for x in conv_cd_gs], label=\"GS\")\n",
    "plt.semilogy([np.linalg.norm(x - x_true) for x in gd.get_convergence()], label=\"GD\")\n",
    "plt.semilogy([np.linalg.norm(x - x_true) for x in acc_gd.get_convergence()], label=\"Nesterov\")\n",
    "plt.legend(fontsize=20)\n",
    "plt.xlabel(\"Number of iterations\", fontsize=24)\n",
    "plt.ylabel(\"$\\|x - x^*\\|_2$\", fontsize=24)\n",
    "plt.grid(True)\n",
    "plt.xticks(fontsize=18)\n",
    "plt.yticks(fontsize=18)\n",
    "plt.show()"
   ]
  },
  {
   "cell_type": "markdown",
   "metadata": {
    "slideshow": {
     "slide_type": "slide"
    }
   },
   "source": [
    "## Сходимость\n",
    "\n",
    "- Сублинейная для выпуклых глакдих с Липшицевым градиентом\n",
    "- Линейная для сильно выпуклых функций\n",
    "- Прямая аналогия с градиентным спуском\n",
    "- Но много особенностей использования"
   ]
  },
  {
   "cell_type": "markdown",
   "metadata": {
    "slideshow": {
     "slide_type": "slide"
    }
   },
   "source": [
    "## Типичные примеры использования\n",
    "\n",
    "- Lasso (снова)\n",
    "- SMO метод обучения SVM - блочный координатный спуск с размером блока равным 2\n",
    "- Вывод в графических моделях"
   ]
  },
  {
   "cell_type": "code",
   "execution_count": null,
   "metadata": {
    "slideshow": {
     "slide_type": "slide"
    }
   },
   "outputs": [],
   "source": []
  },
  {
   "cell_type": "code",
   "execution_count": null,
   "metadata": {
    "slideshow": {
     "slide_type": "slide"
    }
   },
   "outputs": [],
   "source": []
  }
 ],
 "metadata": {
  "celltoolbar": "Слайд-шоу",
  "kernelspec": {
   "display_name": "Python 3",
   "language": "python",
   "name": "python3"
  },
  "language_info": {
   "codemirror_mode": {
    "name": "ipython",
    "version": 3
   },
   "file_extension": ".py",
   "mimetype": "text/x-python",
   "name": "python",
   "nbconvert_exporter": "python",
   "pygments_lexer": "ipython3",
   "version": "3.9.4"
  }
 },
 "nbformat": 4,
 "nbformat_minor": 4
}

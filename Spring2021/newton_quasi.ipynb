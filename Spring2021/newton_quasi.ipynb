{
 "cells": [
  {
   "cell_type": "markdown",
   "metadata": {
    "slideshow": {
     "slide_type": "slide"
    }
   },
   "source": [
    "# Метод Ньютона"
   ]
  },
  {
   "cell_type": "markdown",
   "metadata": {
    "slideshow": {
     "slide_type": "slide"
    }
   },
   "source": [
    "## На прошлых семинарах...\n",
    "\n",
    "1. Метод сопряжённых градиентов\n",
    "2. Метод тяжёлого шарика\n",
    "3. Ускоренный метод Нестерова\n",
    "4. Концепция нижних оценок"
   ]
  },
  {
   "cell_type": "markdown",
   "metadata": {
    "slideshow": {
     "slide_type": "slide"
    }
   },
   "source": [
    "## Идея метода Ньютона\n",
    "Рассмотрим задачу\n",
    "\n",
    "$$\n",
    "\\min\\limits_{x\\ \\in \\mathbb{R}^n} f(x).\n",
    "$$\n",
    "\n",
    "- Градиентный спуск $\\equiv$ **линейная** аппроксимация $f$\n",
    "- Метод Ньютона $\\equiv$ **квадратичная** аппроксимация $f$:\n",
    "\n",
    "$$\n",
    "f(x + h) \\approx f(x) + \\langle f'(x), h \\rangle + \\frac{1}{2}h^{\\top}f''(x)h \\to \\min_{h}\n",
    "$$\n",
    "\n",
    "Из необходимого условия минимума:\n",
    "\n",
    "$$\n",
    "f'(x) + f''(x) h = 0, \\qquad h^* = -(f''(x))^{-1} f'(x)\n",
    "$$\n"
   ]
  },
  {
   "cell_type": "markdown",
   "metadata": {
    "slideshow": {
     "slide_type": "slide"
    }
   },
   "source": [
    "### Является ли найденное направление направлением убывания?\n",
    "\n",
    "Проверим знак скалярного произведения $\\langle f'(x), h^* \\rangle$.\n",
    "\n",
    "$$\n",
    "\\langle f'(x), h^* \\rangle = -(f')^{\\top}(x) (f''(x))^{-1} f'(x) < 0 \\Leftarrow f''(x) \\succ 0\n",
    "$$\n",
    "\n",
    "**Вопрос:** а что если при некотором $k^*$ гессиан станет неопределён?"
   ]
  },
  {
   "cell_type": "markdown",
   "metadata": {
    "slideshow": {
     "slide_type": "slide"
    }
   },
   "source": [
    "## Метод Ньютона\n",
    "\n",
    "- Классический метод Ньютона: $\\alpha_k \\equiv 1$\n",
    "- Демпфированный метод Ньютона: $\\alpha_k$ выбирается на каждой итерации по заданному правилу\n",
    "\n",
    "```python\n",
    "def NewtonMethod(f, x0, epsilon, **kwargs):\n",
    "    \n",
    "    x = x0\n",
    "    \n",
    "    while True:\n",
    "        \n",
    "        h = ComputeNewtonStep(x, f, **kwargs)\n",
    "        \n",
    "        if StopCriterion(x, f, h, **kwargs) < epsilon:\n",
    "            \n",
    "            break\n",
    "            \n",
    "        alpha = SelectStepSize(x, h, f, **kwargs)\n",
    "            \n",
    "        x = x + alpha * h\n",
    "            \n",
    "    return x\n",
    "\n",
    "```"
   ]
  },
  {
   "cell_type": "markdown",
   "metadata": {
    "slideshow": {
     "slide_type": "slide"
    }
   },
   "source": [
    "## Теорема сходимости (Ю. Е. Нестеров Введение в выпуклую оптимизацию, $\\S$ 1.2)\n",
    "\n",
    "**Теорема.** Пусть функция $f(x)$\n",
    "- дважды дифференцируема и её гессиан удовлетворяет условию Липшица с константой $M$\n",
    "- существует точка локального минимума с положительно определённым гессианом\n",
    "\n",
    "$$\n",
    "f''(x^*) \\succeq l\\mathbf{I}, \\; l > 0\n",
    "$$\n",
    "\n",
    "- начальная точка $x_0$ достаточно близка к точке минимума, в частности\n",
    "\n",
    "$$\n",
    "\\|x_0 - x^*\\|_2 \\leq \\frac{2l}{3M}\n",
    "$$\n",
    "\n",
    "Тогда метод Ньютона сходится **квадратично**:\n",
    "\n",
    "$$\n",
    "\\|x_{k+1} - x^* \\|_2 \\leq \\dfrac{M\\|x_k - x^*\\|^2_2}{2 (l - M\\|x_k - x^*\\|_2)}\n",
    "$$"
   ]
  },
  {
   "cell_type": "markdown",
   "metadata": {
    "slideshow": {
     "slide_type": "slide"
    }
   },
   "source": [
    "### Пример\n",
    "\n",
    "Применим метод Ньютона для поиска корня следующей функции\n",
    "\n",
    "$$\n",
    "\\varphi(t) = \\dfrac{t}{\\sqrt{1+t^2}}\n",
    "$$\n",
    "\n",
    "и определим область сходимости."
   ]
  },
  {
   "cell_type": "markdown",
   "metadata": {
    "slideshow": {
     "slide_type": "slide"
    }
   },
   "source": [
    "## Аффинная инвариантность\n",
    "\n",
    "Рассмотрим функцию $f(x)$ и невырожденное преобразование с матрицей $A$. \n",
    "\n",
    "Выясним, как изменится шаг метода Ньютона после преобразования $A$.\n",
    "\n",
    "Пусть $x = Ay$ и $g(y) = f(Ay)$. Тогда\n",
    "\n",
    "$$\n",
    "g(y + u) \\approx g(y) + \\langle g'(y), u \\rangle + \\frac{1}{2} u^{\\top} g''(y) u \\to \\min_{u}\n",
    "$$\n",
    "\n",
    "и\n",
    "\n",
    "$$\n",
    "u^* = -(g''(y))^{-1} g'(y) \\qquad y_{k+1} = y_k - (g''(y_k))^{-1} g'(y_k)\n",
    "$$\n",
    "\n",
    "или"
   ]
  },
  {
   "cell_type": "markdown",
   "metadata": {
    "slideshow": {
     "slide_type": "fragment"
    }
   },
   "source": [
    "\\begin{align*}\n",
    "y_{k+1} & = y_k - (A^{\\top}f''(Ay_k)A)^{-1} A^{\\top}f'(Ay_k)\\\\\n",
    "& = y_k - A^{-1}(f''(Ay_k))^{-1}f'(Ay_k)\n",
    "\\end{align*}\n",
    "\n",
    "Таким образом,\n",
    "\n",
    "$$\n",
    "Ay_{k+1} = Ay_k - (f''(Ay_k))^{-1}f'(Ay_k) \\quad x_{k+1} = x_k - (f''(x_k))^{-1}f'(x_k)\n",
    "$$\n",
    "\n",
    "Следовательно, направление метода Ньютона преобразуется при \n",
    "\n",
    "линейном преобразовани так же, как и координаты!"
   ]
  },
  {
   "cell_type": "markdown",
   "metadata": {
    "slideshow": {
     "slide_type": "slide"
    }
   },
   "source": [
    "## Использование метода сопряжённых градиентов в методе Ньютона\n",
    "\n",
    "- В методе Ньютона надо решать линейную систему $H(x_k) h_k = -f'(x_k)$ для поиска направлению движения\n",
    "- Если функция сильно выпуклая, то $H(x_k) \\in \\mathbb{S}^n_{++}$ и для решения системы можно использовать метод сопряжённых градиентов. В этом случае метод называют **неточный метод Ньютона**.\n",
    "- Что нового это даёт\n",
    "    - Явно хранить гессиан не нужно, достаточно умножать его на вектор\n",
    "    - Можно регулировать точность решения системы и не решать её очень точно вдали от решения. **Важно**: неточное решение может не быть направлением убывания! \n",
    "    - Сходимость будет только локально сверхлинейной при начале выбора шага с $\\alpha_0 = 1$, как и в методе Ньютона"
   ]
  },
  {
   "cell_type": "markdown",
   "metadata": {
    "slideshow": {
     "slide_type": "slide"
    }
   },
   "source": [
    "## Вычислительная сложность и эксперименты"
   ]
  },
  {
   "cell_type": "markdown",
   "metadata": {
    "collapsed": true,
    "slideshow": {
     "slide_type": "fragment"
    }
   },
   "source": [
    "Узкие места метода Ньютона:\n",
    "\n",
    "- формирование и хранение гессиана\n",
    "- решение систем линейных уравнений\n",
    "\n",
    "$$\n",
    "f''(x_k)h = -f'(x_k)\n",
    "$$"
   ]
  },
  {
   "cell_type": "markdown",
   "metadata": {
    "slideshow": {
     "slide_type": "slide"
    }
   },
   "source": [
    "### Сравнение с градиентным спуском\n",
    "$$\n",
    "f(w) = \\frac12 \\|w\\|_2^2 + C \\frac1m \\sum_{i=1}^m \\log (1 + \\exp(- y_i \\langle x_i, w \\rangle)) \\to \\min_w\n",
    "$$\n",
    "\n",
    "- Вспомните, как вычислять градиент и гессиан от такой функции"
   ]
  },
  {
   "cell_type": "code",
   "execution_count": 1,
   "metadata": {
    "slideshow": {
     "slide_type": "fragment"
    }
   },
   "outputs": [],
   "source": [
    "import numpy as np\n",
    "\n",
    "import liboptpy.unconstr_solvers as methods\n",
    "import liboptpy.step_size as ss\n",
    "\n",
    "import jax\n",
    "import jax.numpy as jnp\n",
    "from jax.config import config\n",
    "config.update(\"jax_enable_x64\", True)\n",
    "import sklearn.datasets as skldata\n",
    "n = 300\n",
    "m = 2000\n",
    "\n",
    "\n",
    "X, y = skldata.make_classification(n_classes=2, n_features=n, n_samples=m, n_informative=n//3, random_state=42)\n",
    "C = 1"
   ]
  },
  {
   "cell_type": "markdown",
   "metadata": {
    "slideshow": {
     "slide_type": "slide"
    }
   },
   "source": [
    "#### Точное решение с помощью CVXPy"
   ]
  },
  {
   "cell_type": "code",
   "execution_count": 2,
   "metadata": {
    "slideshow": {
     "slide_type": "fragment"
    }
   },
   "outputs": [
    {
     "name": "stdout",
     "output_type": "stream",
     "text": [
      "----------------------------------------------------------------------------\n",
      "\tSCS v1.2.6 - Splitting Conic Solver\n",
      "\t(c) Brendan O'Donoghue, Stanford University, 2012-2016\n",
      "----------------------------------------------------------------------------\n",
      "Lin-sys: sparse-indirect, nnz in A = 312304, CG tol ~ 1/iter^(2.00)\n",
      "eps = 1.00e-04, alpha = 1.50, max_iters = 1000, normalize = 1, scale = 1.00\n",
      "Variables n = 6302, constraints m = 14304\n",
      "Cones:\tlinear vars: 2000\n",
      "\tsoc vars: 304, soc blks: 2\n",
      "\texp vars: 12000, dual exp vars: 0\n",
      "Setup time: 1.14e-02s\n",
      "----------------------------------------------------------------------------\n",
      " Iter | pri res | dua res | rel gap | pri obj | dua obj | kap/tau | time (s)\n",
      "----------------------------------------------------------------------------\n",
      "     0|      inf       inf       nan      -inf       inf       inf  8.30e-02 \n",
      "   100| 7.93e-02  3.09e-03  8.41e-03  3.71e-01  3.86e-01  6.29e-15  2.55e+00 \n",
      "   200| 2.89e-02  7.34e-04  6.99e-03  5.12e-01  4.98e-01  6.23e-15  5.56e+00 \n",
      "   300| 1.20e-02  3.60e-04  2.94e-03  4.85e-01  4.91e-01  6.24e-15  8.41e+00 \n",
      "   400| 5.17e-03  1.50e-04  5.05e-04  4.92e-01  4.93e-01  6.26e-15  1.12e+01 \n",
      "   500| 2.25e-03  6.48e-05  1.71e-04  4.93e-01  4.93e-01  6.26e-15  1.38e+01 \n",
      "   600| 9.98e-04  2.75e-05  4.76e-05  4.93e-01  4.94e-01  6.26e-15  1.70e+01 \n",
      "   700| 4.25e-04  1.23e-05  2.29e-05  4.94e-01  4.94e-01  6.26e-15  2.00e+01 \n",
      "   800| 1.86e-04  5.31e-06  8.04e-06  4.94e-01  4.94e-01  6.26e-15  2.27e+01 \n",
      "   880| 9.71e-05  2.71e-06  2.44e-06  4.94e-01  4.94e-01  6.26e-15  2.47e+01 \n",
      "----------------------------------------------------------------------------\n",
      "Status: Solved\n",
      "Timing: Solve time: 2.47e+01s\n",
      "\tLin-sys: avg # CG iterations: 6.27, avg solve time: 8.04e-03s\n",
      "\tCones: avg projection time: 1.98e-02s\n",
      "----------------------------------------------------------------------------\n",
      "Error metrics:\n",
      "dist(s, K) = 2.7756e-15, dist(y, K*) = 0.0000e+00, s'y/|s||y| = 1.5744e-10\n",
      "|Ax + s - b|_2 / (1 + |b|_2) = 9.7096e-05\n",
      "|A'y + c|_2 / (1 + |c|_2) = 2.7118e-06\n",
      "|c'x + b'y| / (1 + |c'x| + |b'y|) = 2.4387e-06\n",
      "----------------------------------------------------------------------------\n",
      "c'x = 0.4936, -b'y = 0.4936\n",
      "============================================================================\n",
      "Optimal value = 0.49358185853384956\n"
     ]
    }
   ],
   "source": [
    "import cvxpy as cvx\n",
    "x = cvx.Variable(n)\n",
    "\n",
    "obj = cvx.Minimize(cvx.norm(x, 2)**2 / 2 + C * cvx.sum(cvx.logistic(cvx.multiply(-y, X * x))) / m)\n",
    "prob = cvx.Problem(obj)\n",
    "prob.solve(solver=\"SCS\", verbose=True, max_iters=1000)\n",
    "print(\"Optimal value =\", prob.value)"
   ]
  },
  {
   "cell_type": "markdown",
   "metadata": {
    "slideshow": {
     "slide_type": "slide"
    }
   },
   "source": [
    "#### Вспомогательные функции"
   ]
  },
  {
   "cell_type": "code",
   "execution_count": 3,
   "metadata": {
    "slideshow": {
     "slide_type": "fragment"
    }
   },
   "outputs": [
    {
     "name": "stderr",
     "output_type": "stream",
     "text": [
      "WARNING:absl:No GPU/TPU found, falling back to CPU. (Set TF_CPP_MIN_LOG_LEVEL=0 and rerun for more info.)\n"
     ]
    },
    {
     "name": "stdout",
     "output_type": "stream",
     "text": [
      "918 µs ± 47.4 µs per loop (mean ± std. dev. of 7 runs, 1 loop each)\n",
      "9.77 ms ± 99.2 µs per loop (mean ± std. dev. of 7 runs, 1 loop each)\n"
     ]
    }
   ],
   "source": [
    "@jax.jit\n",
    "def f(w):\n",
    "    return jnp.linalg.norm(w)**2 / 2 +  C * jnp.mean(jnp.logaddexp(jnp.zeros(X.shape[0]), -y * (X @ w)))\n",
    "\n",
    "grad_f = jax.jit(jax.grad(f))\n",
    "hess_f = jax.jit(jax.hessian(f))\n",
    "x0 = jnp.ones(n)\n",
    "%timeit grad_f(x0).block_until_ready()\n",
    "%timeit hess_f(x0).block_until_ready()"
   ]
  },
  {
   "cell_type": "markdown",
   "metadata": {
    "slideshow": {
     "slide_type": "slide"
    }
   },
   "source": [
    "#### Реализация метода Ньютона"
   ]
  },
  {
   "cell_type": "code",
   "execution_count": 4,
   "metadata": {
    "slideshow": {
     "slide_type": "fragment"
    }
   },
   "outputs": [],
   "source": [
    "def Newton(f, gradf, hessf, x0, epsilon, num_iter, line_search, \n",
    "                    disp=False, callback=None, **kwargs):\n",
    "    x = x0.copy()\n",
    "    iteration = 0\n",
    "    opt_arg = {\"f\": f, \"grad_f\": gradf}\n",
    "    for key in kwargs:\n",
    "        opt_arg[key] = kwargs[key]\n",
    "    while True:\n",
    "        gradient = gradf(x)\n",
    "        hess = hessf(x)\n",
    "        h = np.linalg.solve(hess, -gradient)\n",
    "        alpha = line_search(x, h, **opt_arg)\n",
    "        x = x + alpha * h\n",
    "        if callback is not None:\n",
    "            callback(x)\n",
    "        iteration += 1\n",
    "        if disp:\n",
    "            print(\"Current function val =\", f(x))\n",
    "            print(\"Current gradient norm = \", np.linalg.norm(gradf(x)))\n",
    "        if np.linalg.norm(gradf(x)) < epsilon:\n",
    "            break\n",
    "        if iteration >= num_iter:\n",
    "            break\n",
    "    res = {\"x\": x, \"num_iter\": iteration, \"tol\": np.linalg.norm(gradf(x))}\n",
    "    return res"
   ]
  },
  {
   "cell_type": "markdown",
   "metadata": {
    "slideshow": {
     "slide_type": "slide"
    }
   },
   "source": [
    "### Сравнение с градиентным спуском"
   ]
  },
  {
   "cell_type": "code",
   "execution_count": 5,
   "metadata": {
    "slideshow": {
     "slide_type": "fragment"
    }
   },
   "outputs": [
    {
     "name": "stdout",
     "output_type": "stream",
     "text": [
      "Required tolerance achieved!\n",
      "Convergence in 8 iterations\n",
      "Function value = 0.49358975200553645\n",
      "Norm of gradient = 0.00015556932485808443\n"
     ]
    }
   ],
   "source": [
    "newton = methods.so.NewtonMethod(f, grad_f, hess_f,\n",
    "                                 ss.Backtracking(\"Armijo\", rho=0.4, beta=0.1, init_alpha=1.),\n",
    "                                linsolver=jnp.linalg.solve)\n",
    "# newton = methods.so.NewtonMethod(f, grad_f, hess_f, ss.ConstantStepSize(5e-1))\n",
    "x_newton = newton.solve(x0, tol=1e-3, max_iter=50, disp=True)"
   ]
  },
  {
   "cell_type": "code",
   "execution_count": 6,
   "metadata": {
    "scrolled": true,
    "slideshow": {
     "slide_type": "fragment"
    }
   },
   "outputs": [
    {
     "name": "stdout",
     "output_type": "stream",
     "text": [
      "Required tolerance achieved!\n",
      "Convergence in 74 iterations\n",
      "Function value = 0.49359011320868396\n",
      "Norm of gradient = 0.0009511941197983734\n"
     ]
    }
   ],
   "source": [
    "gd = methods.fo.GradientDescent(f, grad_f, ss.Backtracking(\"Armijo\", rho=0.5, beta=0.1, init_alpha=1.))\n",
    "# agd = methods.fo.AcceleratedGD(f, grad_f, ss.ConstantStepSize(1e-3))\n",
    "# gd = methods.fo.GradientDescent(f, grad_f, ss.ConstantStepSize(5e-3))\n",
    "x_gd = gd.solve(x0, tol=1e-3, max_iter=3000, disp=True)\n",
    "# x_agd = agd.solve(x0, tol=1e-3, max_iter=3000, disp=True)"
   ]
  },
  {
   "cell_type": "code",
   "execution_count": 7,
   "metadata": {
    "slideshow": {
     "slide_type": "slide"
    }
   },
   "outputs": [
    {
     "data": {
      "text/plain": [
       "<matplotlib.legend.Legend at 0x7ffd940a6438>"
      ]
     },
     "execution_count": 7,
     "metadata": {},
     "output_type": "execute_result"
    },
    {
     "data": {
      "image/png": "[encoded data removed]",
      "text/plain": [
       "<Figure size 864x576 with 1 Axes>"
      ]
     },
     "metadata": {},
     "output_type": "display_data"
    }
   ],
   "source": [
    "%matplotlib inline\n",
    "import matplotlib.pyplot as plt\n",
    "plt.rc(\"text\", usetex=True)\n",
    "    \n",
    "plt.figure(figsize=(12, 8))\n",
    "# Newton\n",
    "plt.semilogy([np.linalg.norm(grad_f(x)) for x in newton.get_convergence()], label=\"$\\| f'(x_k) \\|^{N}_2$\")\n",
    "# Gradient\n",
    "plt.semilogy([np.linalg.norm(grad_f(x)) for x in gd.get_convergence()], label=\"$\\| f'(x_k) \\|^{G}_2$\")\n",
    "plt.xlabel(r\"Number of iterations, $k$\", fontsize=26)\n",
    "plt.ylabel(r\"Convergence rate\", fontsize=26)\n",
    "plt.xticks(fontsize = 24)\n",
    "plt.yticks(fontsize = 24)\n",
    "plt.grid(True)\n",
    "plt.legend(loc=\"best\", fontsize=24)"
   ]
  },
  {
   "cell_type": "markdown",
   "metadata": {
    "slideshow": {
     "slide_type": "slide"
    }
   },
   "source": [
    "#### Сравнение времени работы"
   ]
  },
  {
   "cell_type": "code",
   "execution_count": 8,
   "metadata": {
    "slideshow": {
     "slide_type": "fragment"
    }
   },
   "outputs": [
    {
     "name": "stdout",
     "output_type": "stream",
     "text": [
      "129 ms ± 1.66 ms per loop (mean ± std. dev. of 7 runs, 10 loops each)\n",
      "521 ms ± 5.59 ms per loop (mean ± std. dev. of 7 runs, 1 loop each)\n"
     ]
    }
   ],
   "source": [
    "%timeit newton.solve(x0, tol=1e-2, max_iter=5000).block_until_ready()\n",
    "%timeit gd.solve(x0, tol=1e-2, max_iter=5000).block_until_ready()"
   ]
  },
  {
   "cell_type": "markdown",
   "metadata": {
    "slideshow": {
     "slide_type": "fragment"
    }
   },
   "source": [
    "- Метод Ньютона даёт очень точное решение за длительное время\n",
    "- Градиентный спуска даёт не очень точное решение, но гораздо быстрее\n",
    "- Часто бывает, что очень точное решение не требуется, поэтому градиентный спуск может быть предпочтительнее"
   ]
  },
  {
   "cell_type": "markdown",
   "metadata": {
    "slideshow": {
     "slide_type": "slide"
    }
   },
   "source": [
    "## Pro & Contra\n",
    "\n",
    "Pro\n",
    "\n",
    "- квадратичная сходимость вблизи решения\n",
    "- высокая точность полученного решения\n",
    "- аффинная инвариантность\n",
    "- параметры слабо влияют на скорость сходимости\n",
    "\n",
    "Contra\n",
    "\n",
    "- необходимо хранить гессиан на каждой итерации: $O(n^2)$ памяти\n",
    "- необходимо решать линейные системы: $O(n^3)$ операций\n",
    "- гессиан может оказаться вырожден\n",
    "- гессиан может не быть положительно определён $\\to$ направление $-(f''(x))^{-1}f'(x)$ может не быть направлением убывания"
   ]
  },
  {
   "cell_type": "markdown",
   "metadata": {
    "slideshow": {
     "slide_type": "slide"
    }
   },
   "source": [
    "## Сравнение с градиентным методом (Б.Т. Поляк Введение в оптимизацию, гл. 3, $\\S$ 1 )\n",
    "\n",
    "Метод | Скорость сходимости | Сложность | Аффинная инвариантность | Требования к $f(x)$\n",
    ":---: | :---: | :---: | :---: | :---\n",
    "Градиентный спуск | Глобально линейная | $O(n) + $ определение шага | Нет | Дифференцируема; градиент липшицев\n",
    "Метод Ньютона | Локально квадратичная | $O(n^3) + $ определение шага | Да | Дважды диференцируема; гессиан липшицев, положительно определён\n"
   ]
  },
  {
   "cell_type": "markdown",
   "metadata": {
    "slideshow": {
     "slide_type": "slide"
    }
   },
   "source": [
    "## Что дальше?\n",
    "\n",
    "- **Сложность:** как избавиться от решения систем линейных уравнений и хранения гессиана?\n",
    "- **Сходимость:** как совместить локально квадратичную и глобально линейную скорости? Желательно получить глобально квадратичную сходимость!\n",
    "- Требования к $f(x)$ необходимо минимизировать\n",
    "- Квазиньютоновские методы частично решают эти проблемы"
   ]
  },
  {
   "cell_type": "markdown",
   "metadata": {
    "slideshow": {
     "slide_type": "slide"
    }
   },
   "source": [
    "## Как уменьшить сложность хранения и вычисления?\n",
    "\n",
    "- Сложность вычисления можно уменьшить с помощью\n",
    "    - Квазиньютоновские методы, они же методы переменной метрики\n",
    "    - Требуется хранение матрицы $n \\times n$\n",
    "    \n",
    "- Сложность вычисления и хранения можно уменьшить \n",
    "    - квазиньютоновские методы с ограниченной памятью, например [L-BFGS](https://en.wikipedia.org/wiki/Limited-memory_BFGS) (Limited Broyden-Fletcher-Goldfarb-Shanno)\n",
    "    - НЕ требуется хранить матрицу\n",
    "    - вместо этого хранятся $k \\ll n$ векторов из $\\mathbb{R}^n$"
   ]
  },
  {
   "cell_type": "markdown",
   "metadata": {
    "slideshow": {
     "slide_type": "slide"
    }
   },
   "source": [
    "## Единообразный способ получения метода Ньютона и градиентного спуска \n",
    "\n",
    "- градиентный метод получен из аппроксимации первого порядка:\n",
    "\n",
    "$$\n",
    "f_G(x) \\approx f(y) + \\langle f'(y), x - y \\rangle + \\frac{1}{2}(x-y)^{\\top} \\frac{1}{\\alpha}I(x - y)\n",
    "$$\n",
    "\n",
    "причём при $\\alpha \\in (0, 1/L], f(x) \\leq f_G(x)$, то есть $f_G$ - глобальная оценка $f(x)$\n",
    "- метод Ньютона получен из аппроксимации второго порядка\n",
    "\n",
    "$$\n",
    "f_N(x) \\approx f(y) + \\langle f'(y), x - y \\rangle + \\frac{1}{2} (x-y)^{\\top}f''(y)(x-y)\n",
    "$$"
   ]
  },
  {
   "cell_type": "markdown",
   "metadata": {
    "slideshow": {
     "slide_type": "slide"
    }
   },
   "source": [
    "**Идея:** использовать промежуточную аппроксимацию вида\n",
    "\n",
    "$$\n",
    "f_q(x) \\approx f(y) + \\langle f'(y), x - y \\rangle + \\frac{1}{2} (x-y)^{\\top}{\\color{red}{B(y)}}(x-y),\n",
    "$$\n",
    "\n",
    "которая даёт переход к следующей точке:\n",
    "\n",
    "$$\n",
    "x_{k+1} = x_k - \\alpha_k B^{-1}_k f'(x_k) = x_k - \\alpha_k H_k f'(x_k)\n",
    "$$"
   ]
  },
  {
   "cell_type": "markdown",
   "metadata": {
    "slideshow": {
     "slide_type": "slide"
    }
   },
   "source": [
    "## Немного истории...\n",
    "- Первый квазиньютоновский метод придумал физик William Davidon в середине 1950-х для ускорения своих вычислений на ненадёжных компьютерах\n",
    "- Его статью с описанием предложенного метода не приняли к публикации, и она оставалась техническим отчётом <br></br> более 30 лет\n",
    "- [Опубликована](http://epubs.siam.org/doi/abs/10.1137/0801001) в 1991 году в первом выпуске [SIAM Journal on Optimization](https://www.siam.org/journals/siopt.php) "
   ]
  },
  {
   "cell_type": "markdown",
   "metadata": {
    "slideshow": {
     "slide_type": "slide"
    }
   },
   "source": [
    "## Общая схема квазиньютоновских методов\n",
    "\n",
    "```python\n",
    "def QuasiNewtonMethod(f, x0, epsilon, **kwargs):\n",
    "    \n",
    "    x = x0\n",
    "    \n",
    "    H = I\n",
    "    \n",
    "    while True:\n",
    "        \n",
    "        h = -H.dot(grad_f(x))\n",
    "        \n",
    "        if StopCriterion(x, f, h, **kwargs) < epsilon:\n",
    "            \n",
    "            break\n",
    "            \n",
    "        alpha = SelectStepSize(x, h, f, **kwargs)\n",
    "            \n",
    "        x = x + alpha * h\n",
    "            \n",
    "        H = UpdateH(H, f(x), grad_f(x))\n",
    "            \n",
    "    return x\n",
    "```"
   ]
  },
  {
   "cell_type": "markdown",
   "metadata": {
    "slideshow": {
     "slide_type": "slide"
    }
   },
   "source": [
    "## Как искать $B_{k+1}$?\n",
    "\n",
    "В точке $x_{k+1}$ имеем следующую аппрокисмацию:\n",
    "\n",
    "$$\n",
    "f_q(h) \\approx f(x_{k+1}) + \\langle f'(x_{k+1}), h \\rangle + \\frac{1}{2}h^{\\top}B_{k+1}h\n",
    "$$\n",
    "\n",
    "Из определения, очевидно, что $B_{k+1} \\in \\mathbb{S}^n_{++}$.\n",
    "Какие требования естественно наложить на $f_q(h)$?"
   ]
  },
  {
   "cell_type": "markdown",
   "metadata": {
    "slideshow": {
     "slide_type": "slide"
    }
   },
   "source": [
    "$$\n",
    "f_q'(-\\alpha_k h_k) = f'(x_k) \\qquad f'_q(0) = f'(x_{k+1}),\n",
    "$$\n",
    "\n",
    "где первое условие даёт\n",
    "\n",
    "$$\n",
    "f'(x_{k+1}) - \\alpha_k B_{k+1}h_k = f'(x_k),\n",
    "$$\n",
    "\n",
    "а второе выполняется автоматически."
   ]
  },
  {
   "cell_type": "markdown",
   "metadata": {
    "slideshow": {
     "slide_type": "slide"
    }
   },
   "source": [
    "### Квазиньютоновское уравнение (Secant equation)\n",
    "\n",
    "Из первого условия получаем\n",
    "\n",
    "$$\n",
    "B_{k+1}s_k = y_k,\n",
    "$$\n",
    "\n",
    "где $s_k = x_{k+1} - x_k$ и $y_k = f'(x_{k+1}) - f'(x_k)$.\n",
    "\n",
    "Это уравнение будет иметь решение только при $s^{\\top}_k y_k > 0$. Почему?"
   ]
  },
  {
   "cell_type": "markdown",
   "metadata": {
    "slideshow": {
     "slide_type": "fragment"
    }
   },
   "source": [
    "**Вопрос:** единственным ли образом определено $B_{k+1}$?"
   ]
  },
  {
   "cell_type": "markdown",
   "metadata": {
    "slideshow": {
     "slide_type": "slide"
    }
   },
   "source": [
    "### Как однозначно определить $B_{k+1}$?\n",
    "\n",
    "\\begin{align*}\n",
    "& \\min_B \\| B_k - B \\| \\\\\n",
    "\\text{s.t. } & B = B^{\\top}\\\\\n",
    "& Bs_k = y_k\n",
    "\\end{align*}"
   ]
  },
  {
   "cell_type": "markdown",
   "metadata": {
    "slideshow": {
     "slide_type": "slide"
    }
   },
   "source": [
    "## DFP (Davidon-Fletcher-Powell)\n",
    "\n",
    "$$\n",
    "B_{k+1} = (I - \\rho_k y_k s^{\\top}_k)B_k(I - \\rho_k s_ky^{\\top}_k) + \\rho_k y_k y^{\\top}_k,\n",
    "$$\n",
    "\n",
    "где $\\rho_k = \\dfrac{1}{y^{\\top}_k s_k}$,\n",
    "\n",
    "или с помощью формулы Шермана-Морисона-Вудбери\n",
    "\n",
    "$$\n",
    "B^{-1}_{k+1} = H_{k+1} = H_k - \\dfrac{H_ky_k y_k^{\\top}H_k}{y^{\\top}_kH_ky_k} + \\dfrac{s_ks^{\\top}_k}{y^{\\top}_ks_k}\n",
    "$$\n",
    "\n",
    "**Вопрос:** какой ранг у разности матриц $B_{k+1} (H_{k+1})$ и $B_{k} (H_{k})$?"
   ]
  },
  {
   "cell_type": "markdown",
   "metadata": {
    "slideshow": {
     "slide_type": "slide"
    }
   },
   "source": [
    "### Вывод\n",
    "\n",
    "Общая идея квазиньютоновских методов: \n",
    "\n",
    "вместо полного пересчёта гессиана на каждой итерации обновлять \n",
    "\n",
    "текущую его аппроксимацию с помощью легко вычислимого \n",
    "\n",
    "преобразования"
   ]
  },
  {
   "cell_type": "markdown",
   "metadata": {
    "slideshow": {
     "slide_type": "slide"
    }
   },
   "source": [
    "## BFGS\n",
    "<img src=\"./bfgs.png\" width=500>\n",
    "\n",
    "**Вопрос:** какая естественная модификация метода DFP?"
   ]
  },
  {
   "cell_type": "markdown",
   "metadata": {
    "slideshow": {
     "slide_type": "slide"
    }
   },
   "source": [
    "\\begin{align*}\n",
    "& \\min_H \\| H_k - H \\| \\\\\n",
    "\\text{s.t. } & H = H^{\\top}\\\\\n",
    "& Hy_k = s_k\n",
    "\\end{align*}"
   ]
  },
  {
   "cell_type": "markdown",
   "metadata": {
    "slideshow": {
     "slide_type": "slide"
    }
   },
   "source": [
    "Формула пересчёта для метода BFGS:\n",
    "\n",
    "$$\n",
    "H_{k+1} = (I - \\rho_k s_ky^{\\top}_k)H_k(I - \\rho_k y_k s^{\\top}_k) + \\rho_k s_k s^{\\top}_k,\n",
    "$$\n",
    "\n",
    "где $\\rho_k = \\dfrac{1}{y^{\\top}_k s_k}$"
   ]
  },
  {
   "cell_type": "markdown",
   "metadata": {
    "slideshow": {
     "slide_type": "slide"
    }
   },
   "source": [
    "### Детали реализации\n",
    "\n",
    "- Не должно быть операций сложностью $O(n^3)$, то есть никаких матричных умножений и решений линейных систем (cf. [реализацию в SciPy v. 0.18.1](https://github.com/scipy/scipy/blob/v0.18.1/scipy/optimize/optimize.py#L874-L976))\n",
    "- Только правило Вольфа гарантирует соблюдения условия кривизны $y_k^{\\top}s_k > 0$\n",
    "- Параметры в правиле Вольфа обычно следующие\n",
    "    - $\\alpha_0 = 1$ необходим для сверхлинейной скорости\n",
    "    - $\\beta_1 = 10^{-4}$, $\\beta_2 = 0.9$\n",
    "- Способы инициализации $H_0$\n",
    "    - единичная матрица\n",
    "    - $H_0 = \\frac{y_0^{\\top}s_0}{y_0^{\\top}y_0}I$ **после** первого шага, но до вычисления $H_1$.При вычислении $x_1$  используется $H_0 = I$\n",
    "    - $H_0 = \\delta \\|g_0\\|^{-1}_2 I$, параметр $\\delta$ необходимо заранее задать\n"
   ]
  },
  {
   "cell_type": "markdown",
   "metadata": {
    "slideshow": {
     "slide_type": "slide"
    }
   },
   "source": [
    "```python\n",
    "def update_H(x_next, x_current):\n",
    "    \n",
    "    current_grad = grad(x_next)\n",
    "    \n",
    "    s = x_next - x_current\n",
    "    \n",
    "    y = current_grad - grad_mem[-1]\n",
    "    \n",
    "    rho = 1. / y.dot(s)\n",
    "    \n",
    "    if H is None:\n",
    "        \n",
    "        H = np.eye(x_current.shape[0]) / y.dot(y) / rho\n",
    "        \n",
    "    Hy = H.dot(y)\n",
    "    \n",
    "    Hys = np.outer(Hy, s)\n",
    "    \n",
    "    ss = np.outer(s, s)\n",
    "    \n",
    "    H = rho * ss + H - rho * Hys - rho * Hys.T + rho**2 * y.dot(Hy) * ss\n",
    "    \n",
    "    x_current = x_next\n",
    "    \n",
    "    return H\n",
    "```"
   ]
  },
  {
   "cell_type": "markdown",
   "metadata": {
    "slideshow": {
     "slide_type": "slide"
    }
   },
   "source": [
    "### Сходимость\n",
    "\n",
    "**Теорема**\n",
    "\n",
    "Пусть $f$ дважды непрерывно дифференцируема и её гессиан липшицев, также пусть последовательность генерируемая методом BFGS сходится к точке $x^*$ так что $\\sum_{k=1}^{\\infty} \\|x_k - x^*\\| < \\infty$. Тогда $x_k \\to x^*$ сверхлинейно."
   ]
  },
  {
   "cell_type": "markdown",
   "metadata": {
    "slideshow": {
     "slide_type": "slide"
    }
   },
   "source": [
    "### Самокоррекция\n",
    "\n",
    "- Если BFGS на некоторой итерации даёт плохую оценку обратного гессиана, то через несколько итераций это недоразумение будет **автоматически** исправлено, то есть метод сам скорректирует грубую оценку гессиана\n",
    "- Это свойство появляется только при правильном способе выбора шага, например при использовании правила Вольфа\n",
    "- Метод DFP существенно хуже корректирует неточные оценки обратного гессиана\n",
    "- Всё это будет ниже проиллюстрировано на примерах"
   ]
  },
  {
   "cell_type": "markdown",
   "metadata": {
    "slideshow": {
     "slide_type": "slide"
    }
   },
   "source": [
    "## BFGS с ограниченной памятью (L-BFGS)\n",
    "\n",
    "- В методе BFGS нужна не сама матрица $H$, а только функция умножения её на вектор \n",
    "- Поскольку требуется локальная оценка гессиана, старые значения векторов $s$ и $y$ могут портить текущую оценку\n",
    "\n",
    "**Идея**\n",
    "\n",
    "- Хранить $k \\ll n$ последних векторов $s$ и $y$ - снижение требуемой памяти с $n^2$ до $kn$\n",
    "- Выполнение умножения на вектор рекурсивно, без явного формирования матрицы $H$\n",
    "\n",
    "<img src=\"./l-bfgs-cite.png\" width=600>"
   ]
  },
  {
   "cell_type": "markdown",
   "metadata": {
    "slideshow": {
     "slide_type": "slide"
    }
   },
   "source": [
    "```python\n",
    "def get_lbfgs_direction(x):\n",
    "    \n",
    "    if H is None:\n",
    "        \n",
    "        current_grad = grad(x)\n",
    "        \n",
    "        return -current_grad\n",
    "    \n",
    "    else:\n",
    "        \n",
    "        q = current_grad\n",
    "        \n",
    "        alpha = np.zeros(len(s_hist))\n",
    "        \n",
    "        rho = np.zeros(len(s_hist))\n",
    "        \n",
    "        for i in range(len(s_hist) - 1, -1, -1):\n",
    "            \n",
    "            rho[i] = 1. / s_hist[i].dot(y_hist[i])\n",
    "            \n",
    "            alpha[i] = s_hist[i].dot(q) * rho[i]\n",
    "            \n",
    "            q = q - alpha[i] * y_hist[i]\n",
    "            \n",
    "        r = q * H\n",
    "        \n",
    "        for i in range(len(s_hist)):\n",
    "            \n",
    "            beta = rho[i] * y_hist[i].dot(r)\n",
    "            \n",
    "            r = r + s_hist[i] * (alpha[i] - beta)\n",
    "            \n",
    "    return -r\n",
    "\n",
    "```"
   ]
  },
  {
   "cell_type": "markdown",
   "metadata": {
    "slideshow": {
     "slide_type": "slide"
    }
   },
   "source": [
    "## Barzilai-Borwein method\n",
    "\n",
    "- Первая [статья](http://pages.cs.wisc.edu/~swright/726/handouts/barzilai-borwein.pdf) об этом методе опубликована в 1988, в журнале IMA Journal of Numerical Analysis\n",
    "- [Статья](http://papers.nips.cc/paper/6286-barzilai-borwein-step-size-for-stochastic-gradient-descent.pdf) на NIPS 2016 о модификации этого метода в случае использования стохастической оценки градиента\n",
    "- Идея: комбинация идеи наискорейшего спуска и квазиньютоновского метода"
   ]
  },
  {
   "cell_type": "markdown",
   "metadata": {
    "slideshow": {
     "slide_type": "slide"
    }
   },
   "source": [
    "### Идея метода\n",
    "\n",
    "- Наискорейший спуск: $x_{k+1} = x_k - \\alpha_k f'(x_k)$, $\\alpha_k = \\arg \\min\\limits_{\\alpha > 0} f(x_{k+1})$\n",
    "- Метод Ньютона: $x_{k+1} = x_k - (f''(x_k))^{-1} f'(x_k)$\n",
    "- Аппроксимация гессиана диагональной матрицей:\n",
    "\n",
    "$$\n",
    "\\alpha_k f'(x_k) = \\alpha_k I f'(x_k) = \\left( \\frac{1}{\\alpha_k} I \\right)^{-1} f'(x_k) \\approx f''(x_k))^{-1} f'(x_k)\n",
    "$$\n",
    "\n",
    "- Как найти $\\alpha_k$?"
   ]
  },
  {
   "cell_type": "markdown",
   "metadata": {
    "slideshow": {
     "slide_type": "slide"
    }
   },
   "source": [
    "### Снова квазиньютоновское уравнение (Secant equation)\n",
    "- Для точного гессиана\n",
    "$$\n",
    "f''(x_{k})(x_{k} - x_{k-1}) = f'(x_{k}) - f'(x_{k-1})\n",
    "$$\n",
    "- Для приближения\n",
    "\n",
    "$$\n",
    "\\alpha_k^{-1} s_{k-1} \\approx y_{k-1}\n",
    "$$\n",
    "\n",
    "- Задача аппроксимации одного вектора с помощью масштабирования другого\n",
    "- Простейший квазиньютоновский метод вырождается в поиск оптимального шага"
   ]
  },
  {
   "cell_type": "markdown",
   "metadata": {
    "slideshow": {
     "slide_type": "slide"
    }
   },
   "source": [
    "### Три способа найти $\\alpha_k$\n",
    "\n",
    "- Первый способ\n",
    "    - Задача\n",
    "    \n",
    "    $$\n",
    "    \\min_{\\beta} \\|\\beta s_{k-1} - y_{k-1} \\|^2_2\n",
    "    $$\n",
    "    \n",
    "    - Решение\n",
    "    \n",
    "    $$\n",
    "    \\alpha = \\frac{1}{\\beta} = \\frac{s^{\\top}_{k-1} s_{k-1}}{s^{\\top}_{k-1} y_{k-1}}\n",
    "    $$\n",
    "    \n",
    "- Второй способ\n",
    "    - Задача\n",
    "    \n",
    "    $$\n",
    "    \\min_{\\alpha} \\| s_{k-1} - \\alpha y_{k-1} \\|^2_2\n",
    "    $$\n",
    "    \n",
    "    - Решение\n",
    "    \n",
    "    $$\n",
    "    \\alpha = \\frac{s^{\\top}_{k-1} y_{k-1}}{y^{\\top}_{k-1} y_{k-1}}\n",
    "    $$\n",
    "- Третий способ называется немонотонный линейный поиск: специальная модификация правил Армихо, учитывающая историю изменений значения функции, [статья](https://www.math.lsu.edu/~hozhang/papers/nonmonotone.pdf) 2004 г. в SIAM Journal on Optimization"
   ]
  },
  {
   "cell_type": "markdown",
   "metadata": {
    "slideshow": {
     "slide_type": "slide"
    }
   },
   "source": [
    "## Эксперименты\n",
    "\n",
    "### Поиск аналитического центра системы неравенств\n",
    "\n",
    "$$\n",
    "f(x) = - \\sum_{i=1}^m \\log(1 - a_i^{\\top}x) - \\sum\\limits_{i = 1}^n \\log (1 - x^2_i) \\to \\min_x\n",
    "$$"
   ]
  },
  {
   "cell_type": "code",
   "execution_count": 9,
   "metadata": {
    "slideshow": {
     "slide_type": "slide"
    }
   },
   "outputs": [],
   "source": [
    "import numpy as np\n",
    "import liboptpy.unconstr_solvers as methods\n",
    "import liboptpy.step_size as ss\n",
    "%matplotlib inline\n",
    "import matplotlib.pyplot as plt\n",
    "import scipy.optimize as scopt\n",
    "plt.rc(\"text\", usetex=True)"
   ]
  },
  {
   "cell_type": "code",
   "execution_count": 10,
   "metadata": {
    "slideshow": {
     "slide_type": "slide"
    }
   },
   "outputs": [],
   "source": [
    "n = 3000\n",
    "m = 100\n",
    "x0 = np.zeros(n)\n",
    "max_iter = 100\n",
    "tol = 1e-5\n",
    "A = np.random.rand(m, n) * 10"
   ]
  },
  {
   "cell_type": "code",
   "execution_count": 11,
   "metadata": {
    "slideshow": {
     "slide_type": "slide"
    }
   },
   "outputs": [],
   "source": [
    "f = lambda x: -np.sum(np.log(1 - A.dot(x))) - np.sum(np.log(1 - x*x))\n",
    "grad_f = lambda x: np.sum(A.T / (1 - A.dot(x)), axis=1) + 2 * x / (1 - np.power(x, 2))"
   ]
  },
  {
   "cell_type": "code",
   "execution_count": 12,
   "metadata": {
    "slideshow": {
     "slide_type": "slide"
    }
   },
   "outputs": [],
   "source": [
    "def bb_method(f, gradf, x0, tol=1e-6, maxiter=100, callback=None, alpha_type=1):\n",
    "    it = 0\n",
    "    x_prev = x0.copy()\n",
    "    current_tol = np.linalg.norm(gradf(x_prev))\n",
    "    alpha = 1e-4\n",
    "    while current_tol > tol and it < maxiter:\n",
    "        it += 1\n",
    "        current_grad = gradf(x_prev)\n",
    "        if it != 1:\n",
    "            g = current_grad - prev_grad\n",
    "            if alpha_type == 1:\n",
    "                alpha = g.dot(s) / g.dot(g)\n",
    "            elif alpha_type == 2:\n",
    "                alpha = s.dot(s) / g.dot(s)\n",
    "        if callback:\n",
    "            callback(x_prev)\n",
    "        x_next = x_prev - alpha * current_grad\n",
    "        current_tol = np.linalg.norm(gradf(x_next))\n",
    "        prev_grad = current_grad\n",
    "        s = x_next - x_prev\n",
    "        x_prev = x_next\n",
    "    if callback:\n",
    "        callback(x_prev)\n",
    "    return x_next"
   ]
  },
  {
   "cell_type": "code",
   "execution_count": 13,
   "metadata": {
    "slideshow": {
     "slide_type": "slide"
    }
   },
   "outputs": [],
   "source": [
    "method = {\n",
    "    \"BB 1\": methods.fo.BarzilaiBorweinMethod(f, grad_f, init_alpha=1e-4, type=1),\n",
    "    \"BFGS\": methods.fo.BFGS(f, grad_f),\n",
    "    \"DFP\": methods.fo.DFP(f, grad_f),\n",
    "    \"LBFGS\": methods.fo.LBFGS(f, grad_f),\n",
    "}"
   ]
  },
  {
   "cell_type": "code",
   "execution_count": 14,
   "metadata": {
    "slideshow": {
     "slide_type": "slide"
    }
   },
   "outputs": [
    {
     "name": "stdout",
     "output_type": "stream",
     "text": [
      "\t Method BB 1\n",
      "Required tolerance achieved!\n",
      "Convergence in 10 iterations\n",
      "Function value = -706.7989906381824\n",
      "Norm of gradient = 5.710653547561312e-06\n",
      "\t Method BFGS\n"
     ]
    },
    {
     "name": "stderr",
     "output_type": "stream",
     "text": [
      "/Users/alex/anaconda3/envs/cvxpy/lib/python3.6/site-packages/ipykernel_launcher.py:1: RuntimeWarning: invalid value encountered in log\n",
      "  \"\"\"Entry point for launching an IPython kernel.\n"
     ]
    },
    {
     "name": "stdout",
     "output_type": "stream",
     "text": [
      "Required tolerance achieved!\n",
      "Convergence in 24 iterations\n",
      "Function value = -706.7989906381729\n",
      "Norm of gradient = 7.620258172891121e-06\n",
      "\t Method DFP\n",
      "Maximum iteration exceeds!\n",
      "Convergence in 100 iterations\n",
      "Function value = -706.7986213435634\n",
      "Norm of gradient = 0.04807241928564053\n",
      "\t Method LBFGS\n",
      "Required tolerance achieved!\n",
      "Convergence in 15 iterations\n",
      "Function value = -706.7989906381865\n",
      "Norm of gradient = 4.171411294950047e-08\n",
      "\t Method BFGS Scipy\n",
      "Result: Optimization terminated successfully.\n",
      "Convergence in 16 iterations\n",
      "Function value = -706.7989906380136\n"
     ]
    }
   ],
   "source": [
    "for m in method:\n",
    "    print(\"\\t Method {}\".format(m))\n",
    "    _ = method[m].solve(x0=x0, tol=tol, max_iter=max_iter, disp=True)\n",
    "\n",
    "print(\"\\t Method BFGS Scipy\")\n",
    "scopt_conv = []\n",
    "scopt_res = scopt.minimize(f, x0, method=\"BFGS\", jac=grad_f, callback=lambda x: scopt_conv.append(x), \n",
    "                           tol=tol, options={\"maxiter\": max_iter})\n",
    "print(\"Result: {}\".format(scopt_res.message))\n",
    "if scopt_res.success:\n",
    "    print(\"Convergence in {} iterations\".format(scopt_res.nit))\n",
    "print(\"Function value = {}\".format(f(scopt_res.x)))"
   ]
  },
  {
   "cell_type": "code",
   "execution_count": 15,
   "metadata": {
    "slideshow": {
     "slide_type": "slide"
    }
   },
   "outputs": [
    {
     "data": {
      "image/png": "[encoded data removed]",
      "text/plain": [
       "<Figure size 576x432 with 1 Axes>"
      ]
     },
     "metadata": {},
     "output_type": "display_data"
    }
   ],
   "source": [
    "plt.figure(figsize=(8, 6))\n",
    "\n",
    "for m in method:\n",
    "    plt.semilogy([np.linalg.norm(grad_f(x)) for x in method[m].get_convergence()], label=m)\n",
    "\n",
    "plt.semilogy([np.linalg.norm(grad_f(x)) for x in [x0] + scopt_conv], label=\"BFGS SciPy\")\n",
    "plt.ylabel(\"$\\|f'(x_k)\\|_2$\", fontsize=18)\n",
    "plt.xlabel(\"Number of iterations, $k$\", fontsize=18)\n",
    "plt.legend(fontsize=18)\n",
    "plt.xticks(fontsize=18)\n",
    "_ = plt.yticks(fontsize=18)"
   ]
  },
  {
   "cell_type": "code",
   "execution_count": 14,
   "metadata": {
    "slideshow": {
     "slide_type": "slide"
    }
   },
   "outputs": [
    {
     "name": "stdout",
     "output_type": "stream",
     "text": [
      "\t Method BB 1\n",
      "7.26 ms ± 947 µs per loop (mean ± std. dev. of 7 runs, 100 loops each)\n",
      "\t Method BFGS\n"
     ]
    },
    {
     "name": "stderr",
     "output_type": "stream",
     "text": [
      "/Users/alex/anaconda3/envs/cvxpy/lib/python3.6/site-packages/ipykernel_launcher.py:1: RuntimeWarning: invalid value encountered in log\n",
      "  \"\"\"Entry point for launching an IPython kernel.\n"
     ]
    },
    {
     "name": "stdout",
     "output_type": "stream",
     "text": [
      "5.17 s ± 162 ms per loop (mean ± std. dev. of 7 runs, 1 loop each)\n",
      "\t Method DFP\n"
     ]
    },
    {
     "name": "stderr",
     "output_type": "stream",
     "text": [
      "/Users/alex/anaconda3/envs/cvxpy/lib/python3.6/site-packages/ipykernel_launcher.py:1: RuntimeWarning: invalid value encountered in log\n",
      "  \"\"\"Entry point for launching an IPython kernel.\n"
     ]
    },
    {
     "name": "stdout",
     "output_type": "stream",
     "text": [
      "9.44 s ± 224 ms per loop (mean ± std. dev. of 7 runs, 1 loop each)\n",
      "\t Method LBFGS\n"
     ]
    },
    {
     "name": "stderr",
     "output_type": "stream",
     "text": [
      "/Users/alex/anaconda3/envs/cvxpy/lib/python3.6/site-packages/ipykernel_launcher.py:1: RuntimeWarning: invalid value encountered in log\n",
      "  \"\"\"Entry point for launching an IPython kernel.\n"
     ]
    },
    {
     "name": "stdout",
     "output_type": "stream",
     "text": [
      "31.3 ms ± 1.22 ms per loop (mean ± std. dev. of 7 runs, 10 loops each)\n",
      "14.9 s ± 427 ms per loop (mean ± std. dev. of 7 runs, 1 loop each)\n"
     ]
    }
   ],
   "source": [
    "for m in method:\n",
    "    print(\"\\t Method {}\".format(m))\n",
    "    %timeit method[m].solve(x0=x0, tol=tol, max_iter=max_iter)\n",
    "\n",
    "%timeit scopt.minimize(f, x0, method=\"BFGS\", jac=grad_f, tol=tol, options={\"maxiter\": max_iter})"
   ]
  },
  {
   "cell_type": "markdown",
   "metadata": {
    "slideshow": {
     "slide_type": "slide"
    }
   },
   "source": [
    "### Плохо обусловленная задача "
   ]
  },
  {
   "cell_type": "code",
   "execution_count": 16,
   "metadata": {
    "slideshow": {
     "slide_type": "slide"
    }
   },
   "outputs": [
    {
     "name": "stdout",
     "output_type": "stream",
     "text": [
      "Condition number = 50.00000000000003\n"
     ]
    }
   ],
   "source": [
    "n = 50\n",
    "D = np.arange(1, n+1)\n",
    "U = np.random.randn(n, n)\n",
    "U, _ = np.linalg.qr(U)\n",
    "A = U.dot(np.diag(D)).dot(U.T)\n",
    "b = np.random.randn(n)\n",
    "eig_vals = np.linalg.eigvals(A)\n",
    "print(\"Condition number = {}\".format(np.max(eig_vals) / np.min(eig_vals)))"
   ]
  },
  {
   "cell_type": "code",
   "execution_count": 17,
   "metadata": {
    "slideshow": {
     "slide_type": "slide"
    }
   },
   "outputs": [],
   "source": [
    "f = lambda x: 0.5 * x.T.dot(A.dot(x)) - b.dot(x)\n",
    "gradf = lambda x: A.dot(x) - b\n",
    "x0 = np.random.randn(n)"
   ]
  },
  {
   "cell_type": "code",
   "execution_count": 18,
   "metadata": {
    "slideshow": {
     "slide_type": "slide"
    }
   },
   "outputs": [],
   "source": [
    "method = {\n",
    "    \"BB 1\": methods.fo.BarzilaiBorweinMethod(f, gradf, init_alpha=1e-4, type=1),\n",
    "    \"BB 2\": methods.fo.BarzilaiBorweinMethod(f, gradf, init_alpha=1e-4, type=2),\n",
    "    \"BFGS\": methods.fo.BFGS(f, gradf),\n",
    "    \"DFP\": methods.fo.DFP(f, gradf),\n",
    "    \"GD\": methods.fo.GradientDescent(f, gradf, ss.ExactLineSearch4Quad(A, b)),\n",
    "    \"LBFGS\": methods.fo.LBFGS(f, gradf, hist_size=10),\n",
    "}"
   ]
  },
  {
   "cell_type": "code",
   "execution_count": 19,
   "metadata": {
    "slideshow": {
     "slide_type": "slide"
    }
   },
   "outputs": [
    {
     "name": "stdout",
     "output_type": "stream",
     "text": [
      "\t Method BB 1\n",
      "Required tolerance achieved!\n",
      "Convergence in 67 iterations\n",
      "Function value = -1.867389388209947\n",
      "Norm of gradient = 9.698436074124399e-06\n",
      "\t Method BB 2\n",
      "Required tolerance achieved!\n",
      "Convergence in 64 iterations\n",
      "Function value = -1.867389388221152\n",
      "Norm of gradient = 2.568308636067001e-06\n",
      "\t Method BFGS\n",
      "Required tolerance achieved!\n",
      "Convergence in 49 iterations\n",
      "Function value = -1.8673893882217796\n",
      "Norm of gradient = 5.825468189170338e-06\n",
      "\t Method DFP\n",
      "Required tolerance achieved!\n",
      "Convergence in 99 iterations\n",
      "Function value = -1.8673893882192314\n",
      "Norm of gradient = 8.508989703967789e-06\n",
      "\t Method GD\n",
      "Maximum iteration exceeds!\n",
      "Convergence in 100 iterations\n",
      "Function value = -1.8671962795337858\n",
      "Norm of gradient = 0.027644502780760673\n",
      "\t Method LBFGS\n",
      "Required tolerance achieved!\n",
      "Convergence in 48 iterations\n",
      "Function value = -1.8673893882181345\n",
      "Norm of gradient = 8.534869396756731e-06\n",
      "\t Method BFGS Scipy\n",
      "Result: Optimization terminated successfully.\n",
      "Convergence in 60 iterations\n",
      "Function value = -1.8673893882230836\n",
      "\t Method L-BFGS Scipy\n",
      "Result: b'CONVERGENCE: REL_REDUCTION_OF_F_<=_FACTR*EPSMCH'\n",
      "Convergence in 38 iterations\n",
      "Function value = -1.8673893880842063\n"
     ]
    }
   ],
   "source": [
    "for m in method:\n",
    "    print(\"\\t Method {}\".format(m))\n",
    "    _ = method[m].solve(x0=x0, tol=tol, max_iter=max_iter, disp=True)\n",
    "\n",
    "print(\"\\t Method BFGS Scipy\")\n",
    "\n",
    "scopt_conv = []\n",
    "scopt_res = scopt.minimize(f, x0, method=\"BFGS\", jac=gradf, callback=lambda x: scopt_conv.append(x), \n",
    "                           tol=tol, options={\"maxiter\": max_iter})\n",
    "print(\"Result: {}\".format(scopt_res.message))\n",
    "if scopt_res.success:\n",
    "    print(\"Convergence in {} iterations\".format(scopt_res.nit))\n",
    "print(\"Function value = {}\".format(f(scopt_res.x)))\n",
    "\n",
    "print(\"\\t Method L-BFGS Scipy\")\n",
    "\n",
    "scopt_lbfgs_conv = []\n",
    "scopt_res = scopt.minimize(f, x0, method=\"L-BFGS-B\", jac=gradf, tol=tol, \n",
    "                           options={\"maxiter\": max_iter, 'maxcor': 10, \"ftol\": 1e-10, \"gtol\": 1e-6},\n",
    "                           callback=lambda x: scopt_lbfgs_conv.append(x),\n",
    "                           )\n",
    "print(\"Result: {}\".format(scopt_res.message))\n",
    "if scopt_res.success:\n",
    "    print(\"Convergence in {} iterations\".format(scopt_res.nit))\n",
    "print(\"Function value = {}\".format(f(scopt_res.x)))"
   ]
  },
  {
   "cell_type": "code",
   "execution_count": 20,
   "metadata": {
    "slideshow": {
     "slide_type": "slide"
    }
   },
   "outputs": [
    {
     "data": {
      "image/png": "[encoded data removed]",
      "text/plain": [
       "<Figure size 864x576 with 1 Axes>"
      ]
     },
     "metadata": {},
     "output_type": "display_data"
    }
   ],
   "source": [
    "plt.figure(figsize=(12, 8))\n",
    "fontsize = 26\n",
    "for m in method:   \n",
    "    plt.semilogy([np.linalg.norm(gradf(x)) for x in method[m].get_convergence()], label=m)\n",
    "\n",
    "plt.semilogy([np.linalg.norm(gradf(x)) for x in [x0] + scopt_conv], label='BFGS SciPy')\n",
    "\n",
    "plt.semilogy([np.linalg.norm(gradf(x)) for x in [x0] + scopt_lbfgs_conv], label='LBFGS SciPy')\n",
    "plt.legend(fontsize=fontsize)\n",
    "plt.ylabel(\"$\\|f'(x_k)\\|_2$\", fontsize=fontsize)\n",
    "plt.xlabel(\"Number of iterations, $k$\", fontsize=fontsize)\n",
    "plt.xticks(fontsize=fontsize)\n",
    "_ = plt.yticks(fontsize=fontsize)"
   ]
  },
  {
   "cell_type": "code",
   "execution_count": 45,
   "metadata": {
    "slideshow": {
     "slide_type": "slide"
    }
   },
   "outputs": [
    {
     "name": "stdout",
     "output_type": "stream",
     "text": [
      "\t Method BB 1\n",
      "893 µs ± 89.5 µs per loop (mean ± std. dev. of 7 runs, 1000 loops each)\n",
      "\t Method BB 2\n",
      "1.14 ms ± 71.7 µs per loop (mean ± std. dev. of 7 runs, 1000 loops each)\n",
      "\t Method BFGS\n",
      "3.72 ms ± 94.1 µs per loop (mean ± std. dev. of 7 runs, 100 loops each)\n",
      "\t Method DFP\n",
      "7.18 ms ± 490 µs per loop (mean ± std. dev. of 7 runs, 100 loops each)\n",
      "\t Method GD\n",
      "1.74 ms ± 146 µs per loop (mean ± std. dev. of 7 runs, 1000 loops each)\n",
      "\t Method LBFGS\n",
      "5.01 ms ± 248 µs per loop (mean ± std. dev. of 7 runs, 100 loops each)\n",
      "6.33 ms ± 785 µs per loop (mean ± std. dev. of 7 runs, 100 loops each)\n",
      "922 µs ± 67.7 µs per loop (mean ± std. dev. of 7 runs, 1000 loops each)\n"
     ]
    }
   ],
   "source": [
    "for m in method:\n",
    "    print(\"\\t Method {}\".format(m))\n",
    "    %timeit method[m].solve(x0=x0, tol=tol, max_iter=max_iter)\n",
    "\n",
    "%timeit scopt.minimize(f, x0, method=\"BFGS\", jac=gradf, tol=tol, options={\"maxiter\": max_iter})\n",
    "%timeit scopt.minimize(f, x0, method=\"L-BFGS-B\", jac=gradf, tol=tol, options={\"maxiter\": max_iter, 'maxcor': 10, \"ftol\": 1e-10, \"gtol\": 1e-6})"
   ]
  },
  {
   "cell_type": "markdown",
   "metadata": {
    "slideshow": {
     "slide_type": "slide"
    }
   },
   "source": [
    "## Pro & Contra\n",
    "\n",
    "Pro:\n",
    "1. Вместо **точного** вычисления гессиана используется его **оценка**, полученная с помощью градиента и оценки гессиана в предыдущей точке\n",
    "2. Вместо решения систем линейных уравнений используется текущаю информация о функции и градиенте для аналитического вычисления приближения обращённого гессиана\n",
    "3. Сложность одной итерации $O(n^2) + ...$ по сравнению с $O(n^3) + ...$ в методе Ньютона\n",
    "4. Для метода L-BFGS требуется линейное количество памяти по размерности задачи\n",
    "5. Свойство самокоррекции метода BFGS: если на некоторой итерации обратный гессиан оценен очень грубо, то следующие несколько итераций улучшат оценку\n",
    "6. Сверхлинейная сходимость к решению задачи минимизации $f$ (подробнее см. [[1]](http://www.bioinfo.org.cn/~wangchao/maa/Numerical_Optimization.pdf))\n",
    "\n",
    "Contra:\n",
    "1. Нет универсального рецепта выбора начального приближения $B_0$ или $H_0$\n",
    "2. Нет разработанной теории сходимости и оптимальности\n",
    "3. Не любое условие на линейный поиск шага гарантирует выполнения условия кривизны $y^{\\top}_ks_k > 0$"
   ]
  }
 ],
 "metadata": {
  "anaconda-cloud": {},
  "celltoolbar": "Slideshow",
  "kernelspec": {
   "display_name": "Python 3 (cvxpy)",
   "language": "python",
   "name": "cvxpy"
  },
  "language_info": {
   "codemirror_mode": {
    "name": "ipython",
    "version": 3
   },
   "file_extension": ".py",
   "mimetype": "text/x-python",
   "name": "python",
   "nbconvert_exporter": "python",
   "pygments_lexer": "ipython3",
   "version": "3.6.8"
  }
 },
 "nbformat": 4,
 "nbformat_minor": 1
}

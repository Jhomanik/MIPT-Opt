{
 "cells": [
  {
   "cell_type": "markdown",
   "metadata": {
    "slideshow": {
     "slide_type": "slide"
    }
   },
   "source": [
    "# DCP & Autograd \n",
    "# или \n",
    "# как правильно ставить задачи и автоматически вычислять градиенты"
   ]
  },
  {
   "cell_type": "markdown",
   "metadata": {
    "slideshow": {
     "slide_type": "slide"
    }
   },
   "source": [
    "## Задача оптимизации\n",
    "\n",
    "\\begin{align*}\n",
    "& \\min_{x \\in \\mathbb{R}^n} \\; f_0(x)\\\\\n",
    "\\text{s.t. } & f_i(x) \\leq 0, \\; i = 1,\\ldots, m \\\\\n",
    "& h_j(x) = 0, \\; j = 1,\\ldots,p \n",
    "\\end{align*}\n",
    "\n",
    "- Возможность эффективного решения сильно зависит от свойств $f_0, f_i, h_j$\n",
    "- Если $f_0, f_i, h_j$ аффинны, то это задача линейного программирования (LP), которая может быть решена крайне быстро\n",
    "- Простые задачи с нелинейными $f_i, h_j$ могут быть очень сложными для решения"
   ]
  },
  {
   "cell_type": "markdown",
   "metadata": {
    "slideshow": {
     "slide_type": "slide"
    }
   },
   "source": [
    "## Задача выпуклой оптимизации\n",
    "\n",
    "\\begin{align*}\n",
    "& \\min_{x \\in \\mathbb{R}^n} f_0(x)\\\\\n",
    "\\text{s.t. } & f_i(x) \\leq 0, \\; i = 1,\\ldots,m \\\\\n",
    "& Ax = b \\\\\n",
    "\\end{align*}\n",
    "\n",
    "- $f_0, f_i$ выпуклые функции: для всех $x, y$ и $\\alpha \\in [0, 1]$\n",
    "\n",
    "$$\n",
    "f(\\alpha x + (1 - \\alpha)y) \\leq \\alpha f(x) + (1 - \\alpha)f(y)\n",
    "$$\n",
    "\n",
    "- Ограничения типа равенств аффинны"
   ]
  },
  {
   "cell_type": "markdown",
   "metadata": {
    "slideshow": {
     "slide_type": "slide"
    }
   },
   "source": [
    "### Свойства задач выпуклой оптимизации\n",
    "\n",
    "- Подмножество задач оптимизации: LP - частный случай\n",
    "- Могут выглядеть очень сложно, однако решаются также эффективно как и задача LP\n",
    "- Встречаются гораздо чаще, чем можно было бы подумать\n",
    "- Очень много приложений, часть обсудили на прошлом семинаре"
   ]
  },
  {
   "cell_type": "markdown",
   "metadata": {
    "slideshow": {
     "slide_type": "slide"
    }
   },
   "source": [
    "### Общие подходы к использованию выпуклости\n",
    "\n",
    "- Надеяться/предполагать/делать вид, что $f_i$ выпуклы\n",
    "    - Просто для пользователя\n",
    "    - Теряется часть преимуществ выпуклых задач\n",
    "- Проверка выпуклости задачи перед решением\n",
    "    - в общем случае может быть затруднительна  \n",
    "- Построение выпуклой задачи из элементарных блоков\n",
    "    - пользователь следует фиксированному набору правил при определении $f_i$\n",
    "    - выпуклость проверяется автоматически"
   ]
  },
  {
   "cell_type": "markdown",
   "metadata": {
    "slideshow": {
     "slide_type": "slide"
    }
   },
   "source": [
    "### Как проверить выпуклость?\n",
    "\n",
    "- Определение, критерии первого или второго порядка, например $\\nabla^2 f(x) \\succeq 0$\n",
    "- Исчисление выпуклых функций: построение $f$ специальным образом\n",
    "    - Дан набор простых функций, выпуклость которых известна\n",
    "    - Даны сочетания и преобразования, не меняющие выпуклость"
   ]
  },
  {
   "cell_type": "markdown",
   "metadata": {
    "slideshow": {
     "slide_type": "slide"
    }
   },
   "source": [
    "### Примеры простых выпуклых функций\n",
    "\n",
    "- При $x > 0$: $x^p$ для $p < 0, \\; p \\geq 1$ и $x ^{-p}$ для $p \\in [0, 1]$\n",
    "- $e^x, \\; -\\log x, \\; x\\log x$\n",
    "- $\\langle a, x \\rangle + b$\n",
    "- $\\|x\\|$ - любая норма\n",
    "- $\\max \\{x_1, \\ldots, x_n \\}$ и $\\log(e^{x_1} + \\ldots + e^{x_n})$\n",
    "- $\\log\\det X^{-1}$ для $X \\in \\mathbb{S}^n_{+}$"
   ]
  },
  {
   "cell_type": "markdown",
   "metadata": {
    "slideshow": {
     "slide_type": "slide"
    }
   },
   "source": [
    "### Правила исчисления выпуклых функций\n",
    "\n",
    "- Умножение на неотрицательную константу: $f$ выпукла и $\\alpha > 0$, тогда $\\alpha f$ выпукла\n",
    "- Сложение: $f, g$ выпуклы, тогда $f + g$ выпукла\n",
    "- Композиция с аффинной функцией: $f$ выпукла, тогда $f(Ax + b)$ также выпукла\n",
    "- Взятие максимума: $f_1,\\ldots, f_m$ выпуклы, тогда $\\max\\limits_{i=1,\\ldots,m} \\{f_i(x)\\}$ выпукла\n",
    "- Композиция: если $h$ выпукла и возрастает, $f$ выпукла, тогда $g(x) = h(f(x))$ выпукла\n",
    "- И многие другие..."
   ]
  },
  {
   "cell_type": "markdown",
   "metadata": {
    "slideshow": {
     "slide_type": "slide"
    }
   },
   "source": [
    "#### Примеры\n",
    "\n",
    "- $f(x) = \\max\\limits_{i=1,\\ldots,m} (\\langle a_i, x \\rangle + b_i)$\n",
    "- $\\ell_1$ регуляризация задачи наименьших квадратов\n",
    "\n",
    "$$\n",
    "f(x) = \\frac{1}{2} \\|Ax - b\\|_2^2 + \\lambda \\|x\\|_1, \\quad \\lambda > 0\n",
    "$$\n",
    "\n",
    "- Максимальное собственное значение $A \\in \\mathbb{S}^n$: \n",
    "\n",
    "$$\n",
    "\\lambda_{\\max}(A) = \\sup\\limits_{\\|x\\|_2 = 1} (x^{\\top}Ax )\n",
    "$$\n"
   ]
  },
  {
   "cell_type": "markdown",
   "metadata": {
    "slideshow": {
     "slide_type": "slide"
    }
   },
   "source": [
    "### Как решать задачу выпуклой оптимизации?\n",
    "\n",
    "- Использовать \"стандартный\" солвер (для LP, QP, SDP...), примеры таких солверов были на прошлом семинаре\n",
    "    - лёгкий путь\n",
    "    - задача **должна быть** в стандартной форме для выбранного солвера\n",
    "    - сложность разработки компенсируется количеством пользователей\n",
    "- Придумать и/или реализовать метод самостоятельно\n",
    "    - Трудоёмко\n",
    "    - Может быть эффективнее для конкретной задаче\n",
    "- Преобразовать задачу к стандартному виду и использовать стандартный солвер\n",
    "    - Расширяет множество задач, подходящих для решения\n",
    "    - Преобразование может быть громоздким"
   ]
  },
  {
   "cell_type": "markdown",
   "metadata": {
    "slideshow": {
     "slide_type": "slide"
    }
   },
   "source": [
    "\\begin{frame}{Общие методы решения задач выпуклой оптимизации}\n",
    "\\begin{center}\n",
    "Субградиентный метод, метод эллипсоидов, проксимальный метод и их вариации\n",
    "\\end{center}\n",
    "\\pause\n",
    "\\begin{itemize}[<+->]\n",
    "\\item В основном разработаны в СССР в 1960-1970-ых годах, подробнее см. [заметки Б.Т. Поляка](http://lab7.ipu.ru/files/polyak/Pol-rus-Baikal'08.pdf)\n",
    "\\item Универсальные методы решения задач выпуклой оптимизации, даже для недифференцируемых $f_i$\n",
    "\\item Метод эллипсоидов эффективен в теории (полиномиален)\n",
    "\\item На практике такие методы могут быть медленными\n",
    "\\end{itemize}\n",
    " \n",
    "\\end{frame}"
   ]
  },
  {
   "cell_type": "markdown",
   "metadata": {
    "slideshow": {
     "slide_type": "slide"
    }
   },
   "source": [
    "#### Методы внутренней точки (IPM) для выпуклых задач\n",
    "- [Interior-Point Polynomial Algorithms in Convex Programming, Y. Nesterov, A. Nemirovskii, 1994](https://epubs.siam.org/doi/abs/10.1137/1.9781611970791)\n",
    "- Обзор про IPM см. [тут](https://people.kth.se/~andersf/doc/sirev41494.pdf)\n",
    "- Применим для **гладких** $f_i$ и задач в конической форме (SOCP, SDP)\n",
    "\n",
    "\\begin{align*}\n",
    "& \\min f_0(x)\\\\\n",
    "\\text{s.t. } & Ax = b\\\\\n",
    "& x \\in \\mathcal{K},\n",
    "\\end{align*}\n",
    "\n",
    "где $\\mathcal{K}$ - некоторый конус (обычно $\\mathbb{R}^n_{+}$, $\\mathbb{S}^n_{+}$ или конус второго порядка) или декартово произведение конусов"
   ]
  },
  {
   "cell_type": "markdown",
   "metadata": {
    "slideshow": {
     "slide_type": "slide"
    }
   },
   "source": [
    "#### А если IPM нельзя применить к задаче?\n",
    "\n",
    "\n",
    "- Пример: $\\ell_1$ регуляризация задачи наименьших квадратов\n",
    "\n",
    "$$\n",
    "f(x) = \\frac{1}{2} \\|Ax - b\\|_2^2 + \\lambda \\|x\\|_1, \\quad \\lambda > 0\n",
    "$$\n",
    "\n",
    "- Задача выпукла, но $f$ негладкая!\n",
    "- **Основная идея**: изменить задачу так, чтобы IPM можно было применять\n",
    "- Даже если в новой задаче будет больше переменных и ограничений, она может быть эффективна решена с помощью IPM"
   ]
  },
  {
   "cell_type": "markdown",
   "metadata": {
    "slideshow": {
     "slide_type": "slide"
    }
   },
   "source": [
    "#### Пример\n",
    "\n",
    "- Исходная задача: $n$ переменных, нет ограничений \n",
    "\n",
    "$$\n",
    "\\min_x \\frac{1}{2} \\|Ax - b\\|_2^2 + \\lambda \\|x\\|_1, \\quad \\lambda > 0\n",
    "$$\n",
    "\n",
    "- Введём новую переменную $t \\in \\mathbb{R}^n$ и новые ограничения $|x_i| \\leq t_i$:\n",
    "\n",
    "\\begin{align*}\n",
    "& \\min_{(x, t)} \\frac{1}{2} \\|Ax - b\\|_2^2 + \\lambda \\mathbf{1}^{\\top}t\\\\\n",
    "\\text{s.t. } & -t \\leq x \\leq t\n",
    "\\end{align*}\n",
    "\n",
    "- В новой задаче $2n$ переменных и $2n$ ограничений, но она **гладкая**! \n",
    "- **Важно**: задачи эквивалентны! Решив одну, получем решение другой и наоборот"
   ]
  },
  {
   "cell_type": "markdown",
   "metadata": {
    "slideshow": {
     "slide_type": "slide"
    }
   },
   "source": [
    "## Преобразование задачи и эффективность решения\n",
    "\n",
    "- Дана выпуклая задача $P_0$\n",
    "- Выполняются последовательные эквивалентные преобразования\n",
    "\n",
    "$$ \n",
    "P_0 \\to P_1 \\to \\ldots \\to P_K,\n",
    "$$\n",
    "\n",
    "где $P_K$ - задача, которую можно решать IPM\n",
    "- Эффективное решение $P_K$\n",
    "- Обратное преобразование решения $P_K$ в решение $P_0$\n",
    "- $P_K$ может иметь больше ограничений и/или переменных, но наличие определённой структуры и высокая эффективность IPM компенсируют это"
   ]
  },
  {
   "cell_type": "markdown",
   "metadata": {
    "slideshow": {
     "slide_type": "slide"
    }
   },
   "source": [
    "### Примеры преобразований задач\n",
    "\n",
    "- Правила преобразования выпуклых функций порождают преобразования задач\n",
    "- $\\max \\{ f_1(x), f_2(x) \\}$   \n",
    "    - Вводим новую переменную $t = \\max \\{ f_1(x), f_2(x) \\}$\n",
    "    - Добавляем ограничения $f_1(x) \\leq t, \\; f_2(x) \\leq t$\n",
    "- $h(f(x))$    \n",
    "    - Вводим новую переменную $t = f(x)$\n",
    "    - Добавляем ограничение $f(x) \\leq t$"
   ]
  },
  {
   "cell_type": "markdown",
   "metadata": {
    "slideshow": {
     "slide_type": "slide"
    }
   },
   "source": [
    "### От доказательства выпуклости к применимости IPM}\n",
    "\\begin{align*}\n",
    "& \\min_{x \\in \\mathbb{R}^n} f_0(x)\\\\\n",
    "\\text{s.t. } & f_i(x) \\leq 0, \\; i = 1,\\ldots,m \\\\\n",
    "& Ax = b \\\\\n",
    "\\end{align*}\n",
    "\n",
    "\n",
    "- Построение $f_i$ из элементарных функций и правил преобразований даёт доказательство выпуклости\n",
    "- Аналогичный разбор даёт преобразование задачи к форме, состоящей из элементарных функций и аффинных равенств \n",
    "- Если элементарные функции подходят для IPM, преобразование автоматически даёт форму задачи, которая может быть решена IPM"
   ]
  },
  {
   "cell_type": "markdown",
   "metadata": {
    "slideshow": {
     "slide_type": "slide"
    }
   },
   "source": [
    "## Disciplined convex programming (DCP)\n",
    "\n",
    "- Задаются искомые переменные и фиксированные параметры\n",
    "- Целевая функция и ограничения строятся из элементарных функций с помощью правил композиций и сочетаний\n",
    "- Задача выпукла по построению\n",
    "- Автоматически разбирается на элементы\n",
    "- Приводится к форме для запуска IPM\n",
    "- Решается некоторым стандартным пакетом для IPM\n",
    "- Восстанавливается решение исходной задачи\n",
    "\n",
    "\n",
    "Визуализацию и результат разбора можно посмотреть на [сайте](http://dcp.stanford.edu/)"
   ]
  },
  {
   "cell_type": "markdown",
   "metadata": {
    "slideshow": {
     "slide_type": "slide"
    }
   },
   "source": [
    "<img src=\"./dcp_parse.png\" width=800>"
   ]
  },
  {
   "cell_type": "markdown",
   "metadata": {
    "slideshow": {
     "slide_type": "slide"
    }
   },
   "source": [
    "\\begin{frame}{История}\n",
    "\\begin{itemize}\n",
    "\\item Системы \\href{https://ampl.com/}{AMPL}, \\href{https://en.wikipedia.org/wiki/General_Algebraic_Modeling_System}{GAMS}~-- 1970-ые\n",
    "\\item Пакеты для задач SDP/LMI: \\texttt{sdpsol} (Wu, Boyd),\n",
    "\\texttt{lmilab} (Gahinet, Nemirovsky), \\texttt{lmitool} (El Ghaoui)~-- 1990-ые\n",
    "\\item \\texttt{yalmip} (L{\\\"o}fberg 2000–)\n",
    "\\item automated convexity checking (Crusius PhD thesis 2002)\n",
    "\\item disciplined convex programming (DCP) (Grant, Boyd, Ye 2004)\n",
    "\\item \\texttt{cvx} (Grant, Boyd, Ye 2005) для MATLAB\n",
    "\\item \\texttt{cvxopt} (Dahl, Vandenberghe 2005)\n",
    "\\item \\texttt{cvxpy} (Diamond, Boyd 2016) для Python\n",
    "\\end{itemize}\n",
    "\\end{frame}"
   ]
  },
  {
   "cell_type": "markdown",
   "metadata": {
    "slideshow": {
     "slide_type": "slide"
    }
   },
   "source": [
    "## Главное по DCP\n",
    "Pro:\n",
    "\n",
    "- Проверка выпуклости и генерация преобразования задачи для IPM\n",
    "- Построение задачи: элементарные выпуклые функции + правила композиций и преобразований \n",
    "- Очень похоже на математическую нотацию\n",
    "\n",
    "Contra:\n",
    "\n",
    "- Не про \"plug & play\" или \"try my code\"\n",
    "<img src=dcp_mem.jpg >\n",
    "- Нельзя записать произвольную задачу и надеяться, что она будет выпукла"
   ]
  },
  {
   "cell_type": "markdown",
   "metadata": {
    "slideshow": {
     "slide_type": "slide"
    }
   },
   "source": [
    "\\begin{frame}{Солверы для решения общих задач оптимизации}\n",
    "\\begin{itemize}\n",
    "\\item \\href{https://projects.coin-or.org/Ipopt}{ipopt}\n",
    "\\item \\href{http://www.pyomo.org/}{Pyomo}\n",
    "\\item \\href{http://www.gurobi.com/}{Gurobi}\n",
    "% \\item \\href{https://github.com/SQLP/SDPT3}{SDPT3}\n",
    "\\end{itemize}\n",
    "\\end{frame}\n",
    "\n",
    "\n",
    "\\begin{frame}{Главное}\n",
    "\\begin{itemize}[<+->]\n",
    "\\item Правила построения выпуклых функций\n",
    "\\item Сведение задач к стандартной форме\n",
    "\\item Disciplined convex programming\n",
    "\\item Примеры\n",
    "\\item Солверы для решения задач оптимизации\n",
    "\\end{itemize}\n",
    "\\end{frame}"
   ]
  },
  {
   "cell_type": "code",
   "execution_count": null,
   "metadata": {
    "slideshow": {
     "slide_type": "slide"
    }
   },
   "outputs": [],
   "source": []
  },
  {
   "cell_type": "code",
   "execution_count": null,
   "metadata": {
    "slideshow": {
     "slide_type": "slide"
    }
   },
   "outputs": [],
   "source": []
  },
  {
   "cell_type": "code",
   "execution_count": 1,
   "metadata": {
    "slideshow": {
     "slide_type": "slide"
    }
   },
   "outputs": [],
   "source": [
    "import cvxpy as cvx\n",
    "import ipopt\n",
    "import numpy as np\n",
    "import matplotlib.pyplot as plt\n",
    "plt.rc(\"text\", usetex=True)\n",
    "%matplotlib inline"
   ]
  },
  {
   "cell_type": "markdown",
   "metadata": {
    "slideshow": {
     "slide_type": "slide"
    }
   },
   "source": [
    "## DCP with CVXPy\n",
    "\n",
    "Model problem is [compressed sensing](https://www.raeng.org.uk/publications/other/candes-presentation-frontiers-of-engineering)\n",
    "\\begin{align*}\n",
    "& \\min_x \\|x\\|_1\\\\\n",
    "\\text{s.t. } & Ax = b,\n",
    "\\end{align*}\n",
    "где $A \\in \\mathbb{R}^{m \\times n}$ и $n \\gg m$"
   ]
  },
  {
   "cell_type": "markdown",
   "metadata": {
    "slideshow": {
     "slide_type": "slide"
    }
   },
   "source": [
    "### Data generation"
   ]
  },
  {
   "cell_type": "code",
   "execution_count": 2,
   "metadata": {
    "slideshow": {
     "slide_type": "subslide"
    }
   },
   "outputs": [
    {
     "name": "stdout",
     "output_type": "stream",
     "text": [
      "Num of nnz in x = 27\n"
     ]
    }
   ],
   "source": [
    "n = 1000\n",
    "m = 10\n",
    "x_true = np.random.randn(n)\n",
    "x_true[np.abs(x_true) > 0.05] = 0\n",
    "print(\"Num of nnz in x = {}\".format(np.sum(x_true != 0)))\n",
    "A = np.random.randn(m, n)\n",
    "b = A.dot(x_true)"
   ]
  },
  {
   "cell_type": "markdown",
   "metadata": {
    "slideshow": {
     "slide_type": "slide"
    }
   },
   "source": [
    "### [CVXPy](http://www.cvxpy.org/index.html) "
   ]
  },
  {
   "cell_type": "code",
   "execution_count": 3,
   "metadata": {
    "slideshow": {
     "slide_type": "subslide"
    }
   },
   "outputs": [
    {
     "name": "stdout",
     "output_type": "stream",
     "text": [
      "-----------------------------------------------------------------\n",
      "           OSQP v0.4.0  -  Operator Splitting QP Solver\n",
      "              (c) Bartolomeo Stellato,  Goran Banjac\n",
      "        University of Oxford  -  Stanford University 2018\n",
      "-----------------------------------------------------------------\n",
      "problem:  variables n = 2000, constraints m = 2010\n",
      "          nnz(P) + nnz(A) = 14000\n",
      "settings: linear system solver = qdldl,\n",
      "          eps_abs = 1.0e-03, eps_rel = 1.0e-03,\n",
      "          eps_prim_inf = 1.0e-04, eps_dual_inf = 1.0e-04,\n",
      "          rho = 1.00e-01 (adaptive),\n",
      "          sigma = 1.00e-06, alpha = 1.60, max_iter = 3000\n",
      "          check_termination: on (interval 25),\n",
      "          scaling: on, scaled_termination: off\n",
      "          warm start: on, polish: on\n",
      "\n",
      "iter   objective    pri res    dua res    rho        time\n",
      "   1  -8.0000e+03   8.00e+00   6.99e+01   1.00e-01   3.31e-03s\n",
      " 200   2.7067e-01   9.97e-04   7.22e-03   2.07e+00   1.65e-02s\n",
      " 400   2.4588e-01   2.26e-04   2.31e-03   2.07e+00   3.06e-02s\n",
      " 500   2.4421e-01   1.96e-04   1.59e-03   2.07e+00   3.76e-02s\n",
      "\n",
      "status:               solved\n",
      "solution polish:      unsuccessful\n",
      "number of iterations: 500\n",
      "optimal objective:    0.2442\n",
      "run time:             3.95e-02s\n",
      "optimal rho estimate: 1.51e+00\n",
      "\n"
     ]
    },
    {
     "data": {
      "text/plain": [
       "0.24420767529350515"
      ]
     },
     "execution_count": 3,
     "metadata": {},
     "output_type": "execute_result"
    }
   ],
   "source": [
    "x = cvx.Variable(n)\n",
    "objective = cvx.norm1(x)\n",
    "constr = [A*x == b]\n",
    "problem = cvx.Problem(cvx.Minimize(objective), constr) \n",
    "problem.solve(verbose=True, max_iter=3000)"
   ]
  },
  {
   "cell_type": "markdown",
   "metadata": {
    "slideshow": {
     "slide_type": "slide"
    }
   },
   "source": [
    "### Check solution"
   ]
  },
  {
   "cell_type": "code",
   "execution_count": 4,
   "metadata": {
    "slideshow": {
     "slide_type": "subslide"
    }
   },
   "outputs": [
    {
     "name": "stdout",
     "output_type": "stream",
     "text": [
      "3.087886059646621e-07\n",
      "0.033829597968160444\n",
      "0.17417664516117073\n",
      "Num nnz = 33\n"
     ]
    }
   ],
   "source": [
    "tol= 1e-4\n",
    "print(np.linalg.norm(A.dot(x.value) - b))\n",
    "print(np.linalg.norm(A[:, np.abs(x.value) > tol].dot(x.value[np.abs(x.value) > tol]) - b))\n",
    "print(np.linalg.norm(x_true - x.value))\n",
    "print(\"Num nnz = {}\".format(np.sum(np.abs(x.value) > tol)))"
   ]
  },
  {
   "cell_type": "code",
   "execution_count": 5,
   "metadata": {
    "slideshow": {
     "slide_type": "slide"
    }
   },
   "outputs": [
    {
     "data": {
      "text/plain": [
       "(array([-0.06, -0.04, -0.02,  0.  ,  0.02,  0.04,  0.06]),\n",
       " <a list of 7 Text yticklabel objects>)"
      ]
     },
     "execution_count": 5,
     "metadata": {},
     "output_type": "execute_result"
    },
    {
     "data": {
      "image/png": "[encoded data removed]",
      "text/plain": [
       "<Figure size 720x576 with 1 Axes>"
      ]
     },
     "metadata": {},
     "output_type": "display_data"
    }
   ],
   "source": [
    "plt.figure(figsize=(10, 8))\n",
    "plt.plot(x.value, label=r\"$x^*$\")\n",
    "plt.plot(x_true, label=r\"True $x$\")\n",
    "plt.legend(fontsize=26)\n",
    "plt.yticks(fontsize=26)"
   ]
  },
  {
   "cell_type": "code",
   "execution_count": 6,
   "metadata": {
    "slideshow": {
     "slide_type": "slide"
    }
   },
   "outputs": [
    {
     "data": {
      "text/plain": [
       "(array([-200.,    0.,  200.,  400.,  600.,  800., 1000., 1200.]),\n",
       " <a list of 8 Text xticklabel objects>)"
      ]
     },
     "execution_count": 6,
     "metadata": {},
     "output_type": "execute_result"
    },
    {
     "data": {
      "image/png": "[encoded data removed]",
      "text/plain": [
       "<Figure size 648x504 with 1 Axes>"
      ]
     },
     "metadata": {},
     "output_type": "display_data"
    }
   ],
   "source": [
    "plt.figure(figsize=(9, 7))\n",
    "plt.semilogy(np.sort(np.abs(x.value))[::-1])\n",
    "plt.ylabel(\"$|x_i|$\", fontsize=24)\n",
    "plt.yticks(fontsize=24)\n",
    "plt.xlabel(r\"Sorted index of $x^*$\", fontsize=24)\n",
    "plt.xticks(fontsize=24)"
   ]
  },
  {
   "cell_type": "markdown",
   "metadata": {
    "slideshow": {
     "slide_type": "slide"
    }
   },
   "source": [
    "### Check DCP"
   ]
  },
  {
   "cell_type": "code",
   "execution_count": 7,
   "metadata": {
    "slideshow": {
     "slide_type": "subslide"
    }
   },
   "outputs": [
    {
     "ename": "DCPError",
     "evalue": "Problem does not follow DCP rules.",
     "output_type": "error",
     "traceback": [
      "\u001b[0;31m---------------------------------------------------------------------------\u001b[0m",
      "\u001b[0;31mDCPError\u001b[0m                                  Traceback (most recent call last)",
      "\u001b[0;32m<ipython-input-7-53bf8440ab91>\u001b[0m in \u001b[0;36m<module>\u001b[0;34m()\u001b[0m\n\u001b[1;32m      3\u001b[0m \u001b[0mobj\u001b[0m \u001b[0;34m=\u001b[0m \u001b[0mcvx\u001b[0m\u001b[0;34m.\u001b[0m\u001b[0mMinimize\u001b[0m\u001b[0;34m(\u001b[0m\u001b[0mcvx\u001b[0m\u001b[0;34m.\u001b[0m\u001b[0mpower\u001b[0m\u001b[0;34m(\u001b[0m\u001b[0my\u001b[0m\u001b[0;34m,\u001b[0m \u001b[0;36m3\u001b[0m\u001b[0;34m)\u001b[0m\u001b[0;34m)\u001b[0m\u001b[0;34m\u001b[0m\u001b[0m\n\u001b[1;32m      4\u001b[0m \u001b[0mproblem\u001b[0m \u001b[0;34m=\u001b[0m \u001b[0mcvx\u001b[0m\u001b[0;34m.\u001b[0m\u001b[0mProblem\u001b[0m\u001b[0;34m(\u001b[0m\u001b[0mobj\u001b[0m\u001b[0;34m,\u001b[0m \u001b[0;34m[\u001b[0m\u001b[0mcvx\u001b[0m\u001b[0;34m.\u001b[0m\u001b[0mpower\u001b[0m\u001b[0;34m(\u001b[0m\u001b[0my\u001b[0m \u001b[0;34m-\u001b[0m \u001b[0;36m3\u001b[0m\u001b[0;34m,\u001b[0m \u001b[0;36m2\u001b[0m\u001b[0;34m)\u001b[0m \u001b[0;34m==\u001b[0m \u001b[0;36m0\u001b[0m\u001b[0;34m]\u001b[0m\u001b[0;34m)\u001b[0m\u001b[0;34m\u001b[0m\u001b[0m\n\u001b[0;32m----> 5\u001b[0;31m \u001b[0mproblem\u001b[0m\u001b[0;34m.\u001b[0m\u001b[0msolve\u001b[0m\u001b[0;34m(\u001b[0m\u001b[0mverbose\u001b[0m\u001b[0;34m=\u001b[0m\u001b[0;32mTrue\u001b[0m\u001b[0;34m)\u001b[0m\u001b[0;34m\u001b[0m\u001b[0m\n\u001b[0m",
      "\u001b[0;32m~/anaconda3/envs/cvxpy/lib/python3.6/site-packages/cvxpy/problems/problem.py\u001b[0m in \u001b[0;36msolve\u001b[0;34m(self, *args, **kwargs)\u001b[0m\n\u001b[1;32m    244\u001b[0m         \u001b[0;32melse\u001b[0m\u001b[0;34m:\u001b[0m\u001b[0;34m\u001b[0m\u001b[0m\n\u001b[1;32m    245\u001b[0m             \u001b[0msolve_func\u001b[0m \u001b[0;34m=\u001b[0m \u001b[0mProblem\u001b[0m\u001b[0;34m.\u001b[0m\u001b[0m_solve\u001b[0m\u001b[0;34m\u001b[0m\u001b[0m\n\u001b[0;32m--> 246\u001b[0;31m         \u001b[0;32mreturn\u001b[0m \u001b[0msolve_func\u001b[0m\u001b[0;34m(\u001b[0m\u001b[0mself\u001b[0m\u001b[0;34m,\u001b[0m \u001b[0;34m*\u001b[0m\u001b[0margs\u001b[0m\u001b[0;34m,\u001b[0m \u001b[0;34m**\u001b[0m\u001b[0mkwargs\u001b[0m\u001b[0;34m)\u001b[0m\u001b[0;34m\u001b[0m\u001b[0m\n\u001b[0m\u001b[1;32m    247\u001b[0m \u001b[0;34m\u001b[0m\u001b[0m\n\u001b[1;32m    248\u001b[0m     \u001b[0;34m@\u001b[0m\u001b[0mclassmethod\u001b[0m\u001b[0;34m\u001b[0m\u001b[0m\n",
      "\u001b[0;32m~/anaconda3/envs/cvxpy/lib/python3.6/site-packages/cvxpy/problems/problem.py\u001b[0m in \u001b[0;36m_solve\u001b[0;34m(self, solver, ignore_dcp, warm_start, verbose, parallel, **kwargs)\u001b[0m\n\u001b[1;32m    354\u001b[0m                                                               solver=solver)\n\u001b[1;32m    355\u001b[0m             \u001b[0;32mexcept\u001b[0m \u001b[0mException\u001b[0m \u001b[0;32mas\u001b[0m \u001b[0me\u001b[0m\u001b[0;34m:\u001b[0m\u001b[0;34m\u001b[0m\u001b[0m\n\u001b[0;32m--> 356\u001b[0;31m                 \u001b[0;32mraise\u001b[0m \u001b[0me\u001b[0m\u001b[0;34m\u001b[0m\u001b[0m\n\u001b[0m\u001b[1;32m    357\u001b[0m \u001b[0;34m\u001b[0m\u001b[0m\n\u001b[1;32m    358\u001b[0m         \u001b[0mdata\u001b[0m\u001b[0;34m,\u001b[0m \u001b[0minverse_data\u001b[0m \u001b[0;34m=\u001b[0m \u001b[0mself\u001b[0m\u001b[0;34m.\u001b[0m\u001b[0m_solving_chain\u001b[0m\u001b[0;34m.\u001b[0m\u001b[0mapply\u001b[0m\u001b[0;34m(\u001b[0m\u001b[0mself\u001b[0m\u001b[0;34m)\u001b[0m\u001b[0;34m\u001b[0m\u001b[0m\n",
      "\u001b[0;32m~/anaconda3/envs/cvxpy/lib/python3.6/site-packages/cvxpy/problems/problem.py\u001b[0m in \u001b[0;36m_solve\u001b[0;34m(self, solver, ignore_dcp, warm_start, verbose, parallel, **kwargs)\u001b[0m\n\u001b[1;32m    352\u001b[0m             \u001b[0;32mtry\u001b[0m\u001b[0;34m:\u001b[0m\u001b[0;34m\u001b[0m\u001b[0m\n\u001b[1;32m    353\u001b[0m                 self._solving_chain = construct_solving_chain(self,\n\u001b[0;32m--> 354\u001b[0;31m                                                               solver=solver)\n\u001b[0m\u001b[1;32m    355\u001b[0m             \u001b[0;32mexcept\u001b[0m \u001b[0mException\u001b[0m \u001b[0;32mas\u001b[0m \u001b[0me\u001b[0m\u001b[0;34m:\u001b[0m\u001b[0;34m\u001b[0m\u001b[0m\n\u001b[1;32m    356\u001b[0m                 \u001b[0;32mraise\u001b[0m \u001b[0me\u001b[0m\u001b[0;34m\u001b[0m\u001b[0m\n",
      "\u001b[0;32m~/anaconda3/envs/cvxpy/lib/python3.6/site-packages/cvxpy/reductions/solvers/solving_chain.py\u001b[0m in \u001b[0;36mconstruct_solving_chain\u001b[0;34m(problem, solver)\u001b[0m\n\u001b[1;32m     67\u001b[0m     \u001b[0;31m# Both of these chains require that the problem is DCP.\u001b[0m\u001b[0;34m\u001b[0m\u001b[0;34m\u001b[0m\u001b[0m\n\u001b[1;32m     68\u001b[0m     \u001b[0;32mif\u001b[0m \u001b[0;32mnot\u001b[0m \u001b[0mproblem\u001b[0m\u001b[0;34m.\u001b[0m\u001b[0mis_dcp\u001b[0m\u001b[0;34m(\u001b[0m\u001b[0;34m)\u001b[0m\u001b[0;34m:\u001b[0m\u001b[0;34m\u001b[0m\u001b[0m\n\u001b[0;32m---> 69\u001b[0;31m         \u001b[0;32mraise\u001b[0m \u001b[0mDCPError\u001b[0m\u001b[0;34m(\u001b[0m\u001b[0;34m\"Problem does not follow DCP rules.\"\u001b[0m\u001b[0;34m)\u001b[0m\u001b[0;34m\u001b[0m\u001b[0m\n\u001b[0m\u001b[1;32m     70\u001b[0m \u001b[0;34m\u001b[0m\u001b[0m\n\u001b[1;32m     71\u001b[0m     \u001b[0;31m# Both reduction chains exclusively accept minimization problems.\u001b[0m\u001b[0;34m\u001b[0m\u001b[0;34m\u001b[0m\u001b[0m\n",
      "\u001b[0;31mDCPError\u001b[0m: Problem does not follow DCP rules."
     ]
    }
   ],
   "source": [
    "# Non-affine equality constraint\n",
    "y = cvx.Variable(1)\n",
    "obj = cvx.Minimize(cvx.power(y, 3))\n",
    "problem = cvx.Problem(obj, [cvx.power(y - 3, 2) == 0])\n",
    "problem.solve(verbose=True)"
   ]
  },
  {
   "cell_type": "code",
   "execution_count": 8,
   "metadata": {
    "slideshow": {
     "slide_type": "slide"
    }
   },
   "outputs": [
    {
     "ename": "DCPError",
     "evalue": "Problem does not follow DCP rules.",
     "output_type": "error",
     "traceback": [
      "\u001b[0;31m---------------------------------------------------------------------------\u001b[0m",
      "\u001b[0;31mDCPError\u001b[0m                                  Traceback (most recent call last)",
      "\u001b[0;32m<ipython-input-8-fb37b750a34a>\u001b[0m in \u001b[0;36m<module>\u001b[0;34m()\u001b[0m\n\u001b[1;32m      3\u001b[0m \u001b[0mobj\u001b[0m \u001b[0;34m=\u001b[0m \u001b[0mcvx\u001b[0m\u001b[0;34m.\u001b[0m\u001b[0mMinimize\u001b[0m\u001b[0;34m(\u001b[0m\u001b[0my\u001b[0m\u001b[0;34m[\u001b[0m\u001b[0;36m0\u001b[0m\u001b[0;34m]\u001b[0m\u001b[0;34m**\u001b[0m\u001b[0;36m2\u001b[0m \u001b[0;34m-\u001b[0m \u001b[0my\u001b[0m\u001b[0;34m[\u001b[0m\u001b[0;36m1\u001b[0m\u001b[0;34m]\u001b[0m\u001b[0;34m**\u001b[0m\u001b[0;36m2\u001b[0m\u001b[0;34m)\u001b[0m\u001b[0;34m\u001b[0m\u001b[0m\n\u001b[1;32m      4\u001b[0m \u001b[0mproblem\u001b[0m \u001b[0;34m=\u001b[0m \u001b[0mcvx\u001b[0m\u001b[0;34m.\u001b[0m\u001b[0mProblem\u001b[0m\u001b[0;34m(\u001b[0m\u001b[0mobj\u001b[0m\u001b[0;34m)\u001b[0m\u001b[0;34m\u001b[0m\u001b[0m\n\u001b[0;32m----> 5\u001b[0;31m \u001b[0mproblem\u001b[0m\u001b[0;34m.\u001b[0m\u001b[0msolve\u001b[0m\u001b[0;34m(\u001b[0m\u001b[0mverbose\u001b[0m\u001b[0;34m=\u001b[0m\u001b[0;32mTrue\u001b[0m\u001b[0;34m)\u001b[0m\u001b[0;34m\u001b[0m\u001b[0m\n\u001b[0m",
      "\u001b[0;32m~/anaconda3/envs/cvxpy/lib/python3.6/site-packages/cvxpy/problems/problem.py\u001b[0m in \u001b[0;36msolve\u001b[0;34m(self, *args, **kwargs)\u001b[0m\n\u001b[1;32m    244\u001b[0m         \u001b[0;32melse\u001b[0m\u001b[0;34m:\u001b[0m\u001b[0;34m\u001b[0m\u001b[0m\n\u001b[1;32m    245\u001b[0m             \u001b[0msolve_func\u001b[0m \u001b[0;34m=\u001b[0m \u001b[0mProblem\u001b[0m\u001b[0;34m.\u001b[0m\u001b[0m_solve\u001b[0m\u001b[0;34m\u001b[0m\u001b[0m\n\u001b[0;32m--> 246\u001b[0;31m         \u001b[0;32mreturn\u001b[0m \u001b[0msolve_func\u001b[0m\u001b[0;34m(\u001b[0m\u001b[0mself\u001b[0m\u001b[0;34m,\u001b[0m \u001b[0;34m*\u001b[0m\u001b[0margs\u001b[0m\u001b[0;34m,\u001b[0m \u001b[0;34m**\u001b[0m\u001b[0mkwargs\u001b[0m\u001b[0;34m)\u001b[0m\u001b[0;34m\u001b[0m\u001b[0m\n\u001b[0m\u001b[1;32m    247\u001b[0m \u001b[0;34m\u001b[0m\u001b[0m\n\u001b[1;32m    248\u001b[0m     \u001b[0;34m@\u001b[0m\u001b[0mclassmethod\u001b[0m\u001b[0;34m\u001b[0m\u001b[0m\n",
      "\u001b[0;32m~/anaconda3/envs/cvxpy/lib/python3.6/site-packages/cvxpy/problems/problem.py\u001b[0m in \u001b[0;36m_solve\u001b[0;34m(self, solver, ignore_dcp, warm_start, verbose, parallel, **kwargs)\u001b[0m\n\u001b[1;32m    354\u001b[0m                                                               solver=solver)\n\u001b[1;32m    355\u001b[0m             \u001b[0;32mexcept\u001b[0m \u001b[0mException\u001b[0m \u001b[0;32mas\u001b[0m \u001b[0me\u001b[0m\u001b[0;34m:\u001b[0m\u001b[0;34m\u001b[0m\u001b[0m\n\u001b[0;32m--> 356\u001b[0;31m                 \u001b[0;32mraise\u001b[0m \u001b[0me\u001b[0m\u001b[0;34m\u001b[0m\u001b[0m\n\u001b[0m\u001b[1;32m    357\u001b[0m \u001b[0;34m\u001b[0m\u001b[0m\n\u001b[1;32m    358\u001b[0m         \u001b[0mdata\u001b[0m\u001b[0;34m,\u001b[0m \u001b[0minverse_data\u001b[0m \u001b[0;34m=\u001b[0m \u001b[0mself\u001b[0m\u001b[0;34m.\u001b[0m\u001b[0m_solving_chain\u001b[0m\u001b[0;34m.\u001b[0m\u001b[0mapply\u001b[0m\u001b[0;34m(\u001b[0m\u001b[0mself\u001b[0m\u001b[0;34m)\u001b[0m\u001b[0;34m\u001b[0m\u001b[0m\n",
      "\u001b[0;32m~/anaconda3/envs/cvxpy/lib/python3.6/site-packages/cvxpy/problems/problem.py\u001b[0m in \u001b[0;36m_solve\u001b[0;34m(self, solver, ignore_dcp, warm_start, verbose, parallel, **kwargs)\u001b[0m\n\u001b[1;32m    352\u001b[0m             \u001b[0;32mtry\u001b[0m\u001b[0;34m:\u001b[0m\u001b[0;34m\u001b[0m\u001b[0m\n\u001b[1;32m    353\u001b[0m                 self._solving_chain = construct_solving_chain(self,\n\u001b[0;32m--> 354\u001b[0;31m                                                               solver=solver)\n\u001b[0m\u001b[1;32m    355\u001b[0m             \u001b[0;32mexcept\u001b[0m \u001b[0mException\u001b[0m \u001b[0;32mas\u001b[0m \u001b[0me\u001b[0m\u001b[0;34m:\u001b[0m\u001b[0;34m\u001b[0m\u001b[0m\n\u001b[1;32m    356\u001b[0m                 \u001b[0;32mraise\u001b[0m \u001b[0me\u001b[0m\u001b[0;34m\u001b[0m\u001b[0m\n",
      "\u001b[0;32m~/anaconda3/envs/cvxpy/lib/python3.6/site-packages/cvxpy/reductions/solvers/solving_chain.py\u001b[0m in \u001b[0;36mconstruct_solving_chain\u001b[0;34m(problem, solver)\u001b[0m\n\u001b[1;32m     67\u001b[0m     \u001b[0;31m# Both of these chains require that the problem is DCP.\u001b[0m\u001b[0;34m\u001b[0m\u001b[0;34m\u001b[0m\u001b[0m\n\u001b[1;32m     68\u001b[0m     \u001b[0;32mif\u001b[0m \u001b[0;32mnot\u001b[0m \u001b[0mproblem\u001b[0m\u001b[0;34m.\u001b[0m\u001b[0mis_dcp\u001b[0m\u001b[0;34m(\u001b[0m\u001b[0;34m)\u001b[0m\u001b[0;34m:\u001b[0m\u001b[0;34m\u001b[0m\u001b[0m\n\u001b[0;32m---> 69\u001b[0;31m         \u001b[0;32mraise\u001b[0m \u001b[0mDCPError\u001b[0m\u001b[0;34m(\u001b[0m\u001b[0;34m\"Problem does not follow DCP rules.\"\u001b[0m\u001b[0;34m)\u001b[0m\u001b[0;34m\u001b[0m\u001b[0m\n\u001b[0m\u001b[1;32m     70\u001b[0m \u001b[0;34m\u001b[0m\u001b[0m\n\u001b[1;32m     71\u001b[0m     \u001b[0;31m# Both reduction chains exclusively accept minimization problems.\u001b[0m\u001b[0;34m\u001b[0m\u001b[0;34m\u001b[0m\u001b[0m\n",
      "\u001b[0;31mDCPError\u001b[0m: Problem does not follow DCP rules."
     ]
    }
   ],
   "source": [
    "# Non-convex objective function \n",
    "y = cvx.Variable(2)\n",
    "obj = cvx.Minimize(y[0]**2 - y[1]**2)\n",
    "problem = cvx.Problem(obj)\n",
    "problem.solve(verbose=True)"
   ]
  },
  {
   "cell_type": "code",
   "execution_count": null,
   "metadata": {
    "slideshow": {
     "slide_type": "slide"
    }
   },
   "outputs": [],
   "source": []
  }
 ],
 "metadata": {
  "celltoolbar": "Slideshow",
  "kernelspec": {
   "display_name": "Python 3 (cvxpy)",
   "language": "python",
   "name": "cvxpy"
  },
  "language_info": {
   "codemirror_mode": {
    "name": "ipython",
    "version": 3
   },
   "file_extension": ".py",
   "mimetype": "text/x-python",
   "name": "python",
   "nbconvert_exporter": "python",
   "pygments_lexer": "ipython3",
   "version": "3.6.4"
  }
 },
 "nbformat": 4,
 "nbformat_minor": 2
}

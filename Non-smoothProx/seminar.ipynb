{
 "cells": [
  {
   "cell_type": "markdown",
   "metadata": {
    "slideshow": {
     "slide_type": "slide"
    }
   },
   "source": [
    "# Introduction to non-smooth problems and proximal methods "
   ]
  },
  {
   "cell_type": "markdown",
   "metadata": {
    "slideshow": {
     "slide_type": "slide"
    }
   },
   "source": [
    "## Non-smooth convex optimization problem\n",
    "\n",
    "$$\n",
    "\\min_{x \\in \\mathbb{R}^n} f(x),\n",
    "$$\n",
    "\n",
    "where $f(x)$ ic convex, but **non-smooth**.\n",
    "\n",
    "**Q:** since gradient does not exist, what method can solve such problem? "
   ]
  },
  {
   "cell_type": "markdown",
   "metadata": {
    "slideshow": {
     "slide_type": "slide"
    }
   },
   "source": [
    "## Subgradient method\n",
    "\n",
    "- Replace gradient with subgradient \n",
    "- Original book is [Minimization methods for non-differentiable functions](http://cds.cern.ch/record/104965) by [Naum Shor](https://ru.wikipedia.org/wiki/%D0%A8%D0%BE%D1%80,_%D0%9D%D0%B0%D1%83%D0%BC_%D0%97%D1%83%D1%81%D0%B5%D0%BB%D0%B5%D0%B2%D0%B8%D1%87)\n",
    "- Good review in old-scvhool style is [here](https://core.ac.uk/download/pdf/33892291.pdf#page=15)\n",
    "- Compare the method with gradient descent"
   ]
  },
  {
   "cell_type": "markdown",
   "metadata": {
    "slideshow": {
     "slide_type": "slide"
    }
   },
   "source": [
    "### Non-descent method\n",
    "\n",
    "- Example\n",
    "\n",
    "$$\n",
    "f(x_1, x_2) = |x_1| + 2|x_2|\n",
    "$$\n",
    "\n",
    "- At $x = (1, 0)$ a subgradient is $(1, 2)$\n",
    "- The direction $-g$ is not descent"
   ]
  },
  {
   "cell_type": "markdown",
   "metadata": {
    "slideshow": {
     "slide_type": "slide"
    }
   },
   "source": [
    "## Any good news?\n",
    "\n",
    "- Let us estimate convergence of the subgradient method \n",
    "- $\\|x_{k+1} - x^*\\|_2 = \\|x_k - \\alpha_k g_k - x^*\\| \\leq \\|x_k - x^*\\|_2 - 2\\alpha_k g^{\\top}_k(x_k - x^*) + \\alpha^2_k \\|g\\|_2^2 \\leq \\|x_k - x^*\\|_2 - 2\\alpha_k (f(x_k) - f^*) + \\alpha^2_k \\|g\\|_2^2$\n",
    "- Use the minimum function value after $k$ iterations $f_{best}^{(k)}$\n",
    "\n",
    "$$\n",
    "2 \\left(\\sum_{i=1}^k \\alpha_i\\right) (f^{(k)}_{best} - f^*) \\leq \\| x_0 - x^*\\|_2^2 - \\|x_k - x^* \\|_2^2 + \\sum_{i=1}^k \\alpha^2_i \\|g_i\\|_2^2 \\leq \\| x_0 - x^*\\|_2^2 + \\sum_{i=1}^k \\alpha^2_i \\|g_i\\|_2^2\n",
    "$$\n",
    "\n",
    "- Finally\n",
    "\n",
    "$$\n",
    "f^{(k)}_{best} - f^* \\leq \\frac{\\| x_0 - x^*\\|_2^2 + \\sum_{i=1}^k \\alpha^2_i \\|g_i\\|_2^2}{2\\sum_{i=1}^k \\alpha_i}\n",
    "$$"
   ]
  },
  {
   "cell_type": "markdown",
   "metadata": {
    "slideshow": {
     "slide_type": "slide"
    }
   },
   "source": [
    "## Step size selection\n",
    "\n",
    "- Fix step size $\\alpha$\n",
    "\n",
    "$$\n",
    "f^{(k)}_{best} - f^* \\leq \\frac{\\| x_0 - x^*\\|_2^2 + G^2 k \\alpha^2}{2 k \\alpha} = \\frac{\\| x_0 - x^*\\|_2^2}{2 k \\alpha} + \\frac{G^2 \\alpha}{2},\n",
    "$$\n",
    "\n",
    "where $\\|g_i\\|_2 \\leq G$\n",
    "\n",
    "- Scaled gradient norm $\\alpha_i = \\frac{s}{\\|g_{i}\\|_2}$\n",
    "\n",
    "$$\n",
    "f^{(k)}_{best} - f^* \\leq \\frac{G\\| x_0 - x^*\\|_2^2}{2 k s} + \\frac{G s}{2},\n",
    "$$\n",
    "\n",
    "- Diminishing step size: $\\alpha_i \\to 0, \\sum_{i=1}^{\\infty}\\alpha_i = \\infty$\n",
    "\n",
    "$$\n",
    "f^{(k)}_{best} - f^* \\to 0. \\quad k \\to \\infty\n",
    "$$"
   ]
  },
  {
   "cell_type": "markdown",
   "metadata": {
    "slideshow": {
     "slide_type": "slide"
    }
   },
   "source": [
    "## Test problem\n",
    "\n",
    "$$\n",
    "\\|Ax - b\\|_1 \\to \\min_x\n",
    "$$"
   ]
  },
  {
   "cell_type": "code",
   "execution_count": 1,
   "metadata": {
    "slideshow": {
     "slide_type": "slide"
    }
   },
   "outputs": [],
   "source": [
    "import numpy as np\n",
    "%matplotlib inline\n",
    "import matplotlib.pyplot as plt\n",
    "plt.rc(\"text\", usetex=True)\n",
    "import ipywidgets as ipywidg\n",
    "import liboptpy.unconstr_solvers as methods\n",
    "import liboptpy.step_size as ss\n",
    "\n",
    "\n",
    "m, n = 500, 100\n",
    "A = np.random.randn(m, n)\n",
    "x_true = np.random.randn(n)\n",
    "b = A.dot(x_true)"
   ]
  },
  {
   "cell_type": "code",
   "execution_count": 2,
   "metadata": {
    "slideshow": {
     "slide_type": "slide"
    }
   },
   "outputs": [],
   "source": [
    "f = lambda x: np.linalg.norm(A.dot(x) - b, 1)\n",
    "subgrad = lambda x: A.T.dot(np.sign(A.dot(x) - b))\n",
    "alpha = 1e-3\n",
    "s = 1.\n",
    "sg_methods = {\n",
    "    \"SM 1/k\": methods.fo.SubgradientMethod(f, subgrad, ss.InvIterStepSize()),\n",
    "    \"SM fixed={}\".format(alpha): methods.fo.SubgradientMethod(f, subgrad, ss.ConstantStepSize(alpha)),\n",
    "    \"SM scaled fix, s={}\".format(s): methods.fo.SubgradientMethod(f, subgrad, \n",
    "                                                  ss.ScaledConstantStepSize(s)),\n",
    "}"
   ]
  },
  {
   "cell_type": "code",
   "execution_count": 3,
   "metadata": {
    "slideshow": {
     "slide_type": "slide"
    }
   },
   "outputs": [],
   "source": [
    "x0 = np.random.randn(n)\n",
    "max_iter = 100"
   ]
  },
  {
   "cell_type": "code",
   "execution_count": 4,
   "metadata": {
    "slideshow": {
     "slide_type": "slide"
    }
   },
   "outputs": [],
   "source": [
    "for m in sg_methods:\n",
    "    _ = sg_methods[m].solve(x0=x0, max_iter=max_iter)"
   ]
  },
  {
   "cell_type": "code",
   "execution_count": 5,
   "metadata": {
    "slideshow": {
     "slide_type": "slide"
    }
   },
   "outputs": [
    {
     "data": {
      "image/png": "[encoded data removed]",
      "text/plain": [
       "<Figure size 720x576 with 1 Axes>"
      ]
     },
     "metadata": {
      "needs_background": "light"
     },
     "output_type": "display_data"
    }
   ],
   "source": [
    "plt.figure(figsize=(10, 8))\n",
    "for m in sg_methods:\n",
    "    plt.semilogy([f(x) for x in sg_methods[m].get_convergence()], label=m)\n",
    "plt.legend(fontsize=20)\n",
    "plt.xlabel(r\"Number of iterations, $k$\", fontsize=26)\n",
    "plt.ylabel(r\"Objective, $f(x_k)$\", fontsize=26)\n",
    "plt.xticks(fontsize=20)\n",
    "plt.yticks(fontsize=20)\n",
    "plt.grid(True)"
   ]
  },
  {
   "cell_type": "markdown",
   "metadata": {
    "slideshow": {
     "slide_type": "slide"
    }
   },
   "source": [
    "## Summary on subgradient method\n",
    "\n",
    "- Black-box method for non-smooth function\n",
    "- Natural generalization of gradient descent\n",
    "- But it is not descent method :(\n",
    "- Step size selection rules"
   ]
  },
  {
   "cell_type": "markdown",
   "metadata": {
    "slideshow": {
     "slide_type": "slide"
    }
   },
   "source": [
    "## Gradient descent as forward Euler scheme\n",
    "\n",
    "Consider the following ODE\n",
    "$$\n",
    "\\frac{dx}{dt} = -f'(x(t))\n",
    "$$\n",
    "and after discretization\n",
    "\n",
    "$$\n",
    "\\frac{x_{k+1} - x_k}{\\alpha} = -f'(x_k),\n",
    "$$\n",
    "\n",
    "where $\\alpha = t_{k+1} - t_k$ is a grid step and $x_k \\equiv x(t_k)$\n",
    "\n",
    "From this follows \n",
    "\n",
    "$$\n",
    "x_{k+1} = x_k - \\alpha f'(x_k),\n",
    "$$\n",
    "\n",
    "which is equivalent to gradient descent method"
   ]
  },
  {
   "cell_type": "markdown",
   "metadata": {
    "slideshow": {
     "slide_type": "slide"
    }
   },
   "source": [
    "### Properties of forward Euler scheme\n",
    "\n",
    "- Easy to use\n",
    "- Can be unstable if $\\alpha$ is too large, which is natural drawback of gradient descent with large step size\n",
    "- Stability issue can be solved with **backward Euler scheme**"
   ]
  },
  {
   "cell_type": "markdown",
   "metadata": {
    "slideshow": {
     "slide_type": "slide"
    }
   },
   "source": [
    "## Proximal method as backward Euler scheme\n",
    "\n",
    "$$\n",
    "\\frac{dx}{dt} = -f'(x(t))\n",
    "$$\n",
    "\n",
    "and after discretization in backward manner\n",
    "\n",
    "$$\n",
    "\\frac{x_{k+1} - x_k}{\\alpha} = -f'({\\color{red}{x_{k+1}}}),\n",
    "$$\n",
    "\n",
    "After some re-arrangements\n",
    "\\begin{align*}\n",
    "& \\left(\\frac{1}{2\\alpha} \\|u - x_k\\|_2^2 + f(u) \\right)'(x_{k+1}) = 0 \\\\\n",
    "& x_{k+1} = \\arg\\min_u \\left(f(u) + \\frac{1}{2\\alpha} \\|u - x_k\\|_2^2\\right) = prox_{\\alpha f}(x_k)\n",
    "\\end{align*}\n",
    "\n"
   ]
  },
  {
   "cell_type": "markdown",
   "metadata": {
    "slideshow": {
     "slide_type": "slide"
    }
   },
   "source": [
    "### Example: iterative refinement\n",
    "\n",
    "The method to solve positive semi-definite linear system given Cholesky factorization of $A + \\epsilon I$ for some $\\epsilon$\n",
    "$$\n",
    "f(x) = \\frac{1}{2}x^{\\top}Ax - b^{\\top}x \\to \\min_x,\n",
    "$$\n",
    "where $A \\in \\mathbb{S}^n_+$\n",
    "\n",
    "\\begin{align*}\n",
    "prox_{\\alpha f} (x_k) & = \\arg\\min_u \\left(\\frac{1}{2}u^{\\top}Au - b^{\\top}u + \\frac{1}{2\\alpha} \\|u - x_k\\|_2^2\\right) \\\\\n",
    "& = \\left(A + (1/ \\alpha) I\\right)^{-1}\\left(b + (1 / \\alpha)x_k\\right) \\\\\n",
    "& = x_k + (A + \\epsilon I)^{-1}(b - Ax_k)\n",
    "\\end{align*}\n"
   ]
  },
  {
   "cell_type": "markdown",
   "metadata": {
    "slideshow": {
     "slide_type": "slide"
    }
   },
   "source": [
    "### Properties of proximal map \n",
    "$$\n",
    "x_{k+1} = prox_{f}(x_k)\n",
    "$$\n",
    "\n",
    "1. Fixed point of proximal operator is equal to minimizer of $f$\n",
    "\n",
    "$$\n",
    "x^* = prox_f(x^*)\n",
    "$$ \n",
    "\n",
    "Proximal map is not a contraction\n",
    "\n",
    "There exists theory on firm non-expansiveness of proximal operator\n",
    "\n",
    "2. Resolvent of operator\n",
    "\n",
    "$$\n",
    "prox_{\\alpha f}(x) = (I + \\alpha f')^{-1}(x)\n",
    "$$\n",
    "\n",
    "This property can be extended to subdifferential."
   ]
  },
  {
   "cell_type": "markdown",
   "metadata": {
    "slideshow": {
     "slide_type": "slide"
    }
   },
   "source": [
    "### Modified gradient step interpretation\n",
    "\n",
    "Assume $f$ is twice differentiable and strong convex ($f''(x) \\succ 0$).\n",
    "\n",
    "1. Gradient method as approximation of proximal method\n",
    "\n",
    "$$\n",
    "x_{k+1} = prox_{\\alpha f} (x_k) = (I + \\alpha f')^{-1}(x_k) \\approx x_k - \\alpha f'(x_k) + o(\\alpha), \\; \\alpha \\to 0  \n",
    "$$\n",
    "\n",
    "2. Proximal method for second-order approximation $\\hat{f}(v) = f(x) + \\langle f'(x), v - x \\rangle + \\frac{1}{2}\\langle v - x, f''(x) (v - x) \\rangle$\n",
    "\n",
    "$$\n",
    "prox_{\\alpha \\hat{f}}(x_k) = x_k - (f''(x_k) + (1 / \\alpha)I)^{-1}f'(x_k) \n",
    "$$"
   ]
  },
  {
   "cell_type": "markdown",
   "metadata": {
    "slideshow": {
     "slide_type": "slide"
    }
   },
   "source": [
    "### Separable sum\n",
    "\n",
    "If $f$ has the form\n",
    "\n",
    "$$\n",
    "f(x) = \\sum_{i=1}^n f_i(x_i)\n",
    "$$\n",
    "\n",
    "then \n",
    "$$\n",
    "prox_f(v)_i = prox_{f_i}(v_i)\n",
    "$$\n",
    "\n",
    "- High parallelization of the proximal operator computing \n",
    "- **Consensus form** of the problem\n",
    "$$\n",
    "\\min \\sum_{i=1}^n f_i(x) \\to \\min \\sum_{i=1}^n f_i(x_i), \\; \\text{s.t. } x_1 = \\ldots = x_n\n",
    "$$"
   ]
  },
  {
   "cell_type": "markdown",
   "metadata": {
    "slideshow": {
     "slide_type": "slide"
    }
   },
   "source": [
    "## Proximal gradient method (PGM) - look into black box\n",
    "\n",
    "Consider convex function $f$ such that\n",
    "\n",
    "$$\n",
    "f(x) = h(x) + g(x),\n",
    "$$\n",
    "\n",
    "where $h(x)$ is convex differentiable, and $g(x)$ can be convex extended-value function, so $g: \\mathbb{R}^n \\to \\mathbb{R} \\cup \\{+\\infty\\}$\n",
    "\n",
    "Then the one step of the proximal gradient method is\n",
    "\n",
    "$$\n",
    "x_{k+1} = prox_{\\alpha_k g} (x_k - \\alpha_k h'(x_k))\n",
    "$$\n",
    "\n",
    "- Convergence rate $\\mathcal{O}(1/k)$ for step size $\\alpha_k \\equiv \\alpha \\in (0, 1/L]$, where $L$ is Lipschitz constant of $f'$\n",
    "- Backtracking procedure is available for adaptive search of $\\alpha_k$"
   ]
  },
  {
   "cell_type": "markdown",
   "metadata": {
    "slideshow": {
     "slide_type": "slide"
    }
   },
   "source": [
    "### Pacticular cases of PGM\n",
    "\n",
    "- If $h \\equiv 0$, then PGM is simple proximal method\n",
    "- If $g \\equiv 0$, then PGM is vanilla gradient descent method "
   ]
  },
  {
   "cell_type": "markdown",
   "metadata": {
    "slideshow": {
     "slide_type": "slide"
    }
   },
   "source": [
    "### Fixed point iteration interpretation\n",
    "\n",
    "From the first-order optimality condition follows\n",
    "\n",
    "\\begin{align*}\n",
    "& 0 \\in \\alpha h'(x^*) + \\alpha\\partial g(x^*)\\\\\n",
    "& 0 \\in \\alpha h'(x^*) + x^* - x^* + \\alpha\\partial g(x^*)\\\\\n",
    "& (I - \\alpha h')(x^*) \\in (I + \\alpha \\partial g)(x^*)\\\\\n",
    "& x^* = (I + \\alpha \\partial g)^{-1}(I - \\alpha h')(x^*)\\\\\n",
    "& x^* = prox_{\\alpha g}(x^* - \\alpha h'(x^*))\n",
    "\\end{align*}"
   ]
  },
  {
   "cell_type": "markdown",
   "metadata": {
    "slideshow": {
     "slide_type": "slide"
    }
   },
   "source": [
    "## Accelerated proximal gradient method\n",
    "\n",
    "\\begin{align*}\n",
    "& y_{k+1} = x_k + w_k (x_k - x_{k+1})\\\\\n",
    "& x_{k+1} = prox_{\\alpha_k g} (y_{k+1} - \\alpha_k h'(y_{k+1}))\n",
    "\\end{align*}\n",
    "\n",
    "- $\\{w_k\\}$ is special sequence that has to be chosen to accelerate convergence, for example $w_k = \\frac{k}{k+3}$\n",
    "- Similar backtracking procedure is helpful for adaptive search $\\alpha_k$\n",
    "- Convergence rate $\\mathcal{O}(1/k^2)$ which is tight lower bound for convex function"
   ]
  },
  {
   "cell_type": "markdown",
   "metadata": {
    "slideshow": {
     "slide_type": "slide"
    }
   },
   "source": [
    "## Lasso example\n",
    "\n",
    "$$\n",
    "\\min_x \\frac{1}{2}\\|Ax - y \\|^2_2 + \\gamma \\|x\\|_1\n",
    "$$\n",
    "\n",
    "- $h(x) = \\frac{1}{2}\\|Ax - y \\|^2_2$\n",
    "- $g(x) = \\gamma \\|x\\|_1$"
   ]
  },
  {
   "cell_type": "markdown",
   "metadata": {
    "slideshow": {
     "slide_type": "slide"
    }
   },
   "source": [
    "####  Soft thresholding\n",
    "\n",
    "- $\\|x\\|_1 = |x_1| + \\ldots + |x_n|$\n",
    "- Separable sum\n",
    "- $prox_{\\alpha \\|x\\|_1} (x)_i = prox_{\\alpha |\\cdot|}(x_i)$\n",
    "- $prox_{\\alpha |\\cdot|} (x_i) = \\arg\\min_u (|u| + 1/(2\\alpha)\\|x_i - u\\|^2_2)$\n",
    "- Analytical solution\n",
    "$$ \n",
    "prox_{\\alpha |\\cdot|} (x_i) = \\begin{cases} x_i - \\alpha & x_i \\geq \\alpha  \\\\ 0 & |x_i| \\leq \\alpha \\\\ x_i + \\alpha & x_i \\leq -\\alpha \\end{cases}\n",
    "$$\n",
    "- Vectorized form\n",
    "$$\n",
    "prox_{\\alpha \\|x\\|_1} (x) = \\text{sign}(x)(|x| - \\alpha)_+, \\; |x| = (|x_1|, \\ldots, |x_n|)\n",
    "$$"
   ]
  },
  {
   "cell_type": "markdown",
   "metadata": {
    "slideshow": {
     "slide_type": "slide"
    }
   },
   "source": [
    "####  (F)ISTA\n",
    "\n",
    "- Proximal gradient method for Lasso problem is known as ISTA (Iterative shrinkage-thresholding algorithm)\n",
    "- Fast proximal gradient is known as FISTA (Fast ISTA)"
   ]
  },
  {
   "cell_type": "markdown",
   "metadata": {
    "slideshow": {
     "slide_type": "slide"
    }
   },
   "source": [
    "### Experiments"
   ]
  },
  {
   "cell_type": "code",
   "execution_count": 18,
   "metadata": {
    "slideshow": {
     "slide_type": "slide"
    }
   },
   "outputs": [],
   "source": [
    "def prox_alg(f, f_grad, g_prox, x0, num_iter, beta=0.5, fix_lam=None, accel=False):\n",
    "    conv = [x0]\n",
    "    x = x0.copy()\n",
    "    if accel:\n",
    "        t_prev = 1\n",
    "        t_next = (1 + np.sqrt(1 + 4 * t_prev**2)) / 2.\n",
    "    if fix_lam is None:\n",
    "        lam = 1.\n",
    "    for i in range(num_iter):\n",
    "        if accel and i > 0:\n",
    "            x = x + (t_prev - 1) / t_next * (x - conv[-2])\n",
    "            t_prev = t_next\n",
    "            t_next = (1 + np.sqrt(1 + 4 * t_prev**2)) / 2.\n",
    "        if fix_lam is None:\n",
    "            while True:\n",
    "                z = g_prox(x - lam * f_grad(x), lam)\n",
    "                if f(z) <= f(x) + f_grad(x).dot(z - x) + np.linalg.norm(z - x)**2 / (2 * lam):\n",
    "                    break\n",
    "                else:\n",
    "                    lam = lam * beta\n",
    "        else:\n",
    "            z = g_prox(x - fix_lam * f_grad(x), fix_lam)\n",
    "        x = z.copy()\n",
    "        conv.append(x)\n",
    "    return x, conv"
   ]
  },
  {
   "cell_type": "code",
   "execution_count": 19,
   "metadata": {
    "slideshow": {
     "slide_type": "slide"
    }
   },
   "outputs": [],
   "source": [
    "f = lambda x: np.linalg.norm(A.dot(x) - y)**2 / 2\n",
    "f_grad = lambda x: A.T.dot(A.dot(x) - y)\n",
    "f_subgrad = lambda x: A.T.dot(A.dot(x) - y) + gamma * np.sign(x)\n",
    "\n",
    "def g_prox(h, lam):\n",
    "    return np.sign(h) * np.maximum(np.abs(h) - lam * gamma, 0) "
   ]
  },
  {
   "cell_type": "code",
   "execution_count": 20,
   "metadata": {
    "slideshow": {
     "slide_type": "slide"
    }
   },
   "outputs": [
    {
     "name": "stdout",
     "output_type": "stream",
     "text": [
      "Number of nonzeros in x_true = 94\n",
      "Gamma = 0.7881955783801267\n",
      "S2N ratio = 23.63703032795485\n"
     ]
    }
   ],
   "source": [
    "import sklearn.preprocessing as skprep\n",
    "m = 500\n",
    "n = 2500\n",
    "A = np.random.rand(m, n)\n",
    "A = skprep.normalize(A, norm=\"l2\", axis=0)\n",
    "L = np.linalg.eigvalsh(A.T.dot(A)).max()\n",
    "x_true = np.random.randn(n)\n",
    "x_true[np.random.rand(n) < 0.96] = 0\n",
    "print(\"Number of nonzeros in x_true = {}\".format(np.sum(x_true != 0)))\n",
    "v = 9e-2 * np.random.randn(m)\n",
    "y = A.dot(x_true) + v\n",
    "gamma_max = np.linalg.norm(A.T.dot(y), ord=np.inf)\n",
    "gamma = 0.1 * gamma_max\n",
    "print(\"Gamma = {}\".format(gamma))\n",
    "print(\"S2N ratio = {}\".format(np.linalg.norm(A.dot(x_true))**2 / np.linalg.norm(v)**2))\n",
    "f_star = f(x_true) + gamma*np.linalg.norm(x_true, 1)"
   ]
  },
  {
   "cell_type": "code",
   "execution_count": 21,
   "metadata": {
    "slideshow": {
     "slide_type": "slide"
    }
   },
   "outputs": [],
   "source": [
    "num_iter = 500\n",
    "# x0 = np.zeros(n)\n",
    "x0 = np.random.rand(n)"
   ]
  },
  {
   "cell_type": "code",
   "execution_count": 22,
   "metadata": {
    "slideshow": {
     "slide_type": "slide"
    }
   },
   "outputs": [
    {
     "name": "stdout",
     "output_type": "stream",
     "text": [
      "Number nonzeros in x* = 1491\n",
      "f* = 180.12007465584085\n",
      "Number nonzeros in x* = 34\n",
      "f* = 18.46080966434065\n"
     ]
    }
   ],
   "source": [
    "x, conv = prox_alg(f, f_grad, g_prox, x0, num_iter, fix_lam=None)\n",
    "print(\"Number nonzeros in x* = {}\".format(np.sum(x != 0)))\n",
    "print(\"f* = {}\".format(f(x) + gamma * np.linalg.norm(x, 1)))\n",
    "x_acc, conv_acc = prox_alg(f, f_grad, g_prox, x0, num_iter, fix_lam=None, accel=True)\n",
    "print(\"Number nonzeros in x* = {}\".format(np.sum(x_acc != 0)))\n",
    "print(\"f* = {}\".format(f(x_acc) + gamma * np.linalg.norm(x_acc, 1)))"
   ]
  },
  {
   "cell_type": "code",
   "execution_count": 32,
   "metadata": {},
   "outputs": [
    {
     "name": "stdout",
     "output_type": "stream",
     "text": [
      "f^* = 20.643137522313687\n"
     ]
    }
   ],
   "source": [
    "subgrad_m = methods.fo.SubgradientMethod(f, f_subgrad, ss.ConstantStepSize(1e-3))\n",
    "x_subgrad = subgrad_m.solve(x0=x0, max_iter=num_iter)\n",
    "print(\"f^* = {}\".format(f(x_subgrad)))"
   ]
  },
  {
   "cell_type": "code",
   "execution_count": 33,
   "metadata": {
    "slideshow": {
     "slide_type": "slide"
    }
   },
   "outputs": [
    {
     "data": {
      "image/png": "[encoded data removed]",
      "text/plain": [
       "<Figure size 720x576 with 1 Axes>"
      ]
     },
     "metadata": {
      "needs_background": "light"
     },
     "output_type": "display_data"
    }
   ],
   "source": [
    "plt.figure(figsize=(10, 8))\n",
    "fontsize=25\n",
    "plt.plot([f(x) + gamma * np.linalg.norm(x, 1) for x in conv], label=\"ISTA\")\n",
    "plt.plot([f(x) + gamma * np.linalg.norm(x, 1) for x in conv_acc], label=\"FISTA\")\n",
    "plt.plot([f(x) + gamma * np.linalg.norm(x, 1) for x in subgrad_m.get_convergence()], label=\"Subgradient descent\")\n",
    "plt.legend(fontsize=fontsize)\n",
    "plt.xlabel(r\"Number of iterations, $k$\", fontsize=fontsize)\n",
    "plt.ylabel(r\"Lasso objective, $h(x_k) + g(x_k)$\", fontsize=fontsize)\n",
    "plt.xticks(fontsize=fontsize)\n",
    "_ = plt.yticks(fontsize=fontsize)\n",
    "plt.yscale(\"log\")"
   ]
  },
  {
   "cell_type": "markdown",
   "metadata": {
    "slideshow": {
     "slide_type": "slide"
    }
   },
   "source": [
    "##  Further directions\n",
    "\n",
    "1. Non-euclidean distance used as penalty, i.e. Bregman divergence and Mirror descent method \n",
    "2. Non-convex optimization\n",
    "3. Parallel implementations and distributed setting\n",
    "4. Use different discretization methods from ODE-related science to get new fast optimization methods, see [this paper](https://arxiv.org/pdf/1805.00521.pdf)"
   ]
  },
  {
   "cell_type": "markdown",
   "metadata": {
    "slideshow": {
     "slide_type": "slide"
    }
   },
   "source": [
    "## References\n",
    "\n",
    "1. [Proximal algorithms](http://web.stanford.edu/~boyd/papers/pdf/prox_algs.pdf) and related [sources](http://web.stanford.edu/~boyd/papers/prox_algs.html) by N. Parikh and S. Boyd \n",
    "2. [Gradient-based algorithms with applications to signal recovery problems](http://www.math.tau.ac.il/~teboulle/papers/gradient_chapter.pdf) by A. Beck and M. Teboulle\n",
    "3. [Proximal Backpropagation](https://arxiv.org/abs/1706.04638) by T Frerix et al (ICLR 2018)\n",
    "4. [Stochastic Proximal Gradient Descent with Acceleration Techniques](https://papers.nips.cc/paper/5610-stochastic-proximal-gradient-descent-with-acceleration-techniques.pdf) by A. Nitanda (NIPS 2014)"
   ]
  },
  {
   "cell_type": "markdown",
   "metadata": {
    "slideshow": {
     "slide_type": "slide"
    }
   },
   "source": [
    "## Summary\n",
    "\n",
    "1. Proximal method\n",
    "2. Proximal map and its property\n",
    "3. Proximal gradient method and its acceleration\n",
    "5. Applications"
   ]
  }
 ],
 "metadata": {
  "celltoolbar": "Slideshow",
  "kernelspec": {
   "display_name": "Python (cvxpy)",
   "language": "python",
   "name": "cvxpy"
  },
  "language_info": {
   "codemirror_mode": {
    "name": "ipython",
    "version": 3
   },
   "file_extension": ".py",
   "mimetype": "text/x-python",
   "name": "python",
   "nbconvert_exporter": "python",
   "pygments_lexer": "ipython3",
   "version": "3.6.8"
  }
 },
 "nbformat": 4,
 "nbformat_minor": 2
}

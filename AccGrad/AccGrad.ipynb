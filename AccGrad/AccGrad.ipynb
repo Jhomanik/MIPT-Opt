{
 "cells": [
  {
   "cell_type": "markdown",
   "metadata": {
    "slideshow": {
     "slide_type": "slide"
    }
   },
   "source": [
    "# Beyond gradient descent, vol. 1 \n",
    "## Метод тяжёлого шарика и ускоренный метод Нестерова"
   ]
  },
  {
   "cell_type": "markdown",
   "metadata": {
    "slideshow": {
     "slide_type": "slide"
    }
   },
   "source": [
    "## На прошлом семинаре\n",
    "\n",
    "- Метод сопряжённых градиентов\n",
    "- Теоремы сходимости\n",
    "- Расширения для задач с произвольной гладкой выпуклой функцией\n",
    "- Концепция рестартов\n",
    "- Эксперименты"
   ]
  },
  {
   "cell_type": "markdown",
   "metadata": {
    "slideshow": {
     "slide_type": "slide"
    }
   },
   "source": [
    "## Оценки снизу: напоминание\n",
    "\n",
    "- Фиксируем класс функций $\\mathcal{F}$\n",
    "- Фиксируем класс методов оптимизации $\\mathcal{M}$\n",
    "- Ищем настолько плохую функцию из класса $\\mathcal{F}$, что любой метод из класса $\\mathcal{M}$ сходится не лучше, чем некоторая оценка\n",
    "- Такая оценка называется оценкой снизу"
   ]
  },
  {
   "cell_type": "markdown",
   "metadata": {
    "slideshow": {
     "slide_type": "slide"
    }
   },
   "source": [
    "## Пример\n",
    "### Фиксируем класс методов\n",
    "\n",
    "Рассмотрим такие методы, что\n",
    "\n",
    "$$\n",
    "x_{k+1} = x_0 + \\texttt{span}\\{f'(x_0), \\ldots, f'(x_k)\\}\n",
    "$$\n",
    "\n",
    "- Далее в рамках этого семинара для краткости только такие методы будем называть методами первого порядка\n",
    "- Весь последующий анализ **НЕ** применим, если \n",
    "\n",
    "$$\n",
    "x_{k+1} = x_0 + G(f'(x_0), \\ldots, f'(x_k)),\n",
    "$$\n",
    "\n",
    "где $G$ - некоторая нелинейная функция\n",
    "\n",
    "-  С такими методами мы познакомимся ближе к середине семестра"
   ]
  },
  {
   "cell_type": "markdown",
   "metadata": {
    "slideshow": {
     "slide_type": "slide"
    }
   },
   "source": [
    "### Фиксируем класс функций\n",
    "#### Выпуклые функции с липшицевым градиентом\n",
    "\n",
    "**Теорема.** Существует выпуклая функция с Липшицевым градиентом, такая что\n",
    "\n",
    "$$\n",
    "f(x_t) - f^* \\geq \\frac{3L\\|x_0 - x^*\\|_2^2}{32(t+1)^2},\n",
    "$$\n",
    "\n",
    "где $x_k = x_0 + \\texttt{span}\\{f'(x_0), \\ldots, f'(x_{k-1})\\}$, $1 \\leq k \\leq t$\n",
    "\n",
    "Привести пример такой функции и доказать эту теорему Вам надо в домашнем задании."
   ]
  },
  {
   "cell_type": "markdown",
   "metadata": {
    "slideshow": {
     "slide_type": "slide"
    }
   },
   "source": [
    "#### Сильно выпуклые функции с липшицевым градиентом\n",
    "\n",
    "**Теорема.** Существует сильно выпуклая функция с Липшицевым градиентом, такая что\n",
    "\n",
    "$$\n",
    "f(x_t) - f^* \\geq \\frac{\\mu}{2}\\left( \\frac{\\sqrt{\\kappa} - 1}{\\sqrt{\\kappa} + 1} \\right)^{2t}\\|x_0 - x^*\\|_2^2,\n",
    "$$\n",
    "\n",
    "где $\\kappa = \\frac{L}{\\mu}$ и $x_k = x_0 + \\texttt{span}\\{f'(x_0), \\ldots, f'(x_{k-1})\\}$, $1 \\leq k \\leq t$\n",
    "\n",
    "\n",
    "Привести пример такой функции и доказать эту теорему Вам надо в домашнем задании."
   ]
  },
  {
   "cell_type": "markdown",
   "metadata": {
    "slideshow": {
     "slide_type": "slide"
    }
   },
   "source": [
    "## Оценки сходимости известных методов\n",
    "### Оценки сходимости для градиентного спуска: напоминание\n",
    "\n",
    "- Пусть\n",
    "    - $f(x)$ дифференцируема на $\\mathbb{R}^n$\n",
    "    - $f(x)$ выпукла \n",
    "    - $f'(x)$ удовлетворяет условию Липшица с константой $L$\n",
    "    - $\\alpha = \\dfrac{1}{L}$\n",
    "\n",
    "    Тогда \n",
    "\n",
    "    $$\n",
    "    f(x_k) - f^* \\leq \\dfrac{2L \\| x_0 - x^*\\|^2_2}{k+4}\n",
    "    $$\n",
    "    \n",
    "- Пусть\n",
    "    - $f(x)$ дифференцируема на $\\mathbb{R}^n$, \n",
    "    - градиент $f(x)$ удовлетворяет условию Липшица с константой $L$\n",
    "    - $f(x)$ является сильно выпуклой с константой $\\mu$\n",
    "    - $\\alpha = \\dfrac{2}{\\mu + L}$\n",
    "\n",
    "    Тогда для градиентного спуска выполнено:\n",
    "\n",
    "    $$\n",
    "    \\| x_k - x^* \\|_2 \\leq \\left( \\dfrac{\\kappa - 1}{\\kappa + 1} \\right)^k \\|x_0 - x^*\\|_2\n",
    "    $$ \n",
    "    \n",
    "    $$f(x_k) - f^* \\leq \\dfrac{L}{2} \\left( \\dfrac{\\kappa - 1}{\\kappa + 1} \\right)^{2k} \\| x_0 - x^*\\|^2_2,\n",
    "    $$\n",
    "\n",
    "    где $\\kappa = \\frac{L}{\\mu}$"
   ]
  },
  {
   "cell_type": "markdown",
   "metadata": {
    "slideshow": {
     "slide_type": "slide"
    }
   },
   "source": [
    "### Оценки сходимости для метода сопряжённых градиентов: напоминание\n",
    "\n",
    "Для сильно выпуклой квадратичной функции\n",
    "\n",
    "$$\n",
    "f(x) = \\frac{1}{2}x^{\\top}Ax - b^{\\top}x\n",
    "$$ \n",
    "\n",
    "и метода сопряжённых градиентов справедлива следующая оценка сходимости \n",
    "\n",
    "\n",
    "$$\n",
    "2 (f_k - f^*) = \\| x_{k} - x^* \\|_A \\leq 2\\left( \\dfrac{\\sqrt{\\kappa(A)} - 1}{\\sqrt{\\kappa(A)} + 1} \\right)^k \\|x_0 - x^*\\|_A,\n",
    "$$\n",
    "\n",
    "где $\\kappa(A) = \\frac{\\lambda_1(A)}{\\lambda_n(A)} = \\frac{L}{\\mu}$ - число обусловленности матрицы $A$, $\\lambda_1(A) \\geq ... \\geq \\lambda_n(A) > 0$ - собственные значения матрицы $A$"
   ]
  },
  {
   "cell_type": "markdown",
   "metadata": {
    "slideshow": {
     "slide_type": "slide"
    }
   },
   "source": [
    "## Can we do better?\n",
    "\n",
    "Существует ли метод, который сходится в соответствии с нижними оценками для\n",
    "- произвольной сильно выпуклой функции с липшицевым градиентом (не только квадратичной)?\n",
    "- произвольной выпуклой функции с липшицевым градиентом?"
   ]
  },
  {
   "cell_type": "markdown",
   "metadata": {
    "slideshow": {
     "slide_type": "slide"
    }
   },
   "source": [
    "## Метод тяжёлого шарика (heavy-ball method)\n",
    "\n",
    "- [Предложен](http://www.mathnet.ru/links/453550bb5a36d7ff295e9a39c3333607/zvmmf7713.pdf) в 1964 г. [Б.Т. Поляком](https://scholar.google.ru/citations?user=Zhlib28AAAAJ&hl=ru&oi=ao)\n",
    "<img src=\"./polyak.jpeg\">\n",
    "- Для квадратичной целевой функции зигзагообразное поведение градиентного спуска обусловлено неоднородностью направлений\n",
    "- Давайте учитывать предыдущие направления для поиска новой точки\n",
    "- Метод тяжёлого шарика\n",
    "\n",
    "$$\n",
    "x_{k+1} = x_k - \\alpha_k f'(x_k) + {\\color{red}{\\beta_k(x_k - x_{k-1})}}\n",
    "$$\n",
    "\n",
    "- Помимо параметра шага вдоль антиградиента $\\alpha_k$ появился ещё один параметр $\\beta_k$"
   ]
  },
  {
   "cell_type": "markdown",
   "metadata": {
    "slideshow": {
     "slide_type": "slide"
    }
   },
   "source": [
    "### Геометрическая интерпретация метода тяжёлого шарика\n",
    "\n",
    "Картинка [отсюда](https://www.princeton.edu/~yc5/ele538_optimization/lectures/accelerated_gradient.pdf) \n",
    "<img src=\"./heavy_ball.png\" width=600 align=\"center\">"
   ]
  },
  {
   "cell_type": "markdown",
   "metadata": {
    "slideshow": {
     "slide_type": "slide"
    }
   },
   "source": [
    "### Теорема сходимости\n",
    "\n",
    "Пусть $f$ сильно выпукла с Липшицевым градиентом. Тогда для \n",
    "\n",
    "$$\n",
    "\\alpha_k = \\frac{4}{(\\sqrt{L} + \\sqrt{\\mu})^2}\n",
    "$$ \n",
    "\n",
    "и \n",
    "\n",
    "$$\n",
    "\\beta_k = \\max(|1 - \\sqrt{\\alpha_k L}|^2, |1 - \\sqrt{\\alpha_k \\mu}|^2)\n",
    "$$ \n",
    "\n",
    "справедлива следующая оценка сходимости\n",
    "\n",
    "$$ \n",
    "\\left\\| \\begin{bmatrix} x_{k+1} - x^* \\\\ x_k - x^* \\end{bmatrix} \\right\\|_2\n",
    "\\leq \n",
    "\\left( \\frac{\\sqrt{\\kappa} - 1}{\\sqrt{\\kappa} + 1} \\right)^k \\left \\|\n",
    "\\begin{bmatrix} x_1 - x^* \\\\ x_0 - x^* \\end{bmatrix}\n",
    "\\right \\|_2\n",
    "$$\n",
    "\n",
    "- Совпадает с оценкой снизу для методов первого порядка!\n",
    "- Оптимальные параметры $\\alpha_k$ и $\\beta_k$ определяются через **неизвестные** константы $L$ и $\\mu$"
   ]
  },
  {
   "cell_type": "markdown",
   "metadata": {
    "slideshow": {
     "slide_type": "slide"
    }
   },
   "source": [
    "### Схема доказательства\n",
    "\n",
    "- Перепишем метод как \n",
    "\n",
    "\\begin{align*}\n",
    "\\begin{bmatrix} x_{k+1}\\\\ x_k \\end{bmatrix} = \\begin{bmatrix} (1 + \\beta_k)I & -\\beta_k I\\\\ I & 0 \\end{bmatrix} \\begin{bmatrix} x_k\\\\ x_{k-1} \\end{bmatrix} + \\begin{bmatrix} -\\alpha_k f'(x_k)\\\\ 0 \\end{bmatrix}\n",
    "\\end{align*}\n",
    "\n",
    "- Используем теорему из анализа\n",
    "\n",
    "\\begin{align*}\n",
    "\\begin{bmatrix} x_{k+1} - x^*\\\\ x_k - x^* \\end{bmatrix} = \\underbrace{ \\begin{bmatrix} (1 + \\beta_k)I - \\alpha_k \\int_0^1 f''(x(\\tau))d\\tau & -\\beta_k I\\\\ I & 0 \\end{bmatrix}}_{=A_k}\\begin{bmatrix} x_k - x^*\\\\ x_{k-1} - x^*\\end{bmatrix},\n",
    "\\end{align*}\n",
    "\n",
    "где $x(\\tau) = x_k + \\tau(x^* - x_k) $\n",
    "- В силу интегральной теоремы о среднем $A_k(x) = \\int_0^1 f''(x(\\tau))d\\tau = f''(z)$, поэтому $L$ и $\\mu$ ограничивают спектр $A_k(x)$\n",
    "- Сходимость зависит от спектрального радиуса матрицы итераций $A_k$"
   ]
  },
  {
   "cell_type": "markdown",
   "metadata": {
    "slideshow": {
     "slide_type": "slide"
    }
   },
   "source": [
    "- Получим оценку на спектр $A_k$\n",
    "\n",
    "$$\n",
    "A_k = \\begin{bmatrix} (1 + \\beta_k)I - \\alpha_k A(x_k) & -\\beta_k I \\\\ I & 0 \\end{bmatrix}\n",
    "$$\n",
    "\n",
    "- Пусть $A(x_k) = U\\Lambda(x_k) U^{\\top}$, поскольку гессиан - симметричная матрица, тогда\n",
    "\n",
    "$$\n",
    "\\begin{bmatrix} U^{\\top} & 0 \\\\ 0 & U^{\\top} \\end{bmatrix} \\begin{bmatrix} (1 + \\beta_k)I - \\alpha_k A(x_k) & -\\beta_k I \\\\ I & 0 \\end{bmatrix} \\begin{bmatrix} U & 0\\\\ 0 & U \\end{bmatrix} = \\begin{bmatrix} (1 + \\beta_k)I - \\alpha_k \\Lambda(x_k) & -\\beta_k I \\\\ I & 0 \\end{bmatrix} = \\hat{A}_k\n",
    "$$\n",
    "\n",
    "- Ортогональное преобразование не меняет спектральный радиус матрицы\n",
    "- Далее сделаем перестановку строк и столбцов так, чтобы \n",
    "\n",
    "$$\n",
    "\\hat{A}_k \\simeq \\mathrm{diag}(T_1, \\ldots, T_n),\n",
    "$$\n",
    "\n",
    "где $T_i = \\begin{bmatrix} 1 + \\beta_k - \\alpha_k \\lambda_i & -\\beta_k \\\\ 1 & 0 \\end{bmatrix}$ и $\\simeq$ обозначает равенство спектральных радиусов поскольку матрица перестановки является ортогональной\n",
    "\n",
    "- Покажем как сделать такую перестановку на примере матрицы $4 \\times 4$\n",
    "\n",
    "$$ \n",
    "\\begin{bmatrix}a & 0 & c & 0 \\\\ 0 & b & 0 & c \\\\ 1 & 0 & 0 & 0\\\\ 0 & 1 & 0 & 0 \\end{bmatrix} \\rightarrow \\begin{bmatrix}a & 0 & c & 0 \\\\ 1 & 0 & 0 & 0 \\\\ 0 & b & 0 & c \\\\ 0 & 1 & 0 & 0 \\end{bmatrix} \\to \\begin{bmatrix}a & c & 0 & 0 \\\\ 1 & 0 & 0 & 0 \\\\ 0 & 0 & b & c \\\\ 0 & 0 & 1 & 0 \\end{bmatrix}\n",
    "$$\n",
    "\n",
    "- Свели задачу к оценке спектрального радиуса блочно-диагональной матрицы $\\hat{A}_k$\n"
   ]
  },
  {
   "cell_type": "markdown",
   "metadata": {
    "slideshow": {
     "slide_type": "slide"
    }
   },
   "source": [
    "- $\\rho(\\hat{A}_k) = \\max\\limits_{i=1,\\ldots,n} \\{ |\\lambda_1(T_i)|, |\\lambda_2(T_i)|\\} $\n",
    "- Характеристическое уравнение для $T_i$\n",
    "\n",
    "$$\n",
    "\\beta_k - u (1 + \\beta_k - \\alpha_k \\lambda_i - u) = 0 \\quad u^2 - u(1 + \\beta_k - \\alpha_k\\lambda_i) + \\beta_k = 0\n",
    "$$\n",
    "- Дальнейшее изучение распределения корней и их границ даёт оценку из условия теоремы"
   ]
  },
  {
   "cell_type": "markdown",
   "metadata": {
    "slideshow": {
     "slide_type": "slide"
    }
   },
   "source": [
    "### Эксперименты\n",
    "\n",
    "### Тестовая задача 1\n",
    "\n",
    "$$\n",
    "f(x) = \\frac{1}{2}x^{\\top}Ax - b^{\\top}x \\to \\min_x,\n",
    "$$\n",
    "\n",
    "где матрица $A$ плохо обусловлена, но положительно определена!"
   ]
  },
  {
   "cell_type": "code",
   "execution_count": 2,
   "metadata": {
    "slideshow": {
     "slide_type": "slide"
    }
   },
   "outputs": [],
   "source": [
    "import liboptpy.base_optimizer as base\n",
    "import numpy as np\n",
    "import liboptpy.unconstr_solvers.fo as fo\n",
    "import liboptpy.step_size as ss\n",
    "\n",
    "class HeavyBall(base.LineSearchOptimizer):\n",
    "    def __init__(self, f, grad, step_size, beta, **kwargs):\n",
    "        super().__init__(f, grad, step_size, **kwargs)\n",
    "        self._beta = beta\n",
    "    \n",
    "    def get_direction(self, x):\n",
    "        self._current_grad = self._grad(x)\n",
    "        return -self._current_grad\n",
    "\n",
    "    def _f_update_x_next(self, x, alpha, h):\n",
    "        if len(self.convergence) < 2:\n",
    "            return x + alpha * h\n",
    "        else:\n",
    "            return x + alpha * h + self._beta * (x - self.convergence[-2])\n",
    "    \n",
    "    def get_stepsize(self):\n",
    "        return self._step_size.get_stepsize(self._grad_mem[-1], self.convergence[-1], len(self.convergence))"
   ]
  },
  {
   "cell_type": "code",
   "execution_count": 31,
   "metadata": {
    "slideshow": {
     "slide_type": "slide"
    }
   },
   "outputs": [
    {
     "name": "stdout",
     "output_type": "stream",
     "text": [
      "54.636484491885916 0.02002751288267095\n",
      "Condition number = 2728.0713692193303\n",
      "0.07048629085801521 0.9262674012263596\n"
     ]
    }
   ],
   "source": [
    "np.random.seed(42)\n",
    "n = 20\n",
    "A = np.random.randn(n, n)\n",
    "A = A.T.dot(A)\n",
    "x_true = np.random.randn(n)\n",
    "b = A.dot(x_true)\n",
    "f = lambda x: 0.5 * x.dot(A.dot(x)) - b.dot(x)\n",
    "grad = lambda x: A.dot(x) - b\n",
    "A_eigvals = np.linalg.eigvalsh(A)\n",
    "L = np.max(A_eigvals)\n",
    "mu = np.min(A_eigvals)\n",
    "print(L, mu)\n",
    "print(\"Condition number = {}\".format(L / mu))\n",
    "alpha_opt = 4 / (np.sqrt(L) + np.sqrt(mu))**2 \n",
    "beta_opt = np.maximum((1 - np.sqrt(alpha_opt * L))**2, \n",
    "                      (1 - np.sqrt(alpha_opt * mu))**2)\n",
    "print(alpha_opt, beta_opt)\n",
    "beta_test = 0.95"
   ]
  },
  {
   "cell_type": "code",
   "execution_count": 35,
   "metadata": {
    "slideshow": {
     "slide_type": "slide"
    }
   },
   "outputs": [],
   "source": [
    "methods = {\n",
    "    \"GD fixed\": fo.GradientDescent(f, grad, ss.ConstantStepSize(1 / L)),\n",
    "    \"GD Armijo\": fo.GradientDescent(f, grad, \n",
    "            ss.Backtracking(\"Armijo\", rho=0.5, beta=0.1, init_alpha=1.)),\n",
    "    r\"HB, $\\beta = {}$\".format(beta_test): HeavyBall(f, grad, ss.ConstantStepSize(1 / L), beta=beta_test),\n",
    "    \"HB optimal\": HeavyBall(f, grad, ss.ConstantStepSize(alpha_opt), beta = beta_opt),\n",
    "    \"CG\": fo.ConjugateGradientQuad(A, b)\n",
    "}\n",
    "x0 = np.random.randn(n)\n",
    "max_iter = 1500\n",
    "tol = 1e-6"
   ]
  },
  {
   "cell_type": "code",
   "execution_count": 36,
   "metadata": {
    "slideshow": {
     "slide_type": "slide"
    }
   },
   "outputs": [],
   "source": [
    "for m in methods:\n",
    "    _ = methods[m].solve(x0=x0, max_iter=max_iter, tol=tol)"
   ]
  },
  {
   "cell_type": "code",
   "execution_count": 37,
   "metadata": {
    "slideshow": {
     "slide_type": "slide"
    }
   },
   "outputs": [
    {
     "data": {
      "image/png": "[encoded data removed]",
      "text/plain": [
       "<Figure size 720x576 with 1 Axes>"
      ]
     },
     "metadata": {},
     "output_type": "display_data"
    }
   ],
   "source": [
    "import matplotlib.pyplot as plt\n",
    "%matplotlib inline\n",
    "plt.rc(\"text\", usetex=True)\n",
    "\n",
    "figsize = (10, 8)\n",
    "fontsize = 26\n",
    "plt.figure(figsize=figsize)\n",
    "for m in methods:\n",
    "    plt.semilogy([np.linalg.norm(grad(x)) for x in methods[m].get_convergence()], label=m)\n",
    "plt.legend(fontsize=fontsize, loc=\"best\")\n",
    "plt.xlabel(\"Number of iteration, $k$\", fontsize=fontsize)\n",
    "plt.ylabel(r\"$\\| f'(x_k)\\|_2$\", fontsize=fontsize)\n",
    "plt.xticks(fontsize=fontsize)\n",
    "_ = plt.yticks(fontsize=fontsize)"
   ]
  },
  {
   "cell_type": "code",
   "execution_count": 38,
   "metadata": {
    "slideshow": {
     "slide_type": "slide"
    }
   },
   "outputs": [
    {
     "name": "stdout",
     "output_type": "stream",
     "text": [
      "GD fixed\n",
      "25.6 ms ± 992 µs per loop (mean ± std. dev. of 7 runs, 10 loops each)\n",
      "GD Armijo\n",
      "216 ms ± 9.08 ms per loop (mean ± std. dev. of 7 runs, 1 loop each)\n",
      "HB, $\\beta = 0.95$\n",
      "21.3 ms ± 959 µs per loop (mean ± std. dev. of 7 runs, 10 loops each)\n",
      "HB optimal\n",
      "11.2 ms ± 82.5 µs per loop (mean ± std. dev. of 7 runs, 100 loops each)\n",
      "CG\n",
      "821 µs ± 4.2 µs per loop (mean ± std. dev. of 7 runs, 1000 loops each)\n"
     ]
    }
   ],
   "source": [
    "for m in methods:\n",
    "    print(m)\n",
    "    %timeit methods[m].solve(x0=x0, max_iter=max_iter, tol=tol)"
   ]
  },
  {
   "cell_type": "markdown",
   "metadata": {
    "slideshow": {
     "slide_type": "slide"
    }
   },
   "source": [
    "#### Тестовая задача 2\n",
    "\n",
    "$$\n",
    "f(x) = - \\sum_{i=1}^m \\log(1 - a_i^{\\top}x) - \\sum_{i = 1}^n \\log (1 - x^2_i) \\to \\min_x\n",
    "$$"
   ]
  },
  {
   "cell_type": "code",
   "execution_count": 125,
   "metadata": {
    "slideshow": {
     "slide_type": "slide"
    }
   },
   "outputs": [],
   "source": [
    "n = 100\n",
    "m = 200\n",
    "x0 = np.zeros(n)\n",
    "A = np.random.rand(n, m)\n",
    "\n",
    "f = lambda x: -np.sum(np.log(1 - A.T.dot(x))) - np.sum(np.log(1 - x*x))\n",
    "grad = lambda x: np.sum(A.dot(np.diagflat(1 / (1 - A.T.dot(x)))), \\\n",
    "                          axis=1) + 2 * x / (1 - np.power(x, 2))"
   ]
  },
  {
   "cell_type": "code",
   "execution_count": 132,
   "metadata": {
    "slideshow": {
     "slide_type": "slide"
    }
   },
   "outputs": [],
   "source": [
    "alpha_test = 1e-3\n",
    "beta_test = 0.9\n",
    "\n",
    "methods = {\n",
    "    r\"GD, $\\alpha_k = {}$\".format(alpha_test): fo.GradientDescent(f, grad, ss.ConstantStepSize(alpha_test)),\n",
    "    \"GD Armijo\": fo.GradientDescent(f, grad, \n",
    "            ss.Backtracking(\"Armijo\", rho=0.7, beta=0.1, init_alpha=1.)),\n",
    "    r\"HB, $\\beta = {}$\".format(beta_test): HeavyBall(f, grad, ss.ConstantStepSize(alpha_test), beta=beta_test),\n",
    "    \"CG FR\": fo.ConjugateGradientFR(f, grad, \n",
    "            ss.Backtracking(\"Armijo\", rho=0.7, beta=0.001, init_alpha=1.))\n",
    "}\n",
    "# x0 = np.random.rand(n)\n",
    "x0 = np.zeros(n)\n",
    "max_iter = 400\n",
    "tol = 1e-5"
   ]
  },
  {
   "cell_type": "code",
   "execution_count": 133,
   "metadata": {
    "slideshow": {
     "slide_type": "slide"
    }
   },
   "outputs": [
    {
     "name": "stdout",
     "output_type": "stream",
     "text": [
      "GD, $\\alpha_k = 0.001$\n",
      "GD Armijo\n",
      "HB, $\\beta = 0.9$\n"
     ]
    },
    {
     "name": "stderr",
     "output_type": "stream",
     "text": [
      "/Users/alex/anaconda3/envs/cvxpy/lib/python3.6/site-packages/ipykernel_launcher.py:6: RuntimeWarning: invalid value encountered in log\n",
      "  \n"
     ]
    },
    {
     "name": "stdout",
     "output_type": "stream",
     "text": [
      "CG FR\n"
     ]
    }
   ],
   "source": [
    "for m in methods:\n",
    "    print(m)\n",
    "    _ = methods[m].solve(x0=x0, max_iter=max_iter, tol=tol)"
   ]
  },
  {
   "cell_type": "code",
   "execution_count": 134,
   "metadata": {
    "slideshow": {
     "slide_type": "slide"
    }
   },
   "outputs": [
    {
     "data": {
      "image/png": "[encoded data removed]",
      "text/plain": [
       "<Figure size 720x576 with 1 Axes>"
      ]
     },
     "metadata": {},
     "output_type": "display_data"
    }
   ],
   "source": [
    "figsize = (10, 8)\n",
    "fontsize = 26\n",
    "plt.figure(figsize=figsize)\n",
    "for m in methods:\n",
    "    plt.semilogy([np.linalg.norm(grad(x)) for x in methods[m].get_convergence()], label=m)\n",
    "plt.legend(fontsize=fontsize, loc=\"best\")\n",
    "plt.xlabel(\"Number of iteration, $k$\", fontsize=fontsize)\n",
    "plt.ylabel(r\"$\\| f'(x_k)\\|_2$\", fontsize=fontsize)\n",
    "plt.xticks(fontsize=fontsize)\n",
    "_ = plt.yticks(fontsize=fontsize)"
   ]
  },
  {
   "cell_type": "code",
   "execution_count": 135,
   "metadata": {
    "slideshow": {
     "slide_type": "slide"
    }
   },
   "outputs": [
    {
     "name": "stdout",
     "output_type": "stream",
     "text": [
      "GD, $\\alpha_k = 0.001$\n",
      "79.6 ms ± 4.07 ms per loop (mean ± std. dev. of 7 runs, 10 loops each)\n",
      "GD Armijo\n"
     ]
    },
    {
     "name": "stderr",
     "output_type": "stream",
     "text": [
      "/Users/alex/anaconda3/envs/cvxpy/lib/python3.6/site-packages/ipykernel_launcher.py:6: RuntimeWarning: invalid value encountered in log\n",
      "  \n"
     ]
    },
    {
     "name": "stdout",
     "output_type": "stream",
     "text": [
      "14.8 ms ± 106 µs per loop (mean ± std. dev. of 7 runs, 100 loops each)\n",
      "HB, $\\beta = 0.9$\n",
      "57.9 ms ± 2.74 ms per loop (mean ± std. dev. of 7 runs, 10 loops each)\n",
      "CG FR\n"
     ]
    },
    {
     "name": "stderr",
     "output_type": "stream",
     "text": [
      "/Users/alex/anaconda3/envs/cvxpy/lib/python3.6/site-packages/ipykernel_launcher.py:6: RuntimeWarning: invalid value encountered in log\n",
      "  \n"
     ]
    },
    {
     "name": "stdout",
     "output_type": "stream",
     "text": [
      "107 ms ± 4.18 ms per loop (mean ± std. dev. of 7 runs, 10 loops each)\n"
     ]
    }
   ],
   "source": [
    "for m in methods:\n",
    "    print(m)\n",
    "    %timeit methods[m].solve(x0=x0, max_iter=max_iter, tol=tol)"
   ]
  },
  {
   "cell_type": "markdown",
   "metadata": {
    "slideshow": {
     "slide_type": "slide"
    }
   },
   "source": [
    "### Главное про метод тяжёлого шарика\n",
    "\n",
    "- Двухшаговый метод\n",
    "- Не обязательно монотонный\n",
    "- Параметры зависят от неизвестных констант\n",
    "- Решает проблему осцилляций для плохо обусловленных задач\n",
    "- Сходимость для сильно выпуклых функций совпадает с оптимальной оценкой"
   ]
  },
  {
   "cell_type": "markdown",
   "metadata": {
    "slideshow": {
     "slide_type": "slide"
    }
   },
   "source": [
    "## Ускоренный метод Нестерова\n",
    "\n",
    "-  [Предложен](http://vsokolov.org/courses/750/files/nesterov.pdf) в 1983 г. [Ю.Е. Нестеровым](https://scholar.google.ru/citations?user=DJ8Ep8YAAAAJ&hl=ru&oi=ao)\n",
    "<img src=\"./nesterov.jpeg\">\n",
    "- Одна из возможных форм записи \n",
    "\n",
    "\\begin{equation*}\n",
    "\\begin{split}\n",
    "& y_0 = x_0 \\\\\n",
    "& x_{k+1} = y_k - \\alpha_k f'(y_k)\\\\\n",
    "& y_{k+1} = x_{k+1} + \\frac{k}{k + 3} (x_{k+1} - x_k)\n",
    "\\end{split}\n",
    "\\end{equation*}\n",
    "\n",
    "- Сравните с методом тяжёлого шарика\n",
    "- Tакже не обязательно монотонен\n",
    "- Для любителей геометрии есть альтернативный метод под названием [geometric descent](https://arxiv.org/pdf/1506.08187.pdf) с такой же скоростью сходимости "
   ]
  },
  {
   "cell_type": "markdown",
   "metadata": {
    "slideshow": {
     "slide_type": "slide"
    }
   },
   "source": [
    "### Геометрическая интерпретация ускоренного метода Нестерова\n",
    "\n",
    "<img src=\"nesterov_plot.png\" width=600>"
   ]
  },
  {
   "cell_type": "markdown",
   "metadata": {
    "slideshow": {
     "slide_type": "slide"
    }
   },
   "source": [
    "## Теорема сходимости\n",
    "\n",
    "- Пусть $f$ выпукла с Липшицевым градиентом, а шаг $\\alpha_k = \\frac{1}{L}$. Тогда ускоренный метод Нестерова сходится как \n",
    "\n",
    "$$\n",
    "f(x_k) - f^* \\leq \\frac{2L \\|x_0 - x^*\\|_2^2}{(k+1)^2}\n",
    "$$ \n",
    "\n",
    "- Пусть $f$ сильно выпукла с липшицевым градиентом. Тогда ускоренный метод Нестерова при шаге $\\alpha_k = \\frac{1}{L}$ сходится как\n",
    "\n",
    "$$\n",
    "f(x_k) - f^* \\leq L\\|x_k - x_0\\|_2^2 \\left(1 - \\frac{1}{\\sqrt{\\kappa}} \\right)^k\n",
    "$$"
   ]
  },
  {
   "cell_type": "markdown",
   "metadata": {
    "slideshow": {
     "slide_type": "slide"
    }
   },
   "source": [
    "### Тестовая задача \n",
    "\n",
    "$$\n",
    "f(x) = \\frac{1}{2}x^{\\top}Ax - b^{\\top}x \\to \\min_x,\n",
    "$$\n",
    "\n",
    "где матрица $A$ положительно полуопределённая, то есть функция **НЕ** является сильно выпуклой"
   ]
  },
  {
   "cell_type": "code",
   "execution_count": 143,
   "metadata": {
    "slideshow": {
     "slide_type": "slide"
    }
   },
   "outputs": [
    {
     "name": "stdout",
     "output_type": "stream",
     "text": [
      "388.0518297880793 -2.744439492133101e-14\n"
     ]
    }
   ],
   "source": [
    "np.random.seed(42)\n",
    "n = 100\n",
    "A = np.random.randn(n, n)\n",
    "A = A.T.dot(A)\n",
    "A_eigvals = np.linalg.eigvalsh(A)\n",
    "mu = np.min(A_eigvals)\n",
    "A = A - mu * np.eye(n)\n",
    "x_true = np.random.randn(n)\n",
    "b = A.dot(x_true)\n",
    "f = lambda x: 0.5 * x.dot(A.dot(x)) - b.dot(x)\n",
    "grad = lambda x: A.dot(x) - b\n",
    "A_eigvals = np.linalg.eigvalsh(A)\n",
    "L = np.max(A_eigvals)\n",
    "mu = np.min(A_eigvals)\n",
    "print(L, mu)"
   ]
  },
  {
   "cell_type": "code",
   "execution_count": 156,
   "metadata": {
    "slideshow": {
     "slide_type": "slide"
    }
   },
   "outputs": [],
   "source": [
    "beta_test = 0.9\n",
    "methods = {\n",
    "    \"GD fixed\": fo.GradientDescent(f, grad, ss.ConstantStepSize(1 / L)),\n",
    "    \"GD Armijo\": fo.GradientDescent(f, grad, \n",
    "            ss.Backtracking(\"Armijo\", rho=0.5, beta=0.1, init_alpha=1.)),\n",
    "    r\"HB, $\\beta = {}$\".format(beta_test): HeavyBall(f, grad, ss.ConstantStepSize(1 / L), beta=beta_test),\n",
    "    \"Nesterov\": fo.AcceleratedGD(f, grad, ss.ConstantStepSize(1 / L))\n",
    "}\n",
    "x0 = np.random.randn(n)\n",
    "max_iter = 2000\n",
    "tol = 1e-6"
   ]
  },
  {
   "cell_type": "code",
   "execution_count": 157,
   "metadata": {
    "slideshow": {
     "slide_type": "slide"
    }
   },
   "outputs": [],
   "source": [
    "for m in methods:\n",
    "    _ = methods[m].solve(x0=x0, max_iter=max_iter, tol=tol)"
   ]
  },
  {
   "cell_type": "code",
   "execution_count": 158,
   "metadata": {
    "slideshow": {
     "slide_type": "slide"
    }
   },
   "outputs": [
    {
     "data": {
      "image/png": "[encoded data removed]",
      "text/plain": [
       "<Figure size 720x576 with 1 Axes>"
      ]
     },
     "metadata": {},
     "output_type": "display_data"
    }
   ],
   "source": [
    "figsize = (10, 8)\n",
    "fontsize = 26\n",
    "plt.figure(figsize=figsize)\n",
    "for m in methods:\n",
    "    plt.semilogy([np.linalg.norm(grad(x)) for x in methods[m].get_convergence()], label=m)\n",
    "plt.legend(fontsize=fontsize, loc=\"best\")\n",
    "plt.xlabel(\"Number of iteration, $k$\", fontsize=fontsize)\n",
    "plt.ylabel(r\"$\\| f'(x_k)\\|_2$\", fontsize=fontsize)\n",
    "plt.xticks(fontsize=fontsize)\n",
    "_ = plt.yticks(fontsize=fontsize)"
   ]
  },
  {
   "cell_type": "code",
   "execution_count": 159,
   "metadata": {
    "slideshow": {
     "slide_type": "slide"
    }
   },
   "outputs": [
    {
     "name": "stdout",
     "output_type": "stream",
     "text": [
      "GD fixed\n",
      "55.8 ms ± 658 µs per loop (mean ± std. dev. of 7 runs, 10 loops each)\n",
      "GD Armijo\n",
      "847 ms ± 9.84 ms per loop (mean ± std. dev. of 7 runs, 1 loop each)\n",
      "HB, $\\beta = 0.9$\n",
      "61.3 ms ± 873 µs per loop (mean ± std. dev. of 7 runs, 10 loops each)\n",
      "Nesterov\n",
      "88.3 ms ± 9.18 ms per loop (mean ± std. dev. of 7 runs, 10 loops each)\n"
     ]
    }
   ],
   "source": [
    "for m in methods:\n",
    "    print(m)\n",
    "    %timeit methods[m].solve(x0=x0, max_iter=max_iter, tol=tol)"
   ]
  },
  {
   "cell_type": "markdown",
   "metadata": {
    "slideshow": {
     "slide_type": "slide"
    }
   },
   "source": [
    "### Главное про ускоренный метод Нестерова\n",
    "\n",
    "- Теоретически оптимальная скорость сходимости для выпуклых и сильно выпуклых функций\n",
    "- Необходимо подбирать шаг (один из вариантов ниже)\n",
    "- Волнообразное поведение может быть подавлено с помощью [рестартов](https://arxiv.org/pdf/1204.3982.pdf)\n",
    "- Нелинейные композиции градиентов могут дать более быстрые на практике методы (см самое начало семинара)\n",
    "- Оригинальное доказательство сложно понять на интуитивном уровне, есть гораздо более простые подходы, будут рассказаны позднее"
   ]
  },
  {
   "cell_type": "markdown",
   "metadata": {
    "slideshow": {
     "slide_type": "slide"
    }
   },
   "source": [
    "## Адаптивный выбор константы $L$"
   ]
  },
  {
   "cell_type": "code",
   "execution_count": null,
   "metadata": {
    "slideshow": {
     "slide_type": "slide"
    }
   },
   "outputs": [],
   "source": []
  },
  {
   "cell_type": "markdown",
   "metadata": {
    "slideshow": {
     "slide_type": "slide"
    }
   },
   "source": [
    "## Эксперименты"
   ]
  },
  {
   "cell_type": "code",
   "execution_count": null,
   "metadata": {
    "slideshow": {
     "slide_type": "slide"
    }
   },
   "outputs": [],
   "source": []
  },
  {
   "cell_type": "markdown",
   "metadata": {
    "slideshow": {
     "slide_type": "slide"
    }
   },
   "source": [
    "## Резюме\n",
    "\n",
    "- Нижние оценки для методов первого порядка\n",
    "- Метод тяжёлого шарика\n",
    "- Ускоренный метод Нестерова\n",
    "- Поиск константы Липшица $L$ градиента"
   ]
  }
 ],
 "metadata": {
  "celltoolbar": "Slideshow",
  "kernelspec": {
   "display_name": "Python 3 (cvxpy)",
   "language": "python",
   "name": "cvxpy"
  },
  "language_info": {
   "codemirror_mode": {
    "name": "ipython",
    "version": 3
   },
   "file_extension": ".py",
   "mimetype": "text/x-python",
   "name": "python",
   "nbconvert_exporter": "python",
   "pygments_lexer": "ipython3",
   "version": "3.6.8"
  }
 },
 "nbformat": 4,
 "nbformat_minor": 2
}

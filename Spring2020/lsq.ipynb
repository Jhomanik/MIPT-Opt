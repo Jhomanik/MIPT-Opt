{
 "cells": [
  {
   "cell_type": "markdown",
   "metadata": {
    "slideshow": {
     "slide_type": "slide"
    }
   },
   "source": [
    "# Задача наименьших квадратов (Least Squares Problem)"
   ]
  },
  {
   "cell_type": "markdown",
   "metadata": {
    "slideshow": {
     "slide_type": "slide"
    }
   },
   "source": [
    "## Постановка задачи\n",
    "\n",
    "1. **Широкая:** пусть даны $m$ пар измерениий $(x_i, y_i)$, где $ x_i \\in \\mathbb{R}^n, \\; y_i \\in \\mathbb{R}^p$. Найти такую функцию $f$, что \n",
    "\n",
    "$$\n",
    "\\frac{1}{2}\\|f(x_i) - y_i \\|^2_2 \\to \\min\n",
    "$$\n",
    "\n",
    "2. **Уже:** пусть даны $m$ пар измерениий $(x_i, y_i)$, где $ x_i \\in \\mathbb{R}^n, \\; y_i \\in \\mathbb{R}^p$. Найти такую *параметрическую* функцию $f(x, w)$, что \n",
    "\n",
    "$$\n",
    "\\frac{1}{2}\\|f(x_i, w) - y_i \\|^2_2 \\to \\min_w\n",
    "$$\n",
    "\n",
    "3. **Ещё уже:** пусть даны $m$ пар измерениий $(x_i, y_i)$, где $ x_i \\in \\mathbb{R}^n, \\; y_i \\in \\mathbb{R}$. Найти такую *параметрическую* функцию $f(x, w)$, что \n",
    "\n",
    "$$\n",
    "\\frac{1}{2} \\sum_{i=1}^m(f(x_i, w) - y_i )^2 \\to \\min_w\n",
    "$$"
   ]
  },
  {
   "cell_type": "markdown",
   "metadata": {
    "slideshow": {
     "slide_type": "slide"
    }
   },
   "source": [
    "## Линейный случай\n",
    "\n",
    "Рассмотрим случай линейной зависимости между измерениями $x_i \\in \\mathbb{R}^n$ и $y_i \\in \\mathbb{R}, \\; i = 1,\\ldots, m$.\n",
    "\n",
    "Тогда\n",
    "\n",
    "$$\n",
    "f(x, w) = x^{\\top}w\n",
    "$$\n",
    "\n",
    "или\n",
    "\n",
    "$$\n",
    "f(X, W) = XW\n",
    "$$\n",
    "\n",
    "Задача наименьших квадратов формулируется в виде\n",
    "\n",
    "$$\n",
    "L(w|X, y) = \\frac{1}{2}\\sum\\limits_{i=1}^m (x^{\\top}_i w - y_i)^2 = \\frac{1}{2}\\|Xw - y \\|^2_2 \\to \\min_w\n",
    "$$\n",
    "\n",
    "**Замечание.** Везде далее $m \\geq n$ и $\\mathrm{rank}(X) = n$ кроме специально оговоренных случаев"
   ]
  },
  {
   "cell_type": "markdown",
   "metadata": {
    "slideshow": {
     "slide_type": "slide"
    }
   },
   "source": [
    "### Нормальное уравнение\n",
    "\n",
    "Из необходимого условия минимума первого порядка и выпуклости нормы следует, что \n",
    "\n",
    "$$\n",
    "L'(w^* | X, y) = 0 \\Rightarrow (X^{\\top}X)w^* = X^{\\top}y\n",
    "$$\n",
    "\n",
    "или\n",
    "\n",
    "$$\n",
    "w^* = (X^{\\top}X)^{-1}X^{\\top}y = X^+y = X^{\\dagger}y,\n",
    "$$\n",
    "\n",
    "где $X^{\\dagger} = X^+ = (X^{\\top}X)^{-1}X^{\\top}$ - *псевдообратная матрица*.\n",
    "\n",
    "**Замечение:** убедитесь, что Вы можете вывести выражение для $w^*$!\n",
    "\n",
    "**Вопрос:** к какой задаче сведена задача оптимизации?"
   ]
  },
  {
   "cell_type": "markdown",
   "metadata": {
    "slideshow": {
     "slide_type": "slide"
    }
   },
   "source": [
    "### Прямые методы"
   ]
  },
  {
   "cell_type": "markdown",
   "metadata": {
    "slideshow": {
     "slide_type": "slide"
    }
   },
   "source": [
    "#### Разложение Холецкого\n",
    "\n",
    "**Определение.** Любая матрица $A \\in \\mathbb{S}^n_{++}$ имеет единственное разложение Холецкого:\n",
    "\n",
    "$$\n",
    "A = LL^{\\top},\n",
    "$$\n",
    "\n",
    "где $L$ - нижнетреугольная матрица.\n",
    "\n",
    "Алгоритм:\n",
    "1. Вычислить $X^{\\top}X$ и $X^{\\top}y$\n",
    "2. Вычислить разложение Холецкого матрицы $X^{\\top}X$\n",
    "3. Найти $w^*$ прямой и обратной подстановкой"
   ]
  },
  {
   "cell_type": "markdown",
   "metadata": {
    "slideshow": {
     "slide_type": "slide"
    }
   },
   "source": [
    "### Pro & contra\n",
    "\n",
    "Pro \n",
    "\n",
    "- при $m \\gg n$ хранение $X^{\\top}X$ требует намного меньше памяти, чем хранение $X$\n",
    "- если матрица $X$ разреженная, существуют методы также дающие разреженное разложение Холецкого \n",
    "\n",
    "Contra\n",
    "\n",
    "- число обусловленности $X^{\\top}X$ равно квадрату числа обусловленности $X$. Ошибка пропорциональна обусловленности.\n",
    "- необходимо вычислить $X^{\\top}X$"
   ]
  },
  {
   "cell_type": "markdown",
   "metadata": {
    "slideshow": {
     "slide_type": "slide"
    }
   },
   "source": [
    "#### QR разложение\n",
    "\n",
    "**Определение.** Любую матрицу $A \\in \\mathbb{R}^{m \\times n}$ можно представить в виде\n",
    "\n",
    "$$\n",
    "A = QR,\n",
    "$$\n",
    "\n",
    "где $Q \\in \\mathbb{R}^{m \\times m}$ - ортогональная матрица, а $R \\in \\mathbb{R}^{m \\times n}$ - прямоугольная верхнетреугольная."
   ]
  },
  {
   "cell_type": "markdown",
   "metadata": {
    "slideshow": {
     "slide_type": "slide"
    }
   },
   "source": [
    "#### Применение\n",
    "\n",
    "1. Вычислить QR разложение матрицы $X$: $X = QR$.\n",
    "2. $Q = [Q_1, Q_2]$, $Q_1 \\in \\mathbb{R}^{m \\times n}$,\n",
    "$R = \n",
    "\\begin{bmatrix}\n",
    "R_1\\\\\n",
    "0\n",
    "\\end{bmatrix}$,\n",
    "$R_1 \\in \\mathbb{R}^{n \\times n}$ - квадратная верхнетреугольная матрица\n",
    "2. Задача примет вид: \n",
    "\n",
    "$$\n",
    "\\|R_1w - Q_1^{\\top}y \\|^2_2 \\to \\min_w\n",
    "$$\n",
    "\n",
    "и нормальное уравнение\n",
    "\n",
    "$$\n",
    "R_1w^* = Q_1^{\\top}y\n",
    "$$\n",
    "\n",
    "Получили уравнение с квадратной верхнетреугольной матрицей, которое легко решается обратной подстановкой."
   ]
  },
  {
   "cell_type": "markdown",
   "metadata": {
    "slideshow": {
     "slide_type": "slide"
    }
   },
   "source": [
    "### Pro & contra\n",
    "\n",
    "Pro \n",
    "\n",
    "- ошибка пропорциональна числу обусловленности $X$, а не $X^{\\top}X$\n",
    "- более устойчив, чем использование разложение Холецкого\n",
    "\n",
    "Contra\n",
    "\n",
    "- нельзя контролировать устойчивость решения"
   ]
  },
  {
   "cell_type": "markdown",
   "metadata": {
    "slideshow": {
     "slide_type": "slide"
    }
   },
   "source": [
    "#### Сингулярное разложение (SVD)\n",
    "\n",
    "**Определение.** Любую матрицу $A \\in \\mathbb{R}^{m \\times n}$ можно представить в виде\n",
    "\n",
    "$$\n",
    "A = U\\widehat{\\Sigma} V^* = [U_1, U_2] \\begin{bmatrix} \\Sigma\\\\ 0 \\end{bmatrix} V^*,\n",
    "$$\n",
    "\n",
    "где $U \\in \\mathbb{R}^{m \\times m}$ - ортогональная матрица, $U_1 \\in \\mathbb{R}^{m \\times n}$, $\\Sigma = \\mathrm{diag}(\\sigma_1, \\ldots, \\sigma_n) \\in \\mathbb{R}^{n \\times n}$ - диагональная с сингулярными числами $\\sigma_i$ на диагонали, и $V \\in \\mathbb{R}^{n \\times n}$ - ортогональная."
   ]
  },
  {
   "cell_type": "markdown",
   "metadata": {
    "slideshow": {
     "slide_type": "slide"
    }
   },
   "source": [
    "#### Применение\n",
    "\n",
    "$$\n",
    "\\| Xw - y\\|^2_2 = \\left\\| \\begin{bmatrix} \\Sigma \\\\ 0 \\end{bmatrix} V^* w - \\begin{bmatrix} U_1^{\\top} \\\\ U_2^{\\top} \\end{bmatrix}y \\right\\|^2_2 \\sim \\| \\Sigma V^* w - U_1^{\\top}y \\|^2_2\n",
    "$$\n",
    "\n",
    "Решение линейной системы с **квадратной** матрицей:\n",
    "\n",
    "$$\n",
    "w^* = V\\Sigma^{-1}U_1^{\\top}y = \\sum\\limits_{i=1}^n \\frac{u_i^{\\top}y}{\\sigma_i} v_i,\n",
    "$$\n",
    "\n",
    "где $v_i$ и $u_i$ - столбцы матриц $V$ и $U_1$ "
   ]
  },
  {
   "cell_type": "markdown",
   "metadata": {
    "slideshow": {
     "slide_type": "slide"
    }
   },
   "source": [
    "### Pro & contra\n",
    "\n",
    "Pro \n",
    "\n",
    "- информация о чувствительности решения к возмущениям $y$\n",
    "- контроль устойчивости: малые сингулярные числа можно отбросить\n",
    "- если матрица близка к вырожденной, то только SVD позволяет это показать\n",
    "\n",
    "Contra\n",
    "\n",
    "- вычисление SVD наиболее затратно по сравнению с QR разложением и разложением Холецкого"
   ]
  },
  {
   "cell_type": "markdown",
   "metadata": {
    "slideshow": {
     "slide_type": "slide"
    }
   },
   "source": [
    "### Эксперименты"
   ]
  },
  {
   "cell_type": "code",
   "execution_count": 1,
   "metadata": {
    "slideshow": {
     "slide_type": "fragment"
    }
   },
   "outputs": [
    {
     "name": "stdout",
     "output_type": "stream",
     "text": [
      "1.021458271912201e-05\n"
     ]
    }
   ],
   "source": [
    "import numpy as np\n",
    "\n",
    "n = 1000\n",
    "m = 2 * n\n",
    "X = np.random.randn(m, n)\n",
    "w = np.random.randn(n)\n",
    "y = X.dot(w) + 1e-5 * np.random.randn(m)\n",
    "\n",
    "w_est = np.linalg.solve(X.T.dot(X), X.T.dot(y))\n",
    "print(np.linalg.norm(w - w_est))"
   ]
  },
  {
   "cell_type": "code",
   "execution_count": 2,
   "metadata": {
    "slideshow": {
     "slide_type": "fragment"
    }
   },
   "outputs": [],
   "source": [
    "import scipy.linalg as sclin\n",
    "import scipy.sparse.linalg as scsplin\n",
    "\n",
    "def CholSolve(X, y):\n",
    "    res = sclin.cho_factor(X.T.dot(X), lower=True)\n",
    "    return sclin.cho_solve(res, X.T.dot(y))\n",
    "\n",
    "def QRSolve(X, y):\n",
    "    Q, R = sclin.qr(X)\n",
    "    return sclin.solve_triangular(R[:R.shape[1], :], Q[:, :R.shape[1]].T.dot(y))\n",
    "\n",
    "def SVDSolve(X, y):\n",
    "    U, s, V = sclin.svd(X, full_matrices=False)    \n",
    "    return V.T.dot(np.diagflat(1.0 / s).dot(U.T.dot(y)))\n",
    "\n",
    "def CGSolve(X, y):\n",
    "    def mv(x):\n",
    "        return X.T.dot(X.dot(x))\n",
    "    LA = scsplin.LinearOperator((X.shape[1], X.shape[1]), matvec=mv)\n",
    "    w, _ = scsplin.cg(LA, X.T.dot(y), tol=1e-10)\n",
    "    return w\n",
    "\n",
    "def NPSolve(X, y):\n",
    "    return np.linalg.solve(X.T.dot(X), X.T.dot(y))\n",
    "\n",
    "def LSQRSolve(X, y):\n",
    "    res = scsplin.lsqr(X, y)\n",
    "    return res[0]"
   ]
  },
  {
   "cell_type": "code",
   "execution_count": 3,
   "metadata": {
    "slideshow": {
     "slide_type": "slide"
    }
   },
   "outputs": [
    {
     "name": "stdout",
     "output_type": "stream",
     "text": [
      "9.87998623568672e-06\n",
      "9.879986239053383e-06\n",
      "9.879986237687417e-06\n",
      "9.879512604510694e-06\n",
      "9.879986234886743e-06\n",
      "9.879986068607817e-06\n"
     ]
    }
   ],
   "source": [
    "w_chol = CholSolve(X, y)\n",
    "print(np.linalg.norm(w - w_chol))\n",
    "w_qr = QRSolve(X, y)\n",
    "print(np.linalg.norm(w - w_qr))\n",
    "w_svd = SVDSolve(X, y)\n",
    "print(np.linalg.norm(w - w_svd))\n",
    "w_cg = CGSolve(X, y)\n",
    "print(np.linalg.norm(w - w_cg))\n",
    "w_np = NPSolve(X, y)\n",
    "print(np.linalg.norm(w - w_np))\n",
    "w_lsqr = LSQRSolve(X, y)\n",
    "print(np.linalg.norm(w - w_lsqr))"
   ]
  },
  {
   "cell_type": "code",
   "execution_count": 4,
   "metadata": {
    "slideshow": {
     "slide_type": "slide"
    }
   },
   "outputs": [
    {
     "name": "stdout",
     "output_type": "stream",
     "text": [
      "36 ms ± 2.31 ms per loop (mean ± std. dev. of 7 runs, 10 loops each)\n",
      "297 ms ± 27.5 ms per loop (mean ± std. dev. of 7 runs, 1 loop each)\n",
      "454 ms ± 18.8 ms per loop (mean ± std. dev. of 7 runs, 1 loop each)\n",
      "97.3 ms ± 6.72 ms per loop (mean ± std. dev. of 7 runs, 10 loops each)\n",
      "43.1 ms ± 5.11 ms per loop (mean ± std. dev. of 7 runs, 10 loops each)\n",
      "174 ms ± 36.2 ms per loop (mean ± std. dev. of 7 runs, 1 loop each)\n"
     ]
    }
   ],
   "source": [
    "%timeit w_chol = CholSolve(X, y)\n",
    "%timeit w_qr = QRSolve(X, y)\n",
    "%timeit w_svd = SVDSolve(X, y)\n",
    "%timeit w_cg = CGSolve(X, y)\n",
    "%timeit w_np = NPSolve(X, y)\n",
    "%timeit w_lsqr = LSQRSolve(X, y)"
   ]
  },
  {
   "cell_type": "code",
   "execution_count": 2,
   "metadata": {
    "slideshow": {
     "slide_type": "slide"
    }
   },
   "outputs": [],
   "source": [
    "%matplotlib inline\n",
    "import time\n",
    "import matplotlib.pyplot as plt"
   ]
  },
  {
   "cell_type": "code",
   "execution_count": 5,
   "metadata": {
    "slideshow": {
     "slide_type": "slide"
    }
   },
   "outputs": [],
   "source": [
    "n = [10, 100, 1000, 2000, 5000]\n",
    "chol_time = []\n",
    "qr_time = []\n",
    "svd_time = []\n",
    "cg_time = []\n",
    "np_time = []\n",
    "lsqr_time = []\n",
    "for dim in n:\n",
    "    m = int(1.5 * dim)\n",
    "    X = np.random.randn(m, dim)\n",
    "    w = np.random.randn(dim)\n",
    "    y = X.dot(w) + 1e-5 * np.random.randn(m)\n",
    "    st = time.time()\n",
    "    w_chol = CholSolve(X, y)\n",
    "    chol_time.append(time.time() - st)\n",
    "    st = time.time()\n",
    "    w_qr = QRSolve(X, y)\n",
    "    qr_time.append(time.time() - st)\n",
    "    st = time.time()\n",
    "    w_svd = SVDSolve(X, y)\n",
    "    svd_time.append(time.time() - st)\n",
    "    st = time.time()\n",
    "    w_cg = CGSolve(X, y)\n",
    "    cg_time.append(time.time() - st)\n",
    "    st = time.time()\n",
    "    w_np = NPSolve(X, y)\n",
    "    np_time.append(time.time() - st)\n",
    "    st = time.time()\n",
    "    w_lsqr = LSQRSolve(X, y)\n",
    "    lsqr_time.append(time.time() - st)"
   ]
  },
  {
   "cell_type": "code",
   "execution_count": 6,
   "metadata": {
    "slideshow": {
     "slide_type": "slide"
    }
   },
   "outputs": [
    {
     "data": {
      "image/png": "[encoded data removed]",
      "text/plain": [
       "<matplotlib.figure.Figure at 0x15205b59b0>"
      ]
     },
     "metadata": {},
     "output_type": "display_data"
    }
   ],
   "source": [
    "plt.figure(figsize=(10,8))\n",
    "plt.plot(n, chol_time, linewidth=5, label=\"Cholesky\")\n",
    "plt.plot(n, qr_time, linewidth=5, label=\"QR\")\n",
    "plt.plot(n, svd_time, linewidth=5, label=\"SVD\")\n",
    "plt.plot(n, cg_time, linewidth=5, label=\"CG\")\n",
    "plt.plot(n, np_time, linewidth=5, label=\"Numpy\")\n",
    "plt.plot(n, lsqr_time, linewidth=5, label=\"LSQR\")\n",
    "plt.legend(loc=\"best\", fontsize=20)\n",
    "plt.xscale(\"log\")\n",
    "plt.yscale(\"log\")\n",
    "plt.xlabel(r\"Dimension\", fontsize=20)\n",
    "plt.ylabel(r\"Time, sec.\", fontsize=20)\n",
    "plt.xticks(fontsize = 20)\n",
    "_ = plt.yticks(fontsize = 20)"
   ]
  },
  {
   "cell_type": "markdown",
   "metadata": {
    "slideshow": {
     "slide_type": "slide"
    }
   },
   "source": [
    "## Нелинейный случай (J. Nocedal, S. Wright Numerical Optimization, Ch. 10)\n",
    "\n",
    "**Вопрос:** а если необходимо моделировать измерения нелинейной функцией $f(x, w)$?\n",
    "\n",
    "**Ответ:** аналитического решения уже нет, \n",
    "\n",
    "поэтому необходимо использовать итерационные методы"
   ]
  },
  {
   "cell_type": "markdown",
   "metadata": {
    "slideshow": {
     "slide_type": "slide"
    }
   },
   "source": [
    "### Метод Гаусса-Ньютона\n",
    "\n",
    "- Целевая функция\n",
    "\n",
    "$$\n",
    "S = \\frac{1}{2}\\| f(X, w) - y\\|^2_2 = \\frac{1}{2}\\|r(w)\\|_2^2 \\to \\min_w\n",
    "$$\n",
    "- Градиент\n",
    "\n",
    "$$\n",
    "S' = \\sum_{i=1}^m r_i(w)r_i'(w) = J^{\\top}(w)r(w), \n",
    "$$\n",
    "\n",
    "где $J$ - якобиан остатков $r(w)$\n",
    "- Гессиан \n",
    "\n",
    "\\begin{align*}\n",
    "S''(w) = & \\sum_{i=1}^m r_i'(w)r_i'(w) + \\sum_{i=1}^m r_i(w)r_i''(w) \\\\\n",
    "= & J^{\\top}(w)J(w) + \\sum_{i=1}^m r_i(w)r_i''(w)\n",
    "\\end{align*}"
   ]
  },
  {
   "cell_type": "markdown",
   "metadata": {
    "slideshow": {
     "slide_type": "slide"
    }
   },
   "source": [
    "#### Метод Ньютона \n",
    "- Уравнение на поиск направления в методе Ньютона\n",
    "\n",
    "$$\n",
    "S''(w_k)h_{k+1} = -J^{\\top}(w_k)r(w_k)\n",
    "$$\n",
    "\n",
    "- Или более подробно\n",
    "\n",
    "$$\n",
    "\\left(J^{\\top}(w_k)J(w_k) + \\sum_{i=1}^m r_i(w_k)r_i''(w_k)\\right) h_{k+1} = -J^{\\top}(w_k)r(w_k)\n",
    "$$\n",
    "\n",
    "**Вопрос:** что меняется с добавлением имени Гаусса?"
   ]
  },
  {
   "cell_type": "markdown",
   "metadata": {
    "slideshow": {
     "slide_type": "slide"
    }
   },
   "source": [
    "#### Метод Гаусса-Ньютона \n",
    "\n",
    "$$\n",
    "\\left(J^{\\top}(w_k)J(w_k)\\right) h_{k+1} = -J^{\\top}(w_k)r(w_k)\n",
    "$$\n",
    "\n",
    "**Замечание:** шаг метода определяется линейным поиском с \n",
    "\n",
    "помощью комбинации ранее освещённых правил."
   ]
  },
  {
   "cell_type": "markdown",
   "metadata": {
    "slideshow": {
     "slide_type": "slide"
    }
   },
   "source": [
    "### Альтернативный вывод с помощью линеаризации целевой функции\n",
    "\n",
    "- Исходная задача\n",
    "\n",
    "$$\n",
    "S = \\frac{1}{2}\\| f(X, w) - y\\|^2_2 = \\frac{1}{2}\\|r(w)\\|_2^2 \\to \\min_w\n",
    "$$\n",
    "\n",
    "- Линеаризуем целевую функцию в текущей точке $w_k$ для получения направления $h_k$\n",
    "\n",
    "$$\n",
    "S(w_{k+1}) = \\frac{1}{2}\\| r(w_{k+1}) \\|^2_2 \\approx \\frac{1}{2}\\|r(w_k) + J(w_k)^{\\top} h_k\\|_2^2 \\to \\min_{h_k}\n",
    "$$\n",
    "\n",
    "- Получили **линейную** задачу, про которую выше были получены аналитические результаты "
   ]
  },
  {
   "cell_type": "markdown",
   "metadata": {
    "slideshow": {
     "slide_type": "slide"
    }
   },
   "source": [
    "#### Теорема сходимости\n",
    "\n",
    "**Теорема.** Пусть остатки $r_i(w)$ ограничены и их градиенты Липшицевы, а якобиан $J$ полного ранга. Тогда\n",
    "\n",
    "$$\n",
    "\\lim_{k \\to \\infty} J^{\\top}(w_k)r_k = 0,\n",
    "$$\n",
    "\n",
    "при выборе шага по достаточному убыванию и условию кривизны."
   ]
  },
  {
   "cell_type": "markdown",
   "metadata": {
    "slideshow": {
     "slide_type": "slide"
    }
   },
   "source": [
    "#### Скорость сходимости\n",
    "\n",
    "$$\n",
    "\\|w_{k+1} - w^* \\|_2 \\leq \\| (J^{\\top}J(w^*))^{-1}H(w^*)\\| \\|w_k - w^* \\|_2 + O(\\|w_k - w^* \\|^2_2)\n",
    "$$\n",
    "\n",
    "- Зависит от соотношения между $J^{\\top}J$ и $H(w_k) = \\sum\\limits_{i=1}^m r_i(w_k)r_i''(w_k)$\n",
    "- Чем меньше $\\| (J^{\\top}J(w^*))^{-1}H(w^*) \\|$, тем быстрее сходимость \n",
    "- Если $H(w^*) = 0$, то сходимость локально квадратичная"
   ]
  },
  {
   "cell_type": "markdown",
   "metadata": {
    "slideshow": {
     "slide_type": "slide"
    }
   },
   "source": [
    "#### Случай больших остатков\n",
    "\n",
    "- В этом случае $H(w_k)$ пренебрегать нельзя\n",
    "- Сигнализирует о неадекватности выбранной параметрической функции $f(X, w)$\n",
    "- Требует применения *гибридных* алгоритмов, которые работают как метод Гаусса-Ньютона при маленьких остатках и работают как метод Ньютона или квазиньютоновский метод при больших остатках"
   ]
  },
  {
   "cell_type": "markdown",
   "metadata": {
    "slideshow": {
     "slide_type": "slide"
    }
   },
   "source": [
    "### Pro & contra\n",
    "\n",
    "Pro\n",
    "\n",
    "- не нужно вычислять $r''(w)$\n",
    "- из якобиана вычисляется оценка гессиана\n",
    "- используемое приближение гессиана часто очень точное в смысле нормы\n",
    "- в случае полного ранга якобиана, гарантируется, что полученное направление - это направление убывания\n",
    "- интерпретация как линеаризация функции $f(x, w)$ около точки экстремума\n",
    "\n",
    "Contra\n",
    "\n",
    "- приближение гессиана может быть очень неточным\n",
    "- если матрица $J^{\\top}J$ близка к вырожденной, решение неустойчиво, и даже сходимость не гарантируется"
   ]
  },
  {
   "cell_type": "markdown",
   "metadata": {
    "slideshow": {
     "slide_type": "slide"
    }
   },
   "source": [
    "### Метод Левенберга-Марквардта"
   ]
  },
  {
   "cell_type": "markdown",
   "metadata": {
    "slideshow": {
     "slide_type": "slide"
    }
   },
   "source": [
    "#### Какие проблемы накопились?\n",
    "\n",
    "- В методе Ньютона сходимость только **локальная**, но **квадратичная**\n",
    "- Вырожденность гессиана или его приближения (метод Гаусса-Ньютона) приводит к неустойчивости решения\n",
    "- Градиентный метод сходится к стационарной точке из **любого** начального приближения, но **линейно**"
   ]
  },
  {
   "cell_type": "markdown",
   "metadata": {
    "slideshow": {
     "slide_type": "slide"
    }
   },
   "source": [
    "#### Как решить эти проблемы? Хотя бы частично...\n"
   ]
  },
  {
   "cell_type": "markdown",
   "metadata": {
    "slideshow": {
     "slide_type": "fragment"
    }
   },
   "source": [
    "**Идея:** отделить спектр гессиана от 0 с помощью дополнительного слагаемого вида $\\lambda I$\n",
    "\n",
    "Метод Левенберга-Марквардта:\n",
    "\n",
    "$$\n",
    "(f''(x_k) + \\lambda_k I)h_k = -f'(x_k), \\qquad \\lambda_k > 0\n",
    "$$"
   ]
  },
  {
   "cell_type": "markdown",
   "metadata": {
    "slideshow": {
     "slide_type": "slide"
    }
   },
   "source": [
    "### Почему это хорошая идея?"
   ]
  },
  {
   "cell_type": "markdown",
   "metadata": {
    "slideshow": {
     "slide_type": "fragment"
    }
   },
   "source": [
    "- При $\\lambda_k \\to 0$ метод работает как метод Ньютона\n",
    "- При $\\lambda_k \\to \\infty$ метод работает как градиентный спуск\n",
    "- В методе Гаусса-Ньютона слагаемое $\\lambda_k I$ является оценкой $H(w_k)$\n",
    "- Если оценка гессиана $J^{\\top}J$ разреженная, то добавление $\\lambda_k I$ её не портит и позволяет быстро решать систему уравнений\n",
    "- Регуляризация исходной задачи - см. далее"
   ]
  },
  {
   "cell_type": "markdown",
   "metadata": {
    "slideshow": {
     "slide_type": "slide"
    }
   },
   "source": [
    "### Осталась одна проблема...."
   ]
  },
  {
   "cell_type": "markdown",
   "metadata": {
    "slideshow": {
     "slide_type": "fragment"
    }
   },
   "source": [
    "Стратегий подбора $\\lambda_k$ очень много. Общая идея аналогична backtracking'у:\n",
    "\n",
    "- задаём начальное приближение\n",
    "- если убывание функции достаточное, то метод находится в зоне, где хорошо работает квадратичная аппроксимация, следовательно можно ещё уменьшить $\\lambda_{k+1}$\n",
    "- если убывание недостаточно сильное, то надо увеличить $\\lambda_k$ и ещё раз получить направление $h_k$ и проверить насколько оно подходит"
   ]
  },
  {
   "cell_type": "markdown",
   "metadata": {
    "slideshow": {
     "slide_type": "slide"
    }
   },
   "source": [
    "#### Сходимость\n",
    "\n",
    "- Доказательства сходимости непросты из-за необходимости учитывать изменения $\\lambda_k$\n",
    "- Гарантируется сходимость к стационарной точке при адекватном моделировании кривизны функции в каждой точке"
   ]
  },
  {
   "cell_type": "markdown",
   "metadata": {
    "slideshow": {
     "slide_type": "slide"
    }
   },
   "source": [
    "```python \n",
    "def simple_levenberg_marquardt(f, jac, x, lam, rho_min, rho_max, tol):\n",
    "    \n",
    "    n = x.shape[0]\n",
    "    \n",
    "    while True:\n",
    "        \n",
    "        J = jac(x)\n",
    "        \n",
    "        F = f(x)\n",
    "        \n",
    "        while True:\n",
    "            \n",
    "            h = np.linalg.solve(J.T.dot(J) + lam * np.eye(n), -J.T.dot(F))\n",
    "            \n",
    "            alpha = StepSizeSelection(x, h, f, J)\n",
    "            \n",
    "            x_next = x + alpha * h\n",
    "            \n",
    "            F_next = f(x_next)\n",
    "            \n",
    "            if np.linalg.norm(F_next) < np.linalg.norm(F):\n",
    "                \n",
    "                lam = rho_min * lam\n",
    "                \n",
    "                x = x_next\n",
    "                \n",
    "                break\n",
    "                \n",
    "            else:\n",
    "                \n",
    "                lam = lam * rho_max\n",
    "        \n",
    "        if np.linalg.norm(F) - np.linalg.norm(F_next) < tol:\n",
    "\n",
    "            break\n",
    "        \n",
    "    return x\n",
    "\n",
    "```"
   ]
  },
  {
   "cell_type": "markdown",
   "metadata": {
    "slideshow": {
     "slide_type": "slide"
    }
   },
   "source": [
    "### Эксперимент\n",
    "\n",
    "Рассмотрим задачу нелинейных наименьших квадратов для следующей функции\n",
    "\n",
    "$$\n",
    "f(w|x) = w_1 e^{w_2 x}\\cos(w_3 x + w_4)\n",
    "$$\n",
    "\n",
    "при $w = (1, -0.5, 10, 0)$"
   ]
  },
  {
   "cell_type": "code",
   "execution_count": 17,
   "metadata": {
    "slideshow": {
     "slide_type": "slide"
    }
   },
   "outputs": [
    {
     "data": {
      "text/plain": [
       "[<matplotlib.lines.Line2D at 0x116a75a58>]"
      ]
     },
     "execution_count": 17,
     "metadata": {},
     "output_type": "execute_result"
    },
    {
     "data": {
      "image/png": "[encoded data removed]",
      "text/plain": [
       "<Figure size 432x288 with 1 Axes>"
      ]
     },
     "metadata": {},
     "output_type": "display_data"
    }
   ],
   "source": [
    "import numpy as np\n",
    "import matplotlib.pyplot as plt\n",
    "%matplotlib inline\n",
    "w = np.array([1, -0.5, 10, 0])\n",
    "def f(x, w=w):\n",
    "    return w[0] * np.exp(x * w[1]) * np.cos(w[2] * x + w[3])\n",
    "\n",
    "num_points = 100\n",
    "x_range = np.linspace(0, 5, num=num_points)\n",
    "plt.plot(x_range, f(x_range))"
   ]
  },
  {
   "cell_type": "code",
   "execution_count": 69,
   "metadata": {
    "slideshow": {
     "slide_type": "slide"
    }
   },
   "outputs": [
    {
     "data": {
      "text/plain": [
       "<matplotlib.collections.PathCollection at 0x1017ff89b0>"
      ]
     },
     "execution_count": 69,
     "metadata": {},
     "output_type": "execute_result"
    },
    {
     "data": {
      "image/png": "[encoded data removed]",
      "text/plain": [
       "<Figure size 432x288 with 1 Axes>"
      ]
     },
     "metadata": {},
     "output_type": "display_data"
    }
   ],
   "source": [
    "num_samples = 50\n",
    "x_samples = np.random.choice(x_range, size=num_samples)\n",
    "y_samples = f(x_samples) + 0.05 * np.random.randn(num_samples)\n",
    "plt.plot(x_range, f(x_range))\n",
    "plt.scatter(x_samples, y_samples, c=\"red\")"
   ]
  },
  {
   "cell_type": "code",
   "execution_count": 70,
   "metadata": {
    "slideshow": {
     "slide_type": "slide"
    }
   },
   "outputs": [],
   "source": [
    "import scipy.optimize as scopt\n",
    "\n",
    "res = lambda w: f(x_samples, w) - y_samples\n",
    "def jac(w):\n",
    "    J = np.zeros((num_samples, 4))\n",
    "    J[:, 0] = np.exp(x_samples * w[1]) * np.cos(x_samples * w[2] + w[3])\n",
    "    J[:, 1] = w[0] * x_samples * np.exp(x_samples * w[1]) * np.cos(x_samples * w[2] + w[3])\n",
    "    J[:, 2] = -w[0] * x_samples * np.exp(x_samples * w[1]) * np.sin(x_samples * w[2] + w[3])\n",
    "    J[:, 3] = -w[0] * np.exp(x_samples * w[1]) * np.sin(x_samples * w[2] + w[3])\n",
    "    return J\n",
    "\n",
    "result = {}\n",
    "\n",
    "x0 = np.random.randn(4)\n",
    "result[\"LM\"] = scopt.least_squares(fun=res, method=\"lm\", x0=x0)\n",
    "# result[\"TR\"] = scopt.least_squares(fun=res, method=\"trf\", x0=x0, jac=jac)\n",
    "# result[\"Dogleg\"] = scopt.least_squares(fun=res, method=\"dogbox\", x0=x0, jac=jac)"
   ]
  },
  {
   "cell_type": "code",
   "execution_count": 71,
   "metadata": {
    "slideshow": {
     "slide_type": "slide"
    }
   },
   "outputs": [
    {
     "name": "stdout",
     "output_type": "stream",
     "text": [
      "Exact parameters = [ 1.  -0.5 10.   0. ]\n",
      "LM method parameters = [-0.95165798 -0.49823335  9.99606593 -3.14520968]\n"
     ]
    },
    {
     "data": {
      "image/png": "[encoded data removed]",
      "text/plain": [
       "<Figure size 576x432 with 1 Axes>"
      ]
     },
     "metadata": {},
     "output_type": "display_data"
    }
   ],
   "source": [
    "plt.figure(figsize=(8, 6))\n",
    "fontsize = 16\n",
    "plt.plot(x_range, f(x_range), label=\"Exact\")\n",
    "for method in result:\n",
    "    plt.plot(x_range, f(x_range, result[method].x), label=method)\n",
    "plt.legend(fontsize=fontsize)\n",
    "plt.xticks(fontsize=fontsize)\n",
    "plt.yticks(fontsize=fontsize)\n",
    "print(\"Exact parameters = {}\".format(w))\n",
    "for method in result:\n",
    "    print(\"{} method parameters = {}\".format(method, result[method].x))"
   ]
  },
  {
   "cell_type": "markdown",
   "metadata": {
    "slideshow": {
     "slide_type": "slide"
    }
   },
   "source": [
    "### Pro & Contra\n",
    "\n",
    "Pro\n",
    "\n",
    "- комбинация достоинств ранее изученных методов\n",
    "- автоматическая адаптация к градиентному методу и методу Ньютона\n",
    "- улучшенная версия метода Гаусса-Ньютона\n",
    "- сохранение разреженности оценки гессиана\n",
    "- стандарт де-факто для решения нелинейной задачи наименьших квадратов [[1]](https://en.wikipedia.org/wiki/Levenberg–Marquardt_algorithm#Implementations)\n",
    "\n",
    "Contra\n",
    "\n",
    "- нет универсального рецепта по выбору параметра $\\lambda$\n",
    "- скорость сходимости непостоянна и зависит от адекватности выбора $\\lambda_k$"
   ]
  },
  {
   "cell_type": "markdown",
   "metadata": {
    "slideshow": {
     "slide_type": "slide"
    }
   },
   "source": [
    "## Некорректные задачи"
   ]
  },
  {
   "cell_type": "markdown",
   "metadata": {
    "slideshow": {
     "slide_type": "fragment"
    }
   },
   "source": [
    "**Определение** (Жак Адамар и урматы). Задача называется \n",
    "\n",
    "*некорректной*, если не выполняется хотя бы одно условие \n",
    "\n",
    "корректности задачи:\n",
    "\n",
    "1. Существование решения\n",
    "2. Единственность решения\n",
    "3. Непрерывная зависимость от внешних параметров"
   ]
  },
  {
   "cell_type": "markdown",
   "metadata": {
    "slideshow": {
     "slide_type": "slide"
    }
   },
   "source": [
    "### Регуляризация\n",
    "\n",
    "**Определение.** Регуляризацией называют процесс введения\n",
    "\n",
    "дополнительной информации в модель для решения \n",
    "\n",
    "некорректных задач.\n",
    "\n",
    "Примеры:\n",
    "- повысить устойчивость с помощью изменения целевой функции\n",
    "- сделать решение единственным, наложив ограничения\n",
    "- преобразовать целевую функцию, чтобы решение появилось или стало конечным"
   ]
  },
  {
   "cell_type": "markdown",
   "metadata": {
    "slideshow": {
     "slide_type": "slide"
    }
   },
   "source": [
    "#### Тихоновская регуляризация (Ridge или $\\ell_2$ регуляризация)\n",
    "\n",
    "$$\n",
    "\\min_w \\|Xw - y \\|^2_2 + \\frac{\\alpha}{2}\\|w\\|^2_2, \\quad \\alpha > 0\n",
    "$$\n",
    "\n",
    "**Упражнение:** получите аналог нормального уравнения для такой задачи. \n",
    "\n",
    "Какая у модифицированного нормального уравнения интерпретация и почему такая регуляризация работает?\n",
    "\n",
    "**Алгоритмы** аналогичны линейному случаю без регуляризации."
   ]
  },
  {
   "cell_type": "markdown",
   "metadata": {
    "slideshow": {
     "slide_type": "slide"
    }
   },
   "source": [
    "#### Lasso ($\\ell_1$ регуляризация)\n",
    "\n",
    "$$\n",
    "\\min_w \\|Xw - y \\|^2_2 + \\alpha\\|w\\|_1, \\quad \\alpha > 0\n",
    "$$\n",
    "\n",
    "Решение получают координатным спуском\n",
    "\n",
    "Особенности:\n",
    "- недифференцируемая, но выпуклая целевая функция\n",
    "- релаксация $\\ell_0$\n",
    "- разреженное решение"
   ]
  },
  {
   "cell_type": "markdown",
   "metadata": {
    "slideshow": {
     "slide_type": "slide"
    }
   },
   "source": [
    "## Резюме\n",
    "\n",
    "1. Задача наименьших квадратов\n",
    "2. Алгоритмы для линейного случая\n",
    "3. Алгоритмы для нелинейного случая\n",
    "4. Некорректные задачи и способы их решения"
   ]
  }
 ],
 "metadata": {
  "celltoolbar": "Slideshow",
  "kernelspec": {
   "display_name": "Python 3 (cvxpy)",
   "language": "python",
   "name": "cvxpy"
  },
  "language_info": {
   "codemirror_mode": {
    "name": "ipython",
    "version": 3
   },
   "file_extension": ".py",
   "mimetype": "text/x-python",
   "name": "python",
   "nbconvert_exporter": "python",
   "pygments_lexer": "ipython3",
   "version": "3.6.8"
  }
 },
 "nbformat": 4,
 "nbformat_minor": 2
}

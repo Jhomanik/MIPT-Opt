{
 "cells": [
  {
   "cell_type": "markdown",
   "metadata": {
    "slideshow": {
     "slide_type": "slide"
    }
   },
   "source": [
    "# Introduction to non-smooth problems and proximal methods "
   ]
  },
  {
   "cell_type": "markdown",
   "metadata": {
    "slideshow": {
     "slide_type": "slide"
    }
   },
   "source": [
    "## Non-smooth convex optimization problem\n",
    "\n",
    "$$\n",
    "\\min_{x \\in \\mathbb{R}^n} f(x),\n",
    "$$\n",
    "\n",
    "where $f(x)$ is convex, but **non-smooth**.\n",
    "\n",
    "**Q:** since gradient does not exist, what method can solve\n",
    "\n",
    "such problem? "
   ]
  },
  {
   "cell_type": "markdown",
   "metadata": {
    "slideshow": {
     "slide_type": "slide"
    }
   },
   "source": [
    "## Subgradient method\n",
    "\n",
    "- Replace gradient with subgradient \n",
    "- Original book is [Minimization methods for non-differentiable functions](http://cds.cern.ch/record/104965) by [Naum Shor](https://ru.wikipedia.org/wiki/%D0%A8%D0%BE%D1%80,_%D0%9D%D0%B0%D1%83%D0%BC_%D0%97%D1%83%D1%81%D0%B5%D0%BB%D0%B5%D0%B2%D0%B8%D1%87)\n",
    "- Good review in old-school style is [here](https://core.ac.uk/download/pdf/33892291.pdf#page=15)\n",
    "- Compare the method with gradient descent"
   ]
  },
  {
   "cell_type": "markdown",
   "metadata": {
    "slideshow": {
     "slide_type": "slide"
    }
   },
   "source": [
    "### Non-descent method\n",
    "\n",
    "- Example\n",
    "\n",
    "$$\n",
    "f(x_1, x_2) = |x_1| + 2|x_2|\n",
    "$$\n",
    "\n",
    "- At $x = (1, 0)$ a subgradient is $(1, 2)$\n",
    "- The direction $-g$ is not descent"
   ]
  },
  {
   "cell_type": "markdown",
   "metadata": {
    "slideshow": {
     "slide_type": "slide"
    }
   },
   "source": [
    "## Any good news?\n",
    "\n",
    "- Let us estimate convergence of the subgradient method \n",
    "- $\\|x_{k+1} - x^*\\|^2_2 = \\|x_k - \\alpha_k g_k - x^*\\|_2^2 \\leq \\|x_k - x^*\\|^2_2 - 2\\alpha_k g^{\\top}_k(x_k - x^*) + \\alpha^2_k \\|g\\|_2^2 \\leq \\|x_k - x^*\\|^2_2 - 2\\alpha_k (f(x_k) - f^*) + \\alpha^2_k \\|g\\|_2^2$\n",
    "- Use the minimum function value after $k$ iterations $f_{best}^{(k)}$\n",
    "\n",
    "$$\n",
    "2 \\left(\\sum_{i=1}^k \\alpha_i\\right) (f^{(k)}_{best} - f^*) \\leq \\| x_0 - x^*\\|_2^2 - \\|x_k - x^* \\|_2^2 + \\sum_{i=1}^k \\alpha^2_i \\|g_i\\|_2^2 \\leq \\| x_0 - x^*\\|_2^2 + \\sum_{i=1}^k \\alpha^2_i \\|g_i\\|_2^2\n",
    "$$\n",
    "\n",
    "- Finally\n",
    "\n",
    "$$\n",
    "f^{(k)}_{best} - f^* \\leq \\frac{\\| x_0 - x^*\\|_2^2 + \\sum_{i=1}^k \\alpha^2_i \\|g_i\\|_2^2}{2\\sum_{i=1}^k \\alpha_i}\n",
    "$$"
   ]
  },
  {
   "cell_type": "markdown",
   "metadata": {
    "slideshow": {
     "slide_type": "slide"
    }
   },
   "source": [
    "## Step size selection\n",
    "\n",
    "- Fix step size $\\alpha$\n",
    "\n",
    "$$\n",
    "f^{(k)}_{best} - f^* \\leq \\frac{\\| x_0 - x^*\\|_2^2 + G^2 k \\alpha^2}{2 k \\alpha} = \\frac{\\| x_0 - x^*\\|_2^2}{2 k \\alpha} + \\frac{G^2 \\alpha}{2},\n",
    "$$\n",
    "\n",
    "where $\\|g_i\\|_2 \\leq G$\n",
    "\n",
    "- Scaled gradient norm $\\alpha_i = \\frac{s}{\\|g_{i}\\|_2}$\n",
    "\n",
    "$$\n",
    "f^{(k)}_{best} - f^* \\leq \\frac{G\\| x_0 - x^*\\|_2^2}{2 k s} + \\frac{G s}{2},\n",
    "$$\n",
    "\n",
    "- Diminishing step size: $\\alpha_i \\to 0, \\sum_{i=1}^{\\infty}\\alpha_i = \\infty$\n",
    "\n",
    "$$\n",
    "f^{(k)}_{best} - f^* \\to 0. \\quad k \\to \\infty\n",
    "$$"
   ]
  },
  {
   "cell_type": "markdown",
   "metadata": {
    "slideshow": {
     "slide_type": "slide"
    }
   },
   "source": [
    "## Test problem\n",
    "\n",
    "$$\n",
    "\\|Ax - b\\|_1 \\to \\min_x\n",
    "$$"
   ]
  },
  {
   "cell_type": "code",
   "execution_count": 1,
   "metadata": {
    "slideshow": {
     "slide_type": "slide"
    }
   },
   "outputs": [],
   "source": [
    "import numpy as np\n",
    "%matplotlib inline\n",
    "import matplotlib.pyplot as plt\n",
    "\n",
    "USE_COLAB = False\n",
    "if not USE_COLAB:\n",
    "    plt.rc(\"text\", usetex=True)\n",
    "\n",
    "if USE_COLAB:\n",
    "    !pip install git+https://github.com/amkatrutsa/liboptpy\n",
    "        \n",
    "import liboptpy.unconstr_solvers as methods\n",
    "import liboptpy.step_size as ss\n",
    "\n",
    "\n",
    "m, n = 500, 100\n",
    "A = np.random.randn(m, n)\n",
    "x_true = np.random.randn(n)\n",
    "b = A.dot(x_true)"
   ]
  },
  {
   "cell_type": "code",
   "execution_count": 2,
   "metadata": {
    "slideshow": {
     "slide_type": "slide"
    }
   },
   "outputs": [],
   "source": [
    "f = lambda x: np.linalg.norm(A.dot(x) - b, 1)\n",
    "subgrad = lambda x: A.T.dot(np.sign(A.dot(x) - b))\n",
    "alpha = 1e-3\n",
    "s = 1e-1\n",
    "sg_methods = {\n",
    "    \"SM 1/k\": methods.fo.SubgradientMethod(f, subgrad, ss.InvIterStepSize()),\n",
    "    \"SM fixed={}\".format(alpha): methods.fo.SubgradientMethod(f, subgrad, ss.ConstantStepSize(alpha)),\n",
    "    \"SM scaled fix, s={}\".format(s): methods.fo.SubgradientMethod(f, subgrad, \n",
    "                                                  ss.ScaledConstantStepSize(s)),\n",
    "}"
   ]
  },
  {
   "cell_type": "code",
   "execution_count": 3,
   "metadata": {
    "slideshow": {
     "slide_type": "slide"
    }
   },
   "outputs": [],
   "source": [
    "x0 = np.random.randn(n)\n",
    "max_iter = 500"
   ]
  },
  {
   "cell_type": "code",
   "execution_count": 4,
   "metadata": {
    "slideshow": {
     "slide_type": "slide"
    }
   },
   "outputs": [],
   "source": [
    "for m in sg_methods:\n",
    "    _ = sg_methods[m].solve(x0=x0, max_iter=max_iter)"
   ]
  },
  {
   "cell_type": "code",
   "execution_count": 5,
   "metadata": {
    "slideshow": {
     "slide_type": "slide"
    }
   },
   "outputs": [
    {
     "data": {
      "image/png": "[encoded data removed]",
      "text/plain": [
       "<Figure size 720x576 with 1 Axes>"
      ]
     },
     "metadata": {},
     "output_type": "display_data"
    }
   ],
   "source": [
    "plt.figure(figsize=(10, 8))\n",
    "for m in sg_methods:\n",
    "    plt.semilogy([f(x) for x in sg_methods[m].get_convergence()], label=m)\n",
    "plt.legend(fontsize=20)\n",
    "plt.xlabel(r\"Number of iterations, $k$\", fontsize=26)\n",
    "plt.ylabel(r\"Objective, $f(x_k)$\", fontsize=26)\n",
    "plt.xticks(fontsize=20)\n",
    "plt.yticks(fontsize=20)\n",
    "plt.grid(True)"
   ]
  },
  {
   "cell_type": "markdown",
   "metadata": {
    "slideshow": {
     "slide_type": "slide"
    }
   },
   "source": [
    "## Summary on subgradient method\n",
    "\n",
    "- Black-box method for non-smooth function\n",
    "- Natural generalization of gradient descent\n",
    "- But it is not descent method :(\n",
    "- Step size selection rules"
   ]
  },
  {
   "cell_type": "markdown",
   "metadata": {
    "slideshow": {
     "slide_type": "slide"
    }
   },
   "source": [
    "## Gradient descent as forward Euler scheme\n",
    "\n",
    "Consider the following ODE\n",
    "\n",
    "$$\n",
    "\\frac{dx}{dt} = -f'(x(t))\n",
    "$$\n",
    "\n",
    "and after discretization\n",
    "\n",
    "$$\n",
    "\\frac{x_{k+1} - x_k}{\\alpha} = -f'(x_k),\n",
    "$$\n",
    "\n",
    "where $\\alpha = t_{k+1} - t_k$ is a grid step and $x_k \\equiv x(t_k)$\n",
    "\n",
    "From this follows \n",
    "\n",
    "$$\n",
    "x_{k+1} = x_k - \\alpha f'(x_k),\n",
    "$$\n",
    "\n",
    "which is equivalent to gradient descent method"
   ]
  },
  {
   "cell_type": "markdown",
   "metadata": {
    "slideshow": {
     "slide_type": "slide"
    }
   },
   "source": [
    "### Properties of forward Euler scheme\n",
    "\n",
    "- Easy to use\n",
    "- Can be unstable if $\\alpha$ is too large, which is natural drawback of gradient descent with large step size\n",
    "- Stability issue can be solved with **backward Euler scheme**"
   ]
  },
  {
   "cell_type": "markdown",
   "metadata": {
    "slideshow": {
     "slide_type": "slide"
    }
   },
   "source": [
    "## Proximal method as backward Euler scheme\n",
    "\n",
    "$$\n",
    "\\frac{dx}{dt} = -f'(x(t))\n",
    "$$\n",
    "\n",
    "and after discretization in backward manner\n",
    "\n",
    "$$\n",
    "\\frac{x_{k+1} - x_k}{\\alpha} = -f'({\\color{red}{x_{k+1}}}),\n",
    "$$\n",
    "\n",
    "After some re-arrangements\n",
    "\n",
    "\\begin{align*}\n",
    "& \\left(\\frac{1}{2\\alpha} \\|u - x_k\\|_2^2 + f(u) \\right)'(x_{k+1}) = 0 \\\\\n",
    "& x_{k+1} = \\arg\\min_u \\left(f(u) + \\frac{1}{2\\alpha} \\|u - x_k\\|_2^2\\right) = prox_{\\alpha f}(x_k)\n",
    "\\end{align*}\n",
    "\n"
   ]
  },
  {
   "cell_type": "markdown",
   "metadata": {
    "slideshow": {
     "slide_type": "slide"
    }
   },
   "source": [
    "### Example: iterative refinement\n",
    "\n",
    "The method to solve positive semi-definite linear system given Cholesky factorization of $A + \\epsilon I$ for some $\\epsilon$\n",
    "$$\n",
    "f(x) = \\frac{1}{2}x^{\\top}Ax - b^{\\top}x \\to \\min_x,\n",
    "$$\n",
    "where $A \\in \\mathbb{S}^n_+$\n",
    "\n",
    "\\begin{align*}\n",
    "prox_{\\alpha f} (x_k) & = \\arg\\min_u \\left(\\frac{1}{2}u^{\\top}Au - b^{\\top}u + \\frac{1}{2\\alpha} \\|u - x_k\\|_2^2\\right) \\\\\n",
    "& = \\left(A + (1/ \\alpha) I\\right)^{-1}\\left(b + (1 / \\alpha)x_k\\right) \\\\\n",
    "& = x_k + (A + \\epsilon I)^{-1}(b - Ax_k)\n",
    "\\end{align*}\n"
   ]
  },
  {
   "cell_type": "markdown",
   "metadata": {
    "slideshow": {
     "slide_type": "slide"
    }
   },
   "source": [
    "### Properties of proximal map \n",
    "$$\n",
    "x_{k+1} = prox_{f}(x_k)\n",
    "$$\n",
    "\n",
    "1. Fixed point of proximal operator is equal to minimizer of $f$\n",
    "\n",
    "$$\n",
    "x^* = prox_f(x^*)\n",
    "$$ \n",
    "\n",
    "Proximal map is not a contraction\n",
    "\n",
    "There exists theory on firm non-expansiveness of proximal operator\n",
    "\n",
    "2. Resolvent of operator\n",
    "\n",
    "$$\n",
    "prox_{\\alpha f}(x) = (I + \\alpha f')^{-1}(x)\n",
    "$$\n",
    "\n",
    "This property can be extended to subdifferential."
   ]
  },
  {
   "cell_type": "markdown",
   "metadata": {
    "slideshow": {
     "slide_type": "slide"
    }
   },
   "source": [
    "### Modified gradient step interpretation\n",
    "\n",
    "Assume $f$ is twice differentiable and strong convex ($f''(x) \\succ 0$).\n",
    "\n",
    "1. Gradient method as approximation of proximal method\n",
    "\n",
    "$$\n",
    "x_{k+1} = prox_{\\alpha f} (x_k) = (I + \\alpha f')^{-1}(x_k) \\approx x_k - \\alpha f'(x_k) + o(\\alpha), \\; \\alpha \\to 0  \n",
    "$$\n",
    "\n",
    "2. Proximal method for second-order approximation $\\hat{f}(v) = f(x) + \\langle f'(x), v - x \\rangle + \\frac{1}{2}\\langle v - x, f''(x) (v - x) \\rangle$\n",
    "\n",
    "$$\n",
    "prox_{\\alpha \\hat{f}}(x_k) = x_k - (f''(x_k) + (1 / \\alpha)I)^{-1}f'(x_k) \n",
    "$$"
   ]
  },
  {
   "cell_type": "markdown",
   "metadata": {
    "slideshow": {
     "slide_type": "slide"
    }
   },
   "source": [
    "### Separable sum\n",
    "\n",
    "If $f$ has the form\n",
    "\n",
    "$$\n",
    "f(x) = \\sum_{i=1}^n f_i(x_i)\n",
    "$$\n",
    "\n",
    "then \n",
    "$$\n",
    "prox_f(v)_i = prox_{f_i}(v_i)\n",
    "$$\n",
    "\n",
    "- High parallelization of the proximal operator computing \n",
    "- **Consensus form** of the problem\n",
    "$$\n",
    "\\min \\sum_{i=1}^n f_i(x) \\to \\min \\sum_{i=1}^n f_i(x_i), \\; \\text{s.t. } x_1 = \\ldots = x_n\n",
    "$$"
   ]
  },
  {
   "cell_type": "markdown",
   "metadata": {
    "slideshow": {
     "slide_type": "slide"
    }
   },
   "source": [
    "## Proximal gradient method (PGM) - look into black box\n",
    "\n",
    "Consider convex function $f$ such that\n",
    "\n",
    "$$\n",
    "f(x) = h(x) + g(x),\n",
    "$$\n",
    "\n",
    "where $h(x)$ is convex differentiable, and $g(x)$ can be convex extended-value function, so $g: \\mathbb{R}^n \\to \\mathbb{R} \\cup \\{+\\infty\\}$\n",
    "\n",
    "Then the one step of the proximal gradient method is\n",
    "\n",
    "$$\n",
    "x_{k+1} = prox_{\\alpha_k g} (x_k - \\alpha_k h'(x_k))\n",
    "$$\n",
    "\n",
    "- Convergence rate $\\mathcal{O}(1/k)$ for step size $\\alpha_k \\equiv \\alpha \\in (0, 1/L]$, where $L$ is Lipschitz constant of $f'$\n",
    "- Backtracking procedure is available for adaptive search of $\\alpha_k$"
   ]
  },
  {
   "cell_type": "markdown",
   "metadata": {
    "slideshow": {
     "slide_type": "slide"
    }
   },
   "source": [
    "### Pacticular cases of PGM\n",
    "\n",
    "- If $h \\equiv 0$, then PGM is simple proximal method\n",
    "- If $g \\equiv 0$, then PGM is vanilla gradient descent method "
   ]
  },
  {
   "cell_type": "markdown",
   "metadata": {
    "slideshow": {
     "slide_type": "slide"
    }
   },
   "source": [
    "### Fixed point iteration interpretation\n",
    "\n",
    "From the first-order optimality condition follows\n",
    "\n",
    "\\begin{align*}\n",
    "& 0 \\in \\alpha h'(x^*) + \\alpha\\partial g(x^*)\\\\\n",
    "& 0 \\in \\alpha h'(x^*) + x^* - x^* + \\alpha\\partial g(x^*)\\\\\n",
    "& (I - \\alpha h')(x^*) \\in (I + \\alpha \\partial g)(x^*)\\\\\n",
    "& x^* = (I + \\alpha \\partial g)^{-1}(I - \\alpha h')(x^*)\\\\\n",
    "& x^* = prox_{\\alpha g}(x^* - \\alpha h'(x^*))\n",
    "\\end{align*}"
   ]
  },
  {
   "cell_type": "markdown",
   "metadata": {
    "slideshow": {
     "slide_type": "slide"
    }
   },
   "source": [
    "## Accelerated proximal gradient method\n",
    "\n",
    "\\begin{align*}\n",
    "& y_{k+1} = x_k + w_k (x_k - x_{k+1})\\\\\n",
    "& x_{k+1} = prox_{\\alpha_k g} (y_{k+1} - \\alpha_k h'(y_{k+1}))\n",
    "\\end{align*}\n",
    "\n",
    "- $\\{w_k\\}$ is special sequence that has to be chosen to accelerate convergence, for example $w_k = \\frac{k}{k+3}$\n",
    "- Similar backtracking procedure is helpful for adaptive search $\\alpha_k$\n",
    "- Convergence rate $\\mathcal{O}(1/k^2)$ which is tight lower bound for convex function"
   ]
  },
  {
   "cell_type": "markdown",
   "metadata": {
    "slideshow": {
     "slide_type": "slide"
    }
   },
   "source": [
    "## Lasso example\n",
    "\n",
    "$$\n",
    "\\min_x \\frac{1}{2}\\|Ax - y \\|^2_2 + \\gamma \\|x\\|_1\n",
    "$$\n",
    "\n",
    "- $h(x) = \\frac{1}{2}\\|Ax - y \\|^2_2$\n",
    "- $g(x) = \\gamma \\|x\\|_1$"
   ]
  },
  {
   "cell_type": "markdown",
   "metadata": {
    "slideshow": {
     "slide_type": "slide"
    }
   },
   "source": [
    "####  Soft thresholding\n",
    "\n",
    "- $\\|x\\|_1 = |x_1| + \\ldots + |x_n|$\n",
    "- Separable sum\n",
    "- $prox_{\\alpha \\|x\\|_1} (x)_i = prox_{\\alpha |\\cdot|}(x_i)$\n",
    "- $prox_{\\alpha |\\cdot|} (x_i) = \\arg\\min_u (|u| + 1/(2\\alpha)\\|x_i - u\\|^2_2)$\n",
    "- Analytical solution\n",
    "$$ \n",
    "prox_{\\alpha |\\cdot|} (x_i) = \\begin{cases} x_i - \\alpha & x_i \\geq \\alpha  \\\\ 0 & |x_i| \\leq \\alpha \\\\ x_i + \\alpha & x_i \\leq -\\alpha \\end{cases}\n",
    "$$\n",
    "- Vectorized form\n",
    "$$\n",
    "prox_{\\alpha \\|x\\|_1} (x) = \\text{sign}(x)(|x| - \\alpha)_+, \\; |x| = (|x_1|, \\ldots, |x_n|)\n",
    "$$"
   ]
  },
  {
   "cell_type": "markdown",
   "metadata": {
    "slideshow": {
     "slide_type": "slide"
    }
   },
   "source": [
    "####  (F)ISTA\n",
    "\n",
    "- Proximal gradient method for Lasso problem is known as ISTA (Iterative shrinkage-thresholding algorithm)\n",
    "- Fast proximal gradient is known as FISTA (Fast ISTA)"
   ]
  },
  {
   "cell_type": "markdown",
   "metadata": {
    "slideshow": {
     "slide_type": "slide"
    }
   },
   "source": [
    "### Experiments"
   ]
  },
  {
   "cell_type": "code",
   "execution_count": 6,
   "metadata": {
    "slideshow": {
     "slide_type": "slide"
    }
   },
   "outputs": [],
   "source": [
    "def prox_alg(f, f_grad, g_prox, x0, num_iter, beta=0.5, fix_lam=None, accel=False):\n",
    "    conv = [x0]\n",
    "    x = x0.copy()\n",
    "    if accel:\n",
    "        t_prev = 1\n",
    "        t_next = (1 + np.sqrt(1 + 4 * t_prev**2)) / 2.\n",
    "    if fix_lam is None:\n",
    "        lam = 1.\n",
    "    for i in range(num_iter):\n",
    "        if accel and i > 0:\n",
    "            x = x + (t_prev - 1) / t_next * (x - conv[-2])\n",
    "            t_prev = t_next\n",
    "            t_next = (1 + np.sqrt(1 + 4 * t_prev**2)) / 2.\n",
    "        if fix_lam is None:\n",
    "            while True:\n",
    "                z = g_prox(x - lam * f_grad(x), lam)\n",
    "                if f(z) <= f(x) + f_grad(x).dot(z - x) + np.linalg.norm(z - x)**2 / (2 * lam):\n",
    "                    break\n",
    "                else:\n",
    "                    lam = lam * beta\n",
    "        else:\n",
    "            z = g_prox(x - fix_lam * f_grad(x), fix_lam)\n",
    "        x = z.copy()\n",
    "        conv.append(x)\n",
    "    return x, conv"
   ]
  },
  {
   "cell_type": "code",
   "execution_count": 7,
   "metadata": {
    "slideshow": {
     "slide_type": "slide"
    }
   },
   "outputs": [],
   "source": [
    "f = lambda x: np.linalg.norm(A.dot(x) - y)**2 / 2\n",
    "f_grad = lambda x: A.T.dot(A.dot(x) - y)\n",
    "f_subgrad = lambda x: A.T.dot(A.dot(x) - y) + gamma * np.sign(x)\n",
    "\n",
    "def g_prox(h, lam):\n",
    "    return np.sign(h) * np.maximum(np.abs(h) - lam * gamma, 0) "
   ]
  },
  {
   "cell_type": "code",
   "execution_count": 8,
   "metadata": {
    "slideshow": {
     "slide_type": "slide"
    }
   },
   "outputs": [
    {
     "name": "stdout",
     "output_type": "stream",
     "text": [
      "Number of nonzeros in x_true = 107\n",
      "Gamma = 0.3637573290728589\n",
      "S2N ratio = 8.83535922792507\n"
     ]
    }
   ],
   "source": [
    "import sklearn.preprocessing as skprep\n",
    "m = 500\n",
    "n = 2500\n",
    "A = np.random.rand(m, n)\n",
    "A = skprep.normalize(A, norm=\"l2\", axis=0)\n",
    "L = np.linalg.eigvalsh(A.T.dot(A)).max()\n",
    "x_true = np.random.randn(n)\n",
    "x_true[np.random.rand(n) < 0.96] = 0\n",
    "print(\"Number of nonzeros in x_true = {}\".format(np.sum(x_true != 0)))\n",
    "v = 9e-2 * np.random.randn(m)\n",
    "y = A.dot(x_true) + v\n",
    "gamma_max = np.linalg.norm(A.T.dot(y), ord=np.inf)\n",
    "gamma = 0.1 * gamma_max\n",
    "print(\"Gamma = {}\".format(gamma))\n",
    "print(\"S2N ratio = {}\".format(np.linalg.norm(A.dot(x_true))**2 / np.linalg.norm(v)**2))\n",
    "f_star = f(x_true) + gamma*np.linalg.norm(x_true, 1)"
   ]
  },
  {
   "cell_type": "code",
   "execution_count": 9,
   "metadata": {
    "slideshow": {
     "slide_type": "slide"
    }
   },
   "outputs": [],
   "source": [
    "num_iter = 500\n",
    "# x0 = np.zeros(n)\n",
    "x0 = np.random.rand(n)"
   ]
  },
  {
   "cell_type": "code",
   "execution_count": 10,
   "metadata": {
    "slideshow": {
     "slide_type": "slide"
    }
   },
   "outputs": [
    {
     "name": "stdout",
     "output_type": "stream",
     "text": [
      "Number nonzeros in x* = 2023\n",
      "f* = 159.51745043436227\n",
      "Number nonzeros in x* = 37\n",
      "f* = 13.13430160141383\n"
     ]
    }
   ],
   "source": [
    "x, conv = prox_alg(f, f_grad, g_prox, x0, num_iter, fix_lam=None)\n",
    "print(\"Number nonzeros in x* = {}\".format(np.sum(x != 0)))\n",
    "print(\"f* = {}\".format(f(x) + gamma * np.linalg.norm(x, 1)))\n",
    "x_acc, conv_acc = prox_alg(f, f_grad, g_prox, x0, num_iter, fix_lam=None, accel=True)\n",
    "print(\"Number nonzeros in x* = {}\".format(np.sum(x_acc != 0)))\n",
    "print(\"f* = {}\".format(f(x_acc) + gamma * np.linalg.norm(x_acc, 1)))"
   ]
  },
  {
   "cell_type": "code",
   "execution_count": 11,
   "metadata": {
    "slideshow": {
     "slide_type": "slide"
    }
   },
   "outputs": [
    {
     "name": "stdout",
     "output_type": "stream",
     "text": [
      "f^* = 9.447900613204844\n"
     ]
    }
   ],
   "source": [
    "subgrad_m = methods.fo.SubgradientMethod(f, f_subgrad, ss.ConstantStepSize(1e-3))\n",
    "x_subgrad = subgrad_m.solve(x0=x0, max_iter=num_iter)\n",
    "print(\"f^* = {}\".format(f(x_subgrad)))"
   ]
  },
  {
   "cell_type": "code",
   "execution_count": 12,
   "metadata": {
    "slideshow": {
     "slide_type": "slide"
    }
   },
   "outputs": [
    {
     "data": {
      "image/png": "[encoded data removed]",
      "text/plain": [
       "<Figure size 720x576 with 1 Axes>"
      ]
     },
     "metadata": {},
     "output_type": "display_data"
    }
   ],
   "source": [
    "plt.figure(figsize=(10, 8))\n",
    "fontsize=25\n",
    "plt.plot([f(x) + gamma * np.linalg.norm(x, 1) for x in conv], label=\"ISTA\")\n",
    "plt.plot([f(x) + gamma * np.linalg.norm(x, 1) for x in conv_acc], label=\"FISTA\")\n",
    "plt.plot([f(x) + gamma * np.linalg.norm(x, 1) for x in subgrad_m.get_convergence()], label=\"Subgradient method\")\n",
    "plt.legend(fontsize=fontsize)\n",
    "plt.xlabel(r\"Number of iterations, $k$\", fontsize=fontsize)\n",
    "plt.ylabel(r\"Lasso objective, $h(x_k) + g(x_k)$\", fontsize=fontsize)\n",
    "plt.xticks(fontsize=fontsize)\n",
    "_ = plt.yticks(fontsize=fontsize)\n",
    "plt.yscale(\"log\")"
   ]
  },
  {
   "cell_type": "markdown",
   "metadata": {
    "slideshow": {
     "slide_type": "fragment"
    }
   },
   "source": [
    "## Matrix decomposition\n",
    "\n",
    "\\begin{align*}\n",
    "& \\min \\phi_1(X_1) + \\gamma_2 \\phi_2(X_2) + \\ldots + \\gamma_N \\phi_N(X_N) \\\\\n",
    "\\text{s.t. } & X_1 + \\ldots + X_N = A\n",
    "\\end{align*}\n",
    "\n",
    "- Decompose matrix in the sum of well-structured matrices\n",
    "- [Robust PCA](https://statweb.stanford.edu/~candes/papers/RobustPCA.pdf): $A = L + S$, where \n",
    "    - $L$ is low-rank\n",
    "    - $S$ is sparse\n",
    "    \n",
    "Good presentation about robust PCA is [here](http://www.princeton.edu/~yc5/ele538b_sparsity/lectures/robust_PCA.pdf)"
   ]
  },
  {
   "cell_type": "markdown",
   "metadata": {
    "slideshow": {
     "slide_type": "slide"
    }
   },
   "source": [
    "### Some penalties and structures being induced by them\n",
    "\n",
    "- Squared Frobenius norm gives small entries of $X$\n",
    "\n",
    "$$\n",
    "\\phi(X) = \\sum_{i,j} X^2_{ij}\n",
    "$$\n",
    "\n",
    "- Entrywise $\\ell_1$ norm leads to sparsity of $X$\n",
    "\n",
    "$$\n",
    "\\phi(X) = \\sum_{i,j} |X_{ij}|\n",
    "$$\n",
    "\n",
    "- Nuclear norm gives low-rank matrix $X$ \n",
    "\n",
    "$$\n",
    "\\phi(X) = \\|X\\|_* = \\sum_{i=1}^n \\sigma_i(X)\n",
    "$$"
   ]
  },
  {
   "cell_type": "code",
   "execution_count": 13,
   "metadata": {
    "slideshow": {
     "slide_type": "slide"
    }
   },
   "outputs": [],
   "source": [
    "import copy\n",
    "\n",
    "def prox_alg_mat(f, f_grad, g_prox, X0, num_iter, beta=0.5, fix_lam=None, accel=False):\n",
    "    conv = [X0]\n",
    "    X = copy.copy(X0)\n",
    "    if accel:\n",
    "        t_prev = 1\n",
    "        t_next = (1 + np.sqrt(1 + 4 * t_prev**2)) / 2.\n",
    "    if fix_lam is None:\n",
    "        lam = 1.\n",
    "    Z = [[] for X in X0]\n",
    "    for i in range(num_iter):\n",
    "        if accel and i > 0:\n",
    "            for i in range(len(X)):\n",
    "                X[i] = X[i] + (t_prev - 1) / t_next * (X[i] - conv[-2][i])\n",
    "            t_prev = t_next\n",
    "            t_next = (1 + np.sqrt(1 + 4 * t_prev**2)) / 2.\n",
    "        if fix_lam is None:\n",
    "            current_f = f(X)\n",
    "            current_grad = []\n",
    "            for grad in f_grad:\n",
    "                current_grad.append(grad(X))\n",
    "            while True:\n",
    "                for i, g in enumerate(g_prox):\n",
    "                    Z[i] = g(X[i] - lam * current_grad[i], lam)\n",
    "                lin_term = 0\n",
    "                for i in range(len(Z)):\n",
    "                    lin_term += np.trace(current_grad[i].T.dot(Z[i] - X[i]))\n",
    "                quad_term = 0\n",
    "                for i in range(len(Z)):\n",
    "                    quad_term += np.linalg.norm(Z[i] - X[i])**2\n",
    "                if f(Z) <= current_f + lin_term + quad_term / (2 * lam):\n",
    "                    break\n",
    "                else:\n",
    "                    lam = lam * beta\n",
    "        else:\n",
    "            for i, g in enumerate(g_prox):\n",
    "                Z[i] = g(X[i] - fix_lam * f_grad[i](X), fix_lam)\n",
    "        X = copy.copy(Z)\n",
    "        conv.append(X)\n",
    "    return X, conv"
   ]
  },
  {
   "cell_type": "code",
   "execution_count": 18,
   "metadata": {
    "slideshow": {
     "slide_type": "slide"
    }
   },
   "outputs": [
    {
     "name": "stdout",
     "output_type": "stream",
     "text": [
      "1034\n",
      "18.338963029174305\n",
      "2.419384168646618\n"
     ]
    }
   ],
   "source": [
    "m = 100\n",
    "n = 100\n",
    "rank = 4\n",
    "L = np.random.randn(m, rank).dot(np.random.randn(rank, n))\n",
    "S = 20 * np.random.rand(m * n) - 10\n",
    "S[np.random.rand(m*n) < 0.9] = 0\n",
    "print(np.sum(S != 0))\n",
    "S = S.reshape(m, n)\n",
    "V = 0.05 * np.random.randn(m, n)\n",
    "A = L + S + V\n",
    "max_gamma_3 = np.linalg.norm(A, ord=\"nuc\")\n",
    "gamma_3 = 0.01 * max_gamma_3\n",
    "print(gamma_3)\n",
    "max_gamma_2 = np.max(np.abs(A))\n",
    "gamma_2 = 0.15 * max_gamma_2\n",
    "print(gamma_2)"
   ]
  },
  {
   "cell_type": "code",
   "execution_count": 26,
   "metadata": {
    "slideshow": {
     "slide_type": "slide"
    }
   },
   "outputs": [
    {
     "name": "stdout",
     "output_type": "stream",
     "text": [
      "----------------------------------------------------------------------------\n",
      "\tSCS v1.2.6 - Splitting Conic Solver\n",
      "\t(c) Brendan O'Donoghue, Stanford University, 2012-2016\n",
      "----------------------------------------------------------------------------\n",
      "Lin-sys: sparse-indirect, nnz in A = 160503, CG tol ~ 1/iter^(2.00)\n",
      "eps = 1.00e-05, alpha = 1.50, max_iters = 3000, normalize = 1, scale = 1.00\n",
      "Variables n = 70203, constraints m = 100303\n",
      "Cones:\tprimal zero / dual free vars: 40000\n",
      "\tlinear vars: 20100\n",
      "\tsoc vars: 3, soc blks: 1\n",
      "\tsd vars: 40200, sd blks: 2\n",
      "Setup time: 9.61e-03s\n",
      "----------------------------------------------------------------------------\n",
      " Iter | pri res | dua res | rel gap | pri obj | dua obj | kap/tau | time (s)\n",
      "----------------------------------------------------------------------------\n",
      "     0|      inf       inf       nan      -inf       inf       inf  4.46e-02 \n",
      "   100| 2.24e-03  1.59e-03  1.10e-03  5.99e+02  5.97e+02  1.68e-12  2.04e+00 \n",
      "   200| 1.65e-03  1.90e-03  2.34e-03  5.58e+02  5.61e+02  4.98e-12  4.23e+00 \n",
      "   300| 4.48e-04  1.08e-03  4.07e-03  5.48e+02  5.53e+02  1.69e-12  6.50e+00 \n",
      "   400| 2.59e-04  6.65e-04  2.09e-03  5.50e+02  5.53e+02  1.72e-12  8.42e+00 \n",
      "   500| 2.21e-04  4.44e-04  1.23e-03  5.49e+02  5.50e+02  1.73e-12  1.04e+01 \n",
      "   600| 1.56e-04  2.92e-04  8.60e-04  5.48e+02  5.49e+02  1.74e-12  1.23e+01 \n",
      "   700| 9.68e-05  1.96e-04  6.03e-04  5.47e+02  5.48e+02  1.75e-12  1.46e+01 \n",
      "   800| 6.56e-05  1.37e-04  4.46e-04  5.47e+02  5.47e+02  1.75e-12  1.68e+01 \n",
      "   900| 4.54e-05  9.81e-05  3.29e-04  5.47e+02  5.47e+02  1.76e-12  1.88e+01 \n",
      "  1000| 3.24e-05  7.12e-05  2.41e-04  5.47e+02  5.47e+02  1.76e-12  2.07e+01 \n",
      "  1100| 2.37e-05  5.25e-05  1.80e-04  5.47e+02  5.47e+02  5.28e-12  2.26e+01 \n",
      "  1200| 1.74e-05  3.99e-05  1.40e-04  5.47e+02  5.47e+02  5.29e-12  2.48e+01 \n",
      "  1300| 1.36e-05  3.15e-05  1.14e-04  5.46e+02  5.47e+02  1.76e-12  2.68e+01 \n",
      "  1400| 1.04e-05  2.47e-05  8.95e-05  5.46e+02  5.47e+02  1.76e-12  2.86e+01 \n",
      "  1500| 9.37e-06  2.03e-05  7.41e-05  5.46e+02  5.47e+02  1.76e-12  3.04e+01 \n",
      "  1600| 6.63e-06  1.53e-05  5.44e-05  5.46e+02  5.46e+02  1.77e-12  3.22e+01 \n",
      "  1700| 1.72e-05  2.19e-05  4.23e-05  5.46e+02  5.46e+02  1.77e-12  3.43e+01 \n",
      "  1800| 1.33e-05  3.83e-05  2.99e-05  5.46e+02  5.46e+02  1.77e-12  3.63e+01 \n",
      "  1900| 2.48e-04  1.03e-04  2.70e-04  5.47e+02  5.47e+02  5.30e-12  3.82e+01 \n",
      "  2000| 1.83e-05  1.14e-05  9.56e-06  5.46e+02  5.46e+02  1.77e-12  4.02e+01 \n",
      "  2100| 2.82e-05  3.18e-05  2.27e-05  5.46e+02  5.46e+02  1.77e-12  4.20e+01 \n",
      "  2200| 3.69e-05  2.51e-05  1.17e-04  5.46e+02  5.46e+02  1.77e-12  4.41e+01 \n",
      "  2300| 2.25e-02  2.50e-02  5.29e-04  5.46e+02  5.45e+02  1.77e-12  4.65e+01 \n",
      "  2400| 5.61e-05  7.96e-05  5.83e-05  5.46e+02  5.46e+02  1.77e-12  4.84e+01 \n",
      "  2500| 1.18e-05  1.49e-05  1.79e-07  5.46e+02  5.46e+02  5.30e-12  5.02e+01 \n",
      "  2600| 2.32e-04  2.22e-04  2.44e-05  5.46e+02  5.46e+02  1.77e-12  5.20e+01 \n",
      "  2700| 6.80e-05  1.02e-04  7.43e-06  5.46e+02  5.46e+02  1.77e-12  5.41e+01 \n",
      "  2800| 3.90e-05  5.48e-05  5.89e-06  5.46e+02  5.46e+02  1.77e-12  5.62e+01 \n",
      "  2900| 2.96e-05  1.57e-05  8.26e-05  5.46e+02  5.46e+02  1.77e-12  5.81e+01 \n",
      "  3000| 2.00e-05  2.73e-05  7.07e-06  5.46e+02  5.46e+02  1.77e-12  5.98e+01 \n",
      "----------------------------------------------------------------------------\n",
      "Status: Solved/Inaccurate\n",
      "Hit max_iters, solution may be inaccurate\n",
      "Timing: Solve time: 5.98e+01s\n",
      "\tLin-sys: avg # CG iterations: 7.93, avg solve time: 1.07e-02s\n",
      "\tCones: avg projection time: 7.41e-03s\n",
      "----------------------------------------------------------------------------\n",
      "Error metrics:\n",
      "dist(s, K) = 7.2749e-05, dist(y, K*) = 2.4021e-07, s'y/|s||y| = 2.3852e-11\n",
      "|Ax + s - b|_2 / (1 + |b|_2) = 2.0040e-05\n",
      "|A'y + c|_2 / (1 + |c|_2) = 2.7338e-05\n",
      "|c'x + b'y| / (1 + |c'x| + |b'y|) = 7.0721e-06\n",
      "----------------------------------------------------------------------------\n",
      "c'x = 546.3550, -b'y = 546.3473\n",
      "============================================================================\n",
      "CVXPy optimal value = 546.354989224373\n",
      "Rank of lowrank term = 100\n"
     ]
    }
   ],
   "source": [
    "import cvxpy as cvx\n",
    "\n",
    "L_c = cvx.Variable((m, n))\n",
    "S_c = cvx.Variable((m, n))\n",
    "problem = cvx.Problem(cvx.Minimize(0.5 * cvx.norm(A  - (L_c + S_c))**2 + gamma_2 * cvx.norm(S_c, 1) + \n",
    "                                  gamma_3 * cvx.norm(L_c, \"nuc\")))\n",
    "problem.solve(solver=\"SCS\", verbose=True, eps=1e-5, max_iters=3000, use_indirect=True)\n",
    "L_cvx = np.array(L_c.value)\n",
    "S_cvx = np.array(S_c.value)\n",
    "print(\"CVXPy optimal value = {}\".format(problem.value))\n",
    "print(\"Rank of lowrank term = {}\".format(np.linalg.matrix_rank(L_cvx)))"
   ]
  },
  {
   "cell_type": "code",
   "execution_count": 22,
   "metadata": {
    "slideshow": {
     "slide_type": "slide"
    }
   },
   "outputs": [],
   "source": [
    "def f(X):\n",
    "    Y = np.zeros_like(X[0])\n",
    "    for y in X:\n",
    "        Y = Y + y\n",
    "    return np.linalg.norm(A - Y, ord=\"fro\")**2 * 0.5\n",
    "\n",
    "def grad_f_L(X):\n",
    "    return X[0] + X[1] - A\n",
    "\n",
    "def grad_f_S(X):\n",
    "    return X[0] + X[1] - A\n",
    "\n",
    "f_grad = [grad_f_S, grad_f_L]\n",
    "\n",
    "def entry_l1_prox(X, lam):\n",
    "    return np.sign(X) * np.maximum(np.abs(X) - gamma_2 * lam, 0) \n",
    "\n",
    "def nuclear_norm_prox(X, lam):\n",
    "    U, sigma, V = np.linalg.svd(X, full_matrices=False)\n",
    "    return U.dot(np.diag(np.maximum(sigma - lam * gamma_3, 0))).dot(V)\n",
    "\n",
    "g_prox = [entry_l1_prox, nuclear_norm_prox]"
   ]
  },
  {
   "cell_type": "code",
   "execution_count": 23,
   "metadata": {
    "slideshow": {
     "slide_type": "slide"
    }
   },
   "outputs": [],
   "source": [
    "# X0 = [np.random.randn(m, n), np.random.randn(m, n)]\n",
    "X0 = [np.zeros((m, n)), np.zeros((m, n))]\n",
    "num_iter = 600"
   ]
  },
  {
   "cell_type": "code",
   "execution_count": 24,
   "metadata": {
    "slideshow": {
     "slide_type": "slide"
    }
   },
   "outputs": [
    {
     "name": "stdout",
     "output_type": "stream",
     "text": [
      "f* = 15617.653782762085\n",
      "Rank of the low-rank term = 7\n",
      "Number of nnz in sparse term = 840\n",
      "f* = 15471.882342832263\n",
      "Rank of the low-rank term = 4\n",
      "Number of nnz in sparse term = 779\n"
     ]
    }
   ],
   "source": [
    "step = 5e-3\n",
    "X_pm, conv = prox_alg_mat(f, f_grad, g_prox, X0, num_iter, beta=0.5, fix_lam=step, accel=False)\n",
    "print(\"f* = {}\".format(f(X_pm) + gamma_2 * np.sum(np.abs(X_pm[0])) + gamma_3 * np.linalg.norm(X_pm[1], \"nuc\")))\n",
    "print(\"Rank of the low-rank term = {}\".format(np.linalg.matrix_rank(X_pm[1])))\n",
    "print(\"Number of nnz in sparse term = {}\".format(np.sum(X_pm[0] != 0)))\n",
    "X_pm_acc, conv_acc = prox_alg_mat(f, f_grad, g_prox, X0, num_iter, beta=0.5, fix_lam=step, accel=True)\n",
    "print(\"f* = {}\".format(f(X_pm_acc) + gamma_2 * np.sum(np.abs(X_pm_acc[0])) + \n",
    "                       gamma_3 * np.linalg.norm(X_pm_acc[1], \"nuc\")))\n",
    "print(\"Rank of the low-rank term = {}\".format(np.linalg.matrix_rank(X_pm_acc[1])))\n",
    "print(\"Number of nnz in sparse term = {}\".format(np.sum(X_pm_acc[0] != 0)))"
   ]
  },
  {
   "cell_type": "code",
   "execution_count": 25,
   "metadata": {
    "slideshow": {
     "slide_type": "slide"
    }
   },
   "outputs": [
    {
     "data": {
      "image/png": "[encoded data removed]",
      "text/plain": [
       "<Figure size 720x576 with 1 Axes>"
      ]
     },
     "metadata": {},
     "output_type": "display_data"
    }
   ],
   "source": [
    "plt.figure(figsize=(10, 8))\n",
    "fontsize=25\n",
    "plt.plot([f(X) + gamma_2 * np.sum(np.abs(X[0])) + gamma_3 * np.linalg.norm(X[1], \"nuc\") for X in conv], label=\"PGM\")\n",
    "plt.plot([f(X) + gamma_2 * np.sum(np.abs(X[0])) + gamma_3 * np.linalg.norm(X[1], \"nuc\") for X in conv_acc], label=\"FPGM\")\n",
    "plt.legend(fontsize=fontsize)\n",
    "plt.xlabel(r\"Number of iterations, $k$\", fontsize=fontsize)\n",
    "plt.ylabel(r\"Objective\", fontsize=fontsize)\n",
    "plt.xticks(fontsize=fontsize)\n",
    "_ = plt.yticks(fontsize=fontsize)\n",
    "plt.yscale(\"log\")"
   ]
  },
  {
   "cell_type": "markdown",
   "metadata": {
    "slideshow": {
     "slide_type": "slide"
    }
   },
   "source": [
    "### Application in video processing\n",
    "\n",
    "- Stacked matrix with frames\n",
    "- Decompose it as sparse + low-rank term\n",
    "- Sparse term consists of vectorized foreground part of frames\n",
    "- Low-rank term consists of vectorized background part of frames"
   ]
  },
  {
   "cell_type": "markdown",
   "metadata": {
    "slideshow": {
     "slide_type": "slide"
    }
   },
   "source": [
    "##  Further directions\n",
    "\n",
    "1. Non-euclidean distance used as penalty, i.e. Bregman divergence and Mirror descent method \n",
    "2. Non-convex optimization\n",
    "3. Parallel implementations and distributed setting\n",
    "4. Use different discretization methods from ODE-related science to get new fast optimization methods, see [this paper](https://arxiv.org/pdf/1805.00521.pdf)"
   ]
  },
  {
   "cell_type": "markdown",
   "metadata": {
    "slideshow": {
     "slide_type": "slide"
    }
   },
   "source": [
    "## References\n",
    "\n",
    "1. [Proximal algorithms](http://web.stanford.edu/~boyd/papers/pdf/prox_algs.pdf) and related [sources](http://web.stanford.edu/~boyd/papers/prox_algs.html) by N. Parikh and S. Boyd \n",
    "2. [Gradient-based algorithms with applications to signal recovery problems](http://www.math.tau.ac.il/~teboulle/papers/gradient_chapter.pdf) by A. Beck and M. Teboulle\n",
    "3. [Proximal Backpropagation](https://arxiv.org/abs/1706.04638) by T Frerix et al (ICLR 2018)\n",
    "4. [Stochastic Proximal Gradient Descent with Acceleration Techniques](https://papers.nips.cc/paper/5610-stochastic-proximal-gradient-descent-with-acceleration-techniques.pdf) by A. Nitanda (NIPS 2014)"
   ]
  },
  {
   "cell_type": "markdown",
   "metadata": {
    "slideshow": {
     "slide_type": "slide"
    }
   },
   "source": [
    "## Summary\n",
    "\n",
    "1. Proximal method\n",
    "2. Proximal map and its property\n",
    "3. Proximal gradient method and its acceleration\n",
    "5. Lasso application"
   ]
  }
 ],
 "metadata": {
  "celltoolbar": "Slideshow",
  "kernelspec": {
   "display_name": "Python 3 (cvxpy)",
   "language": "python",
   "name": "cvxpy"
  },
  "language_info": {
   "codemirror_mode": {
    "name": "ipython",
    "version": 3
   },
   "file_extension": ".py",
   "mimetype": "text/x-python",
   "name": "python",
   "nbconvert_exporter": "python",
   "pygments_lexer": "ipython3",
   "version": "3.6.8"
  }
 },
 "nbformat": 4,
 "nbformat_minor": 2
}

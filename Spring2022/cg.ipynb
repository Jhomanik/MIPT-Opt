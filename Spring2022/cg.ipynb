{
 "cells": [
  {
   "cell_type": "markdown",
   "metadata": {
    "slideshow": {
     "slide_type": "slide"
    }
   },
   "source": [
    "# Beyond gradient descent\n",
    "## Метод сопряжённых градиентов и тяжёлого шарика"
   ]
  },
  {
   "cell_type": "markdown",
   "metadata": {
    "slideshow": {
     "slide_type": "slide"
    }
   },
   "source": [
    "## Система линейных уравнений vs. задача безусловной минимизации\n",
    "Рассмотрим задачу\n",
    "\n",
    "$$\n",
    "\\min_{x \\in \\mathbb{R}^n} \\frac{1}{2}x^{\\top}Ax - b^{\\top}x,\n",
    "$$\n",
    "\n",
    "где $A \\in \\mathbb{S}^n_{++}$.\n",
    "Из необходимого условия экстремума имеем\n",
    "\n",
    "$$\n",
    "Ax^* = b\n",
    "$$\n",
    "\n",
    "Также обозначим $f'(x_k) = Ax_k - b = r_k$"
   ]
  },
  {
   "cell_type": "markdown",
   "metadata": {
    "slideshow": {
     "slide_type": "slide"
    }
   },
   "source": [
    "## Как решить систему $Ax = b$?\n",
    "\n",
    "- Прямые методы основаны на матричных разложениях:\n",
    "    - Плотная матрица $A$: для размерностей не больше нескольких тысяч\n",
    "    - Разреженная (sparse) матрица $A$: для размерностей порядка $10^4 - 10^5$\n",
    "- Итерационные методы: хороши во многих случаях, единственный подход для задач с размерностью $ > 10^6$"
   ]
  },
  {
   "cell_type": "markdown",
   "metadata": {
    "slideshow": {
     "slide_type": "slide"
    }
   },
   "source": [
    "## Метод сопряжённых направлений\n",
    "\n",
    "В градиентном спуске направления убывания - анти-градиенты, но для функций с плохо обусловленным гессианом сходимость **медленная**.\n",
    "\n",
    "**Идея:** двигаться вдоль направлений, которые гарантируют сходимость за $n$ шагов.\n",
    "\n",
    "**Определение.** Множество ненулевых векторов $\\{p_0, \\ldots, p_l\\}$ называется *сопряжённым* относительно матрицы $A \\in \\mathbb{S}^n_{++}$, если \n",
    "\n",
    "$$\n",
    "p^{\\top}_iAp_j = 0, \\qquad i \\neq j\n",
    "$$"
   ]
  },
  {
   "cell_type": "markdown",
   "metadata": {
    "slideshow": {
     "slide_type": "slide"
    }
   },
   "source": [
    "**Утверждение.** Для любой $x_0 \\in \\mathbb{R}^n$ последовательность $\\{x_k\\}$, генерируемая методом сопряжённых направлений, сходится к решению системы $Ax = b$ максимум за $n$ шагов.\n",
    "\n",
    "```python\n",
    "def ConjugateDirections(x0, A, b, p):\n",
    "    \n",
    "    x = x0\n",
    "    \n",
    "    r = A.dot(x) - b\n",
    "    \n",
    "    for i in range(len(p)):\n",
    "        \n",
    "        alpha = - (r.dot(p[i])) / (p[i].dot(A.dot(p[i])))\n",
    "        \n",
    "        x = x + alpha * p[i]\n",
    "        \n",
    "        r = A.dot(x) - b\n",
    "        \n",
    "    return x\n",
    "\n",
    "```"
   ]
  },
  {
   "cell_type": "markdown",
   "metadata": {
    "slideshow": {
     "slide_type": "slide"
    }
   },
   "source": [
    "### Примеры сопряжённых направлений\n",
    "\n",
    "- Собственные векторы матрицы $A$\n",
    "- Для любого набора из $n$ векторов можно провести аналог ортогонализации Грама-Шмидта и получить сопряжённые направления\n",
    "\n",
    "**Вопрос:** что такое ортогонализация Грама-Шмидта? :)"
   ]
  },
  {
   "cell_type": "markdown",
   "metadata": {
    "slideshow": {
     "slide_type": "slide"
    }
   },
   "source": [
    "## Метод сопряжённых градиентов\n",
    "\n",
    "**Идея:** новое направление $p_k$ ищется в виде $p_k = -r_k + \\beta_k p_{k-1}$, где $\\beta_k$ выбирается, исходя из требования сопряжённости $p_k$ и $p_{k-1}$:\n",
    "\n",
    "$$\n",
    "\\beta_k = \\dfrac{p^{\\top}_{k-1}Ar_k}{p^{\\top}_{k-1}Ap_{k-1}}\n",
    "$$\n",
    "\n",
    "Таким образом, для получения следующего сопряжённого направления $p_k$ необходимо хранить только сопряжённое направление $p_{k-1}$ и остаток $r_k$ с предыдущей итерации. \n",
    "\n",
    "**Вопрос:** как находить размер шага $\\alpha_k$?"
   ]
  },
  {
   "cell_type": "markdown",
   "metadata": {
    "slideshow": {
     "slide_type": "slide"
    }
   },
   "source": [
    "## Сопряжённость сопряжённых градиентов\n",
    "\n",
    "**Теорема**\n",
    "Пусть после $k$ итераций $x_k \\neq x^*$. Тогда \n",
    "\n",
    "- $\\langle r_k, r_i \\rangle = 0, \\; i = 1, \\ldots k - 1$\n",
    "- $\\mathtt{span}(r_0, \\ldots, r_k) = \\mathtt{span}(r_0, Ar_0, \\ldots, A^kr_0)$\n",
    "- $\\mathtt{span}(p_0, \\ldots, p_k) = \\mathtt{span}(r_0, Ar_0, \\ldots, A^kr_0)$\n",
    "- $p_k^{\\top}Ap_i = 0$, $i = 1,\\ldots,k-1$"
   ]
  },
  {
   "cell_type": "markdown",
   "metadata": {
    "slideshow": {
     "slide_type": "slide"
    }
   },
   "source": [
    "### Теоремы сходимости\n",
    "\n",
    "**Теорема 1.** Если матрица $A$ имеет только $r$ различных собственных значений, то метод сопряжённых градиентов cойдётся за $r$ итераций.\n",
    "\n",
    "**Теорема 2.** Имеет место следующая оценка сходимости\n",
    "\n",
    "$$\n",
    "\\| x_{k} - x^* \\|_A \\leq 2\\left( \\dfrac{\\sqrt{\\kappa(A)} - 1}{\\sqrt{\\kappa(A)} + 1} \\right)^k \\|x_0 - x^*\\|_A,\n",
    "$$\n",
    "\n",
    "где $\\|x\\|^2_A = x^{\\top}Ax$ и $\\kappa(A) = \\frac{\\lambda_1(A)}{\\lambda_n(A)}$ - число обусловленности матрицы $A$, $\\lambda_1(A) \\geq ... \\geq \\lambda_n(A)$ - собственные значения матрицы $A$\n",
    "\n",
    "**Замечание:** сравните коэффициент геометрической прогрессии с аналогом в градиентном спуске."
   ]
  },
  {
   "cell_type": "markdown",
   "metadata": {
    "slideshow": {
     "slide_type": "slide"
    }
   },
   "source": [
    "### Интерпретации метода сопряжённых градиентов\n",
    "\n",
    "- Градиентный спуск в пространстве $y = Sx$, где $S = [p_0, \\ldots, p_n]$, в котором матрица $A$ становится диагональной (или единичной в случае ортонормированности сопряжённых направлений)\n",
    "- Поиск оптимального решения в [Крыловском подпространстве](https://stanford.edu/class/ee364b/lectures/conj_grad_slides.pdf) $\\mathcal{K}_k(A) = \\{b, Ab, A^2b, \\ldots A^{k-1}b\\}$\n",
    "\n",
    "$$\n",
    "x_k = \\arg\\min_{x \\in \\mathcal{K}_k} f(x)\n",
    "$$\n",
    "\n",
    "- Однако естественный базис Крыловского пространства неортогональный и, более того, **плохо обусловлен**.\n",
    "\n",
    "**Упражнение** Проверьте численно, насколько быстро растёт обусловленность матрицы из векторов $\\{b, Ab, ... \\}$\n",
    "\n",
    "- Поэтому его необходимо ортогонализовать, что и происходит в методе сопряжённых градиентов"
   ]
  },
  {
   "cell_type": "markdown",
   "metadata": {
    "slideshow": {
     "slide_type": "slide"
    }
   },
   "source": [
    "### Основное свойство\n",
    "$$ \n",
    "A^{-1}b \\in \\mathcal{K}_n(A)\n",
    "$$\n",
    "\n",
    "Доказательство\n",
    "\n",
    "- Теорема Гамильтона-Кэли: $p(A) = 0$, где $p(\\lambda) = \\det(A - \\lambda I)$\n",
    "- $p(A)b = A^nb + a_1A^{n-1}b + \\ldots + a_{n-1}Ab + a_n b = 0$\n",
    "- $A^{-1}p(A)b = A^{n-1}b + a_1A^{n-2}b + \\ldots + a_{n-1}b + a_nA^{-1}b = 0$\n",
    "- $A^{-1}b = -\\frac{1}{a_n}(A^{n-1}b + a_1A^{n-2}b + \\ldots + a_{n-1}b)$"
   ]
  },
  {
   "cell_type": "markdown",
   "metadata": {
    "slideshow": {
     "slide_type": "slide"
    }
   },
   "source": [
    "### Улучшенная версия метода сопряжённых градиентов\n",
    "На практике используются следующие формулы для шага $\\alpha_k$ и коэффициента $\\beta_{k}$:\n",
    "\n",
    "$$\n",
    "\\alpha_k = \\dfrac{r^{\\top}_k r_k}{p^{\\top}_{k}Ap_{k}} \\qquad \\beta_k = \\dfrac{r^{\\top}_k r_k}{r^{\\top}_{k-1} r_{k-1}}\n",
    "$$\n",
    "\n",
    "**Вопрос:** чем они лучше базовой версии?"
   ]
  },
  {
   "cell_type": "markdown",
   "metadata": {
    "slideshow": {
     "slide_type": "slide"
    }
   },
   "source": [
    "### Псевдокод метода сопряжённых градиентов\n",
    "```python\n",
    "def ConjugateGradientQuadratic(x0, A, b, eps):\n",
    "    \n",
    "    r = A.dot(x0) - b\n",
    "    \n",
    "    p = -r\n",
    "    \n",
    "    while np.linalg.norm(r) > eps:\n",
    "        \n",
    "        alpha = r.dot(r) / p.dot(A.dot(p))\n",
    "        \n",
    "        x = x + alpha * p\n",
    "        \n",
    "        r_next = r + alpha * A.dot(p)\n",
    "        \n",
    "        beta = r_next.dot(r_next) / r.dot(r)\n",
    "        \n",
    "        p = -r_next + beta * p\n",
    "        \n",
    "        r = r_next\n",
    "        \n",
    "    return x\n",
    "```"
   ]
  },
  {
   "cell_type": "markdown",
   "metadata": {
    "slideshow": {
     "slide_type": "slide"
    }
   },
   "source": [
    "## Метод сопряжённых градиентов для неквадратичной функции\n",
    "**Идея:** использовать градиенты $f'(x_k)$ неквадратичной функции вместо остатков $r_k$ и линейный поиск шага $\\alpha_k$ вместо аналитического вычисления. Получим метод Флетчера-Ривса.\n",
    "\n",
    "```python\n",
    "def ConjugateGradientFR(f, gradf, x0, eps):\n",
    "    \n",
    "    x = x0\n",
    "    \n",
    "    grad = gradf(x)\n",
    "    \n",
    "    p = -grad\n",
    "    \n",
    "    while np.linalg.norm(gradf(x)) > eps:\n",
    "        \n",
    "        alpha = StepSearch(x, f, gradf, **kwargs)\n",
    "        \n",
    "        x = x + alpha * p\n",
    "        \n",
    "        grad_next = gradf(x)\n",
    "        \n",
    "        beta = grad_next.dot(grad_next) / grad.dot(grad)\n",
    "        \n",
    "        p = -grad_next + beta * p\n",
    "        \n",
    "        grad = grad_next\n",
    "        \n",
    "        if restart_condition:\n",
    "            \n",
    "            p = -gradf(x)\n",
    "            \n",
    "    return x\n",
    "```"
   ]
  },
  {
   "cell_type": "markdown",
   "metadata": {
    "slideshow": {
     "slide_type": "slide"
    }
   },
   "source": [
    "### Теорема сходимости\n",
    "\n",
    "**Теорема.** Пусть \n",
    "- множество уровней $\\mathcal{L}$ ограничено\n",
    "- существует $\\gamma > 0$: $\\| f'(x) \\|_2 \\leq \\gamma$ для $x \\in \\mathcal{L}$\n",
    "Тогда\n",
    "\n",
    "$$\n",
    "\\lim_{j \\to \\infty} \\| f'(x_{k_j}) \\|_2 = 0\n",
    "$$"
   ]
  },
  {
   "cell_type": "markdown",
   "metadata": {
    "slideshow": {
     "slide_type": "slide"
    }
   },
   "source": [
    "### Перезапуск (restart)\n",
    "\n",
    "1. Для ускорения метода сопряжённых градиентов используют технику перезапусков: удаление ранее накопленной истории и перезапуск метода с текущей точки, как будто это точка $x_0$\n",
    "2. Существуют разные условия, сигнализирующие о том, что надо делать перезапуск, например\n",
    "    - $k = n$\n",
    "    - $\\dfrac{|\\langle f'(x_k), f'(x_{k-1}) \\rangle |}{\\| f'(x_k) \\|_2^2} \\geq \\nu \\approx 0.1$\n",
    "3. Можно показать (см. Nocedal, Wright Numerical Optimization, Ch. 5, p. 125), что запуск метода Флетчера-Ривза без использования перезапусков на некоторых итерациях может приводить к крайне медленной сходимости! \n",
    "4. Метод Полака-Рибьера и его модификации лишены подобного недостатка."
   ]
  },
  {
   "cell_type": "markdown",
   "metadata": {
    "slideshow": {
     "slide_type": "slide"
    }
   },
   "source": [
    "### Комментарии\n",
    "- Замечательная методичка \"An Introduction to the Conjugate Gradient Method Without the Agonizing Pain\" размещена [тут](https://www.cs.cmu.edu/~quake-papers/painless-conjugate-gradient.pdf)\n",
    "- Помимо метода Флетчера-Ривса существуют другие способы вычисления $\\beta_k$: метод Полака-Рибьера, метод Хестенса-Штифеля...\n",
    "- Для метода сопряжённых градиентов требуется 4 вектора: каких?\n",
    "- Самой дорогой операцией является умножение матрицы на вектор"
   ]
  },
  {
   "cell_type": "markdown",
   "metadata": {
    "slideshow": {
     "slide_type": "slide"
    }
   },
   "source": [
    "## Эксперименты\n"
   ]
  },
  {
   "cell_type": "markdown",
   "metadata": {
    "slideshow": {
     "slide_type": "slide"
    }
   },
   "source": [
    "### Квадратичная целевая функция"
   ]
  },
  {
   "cell_type": "code",
   "execution_count": 2,
   "metadata": {
    "slideshow": {
     "slide_type": "fragment"
    }
   },
   "outputs": [
    {
     "name": "stdout",
     "output_type": "stream",
     "text": [
      "A is normal matrix: ||AA* - A*A|| = 0.0\n"
     ]
    }
   ],
   "source": [
    "import numpy as np\n",
    "n = 100\n",
    "# Random\n",
    "# A = np.random.randn(n, n)\n",
    "# A = A.T.dot(A)\n",
    "# Clustered eigenvalues\n",
    "A = np.diagflat([np.ones(n//4), 10 * np.ones(n//4), 100*np.ones(n//4), 1000* np.ones(n//4)])\n",
    "U = np.random.rand(n, n)\n",
    "Q, _ = np.linalg.qr(U)\n",
    "A = Q.dot(A).dot(Q.T)\n",
    "A = (A + A.T) * 0.5\n",
    "print(\"A is normal matrix: ||AA* - A*A|| =\", np.linalg.norm(A.dot(A.T) - A.T.dot(A)))\n",
    "b = np.random.randn(n)\n",
    "# Hilbert matrix\n",
    "# A = np.array([[1.0 / (i+j - 1) for i in range(1, n+1)] for j in range(1, n+1)])\n",
    "# b = np.ones(n)\n",
    "\n",
    "f = lambda x: 0.5 * x.dot(A.dot(x)) - b.dot(x)\n",
    "grad_f = lambda x: A.dot(x) - b\n",
    "x0 = np.zeros(n)"
   ]
  },
  {
   "cell_type": "markdown",
   "metadata": {
    "slideshow": {
     "slide_type": "slide"
    }
   },
   "source": [
    "#### Распределение собственных значений"
   ]
  },
  {
   "cell_type": "code",
   "execution_count": 3,
   "metadata": {
    "slideshow": {
     "slide_type": "fragment"
    }
   },
   "outputs": [
    {
     "data": {
      "image/png": "[encoded data removed]",
      "text/plain": [
       "<Figure size 432x288 with 1 Axes>"
      ]
     },
     "metadata": {},
     "output_type": "display_data"
    }
   ],
   "source": [
    "%matplotlib inline\n",
    "import matplotlib.pyplot as plt\n",
    "plt.rc(\"text\", usetex=True)\n",
    "plt.rc(\"font\", family='serif')\n",
    "eigs = np.linalg.eigvalsh(A)\n",
    "plt.semilogy(np.unique(eigs))\n",
    "plt.ylabel(\"Eigenvalues\", fontsize=20)\n",
    "plt.xticks(fontsize=18)\n",
    "_ = plt.yticks(fontsize=18)"
   ]
  },
  {
   "cell_type": "markdown",
   "metadata": {
    "slideshow": {
     "slide_type": "slide"
    }
   },
   "source": [
    "#### Правильный ответ"
   ]
  },
  {
   "cell_type": "code",
   "execution_count": 4,
   "metadata": {
    "slideshow": {
     "slide_type": "fragment"
    }
   },
   "outputs": [],
   "source": [
    "import scipy.optimize as scopt\n",
    "\n",
    "def callback(x, array):\n",
    "    array.append(x)"
   ]
  },
  {
   "cell_type": "code",
   "execution_count": 5,
   "metadata": {
    "slideshow": {
     "slide_type": "fragment"
    }
   },
   "outputs": [
    {
     "name": "stdout",
     "output_type": "stream",
     "text": [
      "||f'(x*)|| = 2.5592968616118273e-09\n",
      "f* = -13.885945458007528\n"
     ]
    }
   ],
   "source": [
    "scopt_cg_array = []\n",
    "scopt_cg_callback = lambda x: callback(x, scopt_cg_array)\n",
    "x = scopt.minimize(f, x0, method=\"CG\", jac=grad_f, callback=scopt_cg_callback)\n",
    "x = x.x\n",
    "print(\"||f'(x*)|| =\", np.linalg.norm(A.dot(x) - b))\n",
    "print(\"f* =\", f(x))"
   ]
  },
  {
   "cell_type": "markdown",
   "metadata": {
    "slideshow": {
     "slide_type": "slide"
    }
   },
   "source": [
    "#### Реализация метода сопряжённых градиентов"
   ]
  },
  {
   "cell_type": "code",
   "execution_count": 6,
   "metadata": {
    "slideshow": {
     "slide_type": "fragment"
    }
   },
   "outputs": [],
   "source": [
    "def ConjugateGradientQuadratic(x0, A, b, tol=1e-8, callback=None):\n",
    "    x = x0\n",
    "    r = A.dot(x0) - b\n",
    "    p = -r\n",
    "    while np.linalg.norm(r) > tol:\n",
    "        alpha = r.dot(r) / p.dot(A.dot(p))\n",
    "        x = x + alpha * p\n",
    "        if callback is not None:\n",
    "            callback(x)\n",
    "        r_next = r + alpha * A.dot(p)\n",
    "        beta = r_next.dot(r_next) / r.dot(r)\n",
    "        p = -r_next + beta * p\n",
    "        r = r_next\n",
    "    return x"
   ]
  },
  {
   "cell_type": "code",
   "execution_count": 7,
   "metadata": {
    "slideshow": {
     "slide_type": "slide"
    }
   },
   "outputs": [
    {
     "name": "stdout",
     "output_type": "stream",
     "text": [
      "\t CG quadratic\n",
      "Required tolerance achieved!\n",
      "Convergence in 4 iterations\n",
      "Function value = -13.885945458007432\n",
      "Norm of gradient = 9.530176632435635\n",
      "\t Gradient Descent\n",
      "Maximum iteration exceeds!\n",
      "Convergence in 70 iterations\n",
      "Function value = -4.505606933125172\n",
      "Norm of gradient = 7.66200381895144\n",
      "Condition number of A = 1000.0000000003456\n"
     ]
    }
   ],
   "source": [
    "import liboptpy.unconstr_solvers as methods\n",
    "import liboptpy.step_size as ss\n",
    "\n",
    "max_iter = 70\n",
    "print(\"\\t CG quadratic\")\n",
    "cg_quad = methods.fo.ConjugateGradientQuad(A, b)\n",
    "x_cg = cg_quad.solve(x0, tol=1e-7, max_iter=max_iter, disp=True)\n",
    "\n",
    "print(\"\\t Gradient Descent\")\n",
    "gd = methods.fo.GradientDescent(f, grad_f, ss.ExactLineSearch4Quad(A, b))\n",
    "x_gd = gd.solve(x0, tol=1e-7, max_iter=max_iter, disp=True)\n",
    "\n",
    "print(\"Condition number of A =\", abs(max(eigs)) / abs(min(eigs)))"
   ]
  },
  {
   "cell_type": "markdown",
   "metadata": {
    "slideshow": {
     "slide_type": "slide"
    }
   },
   "source": [
    "#### График сходимости"
   ]
  },
  {
   "cell_type": "code",
   "execution_count": 8,
   "metadata": {
    "slideshow": {
     "slide_type": "fragment"
    }
   },
   "outputs": [
    {
     "data": {
      "image/png": "[encoded data removed]",
      "text/plain": [
       "<Figure size 576x432 with 1 Axes>"
      ]
     },
     "metadata": {},
     "output_type": "display_data"
    }
   ],
   "source": [
    "plt.figure(figsize=(8,6))\n",
    "plt.semilogy([np.linalg.norm(grad_f(x)) for x in cg_quad.get_convergence()], label=r\"$\\|f'(x_k)\\|^{CG}_2$\", linewidth=2)\n",
    "plt.semilogy([np.linalg.norm(grad_f(x)) for x in scopt_cg_array[:max_iter]], label=r\"$\\|f'(x_k)\\|^{CG_{PR}}_2$\", linewidth=2)\n",
    "plt.semilogy([np.linalg.norm(grad_f(x)) for x in gd.get_convergence()], label=r\"$\\|f'(x_k)\\|^{G}_2$\", linewidth=2)\n",
    "plt.legend(loc=\"best\", fontsize=20)\n",
    "plt.xlabel(r\"Iteration number, $k$\", fontsize=20)\n",
    "plt.ylabel(\"Convergence rate\", fontsize=20)\n",
    "plt.xticks(fontsize=18)\n",
    "_ = plt.yticks(fontsize=18)"
   ]
  },
  {
   "cell_type": "code",
   "execution_count": 126,
   "metadata": {
    "slideshow": {
     "slide_type": "fragment"
    }
   },
   "outputs": [
    {
     "name": "stdout",
     "output_type": "stream",
     "text": [
      "[9.895698804404647, 16.72191678481416, 13.249478400747469, 6.359343682948846, 2.062260422407552e-09]\n"
     ]
    }
   ],
   "source": [
    "print([np.linalg.norm(grad_f(x)) for x in cg_quad.get_convergence()])"
   ]
  },
  {
   "cell_type": "code",
   "execution_count": 9,
   "metadata": {
    "slideshow": {
     "slide_type": "slide"
    }
   },
   "outputs": [
    {
     "data": {
      "image/png": "[encoded data removed]",
      "text/plain": [
       "<Figure size 576x432 with 1 Axes>"
      ]
     },
     "metadata": {},
     "output_type": "display_data"
    }
   ],
   "source": [
    "plt.figure(figsize=(8,6))\n",
    "plt.plot([f(x) for x in cg_quad.get_convergence()], label=r\"$f(x^{CG}_k)$\", linewidth=2)\n",
    "plt.plot([f(x) for x in scopt_cg_array], label=r\"$f(x^{CG_{PR}}_k)$\", linewidth=2)\n",
    "plt.plot([f(x) for x in gd.get_convergence()], label=r\"$f(x^{G}_k)$\", linewidth=2)\n",
    "plt.legend(loc=\"best\", fontsize=20)\n",
    "plt.xlabel(r\"Iteration number, $k$\", fontsize=20)\n",
    "plt.ylabel(\"Function value\", fontsize=20)\n",
    "plt.xticks(fontsize=18)\n",
    "_ = plt.yticks(fontsize=18)"
   ]
  },
  {
   "cell_type": "markdown",
   "metadata": {
    "slideshow": {
     "slide_type": "slide"
    }
   },
   "source": [
    "### Неквадратичная функция\n",
    "\n",
    "$$\n",
    "f(w) = \\frac12 \\|w\\|_2^2 + C \\frac1m \\sum_{i=1}^m \\log (1 + \\exp(- y_i \\langle x_i, w \\rangle)) \\to \\min_w\n",
    "$$"
   ]
  },
  {
   "cell_type": "code",
   "execution_count": 1,
   "metadata": {
    "slideshow": {
     "slide_type": "fragment"
    }
   },
   "outputs": [
    {
     "name": "stderr",
     "output_type": "stream",
     "text": [
      "WARNING:absl:No GPU/TPU found, falling back to CPU. (Set TF_CPP_MIN_LOG_LEVEL=0 and rerun for more info.)\n"
     ]
    },
    {
     "name": "stdout",
     "output_type": "stream",
     "text": [
      "Initial function value = 168.30680645471432\n",
      "Initial gradient norm = 18.78302765900879\n",
      "Initial gradient norm = 18.78302765900879\n"
     ]
    }
   ],
   "source": [
    "import numpy as np\n",
    "import sklearn.datasets as skldata\n",
    "import scipy.special as scspec\n",
    "import jax\n",
    "import jax.numpy as jnp\n",
    "from jax.config import config\n",
    "config.update(\"jax_enable_x64\", True)\n",
    "\n",
    "n = 300\n",
    "m = 1000\n",
    "\n",
    "X, y = skldata.make_classification(n_classes=2, n_features=n, n_samples=m, n_informative=n//3, random_state=0)\n",
    "X = jnp.array(X)\n",
    "y = jnp.array(y)\n",
    "C = 1\n",
    "@jax.jit\n",
    "def f(w):\n",
    "    return jnp.linalg.norm(w)**2 / 2 +  C * jnp.mean(jnp.logaddexp(jnp.zeros(X.shape[0]), -y * (X @ w)))\n",
    "\n",
    "autograd_f = jax.jit(jax.grad(f))\n",
    "def grad_f(w):\n",
    "    denom = scspec.expit(-y * X.dot(w))\n",
    "    return w - C * X.T.dot(y * denom) / X.shape[0]\n",
    "\n",
    "x0 = jax.random.normal(jax.random.PRNGKey(0), (n,))\n",
    "print(\"Initial function value = {}\".format(f(x0)))\n",
    "print(\"Initial gradient norm = {}\".format(jnp.linalg.norm(autograd_f(x0))))\n",
    "print(\"Initial gradient norm = {}\".format(jnp.linalg.norm(grad_f(x0))))"
   ]
  },
  {
   "cell_type": "markdown",
   "metadata": {
    "slideshow": {
     "slide_type": "slide"
    }
   },
   "source": [
    "#### Реализация метода Флетчера-Ривса"
   ]
  },
  {
   "cell_type": "code",
   "execution_count": 13,
   "metadata": {
    "slideshow": {
     "slide_type": "fragment"
    }
   },
   "outputs": [],
   "source": [
    "def ConjugateGradientFR(f, gradf, x0, num_iter=100, tol=1e-8, callback=None, restart=False):\n",
    "    x = x0\n",
    "    grad = gradf(x)\n",
    "    p = -grad\n",
    "    it = 0\n",
    "    while np.linalg.norm(gradf(x)) > tol and it < num_iter:\n",
    "        alpha = utils.backtracking(x, p, method=\"Wolfe\", beta1=0.1, beta2=0.4, rho=0.5, f=f, grad_f=gradf)\n",
    "        if alpha < 1e-18:\n",
    "            break\n",
    "        x = x + alpha * p\n",
    "        if callback is not None:\n",
    "            callback(x)\n",
    "        grad_next = gradf(x)\n",
    "        beta = grad_next.dot(grad_next) / grad.dot(grad)\n",
    "        p = -grad_next + beta * p\n",
    "        grad = grad_next.copy()\n",
    "        it += 1\n",
    "        if restart and it % restart == 0:\n",
    "            grad = gradf(x)\n",
    "            p = -grad\n",
    "    return x"
   ]
  },
  {
   "cell_type": "markdown",
   "metadata": {
    "slideshow": {
     "slide_type": "slide"
    }
   },
   "source": [
    "#### График сходимости"
   ]
  },
  {
   "cell_type": "code",
   "execution_count": 12,
   "metadata": {
    "scrolled": true,
    "slideshow": {
     "slide_type": "fragment"
    }
   },
   "outputs": [
    {
     "name": "stdout",
     "output_type": "stream",
     "text": [
      "\t CG by Polak-Rebiere\n",
      "Norm of garient = 1.7480763139359677e-05\n",
      "Function value = 0.49544792969928625\n",
      "\t CG by Fletcher-Reeves\n",
      "Required tolerance achieved!\n",
      "Convergence in 69 iterations\n",
      "Function value = 0.4954479296746901\n",
      "Norm of gradient = 5.886257629554925e-06\n",
      "\t CG by Fletcher-Reeves with restart n\n",
      "Required tolerance achieved!\n",
      "Convergence in 70 iterations\n",
      "Function value = 0.49544792967336343\n",
      "Norm of gradient = 7.437484595946573e-06\n",
      "\t Gradient Descent\n",
      "Required tolerance achieved!\n",
      "Convergence in 171 iterations\n",
      "Function value = 0.49544792969385604\n",
      "Norm of gradient = 8.530600310612475e-06\n"
     ]
    }
   ],
   "source": [
    "import scipy.optimize as scopt\n",
    "import liboptpy.restarts as restarts\n",
    "\n",
    "n_restart = 60\n",
    "tol = 1e-5\n",
    "max_iter = 600\n",
    "\n",
    "scopt_cg_array = []\n",
    "scopt_cg_callback = lambda x: callback(x, scopt_cg_array)\n",
    "x = scopt.minimize(f, x0, tol=tol, method=\"CG\", jac=autograd_f, callback=scopt_cg_callback, options={\"maxiter\": max_iter})\n",
    "x = x.x\n",
    "print(\"\\t CG by Polak-Rebiere\")\n",
    "print(\"Norm of garient = {}\".format(np.linalg.norm(autograd_f(x))))\n",
    "print(\"Function value = {}\".format(f(x)))\n",
    "\n",
    "print(\"\\t CG by Fletcher-Reeves\")\n",
    "# ss.Backtracking(\"Armijo\", rho=0.5, beta=0.001, init_alpha=1.)\n",
    "cg_fr = methods.fo.ConjugateGradientFR(f, autograd_f, ss.Backtracking(\"Wolfe\", rho=0.9, beta1=0.3, beta2=0.8, init_alpha=1.))\n",
    "x = cg_fr.solve(x0, tol=tol, max_iter=max_iter, disp=True)\n",
    "\n",
    "print(\"\\t CG by Fletcher-Reeves with restart n\")\n",
    "cg_fr_rest = methods.fo.ConjugateGradientFR(f, autograd_f, ss.Backtracking(\"Wolfe\", rho=0.9, beta1=0.3, beta2=0.8, \n",
    "                                         init_alpha=1.), restarts.Restart(n // n_restart))\n",
    "x = cg_fr_rest.solve(x0, tol=tol, max_iter=max_iter, disp=True)\n",
    "\n",
    "print(\"\\t Gradient Descent\")\n",
    "gd = methods.fo.GradientDescent(f, autograd_f, ss.Backtracking(\"Wolfe\", rho=0.9, beta1=0.1, beta2=0.8, init_alpha=1.))\n",
    "x = gd.solve(x0, max_iter=max_iter, tol=tol, disp=True)"
   ]
  },
  {
   "cell_type": "code",
   "execution_count": 14,
   "metadata": {
    "slideshow": {
     "slide_type": "fragment"
    }
   },
   "outputs": [
    {
     "data": {
      "image/png": "[encoded data removed]",
      "text/plain": [
       "<Figure size 576x432 with 1 Axes>"
      ]
     },
     "metadata": {},
     "output_type": "display_data"
    }
   ],
   "source": [
    "plt.figure(figsize=(8, 6))\n",
    "plt.semilogy([np.linalg.norm(grad_f(x)) for x in cg_fr.get_convergence()], label=r\"$\\|f'(x_k)\\|^{CG_{FR}}_2$ no restart\", linewidth=2)\n",
    "plt.semilogy([np.linalg.norm(grad_f(x)) for x in cg_fr_rest.get_convergence()], label=r\"$\\|f'(x_k)\\|^{CG_{FR}}_2$ restart\", linewidth=2)\n",
    "plt.semilogy([np.linalg.norm(grad_f(x)) for x in scopt_cg_array], label=r\"$\\|f'(x_k)\\|^{CG_{PR}}_2$\", linewidth=2)\n",
    "\n",
    "plt.semilogy([np.linalg.norm(grad_f(x)) for x in gd.get_convergence()], label=r\"$\\|f'(x_k)\\|^{G}_2$\", linewidth=2)\n",
    "plt.legend(loc=\"best\", fontsize=16)\n",
    "plt.xlabel(r\"Iteration number, $k$\", fontsize=20)\n",
    "plt.ylabel(\"Convergence rate\", fontsize=20)\n",
    "plt.xticks(fontsize=18)\n",
    "_ = plt.yticks(fontsize=18)"
   ]
  },
  {
   "cell_type": "markdown",
   "metadata": {
    "slideshow": {
     "slide_type": "slide"
    }
   },
   "source": [
    "#### Время выполнения"
   ]
  },
  {
   "cell_type": "code",
   "execution_count": 19,
   "metadata": {
    "slideshow": {
     "slide_type": "fragment"
    }
   },
   "outputs": [
    {
     "name": "stdout",
     "output_type": "stream",
     "text": [
      "12.8 ms ± 1.9 ms per loop (mean ± std. dev. of 7 runs, 100 loops each)\n",
      "52.4 ms ± 350 µs per loop (mean ± std. dev. of 7 runs, 10 loops each)\n",
      "69.5 ms ± 24 ms per loop (mean ± std. dev. of 7 runs, 10 loops each)\n",
      "113 ms ± 20.5 ms per loop (mean ± std. dev. of 7 runs, 10 loops each)\n"
     ]
    }
   ],
   "source": [
    "%timeit scopt.minimize(f, x0, method=\"CG\", tol=tol, jac=grad_f, options={\"maxiter\": max_iter})\n",
    "%timeit cg_fr.solve(x0, tol=tol, max_iter=max_iter)\n",
    "%timeit cg_fr_rest.solve(x0, tol=tol, max_iter=max_iter)\n",
    "%timeit gd.solve(x0, tol=tol, max_iter=max_iter)"
   ]
  },
  {
   "cell_type": "markdown",
   "metadata": {
    "slideshow": {
     "slide_type": "slide"
    }
   },
   "source": [
    "## Резюме\n",
    "\n",
    "1. Сопряжённые направления\n",
    "2. Метод сопряжённых градиентов\n",
    "3. Сходимость\n",
    "4. Эксперименты"
   ]
  },
  {
   "cell_type": "markdown",
   "metadata": {
    "slideshow": {
     "slide_type": "slide"
    }
   },
   "source": [
    "## Метод тяжёлого шарика (heavy-ball method)\n",
    "\n",
    "- [Предложен](http://www.mathnet.ru/links/453550bb5a36d7ff295e9a39c3333607/zvmmf7713.pdf) в 1964 г. [Б.Т. Поляком](https://scholar.google.ru/citations?user=Zhlib28AAAAJ&hl=ru&oi=ao)\n",
    "<img src=\"./polyak.jpeg\">\n",
    "- Для квадратичной целевой функции зигзагообразное поведение градиентного спуска обусловлено неоднородностью направлений\n",
    "- Давайте учитывать предыдущие направления для поиска новой точки\n",
    "- Метод тяжёлого шарика\n",
    "\n",
    "$$\n",
    "x_{k+1} = x_k - \\alpha_k f'(x_k) + {\\color{red}{\\beta_k(x_k - x_{k-1})}}\n",
    "$$\n",
    "\n",
    "- Помимо параметра шага вдоль антиградиента $\\alpha_k$ появился ещё один параметр $\\beta_k$"
   ]
  },
  {
   "cell_type": "markdown",
   "metadata": {
    "slideshow": {
     "slide_type": "slide"
    }
   },
   "source": [
    "### Геометрическая интерпретация метода тяжёлого шарика\n",
    "\n",
    "Картинка [отсюда](https://www.princeton.edu/~yc5/ele538_optimization/lectures/accelerated_gradient.pdf) \n",
    "<img src=\"./heavy_ball.png\" width=600 align=\"center\">"
   ]
  },
  {
   "cell_type": "markdown",
   "metadata": {
    "slideshow": {
     "slide_type": "slide"
    }
   },
   "source": [
    "### Теорема сходимости\n",
    "\n",
    "Пусть $f$ сильно выпукла с Липшицевым градиентом. Тогда для \n",
    "\n",
    "$$\n",
    "\\alpha_k = \\frac{4}{(\\sqrt{L} + \\sqrt{\\mu})^2}\n",
    "$$ \n",
    "\n",
    "и \n",
    "\n",
    "$$\n",
    "\\beta_k = \\max(|1 - \\sqrt{\\alpha_k L}|^2, |1 - \\sqrt{\\alpha_k \\mu}|^2)\n",
    "$$ \n",
    "\n",
    "справедлива следующая оценка сходимости\n",
    "\n",
    "$$ \n",
    "\\left\\| \\begin{bmatrix} x_{k+1} - x^* \\\\ x_k - x^* \\end{bmatrix} \\right\\|_2\n",
    "\\leq \n",
    "\\left( \\frac{\\sqrt{\\kappa} - 1}{\\sqrt{\\kappa} + 1} \\right)^k \\left \\|\n",
    "\\begin{bmatrix} x_1 - x^* \\\\ x_0 - x^* \\end{bmatrix}\n",
    "\\right \\|_2\n",
    "$$\n",
    "\n",
    "- Совпадает с оценкой снизу для методов первого порядка!\n",
    "- Оптимальные параметры $\\alpha_k$ и $\\beta_k$ определяются через **неизвестные** константы $L$ и $\\mu$"
   ]
  },
  {
   "cell_type": "markdown",
   "metadata": {
    "slideshow": {
     "slide_type": "slide"
    }
   },
   "source": [
    "### Схема доказательства\n",
    "\n",
    "- Перепишем метод как \n",
    "\n",
    "\\begin{align*}\n",
    "\\begin{bmatrix} x_{k+1}\\\\ x_k \\end{bmatrix} = \\begin{bmatrix} (1 + \\beta_k)I & -\\beta_k I\\\\ I & 0 \\end{bmatrix} \\begin{bmatrix} x_k\\\\ x_{k-1} \\end{bmatrix} + \\begin{bmatrix} -\\alpha_k f'(x_k)\\\\ 0 \\end{bmatrix}\n",
    "\\end{align*}\n",
    "\n",
    "- Используем теорему из анализа\n",
    "\n",
    "\\begin{align*}\n",
    "\\begin{bmatrix} x_{k+1} - x^*\\\\ x_k - x^* \\end{bmatrix} = \\underbrace{ \\begin{bmatrix} (1 + \\beta_k)I - \\alpha_k \\int_0^1 f''(x(\\tau))d\\tau & -\\beta_k I\\\\ I & 0 \\end{bmatrix}}_{=A_k}\\begin{bmatrix} x_k - x^*\\\\ x_{k-1} - x^*\\end{bmatrix},\n",
    "\\end{align*}\n",
    "\n",
    "где $x(\\tau) = x_k + \\tau(x^* - x_k) $\n",
    "- В силу интегральной теоремы о среднем $A_k(x) = \\int_0^1 f''(x(\\tau))d\\tau = f''(z)$, поэтому $L$ и $\\mu$ ограничивают спектр $A_k(x)$\n",
    "- Сходимость зависит от спектрального радиуса матрицы итераций $A_k$"
   ]
  },
  {
   "cell_type": "markdown",
   "metadata": {
    "slideshow": {
     "slide_type": "slide"
    }
   },
   "source": [
    "- Получим оценку на спектр $A_k$\n",
    "\n",
    "$$\n",
    "A_k = \\begin{bmatrix} (1 + \\beta_k)I - \\alpha_k A(x_k) & -\\beta_k I \\\\ I & 0 \\end{bmatrix}\n",
    "$$\n",
    "\n",
    "- Пусть $A(x_k) = U\\Lambda(x_k) U^{\\top}$, поскольку гессиан - симметричная матрица, тогда\n",
    "\n",
    "$$\n",
    "\\begin{bmatrix} U^{\\top} & 0 \\\\ 0 & U^{\\top} \\end{bmatrix} \\begin{bmatrix} (1 + \\beta_k)I - \\alpha_k A(x_k) & -\\beta_k I \\\\ I & 0 \\end{bmatrix} \\begin{bmatrix} U & 0\\\\ 0 & U \\end{bmatrix} = \\begin{bmatrix} (1 + \\beta_k)I - \\alpha_k \\Lambda(x_k) & -\\beta_k I \\\\ I & 0 \\end{bmatrix} = \\hat{A}_k\n",
    "$$\n",
    "\n",
    "- Ортогональное преобразование не меняет спектральный радиус матрицы\n",
    "- Далее сделаем перестановку строк и столбцов так, чтобы \n",
    "\n",
    "$$\n",
    "\\hat{A}_k \\simeq \\mathrm{diag}(T_1, \\ldots, T_n),\n",
    "$$\n",
    "\n",
    "где $T_i = \\begin{bmatrix} 1 + \\beta_k - \\alpha_k \\lambda_i & -\\beta_k \\\\ 1 & 0 \\end{bmatrix}$ и $\\simeq$ обозначает равенство спектральных радиусов поскольку матрица перестановки является ортогональной\n",
    "\n",
    "- Покажем как сделать такую перестановку на примере матрицы $4 \\times 4$\n",
    "\n",
    "$$ \n",
    "\\begin{bmatrix}a & 0 & c & 0 \\\\ 0 & b & 0 & c \\\\ 1 & 0 & 0 & 0\\\\ 0 & 1 & 0 & 0 \\end{bmatrix} \\rightarrow \\begin{bmatrix}a & 0 & c & 0 \\\\ 1 & 0 & 0 & 0 \\\\ 0 & b & 0 & c \\\\ 0 & 1 & 0 & 0 \\end{bmatrix} \\to \\begin{bmatrix}a & c & 0 & 0 \\\\ 1 & 0 & 0 & 0 \\\\ 0 & 0 & b & c \\\\ 0 & 0 & 1 & 0 \\end{bmatrix}\n",
    "$$\n",
    "\n",
    "- Свели задачу к оценке спектрального радиуса блочно-диагональной матрицы $\\hat{A}_k$\n"
   ]
  },
  {
   "cell_type": "markdown",
   "metadata": {
    "slideshow": {
     "slide_type": "slide"
    }
   },
   "source": [
    "- $\\rho(\\hat{A}_k) = \\max\\limits_{i=1,\\ldots,n} \\{ |\\lambda_1(T_i)|, |\\lambda_2(T_i)|\\} $\n",
    "- Характеристическое уравнение для $T_i$\n",
    "\n",
    "$$\n",
    "\\beta_k - u (1 + \\beta_k - \\alpha_k \\lambda_i - u) = 0 \\quad u^2 - u(1 + \\beta_k - \\alpha_k\\lambda_i) + \\beta_k = 0\n",
    "$$\n",
    "- Дальнейшее изучение распределения корней и их границ даёт оценку из условия теоремы"
   ]
  },
  {
   "cell_type": "markdown",
   "metadata": {
    "slideshow": {
     "slide_type": "slide"
    }
   },
   "source": [
    "### Эксперименты\n",
    "\n",
    "### Тестовая задача 1\n",
    "\n",
    "$$\n",
    "f(x) = \\frac{1}{2}x^{\\top}Ax - b^{\\top}x \\to \\min_x,\n",
    "$$\n",
    "\n",
    "где матрица $A$ плохо обусловлена, но положительно определена!"
   ]
  },
  {
   "cell_type": "code",
   "execution_count": 15,
   "metadata": {
    "slideshow": {
     "slide_type": "slide"
    }
   },
   "outputs": [],
   "source": [
    "import liboptpy.base_optimizer as base\n",
    "import numpy as np\n",
    "import liboptpy.unconstr_solvers.fo as fo\n",
    "import liboptpy.step_size as ss\n",
    "import matplotlib.pyplot as plt\n",
    "%matplotlib inline\n",
    "\n",
    "plt.rc(\"text\", usetex=True)\n",
    "\n",
    "class HeavyBall(base.LineSearchOptimizer):\n",
    "    def __init__(self, f, grad, step_size, beta, **kwargs):\n",
    "        super().__init__(f, grad, step_size, **kwargs)\n",
    "        self._beta = beta\n",
    "    \n",
    "    def get_direction(self, x):\n",
    "        self._current_grad = self._grad(x)\n",
    "        return -self._current_grad\n",
    "\n",
    "    def _f_update_x_next(self, x, alpha, h):\n",
    "        if len(self.convergence) < 2:\n",
    "            return x + alpha * h\n",
    "        else:\n",
    "            return x + alpha * h + self._beta * (x - self.convergence[-2])\n",
    "    \n",
    "    def get_stepsize(self):\n",
    "        return self._step_size.get_stepsize(self._grad_mem[-1], self.convergence[-1], len(self.convergence))"
   ]
  },
  {
   "cell_type": "code",
   "execution_count": 16,
   "metadata": {
    "slideshow": {
     "slide_type": "slide"
    }
   },
   "outputs": [
    {
     "name": "stdout",
     "output_type": "stream",
     "text": [
      "388.0536004941597 0.0017707060804670073\n",
      "Condition number = 219151.89921966844\n",
      "0.010263957266937775 0.9914918736024705\n"
     ]
    }
   ],
   "source": [
    "np.random.seed(42)\n",
    "n = 100\n",
    "A = np.random.randn(n, n)\n",
    "A = A.T.dot(A)\n",
    "x_true = np.random.randn(n)\n",
    "b = A.dot(x_true)\n",
    "f = lambda x: 0.5 * x.dot(A.dot(x)) - b.dot(x)\n",
    "grad = lambda x: A.dot(x) - b\n",
    "A_eigvals = np.linalg.eigvalsh(A)\n",
    "L = np.max(A_eigvals)\n",
    "mu = np.min(A_eigvals)\n",
    "print(L, mu)\n",
    "print(\"Condition number = {}\".format(L / mu))\n",
    "alpha_opt = 4 / (np.sqrt(L) + np.sqrt(mu))**2 \n",
    "beta_opt = np.maximum((1 - np.sqrt(alpha_opt * L))**2, \n",
    "                      (1 - np.sqrt(alpha_opt * mu))**2)\n",
    "print(alpha_opt, beta_opt)\n",
    "beta_test = 0.95"
   ]
  },
  {
   "cell_type": "code",
   "execution_count": 17,
   "metadata": {
    "slideshow": {
     "slide_type": "slide"
    }
   },
   "outputs": [],
   "source": [
    "methods = {\n",
    "    \"GD fixed\": fo.GradientDescent(f, grad, ss.ConstantStepSize(1 / L)),\n",
    "    \"GD Armijo\": fo.GradientDescent(f, grad, \n",
    "            ss.Backtracking(\"Armijo\", rho=0.5, beta=0.1, init_alpha=1.)),\n",
    "    r\"HB, $\\beta = {}$\".format(beta_test): HeavyBall(f, grad, ss.ConstantStepSize(1 / L), beta=beta_test),\n",
    "    \"HB optimal\": HeavyBall(f, grad, ss.ConstantStepSize(alpha_opt), beta = beta_opt),\n",
    "    \"CG\": fo.ConjugateGradientQuad(A, b)\n",
    "}\n",
    "x0 = np.random.randn(n)\n",
    "max_iter = 5000\n",
    "tol = 1e-6"
   ]
  },
  {
   "cell_type": "code",
   "execution_count": 18,
   "metadata": {
    "slideshow": {
     "slide_type": "slide"
    }
   },
   "outputs": [],
   "source": [
    "for m in methods:\n",
    "    _ = methods[m].solve(x0=x0, max_iter=max_iter, tol=tol)"
   ]
  },
  {
   "cell_type": "code",
   "execution_count": 19,
   "metadata": {
    "scrolled": true,
    "slideshow": {
     "slide_type": "slide"
    }
   },
   "outputs": [
    {
     "data": {
      "image/png": "[encoded data removed]",
      "text/plain": [
       "<Figure size 720x576 with 1 Axes>"
      ]
     },
     "metadata": {},
     "output_type": "display_data"
    }
   ],
   "source": [
    "figsize = (10, 8)\n",
    "fontsize = 26\n",
    "plt.figure(figsize=figsize)\n",
    "for m in methods:\n",
    "    plt.semilogy([np.linalg.norm(grad(x)) for x in methods[m].get_convergence()], label=m)\n",
    "plt.legend(fontsize=fontsize, loc=\"best\")\n",
    "plt.xlabel(\"Number of iteration, $k$\", fontsize=fontsize)\n",
    "plt.ylabel(r\"$\\| f'(x_k)\\|_2$\", fontsize=fontsize)\n",
    "plt.xticks(fontsize=fontsize)\n",
    "_ = plt.yticks(fontsize=fontsize)"
   ]
  },
  {
   "cell_type": "code",
   "execution_count": 20,
   "metadata": {
    "slideshow": {
     "slide_type": "slide"
    }
   },
   "outputs": [
    {
     "name": "stdout",
     "output_type": "stream",
     "text": [
      "GD fixed\n",
      "19.7 ms ± 702 µs per loop (mean ± std. dev. of 7 runs, 10 loops each)\n",
      "GD Armijo\n",
      "127 ms ± 16.5 ms per loop (mean ± std. dev. of 7 runs, 10 loops each)\n",
      "HB, $\\beta = 0.95$\n",
      "17.6 ms ± 2.21 ms per loop (mean ± std. dev. of 7 runs, 100 loops each)\n",
      "HB optimal\n",
      "11.1 ms ± 1.14 ms per loop (mean ± std. dev. of 7 runs, 100 loops each)\n",
      "CG\n",
      "610 µs ± 60.3 µs per loop (mean ± std. dev. of 7 runs, 1000 loops each)\n"
     ]
    }
   ],
   "source": [
    "for m in methods:\n",
    "    print(m)\n",
    "    %timeit methods[m].solve(x0=x0, max_iter=max_iter, tol=tol)"
   ]
  },
  {
   "cell_type": "markdown",
   "metadata": {
    "slideshow": {
     "slide_type": "slide"
    }
   },
   "source": [
    "#### Тестовая задача 2\n",
    "\n",
    "$$\n",
    "f(w) = \\frac12 \\|w\\|_2^2 + C \\frac1m \\sum_{i=1}^m \\log (1 + \\exp(- y_i \\langle x_i, w \\rangle)) \\to \\min_w\n",
    "$$"
   ]
  },
  {
   "cell_type": "code",
   "execution_count": 20,
   "metadata": {
    "slideshow": {
     "slide_type": "slide"
    }
   },
   "outputs": [
    {
     "name": "stdout",
     "output_type": "stream",
     "text": [
      "Initial function value = 0.6931471805599448\n",
      "Initial gradient norm = 3.1175896866257036\n"
     ]
    }
   ],
   "source": [
    "n = 300\n",
    "m = 1000\n",
    "\n",
    "X, y = skldata.make_classification(n_classes=2, n_features=n, n_samples=m, n_informative=n//3)\n",
    "C = 1\n",
    "\n",
    "@jax.jit\n",
    "def f(w):\n",
    "    return jnp.linalg.norm(w)**2 / 2 +  C * jnp.mean(jnp.logaddexp(jnp.zeros(X.shape[0]), -y * (X @ w)))\n",
    "\n",
    "# def grad(w):\n",
    "#     denom = scspec.expit(-y * X.dot(w))\n",
    "#     return w - C * X.T.dot(y * denom) / X.shape[0]\n",
    "\n",
    "autograd_f = jax.jit(jax.grad(f))\n",
    "x0 = jnp.zeros(n)\n",
    "print(\"Initial function value = {}\".format(f(x0)))\n",
    "print(\"Initial gradient norm = {}\".format(jnp.linalg.norm(grad_f(x0))))"
   ]
  },
  {
   "cell_type": "code",
   "execution_count": 21,
   "metadata": {
    "slideshow": {
     "slide_type": "slide"
    }
   },
   "outputs": [],
   "source": [
    "alpha_test = 5e-3\n",
    "beta_test = 0.9\n",
    "\n",
    "methods = {\n",
    "    r\"GD, $\\alpha_k = {}$\".format(alpha_test): fo.GradientDescent(f, autograd_f, ss.ConstantStepSize(alpha_test)),\n",
    "    \"GD Armijo\": fo.GradientDescent(f, autograd_f, \n",
    "            ss.Backtracking(\"Armijo\", rho=0.7, beta=0.1, init_alpha=1.)),\n",
    "    r\"HB, $\\beta = {}$\".format(beta_test): HeavyBall(f, autograd_f, ss.ConstantStepSize(alpha_test), beta=beta_test),\n",
    "    \n",
    "}\n",
    "# x0 = np.random.rand(n)\n",
    "# x0 = jnp.zeros(n)\n",
    "x0 = jax.random.normal(jax.random.PRNGKey(0), (X.shape[1],))\n",
    "max_iter = 400\n",
    "tol = 1e-5"
   ]
  },
  {
   "cell_type": "code",
   "execution_count": 22,
   "metadata": {
    "slideshow": {
     "slide_type": "slide"
    }
   },
   "outputs": [
    {
     "name": "stdout",
     "output_type": "stream",
     "text": [
      "GD, $\\alpha_k = 0.005$\n",
      "GD Armijo\n",
      "HB, $\\beta = 0.9$\n"
     ]
    }
   ],
   "source": [
    "for m in methods:\n",
    "    print(m)\n",
    "    _ = methods[m].solve(x0=x0, max_iter=max_iter, tol=tol)\n",
    "    \n",
    "scopt_cg_array = []\n",
    "scopt_cg_callback = lambda x: callback(x, scopt_cg_array)\n",
    "x = scopt.minimize(f, x0, tol=tol, method=\"CG\", jac=autograd_f, callback=scopt_cg_callback, options={\"maxiter\": max_iter})\n",
    "x = x.x"
   ]
  },
  {
   "cell_type": "code",
   "execution_count": 23,
   "metadata": {
    "slideshow": {
     "slide_type": "slide"
    }
   },
   "outputs": [
    {
     "data": {
      "image/png": "[encoded data removed]",
      "text/plain": [
       "<Figure size 720x576 with 1 Axes>"
      ]
     },
     "metadata": {},
     "output_type": "display_data"
    }
   ],
   "source": [
    "figsize = (10, 8)\n",
    "fontsize = 26\n",
    "plt.figure(figsize=figsize)\n",
    "for m in methods:\n",
    "    plt.semilogy([np.linalg.norm(autograd_f(x)) for x in methods[m].get_convergence()], label=m)\n",
    "plt.semilogy([np.linalg.norm(autograd_f(x)) for x in scopt_cg_array], label=\"CG PR\")\n",
    "plt.legend(fontsize=fontsize, loc=\"best\")\n",
    "plt.xlabel(\"Number of iteration, $k$\", fontsize=fontsize)\n",
    "plt.ylabel(r\"$\\| f'(x_k)\\|_2$\", fontsize=fontsize)\n",
    "plt.xticks(fontsize=fontsize)\n",
    "_ = plt.yticks(fontsize=fontsize)"
   ]
  },
  {
   "cell_type": "code",
   "execution_count": 43,
   "metadata": {
    "slideshow": {
     "slide_type": "slide"
    }
   },
   "outputs": [
    {
     "name": "stdout",
     "output_type": "stream",
     "text": [
      "GD, $\\alpha_k = 0.001$\n",
      "53.1 ms ± 11.1 ms per loop (mean ± std. dev. of 7 runs, 10 loops each)\n",
      "GD Armijo\n",
      "613 ms ± 32.3 ms per loop (mean ± std. dev. of 7 runs, 1 loop each)\n",
      "HB, $\\beta = 0.9$\n",
      "57.2 ms ± 11.9 ms per loop (mean ± std. dev. of 7 runs, 10 loops each)\n"
     ]
    }
   ],
   "source": [
    "for m in methods:\n",
    "    print(m)\n",
    "    %timeit methods[m].solve(x0=x0, max_iter=max_iter, tol=tol)"
   ]
  },
  {
   "cell_type": "markdown",
   "metadata": {
    "slideshow": {
     "slide_type": "slide"
    }
   },
   "source": [
    "### Главное про метод тяжёлого шарика\n",
    "\n",
    "- Двухшаговый метод\n",
    "- Не обязательно монотонный\n",
    "- Параметры зависят от неизвестных констант\n",
    "- Решает проблему осцилляций для плохо обусловленных задач\n",
    "- Сходимость для сильно выпуклых функций совпадает с оптимальной оценкой"
   ]
  }
 ],
 "metadata": {
  "celltoolbar": "Slideshow",
  "kernelspec": {
   "display_name": "Python 3 (cvxpy)",
   "language": "python",
   "name": "cvxpy"
  },
  "language_info": {
   "codemirror_mode": {
    "name": "ipython",
    "version": 3
   },
   "file_extension": ".py",
   "mimetype": "text/x-python",
   "name": "python",
   "nbconvert_exporter": "python",
   "pygments_lexer": "ipython3",
   "version": "3.6.8"
  }
 },
 "nbformat": 4,
 "nbformat_minor": 2
}

{
 "cells": [
  {
   "cell_type": "markdown",
   "metadata": {
    "nbpresent": {
     "id": "196b8a50-3d29-45c3-82b9-f4a09b49491d"
    },
    "slideshow": {
     "slide_type": "slide"
    }
   },
   "source": [
    "# Введение в численные методы оптимизации (Ю. Е. Нестеров Введение в выпуклую оптимизацию, гл. 1 $\\S$ 1.1)\n",
    "\n",
    " 1. Обзор материала весеннего семестра\n",
    " 2. Постановка задачи\n",
    " 3. Общая схема решения\n",
    " 4. Сравнение методов оптимизации\n"
   ]
  },
  {
   "cell_type": "markdown",
   "metadata": {
    "nbpresent": {
     "id": "2a573842-172b-4931-b0dd-9c9d3c47a450"
    },
    "slideshow": {
     "slide_type": "slide"
    }
   },
   "source": [
    "## Обзор материала весеннего семестра\n",
    "\n",
    "Также на [странице курса](https://github.com/amkatrutsa/MIPT-Opt/blob/master/Spring2021/README.md).\n",
    "\n",
    "1. Методы решения задач **безусловной** оптимизации\n",
    "    - Градиентный спуск и способы его ускорения\n",
    "    - Метод Ньютона\n",
    "    - Квазиньютоновские методы\n",
    "    - Метод сопряжённых градиентов  \n",
    "    - Решение задачи наименьших квадратов\n",
    "    - Безградиентные методы\n",
    "    - Стохастические методы\n",
    "2. Методы решения задач **условной** оптимизации\n",
    "    - Методы проекции градиента и условного градиента\n",
    "    - Проксимальные методы\n",
    "    - Методы штрафных и барьерных функций\n",
    "    - Метод модифицированой функции Лагранжа"
   ]
  },
  {
   "cell_type": "markdown",
   "metadata": {
    "slideshow": {
     "slide_type": "slide"
    }
   },
   "source": [
    "## Постановка задачи\n",
    "\n",
    "\\begin{equation}\n",
    "\\begin{split}\n",
    "& \\min_{x \\in S} f_0(x)\\\\\n",
    "\\text{s.t. } & f_j(x) = 0, \\; j = 1,\\ldots,m\\\\\n",
    "& g_k(x) \\leq 0, \\; k = 1,\\ldots,p\n",
    "\\end{split}\n",
    "\\end{equation}\n",
    "где $S \\subseteq \\mathbb{R}^n$, $f_j: S \\rightarrow \\mathbb{R}, \\; j = 0,\\ldots,m$, $g_k: S \\rightarrow \\mathbb{R}, \\; k=1,\\ldots,p$\n",
    "\n",
    "Все функции как минимум непрерывны. \n",
    "\n",
    "Важный факт</span>: задачи **нелинейной** оптимизации \n",
    "\n",
    "в их самой общей форме являются **численно неразрешимыми**!"
   ]
  },
  {
   "cell_type": "markdown",
   "metadata": {
    "slideshow": {
     "slide_type": "slide"
    }
   },
   "source": [
    "## Аналитические результаты\n",
    "- Необходимое условие первого порядка: \n",
    "\n",
    "если $x^*$ точка локального минимума дифференцируемой функции $f(x)$, тогда \n",
    "\n",
    "$$\n",
    "f'(x^*) = 0\n",
    "$$\n",
    "\n",
    "- Необходимое условие второго порядка \n",
    "\n",
    "если $x^*$ точка локального минимума дважды дифференцируемой функции $f(x)$, тогда \n",
    "\n",
    "$$\n",
    "f'(x^*) = 0 \\quad \\text{и} \\quad f''(x^*) \\succeq 0\n",
    "$$\n",
    "\n",
    "- Достаточное условие: \n",
    "\n",
    "пусть $f(x)$ дважды дифференцируемая функция, и пусть точка $x^*$ удовлетворяет условиям\n",
    "\n",
    "$$\n",
    "f'(x^*) = 0 \\quad f''(x^*) \\succ 0,\n",
    "$$\n",
    "\n",
    "тогда $x^*$ является точкой строго локального минимума функции $f(x)$.\n",
    "\n",
    "**Замечание**: убедитесь, что Вы понимаете, как доказывать эти\n",
    "\n",
    "результаты!"
   ]
  },
  {
   "cell_type": "markdown",
   "metadata": {
    "slideshow": {
     "slide_type": "slide"
    }
   },
   "source": [
    "## Особенности численного решения\n",
    "\n",
    "1. Точно решить задачу принципиально невозможно из-за погрешности машинной арифметики\n",
    "2. Необходимо задать критерий обнаружения решения\n",
    "3. Необходимо определить, какую информацию о задаче использовать"
   ]
  },
  {
   "cell_type": "markdown",
   "metadata": {
    "slideshow": {
     "slide_type": "slide"
    }
   },
   "source": [
    "## Общая итеративная схема\n",
    "\n",
    "Дано: начальное приближение $x$, требуемая точность $\\varepsilon$.\n",
    "\n",
    "```python\n",
    "def GeneralScheme(x, epsilon):\n",
    "    \n",
    "    while StopCriterion(x) > epsilon:\n",
    "        \n",
    "        OracleResponse = RequestOracle(x)\n",
    "        \n",
    "        UpdateInformation(I, x, OracleResponse)\n",
    "        \n",
    "        x = NextPoint(I, x)\n",
    "        \n",
    "    return x\n",
    "```"
   ]
  },
  {
   "cell_type": "markdown",
   "metadata": {
    "slideshow": {
     "slide_type": "slide"
    }
   },
   "source": [
    "### Вопросы\n",
    "1. Какие критерии остановки могут быть?\n",
    "2. Что такое оракул и зачем он нужен?\n",
    "3. Что такое информационная модель?\n",
    "4. Как вычисляется новая точка?"
   ]
  },
  {
   "cell_type": "markdown",
   "metadata": {
    "slideshow": {
     "slide_type": "slide"
    }
   },
   "source": [
    "#### Критерии остановки\n",
    "1. Сходимость по аргументу: \n",
    "$$\n",
    "\\| x_k - x^*  \\|_2 < \\varepsilon\n",
    "$$ \n",
    "2. Сходимость по функции: \n",
    "$$\n",
    "\\| f_k - f^* \\|_2 < \\varepsilon\n",
    "$$ \n",
    "3. Выполнение необходимого условия \n",
    "$$\n",
    "\\| f'(x_k) \\|_2 < \\varepsilon\n",
    "$$\n",
    "\n",
    "Но ведь $x^*$ неизвестна!\n",
    "\n",
    "Тогда\n",
    "\n",
    "\\begin{align*}\n",
    "& \\|x_{k+1} - x_k \\| = \\|x_{k+1} - x_k + x^* - x^* \\| \\leq \\\\\n",
    "& \\|x_{k+1} - x^* \\| + \\| x_k - x^* \\| \\leq 2\\varepsilon\n",
    "\\end{align*}\n",
    "\n",
    "Аналогично для сходимости по функции, \n",
    "\n",
    "однако иногда можно оценить $f^*$! \n",
    "\n",
    "**Замечание**: лучше использовать относительные изменения \n",
    "\n",
    "этих величин! \n",
    "\n",
    "Например $\\dfrac{\\|x_{k+1} - x_k \\|_2}{\\| x_k \\|_2}$\n"
   ]
  },
  {
   "cell_type": "markdown",
   "metadata": {
    "slideshow": {
     "slide_type": "slide"
    }
   },
   "source": [
    "#### Что такое оракул?\n",
    "**Определение**: оракулом называют некоторое абстрактное \n",
    "\n",
    "устройство, которое отвечает на последовательные вопросы \n",
    "\n",
    "метода\n",
    "\n",
    "Аналогия из ООП: \n",
    "\n",
    "- оракул - это виртуальный метод базового класса\n",
    "- каждая задача - производный класс\n",
    "- оракул определяется для каждой задачи отдельно согласно общему определению в базовом классе\n",
    "\n",
    "**Концепция чёрного ящика**\n",
    "1. Единственной информацией, получаемой в ходе работы итеративного метода, являются ответы оракула\n",
    "2. Ответы оракула являются *локальными*"
   ]
  },
  {
   "cell_type": "markdown",
   "metadata": {
    "slideshow": {
     "slide_type": "slide"
    }
   },
   "source": [
    "#### Информация о задаче\n",
    "1. Каждый ответ оракула даёт **локальную** информацию о поведении функции в точке\n",
    "2. Агрегируя все полученные ответы оракула, обновляем информацию о **глобальном** виде целевой функции:\n",
    "    - кривизна\n",
    "    - направление убывания\n",
    "    - etc"
   ]
  },
  {
   "cell_type": "markdown",
   "metadata": {
    "slideshow": {
     "slide_type": "slide"
    }
   },
   "source": [
    "#### Вычисление следующей точки\n",
    "\n",
    "$$\n",
    "x_{k+1} = x_{k} + \\alpha_k h_k\n",
    "$$\n",
    "\n",
    "- **Линейный поиск**: фиксируется направление $h_k$ и производится поиск по этому направлению \"оптимального\" значения  $\\alpha_k$\n",
    "- **Метод доверительных областей**: фиксируется допустимый размер *области* по некоторой норме $\\| \\cdot  \\| \\leq \\alpha$ и *модель* целевой функции, которая хорошо её аппроксимирует в выбранной области. \n",
    "    \n",
    "    Далее производится поиск направления $h_k$, минимизирующего модель целевой функции и не выводящего точку $x_k + h_k$ за пределы доверительной области"
   ]
  },
  {
   "cell_type": "markdown",
   "metadata": {
    "slideshow": {
     "slide_type": "slide"
    }
   },
   "source": [
    "#### Вопросы\n",
    "1. Как выбрать $\\alpha_k$?\n",
    "2. Как выбрать $h_k$?\n",
    "3. Как выбрать модель?\n",
    "4. Как выбрать область?\n",
    "5. Как выбрать размер области? \n",
    "\n",
    "<span style=\"color:red\">\n",
    "    В курсе рассматривается только линейный поиск!</span> \n",
    "    \n",
    "Однако несколько раз копцепция метода доверительных областей \n",
    "\n",
    "будет использована."
   ]
  },
  {
   "cell_type": "markdown",
   "metadata": {
    "slideshow": {
     "slide_type": "slide"
    }
   },
   "source": [
    "## Как сравнивать методы оптимизации?\n",
    "Для заданного класса задач сравнивают следующие величины:\n",
    "1. Сложность\n",
    "    - аналитическая: число обращений к оракулу для решения задачи с точностью $\\varepsilon$\n",
    "    - арифметическая: общее число всех вычислений, необходимых для решения задачи с точностью $\\varepsilon$\n",
    "2. Скорость сходимости\n",
    "3. Эксперименты"
   ]
  },
  {
   "cell_type": "markdown",
   "metadata": {
    "slideshow": {
     "slide_type": "slide"
    }
   },
   "source": [
    "### Скорости сходимости \n",
    "\n",
    "_1._ Сублинейная\n",
    "\n",
    "$$\n",
    "\\| x_{k+1} - x^* \\|_2 \\leq C k^{\\alpha},\n",
    "$$\n",
    "\n",
    "где $\\alpha < 0$ и $ 0 < C < \\infty$\n",
    "\n",
    "_2._ Линейная (геометрическая прогрессия)\n",
    "\n",
    "$$\n",
    "\\| x_{k+1} - x^* \\|_2 \\leq Cq^k, \n",
    "$$\n",
    "\n",
    "где $q \\in (0, 1)$ и $ 0 < C < \\infty$\n",
    "\n",
    "_3._ Сверхлинейная \n",
    "\n",
    "$$\n",
    "\\| x_{k+1} - x^* \\|_2 \\leq Cq^{k^p}, \n",
    "$$\n",
    "\n",
    "где $q \\in (0, 1)$, $ 0 < C < \\infty$ и $p > 1$\n",
    "\n",
    "_4._ Квадратичная\n",
    "\n",
    "$$\n",
    "\\| x_{k+1} - x^* \\|_2 \\leq C\\| x_k - x^* \\|^2_2, \\qquad \\text{или} \\qquad \\| x_{k+1} - x^* \\|_2 \\leq C q^{2^k}\n",
    "$$\n",
    "\n",
    "где $q \\in (0, 1)$ и $ 0 < C < \\infty$"
   ]
  },
  {
   "cell_type": "code",
   "execution_count": 4,
   "metadata": {
    "slideshow": {
     "slide_type": "slide"
    }
   },
   "outputs": [
    {
     "data": {
      "image/png": "[encoded data removed]",
      "text/plain": [
       "<Figure size 864x576 with 1 Axes>"
      ]
     },
     "metadata": {
      "needs_background": "light"
     },
     "output_type": "display_data"
    }
   ],
   "source": [
    "%matplotlib inline\n",
    "import matplotlib.pyplot as plt\n",
    "\n",
    "USE_COLAB = False\n",
    "if not USE_COLAB:\n",
    "    plt.rc(\"text\", usetex=True)\n",
    "\n",
    "import numpy as np\n",
    "C = 10\n",
    "alpha = -0.5\n",
    "q = 0.9\n",
    "num_iter = 10\n",
    "sublinear = np.array([C * k**alpha for k in range(1, num_iter + 1)])\n",
    "linear = np.array([C * q**k for k in range(1, num_iter + 1)])\n",
    "superlinear = np.array([C * q**(k**2) for k in range(1, num_iter + 1)])\n",
    "quadratic = np.array([C * q**(2**k) for k in range(1, num_iter + 1)])\n",
    "plt.figure(figsize=(12,8))\n",
    "plt.semilogy(np.arange(1, num_iter+1), sublinear, \n",
    "             label=r\"Sublinear, $\\alpha = -0.5$\", linewidth=5)\n",
    "plt.semilogy(np.arange(1, num_iter+1), superlinear, linewidth=5,\n",
    "             label=r\"Superlinear, $q = 0.5, p=2$\")\n",
    "plt.semilogy(np.arange(1, num_iter+1), linear, \n",
    "             label=r\"Linear, $q = 0.5$\", linewidth=5)\n",
    "plt.semilogy(np.arange(1, num_iter+1), quadratic, \n",
    "             label=r\"Quadratic, $q = 0.5$\", linewidth=5)\n",
    "plt.xlabel(\"Number of iterations, $k$\", fontsize=28)\n",
    "plt.ylabel(\"Error rate upper bound\", fontsize=28)\n",
    "plt.legend(loc=\"best\", fontsize=26)\n",
    "plt.xticks(fontsize = 28)\n",
    "_ = plt.yticks(fontsize = 28)"
   ]
  },
  {
   "cell_type": "markdown",
   "metadata": {
    "slideshow": {
     "slide_type": "slide"
    }
   },
   "source": [
    "### Значение теорем сходимости (Б.Т. Поляк Введение в оптимизацию, гл. 1, $\\S$ 6)\n",
    "1. Что дают теоремы сходимости\n",
    "     - класс задач, для которых можно рассчитывать на применимость метода (важно не завышать условия!)\n",
    "         - выпуклость\n",
    "         - гладкость\n",
    "     - качественное поведение метода\n",
    "         - существенно ли начальное приближение\n",
    "         - по какому функционалу есть сходимость\n",
    "     - оценку скорости сходимости\n",
    "         - теоретическая оценка поведения метода без проведения экспериментов\n",
    "         - определение факторов, которые влияют на сходимость (обусловленность, размерность, etc)\n",
    "         - иногда заранее можно выбрать число итераций для достижения заданной точности \n",
    "\n",
    "2. Что **НЕ** дают теоремы сходимости\n",
    "    - сходимость метода **ничего не говорит** о целесообразности его применения\n",
    "    - оценки сходимости зависят от неизвестных констант - неконструктивный характер\n",
    "    - учёт ошибок округления и точности решения вспомогательных задач\n",
    "    \n",
    "**Мораль**: нужно проявлять разумную осторожность \n",
    "\n",
    "и здравый смысл!"
   ]
  },
  {
   "cell_type": "markdown",
   "metadata": {
    "slideshow": {
     "slide_type": "slide"
    }
   },
   "source": [
    "## Классификация задач\n",
    "1. Безусловная оптимизация\n",
    "    - целевая функция липшицева\n",
    "    - градиент целевой функции липшицев\n",
    "2. Условная оптимизация\n",
    "    - многогранник\n",
    "    - множество простой структуры\n",
    "    - общего вида"
   ]
  },
  {
   "cell_type": "markdown",
   "metadata": {
    "slideshow": {
     "slide_type": "slide"
    }
   },
   "source": [
    "## Классификация методов\n",
    "\n",
    "### Какой размер истории нужно хранить для обновления?\n",
    "\n",
    "1. Одношаговые методы \n",
    "\n",
    "$$\n",
    "x_{k+1} = \\Phi(x_k)\n",
    "$$\n",
    "\n",
    "2. Многошаговые методы\n",
    "\n",
    "$$\n",
    "x_{k+1} = \\Phi(x_k, x_{k-1}, ...)\n",
    "$$\n",
    "\n",
    "### Какой порядок поизводных нужно вычислить?\n",
    "1. Методы нулевого порядка: оракул возвращает только значение функции $f(x)$\n",
    "\n",
    "2. Методы первого порядка: оракул возвращает значение функции $f(x)$ и её градиент $f'(x)$\n",
    "\n",
    "3. Методы второго порядка: оракул возвращает значение функции $f(x)$, её градиент $f'(x)$ и гессиан $f''(x)$.\n",
    "\n",
    "**Q**: существуют ли методы более высокого порядка?\n"
   ]
  },
  {
   "cell_type": "markdown",
   "metadata": {
    "slideshow": {
     "slide_type": "slide"
    }
   },
   "source": [
    "**А**: [Implementable tensor methods in unconstrained convex optimization](https://link.springer.com/content/pdf/10.1007/s10107-019-01449-1.pdf) by Y. Nesterov, 2019 "
   ]
  },
  {
   "cell_type": "markdown",
   "metadata": {
    "slideshow": {
     "slide_type": "slide"
    }
   },
   "source": [
    "## Методы спуска. Градиентный спуск"
   ]
  },
  {
   "cell_type": "markdown",
   "metadata": {
    "slideshow": {
     "slide_type": "fragment"
    }
   },
   "source": [
    "## Что такое методы спуска?\n",
    "\n",
    "Последовательность $x_k$ генерируется по правилу\n",
    "\n",
    "$$\n",
    "x_{k+1} = x_k + \\alpha_k h_k\n",
    "$$\n",
    "\n",
    "так что\n",
    "\n",
    "$$\n",
    "f(x_{k+1}) < f(x_k)\n",
    "$$\n",
    "\n",
    "Направление $h_k$ называется *направлением убывания*.\n",
    "\n",
    "**Замечание**: существуют методы, которые не требуют монотонного убывания функции от итерации к итерации."
   ]
  },
  {
   "cell_type": "markdown",
   "metadata": {
    "slideshow": {
     "slide_type": "fragment"
    }
   },
   "source": [
    "```python\n",
    "def DescentMethod(f, x0, epsilon, **kwargs):\n",
    "    \n",
    "    x = x0\n",
    "    \n",
    "    while StopCriterion(x, f, **kwargs) > epsilon:\n",
    "        \n",
    "        h = ComputeDescentDirection(x, f, **kwargs)\n",
    "        \n",
    "        alpha = SelectStepSize(x, h, f, **kwargs)\n",
    "        \n",
    "        x = x + alpha * h\n",
    "        \n",
    "    return x\n",
    "\n",
    "\n",
    "```"
   ]
  },
  {
   "cell_type": "markdown",
   "metadata": {
    "slideshow": {
     "slide_type": "slide"
    }
   },
   "source": [
    "## Способ 1: направление убывания\n",
    "Рассмотрим линейную аппроксимацию дифференцируемой функции $f$ вдоль некоторого направления убывания $h, \\|h\\|_2 = 1$:\n",
    "\n",
    "$$\n",
    "f(x + \\alpha h) = f(x) + \\alpha \\langle f'(x), h \\rangle + o(\\alpha)\n",
    "$$\n",
    "\n",
    "Из условия убывания\n",
    "\n",
    "$$\n",
    "f(x) + \\alpha \\langle f'(x), h \\rangle + o(\\alpha) < f(x)\n",
    "$$\n",
    "\n",
    "и переходя к пределу при $\\alpha \\rightarrow 0$:\n",
    "\n",
    "$$\n",
    "\\langle f'(x), h \\rangle \\leq 0\n",
    "$$\n",
    "\n",
    "Также из неравенства Коши-Буняковского-Шварца\n",
    "\n",
    "$$\n",
    "\\langle f'(x), h \\rangle \\geq -\\| f'(x) \\|_2 \\| h \\|_2 = -\\| f'(x) \\|_2\n",
    "$$"
   ]
  },
  {
   "cell_type": "markdown",
   "metadata": {
    "slideshow": {
     "slide_type": "fragment"
    }
   },
   "source": [
    "Таким образом, направление антиградиента \n",
    "\n",
    "$$\n",
    "h = -\\dfrac{f'(x)}{\\|f'(x)\\|_2}\n",
    "$$\n",
    "\n",
    "даёт направление **наискорейшего локального** убывания функции$~f$.\n",
    "\n",
    "В итоге метод имеет вид\n",
    "\n",
    "$$\n",
    "x_{k+1} = x_k - \\alpha f'(x_k)\n",
    "$$"
   ]
  },
  {
   "cell_type": "markdown",
   "metadata": {
    "slideshow": {
     "slide_type": "slide"
    }
   },
   "source": [
    "## Способ 2: схема Эйлера решения ОДУ\n",
    "\n",
    "Рассмотрим обыкновенное диференциальное уравнение вида:\n",
    "\n",
    "$$\n",
    "\\frac{dx}{dt} = -f'(x(t))\n",
    "$$\n",
    "\n",
    "и дискретизуем его на равномерной сетке с шагом $\\alpha$:\n",
    "\n",
    "$$\n",
    "\\frac{x_{k+1} - x_k}{\\alpha} = -f'(x_k),\n",
    "$$\n",
    "\n",
    "где $x_k \\equiv x(t_k)$ и $\\alpha = t_{k+1} - t_k$ - шаг сетки.\n",
    "\n",
    "Отсюда получаем выражение для $x_{k+1}$\n",
    "\n",
    "$$\n",
    "x_{k+1} = x_k - \\alpha f'(x_k),\n",
    "$$\n",
    "\n",
    "которое в точности совпадает с выражением для градиентного спуска.\n",
    "\n",
    "Такая схема называется явной или прямой схемой Эйлера.\n",
    "\n",
    "**Q:** какая схема называется неявной или обратной?"
   ]
  },
  {
   "cell_type": "markdown",
   "metadata": {
    "slideshow": {
     "slide_type": "slide"
    }
   },
   "source": [
    "## Способ 3: минимизация квадратичной оценки сверху \n",
    "#### (А. В. Гасников \"Метод универсального градиентного спуска\" https://arxiv.org/abs/1711.00394)\n",
    "\n",
    "Глобальная оценка сверху на функцию $f$ в точке $x_k$:\n",
    "\n",
    "$$\n",
    "f(y) \\leq f(x_k) + \\langle f'(x_k), y - x_k \\rangle + \\frac{L}{2} \\|y - x_k \\|_2^2 = g(y), \n",
    "$$\n",
    "\n",
    "где $\\lambda_{\\max}(f''(x)) \\leq L$ для всех допустимых $x$.\n",
    "\n",
    "Справа &mdash; квадратичная форма, точка минимума которой имеет аналитическое выражение:\n",
    "\n",
    "\\begin{align*}\n",
    "& g'(y^*) = 0 \\\\\n",
    "& f'(x_k) + L (y^* - x_k) = 0 \\\\\n",
    "& y^* = x_k - \\frac{1}{L}f'(x_k) = x_{k+1}\n",
    "\\end{align*}\n",
    "\n",
    "Этот способ позволяет оценить значение шага как $\\frac{1}{L}$. Однако часто константа $L$ неизвестна."
   ]
  },
  {
   "cell_type": "markdown",
   "metadata": {
    "slideshow": {
     "slide_type": "slide"
    }
   },
   "source": [
    "## Итого: метод градиентного спуска &mdash; дёшево и сердито\n",
    "\n",
    "```python\n",
    "def GradientDescentMethod(f, x0, epsilon, **kwargs):\n",
    "    \n",
    "    x = x0\n",
    "    \n",
    "    while StopCriterion(x, f, **kwargs) > epsilon:\n",
    "        \n",
    "        h = ComputeGradient(x, f, **kwargs)\n",
    "        \n",
    "        alpha = SelectStepSize(x, h, f, **kwargs)\n",
    "        \n",
    "        x = x - alpha * h\n",
    "        \n",
    "    return x\n",
    "\n",
    "```"
   ]
  },
  {
   "cell_type": "markdown",
   "metadata": {
    "slideshow": {
     "slide_type": "slide"
    }
   },
   "source": [
    "## Как выбрать шаг $\\alpha_k$? (J. Nocedal, S. Wright Numerical Optimization, $\\S$ 3.1.)\n",
    "\n",
    "Список подходов:\n",
    "- Постоянный шаг \n",
    "\n",
    "$$\n",
    "\\alpha_k = \\overline{\\alpha}\n",
    "$$\n",
    "\n",
    "- Априорно заданная последовательность, например\n",
    "\n",
    "$$\n",
    "\\alpha_k = \\dfrac{\\overline{\\alpha}}{\\sqrt{k+1}}\n",
    "$$\n",
    "\n",
    "- Наискорейший спуск\n",
    "\n",
    "$$\n",
    "\\alpha_k = \\arg\\min_{\\alpha \\geq 0} f(x_k - \\alpha f'(x_k))\n",
    "$$\n",
    "\n",
    "- Требование **достаточного** убывания, требование **существенного** убывания и условие кривизны: для некоторых $\\beta_1, \\beta_2$, таких что $0 < \\beta_1 < \\beta_2 < 1$ найти $x_{k+1}$ такую что\n",
    "\n",
    "    - Достаточное убывание: $f(x_{k+1}) \\leq f(x_k) + \\beta_1 \\alpha_k \\langle f'(x_k), h_k \\rangle$ или\n",
    "    $ f(x_k) - f(x_{k+1}) \\geq \\beta_1 \\alpha_k \\langle f'(x_k), h_k \\rangle\n",
    "    $\n",
    "    - Существенное убывание: $f(x_{k+1}) \\geq f(x_k) + \\beta_2 \\alpha_k \\langle f'(x_k), h_k \\rangle$ или\n",
    "    $\n",
    "    f(x_k) - f(x_{k+1}) \\leq \\beta_2 \\alpha_k \\langle f'(x_k), h_k \\rangle\n",
    "    $\n",
    "    - Условие кривизны: $\\langle f'(x_{k+1}), h_k \\rangle \\geq \\beta_2 \\langle f'(x_k), h_k \\rangle$\n",
    "\n",
    "Обычно коэффициенты выбирают так: $\\beta_1 \\in (0, 0.3)$, а $\\beta_2 \\in (0.9, 1)$"
   ]
  },
  {
   "cell_type": "markdown",
   "metadata": {
    "slideshow": {
     "slide_type": "slide"
    }
   },
   "source": [
    "### Анализ и мотивация подходов к выбору шага $\\alpha_k$\n",
    "- Постоянный шаг: самое простое и неэффективное решение\n",
    "- Априорно заданная последовательность: немногим лучше постоянного шага\n",
    "- Наискорейший спуск: самое лучшее решение, но применимо только если вспомогательная задача решается аналитически или ооооооочень быстро. <br></br>\n",
    "То есть почти всегда неприменимо :)\n",
    "- Требование достаточного убывания, требование существенного убывания и условие кривизны:\n",
    "    - требование достаточного убывания гарантирует, что функция в точке $x_{k+1}$ не превосходит линейной аппроксимации с коэффициентом наклона $\\beta_1$\n",
    "    - требование существенного убывания гарантирует, что функция в точке $x_{k+1}$ убывает не меньше, чем линейная аппроксимация c коэффициентом наклона $\\beta_2$\n",
    "    - условие кривизны гарантирует, что угол наклона касательной в точке $x_{k+1}$ не меньше, чем угол наклона касательной в точке $x_k$, <br></br>\n",
    "умноженный на $\\beta_2$ \n",
    "\n",
    "Требование существенного убывания и условие кривизны обеспечивают убывание функции по выбранному направлению $h_k$. Обычно выбирают одно из них."
   ]
  },
  {
   "cell_type": "markdown",
   "metadata": {
    "slideshow": {
     "slide_type": "fragment"
    }
   },
   "source": [
    "#### Альтернативные названия\n",
    "- Требование достаточного убывания $\\equiv$ правило Армихо\n",
    "- Требование достаточного убывания + условие кривизны $\\equiv$ правило Вольфа\n",
    "- Требование достаточного убывания + требование существенного убывания $\\equiv$ правило Гольдштейна"
   ]
  },
  {
   "cell_type": "markdown",
   "metadata": {
    "slideshow": {
     "slide_type": "slide"
    }
   },
   "source": [
    "## Зачем нужно условие существенного убывания?"
   ]
  },
  {
   "cell_type": "code",
   "execution_count": 1,
   "metadata": {
    "slideshow": {
     "slide_type": "slide"
    }
   },
   "outputs": [],
   "source": [
    "%matplotlib notebook\n",
    "import matplotlib.pyplot as plt\n",
    "plt.rc(\"text\", usetex=True)\n",
    "import ipywidgets as ipywidg\n",
    "import numpy as np\n",
    "import liboptpy.unconstr_solvers as methods\n",
    "import liboptpy.step_size as ss\n",
    "from tqdm import tqdm"
   ]
  },
  {
   "cell_type": "code",
   "execution_count": 2,
   "metadata": {
    "slideshow": {
     "slide_type": "slide"
    }
   },
   "outputs": [
    {
     "data": {
      "application/javascript": [
       "/* Put everything inside the global mpl namespace */\n",
       "window.mpl = {};\n",
       "\n",
       "\n",
       "mpl.get_websocket_type = function() {\n",
       "    if (typeof(WebSocket) !== 'undefined') {\n",
       "        return WebSocket;\n",
       "    } else if (typeof(MozWebSocket) !== 'undefined') {\n",
       "        return MozWebSocket;\n",
       "    } else {\n",
       "        alert('Your browser does not have WebSocket support.' +\n",
       "              'Please try Chrome, Safari or Firefox ≥ 6. ' +\n",
       "              'Firefox 4 and 5 are also supported but you ' +\n",
       "              'have to enable WebSockets in about:config.');\n",
       "    };\n",
       "}\n",
       "\n",
       "mpl.figure = function(figure_id, websocket, ondownload, parent_element) {\n",
       "    this.id = figure_id;\n",
       "\n",
       "    this.ws = websocket;\n",
       "\n",
       "    this.supports_binary = (this.ws.binaryType != undefined);\n",
       "\n",
       "    if (!this.supports_binary) {\n",
       "        var warnings = document.getElementById(\"mpl-warnings\");\n",
       "        if (warnings) {\n",
       "            warnings.style.display = 'block';\n",
       "            warnings.textContent = (\n",
       "                \"This browser does not support binary websocket messages. \" +\n",
       "                    \"Performance may be slow.\");\n",
       "        }\n",
       "    }\n",
       "\n",
       "    this.imageObj = new Image();\n",
       "\n",
       "    this.context = undefined;\n",
       "    this.message = undefined;\n",
       "    this.canvas = undefined;\n",
       "    this.rubberband_canvas = undefined;\n",
       "    this.rubberband_context = undefined;\n",
       "    this.format_dropdown = undefined;\n",
       "\n",
       "    this.image_mode = 'full';\n",
       "\n",
       "    this.root = $('<div/>');\n",
       "    this._root_extra_style(this.root)\n",
       "    this.root.attr('style', 'display: inline-block');\n",
       "\n",
       "    $(parent_element).append(this.root);\n",
       "\n",
       "    this._init_header(this);\n",
       "    this._init_canvas(this);\n",
       "    this._init_toolbar(this);\n",
       "\n",
       "    var fig = this;\n",
       "\n",
       "    this.waiting = false;\n",
       "\n",
       "    this.ws.onopen =  function () {\n",
       "            fig.send_message(\"supports_binary\", {value: fig.supports_binary});\n",
       "            fig.send_message(\"send_image_mode\", {});\n",
       "            if (mpl.ratio != 1) {\n",
       "                fig.send_message(\"set_dpi_ratio\", {'dpi_ratio': mpl.ratio});\n",
       "            }\n",
       "            fig.send_message(\"refresh\", {});\n",
       "        }\n",
       "\n",
       "    this.imageObj.onload = function() {\n",
       "            if (fig.image_mode == 'full') {\n",
       "                // Full images could contain transparency (where diff images\n",
       "                // almost always do), so we need to clear the canvas so that\n",
       "                // there is no ghosting.\n",
       "                fig.context.clearRect(0, 0, fig.canvas.width, fig.canvas.height);\n",
       "            }\n",
       "            fig.context.drawImage(fig.imageObj, 0, 0);\n",
       "        };\n",
       "\n",
       "    this.imageObj.onunload = function() {\n",
       "        fig.ws.close();\n",
       "    }\n",
       "\n",
       "    this.ws.onmessage = this._make_on_message_function(this);\n",
       "\n",
       "    this.ondownload = ondownload;\n",
       "}\n",
       "\n",
       "mpl.figure.prototype._init_header = function() {\n",
       "    var titlebar = $(\n",
       "        '<div class=\"ui-dialog-titlebar ui-widget-header ui-corner-all ' +\n",
       "        'ui-helper-clearfix\"/>');\n",
       "    var titletext = $(\n",
       "        '<div class=\"ui-dialog-title\" style=\"width: 100%; ' +\n",
       "        'text-align: center; padding: 3px;\"/>');\n",
       "    titlebar.append(titletext)\n",
       "    this.root.append(titlebar);\n",
       "    this.header = titletext[0];\n",
       "}\n",
       "\n",
       "\n",
       "\n",
       "mpl.figure.prototype._canvas_extra_style = function(canvas_div) {\n",
       "\n",
       "}\n",
       "\n",
       "\n",
       "mpl.figure.prototype._root_extra_style = function(canvas_div) {\n",
       "\n",
       "}\n",
       "\n",
       "mpl.figure.prototype._init_canvas = function() {\n",
       "    var fig = this;\n",
       "\n",
       "    var canvas_div = $('<div/>');\n",
       "\n",
       "    canvas_div.attr('style', 'position: relative; clear: both; outline: 0');\n",
       "\n",
       "    function canvas_keyboard_event(event) {\n",
       "        return fig.key_event(event, event['data']);\n",
       "    }\n",
       "\n",
       "    canvas_div.keydown('key_press', canvas_keyboard_event);\n",
       "    canvas_div.keyup('key_release', canvas_keyboard_event);\n",
       "    this.canvas_div = canvas_div\n",
       "    this._canvas_extra_style(canvas_div)\n",
       "    this.root.append(canvas_div);\n",
       "\n",
       "    var canvas = $('<canvas/>');\n",
       "    canvas.addClass('mpl-canvas');\n",
       "    canvas.attr('style', \"left: 0; top: 0; z-index: 0; outline: 0\")\n",
       "\n",
       "    this.canvas = canvas[0];\n",
       "    this.context = canvas[0].getContext(\"2d\");\n",
       "\n",
       "    var backingStore = this.context.backingStorePixelRatio ||\n",
       "\tthis.context.webkitBackingStorePixelRatio ||\n",
       "\tthis.context.mozBackingStorePixelRatio ||\n",
       "\tthis.context.msBackingStorePixelRatio ||\n",
       "\tthis.context.oBackingStorePixelRatio ||\n",
       "\tthis.context.backingStorePixelRatio || 1;\n",
       "\n",
       "    mpl.ratio = (window.devicePixelRatio || 1) / backingStore;\n",
       "\n",
       "    var rubberband = $('<canvas/>');\n",
       "    rubberband.attr('style', \"position: absolute; left: 0; top: 0; z-index: 1;\")\n",
       "\n",
       "    var pass_mouse_events = true;\n",
       "\n",
       "    canvas_div.resizable({\n",
       "        start: function(event, ui) {\n",
       "            pass_mouse_events = false;\n",
       "        },\n",
       "        resize: function(event, ui) {\n",
       "            fig.request_resize(ui.size.width, ui.size.height);\n",
       "        },\n",
       "        stop: function(event, ui) {\n",
       "            pass_mouse_events = true;\n",
       "            fig.request_resize(ui.size.width, ui.size.height);\n",
       "        },\n",
       "    });\n",
       "\n",
       "    function mouse_event_fn(event) {\n",
       "        if (pass_mouse_events)\n",
       "            return fig.mouse_event(event, event['data']);\n",
       "    }\n",
       "\n",
       "    rubberband.mousedown('button_press', mouse_event_fn);\n",
       "    rubberband.mouseup('button_release', mouse_event_fn);\n",
       "    // Throttle sequential mouse events to 1 every 20ms.\n",
       "    rubberband.mousemove('motion_notify', mouse_event_fn);\n",
       "\n",
       "    rubberband.mouseenter('figure_enter', mouse_event_fn);\n",
       "    rubberband.mouseleave('figure_leave', mouse_event_fn);\n",
       "\n",
       "    canvas_div.on(\"wheel\", function (event) {\n",
       "        event = event.originalEvent;\n",
       "        event['data'] = 'scroll'\n",
       "        if (event.deltaY < 0) {\n",
       "            event.step = 1;\n",
       "        } else {\n",
       "            event.step = -1;\n",
       "        }\n",
       "        mouse_event_fn(event);\n",
       "    });\n",
       "\n",
       "    canvas_div.append(canvas);\n",
       "    canvas_div.append(rubberband);\n",
       "\n",
       "    this.rubberband = rubberband;\n",
       "    this.rubberband_canvas = rubberband[0];\n",
       "    this.rubberband_context = rubberband[0].getContext(\"2d\");\n",
       "    this.rubberband_context.strokeStyle = \"#000000\";\n",
       "\n",
       "    this._resize_canvas = function(width, height) {\n",
       "        // Keep the size of the canvas, canvas container, and rubber band\n",
       "        // canvas in synch.\n",
       "        canvas_div.css('width', width)\n",
       "        canvas_div.css('height', height)\n",
       "\n",
       "        canvas.attr('width', width * mpl.ratio);\n",
       "        canvas.attr('height', height * mpl.ratio);\n",
       "        canvas.attr('style', 'width: ' + width + 'px; height: ' + height + 'px;');\n",
       "\n",
       "        rubberband.attr('width', width);\n",
       "        rubberband.attr('height', height);\n",
       "    }\n",
       "\n",
       "    // Set the figure to an initial 600x600px, this will subsequently be updated\n",
       "    // upon first draw.\n",
       "    this._resize_canvas(600, 600);\n",
       "\n",
       "    // Disable right mouse context menu.\n",
       "    $(this.rubberband_canvas).bind(\"contextmenu\",function(e){\n",
       "        return false;\n",
       "    });\n",
       "\n",
       "    function set_focus () {\n",
       "        canvas.focus();\n",
       "        canvas_div.focus();\n",
       "    }\n",
       "\n",
       "    window.setTimeout(set_focus, 100);\n",
       "}\n",
       "\n",
       "mpl.figure.prototype._init_toolbar = function() {\n",
       "    var fig = this;\n",
       "\n",
       "    var nav_element = $('<div/>')\n",
       "    nav_element.attr('style', 'width: 100%');\n",
       "    this.root.append(nav_element);\n",
       "\n",
       "    // Define a callback function for later on.\n",
       "    function toolbar_event(event) {\n",
       "        return fig.toolbar_button_onclick(event['data']);\n",
       "    }\n",
       "    function toolbar_mouse_event(event) {\n",
       "        return fig.toolbar_button_onmouseover(event['data']);\n",
       "    }\n",
       "\n",
       "    for(var toolbar_ind in mpl.toolbar_items) {\n",
       "        var name = mpl.toolbar_items[toolbar_ind][0];\n",
       "        var tooltip = mpl.toolbar_items[toolbar_ind][1];\n",
       "        var image = mpl.toolbar_items[toolbar_ind][2];\n",
       "        var method_name = mpl.toolbar_items[toolbar_ind][3];\n",
       "\n",
       "        if (!name) {\n",
       "            // put a spacer in here.\n",
       "            continue;\n",
       "        }\n",
       "        var button = $('<button/>');\n",
       "        button.addClass('ui-button ui-widget ui-state-default ui-corner-all ' +\n",
       "                        'ui-button-icon-only');\n",
       "        button.attr('role', 'button');\n",
       "        button.attr('aria-disabled', 'false');\n",
       "        button.click(method_name, toolbar_event);\n",
       "        button.mouseover(tooltip, toolbar_mouse_event);\n",
       "\n",
       "        var icon_img = $('<span/>');\n",
       "        icon_img.addClass('ui-button-icon-primary ui-icon');\n",
       "        icon_img.addClass(image);\n",
       "        icon_img.addClass('ui-corner-all');\n",
       "\n",
       "        var tooltip_span = $('<span/>');\n",
       "        tooltip_span.addClass('ui-button-text');\n",
       "        tooltip_span.html(tooltip);\n",
       "\n",
       "        button.append(icon_img);\n",
       "        button.append(tooltip_span);\n",
       "\n",
       "        nav_element.append(button);\n",
       "    }\n",
       "\n",
       "    var fmt_picker_span = $('<span/>');\n",
       "\n",
       "    var fmt_picker = $('<select/>');\n",
       "    fmt_picker.addClass('mpl-toolbar-option ui-widget ui-widget-content');\n",
       "    fmt_picker_span.append(fmt_picker);\n",
       "    nav_element.append(fmt_picker_span);\n",
       "    this.format_dropdown = fmt_picker[0];\n",
       "\n",
       "    for (var ind in mpl.extensions) {\n",
       "        var fmt = mpl.extensions[ind];\n",
       "        var option = $(\n",
       "            '<option/>', {selected: fmt === mpl.default_extension}).html(fmt);\n",
       "        fmt_picker.append(option)\n",
       "    }\n",
       "\n",
       "    // Add hover states to the ui-buttons\n",
       "    $( \".ui-button\" ).hover(\n",
       "        function() { $(this).addClass(\"ui-state-hover\");},\n",
       "        function() { $(this).removeClass(\"ui-state-hover\");}\n",
       "    );\n",
       "\n",
       "    var status_bar = $('<span class=\"mpl-message\"/>');\n",
       "    nav_element.append(status_bar);\n",
       "    this.message = status_bar[0];\n",
       "}\n",
       "\n",
       "mpl.figure.prototype.request_resize = function(x_pixels, y_pixels) {\n",
       "    // Request matplotlib to resize the figure. Matplotlib will then trigger a resize in the client,\n",
       "    // which will in turn request a refresh of the image.\n",
       "    this.send_message('resize', {'width': x_pixels, 'height': y_pixels});\n",
       "}\n",
       "\n",
       "mpl.figure.prototype.send_message = function(type, properties) {\n",
       "    properties['type'] = type;\n",
       "    properties['figure_id'] = this.id;\n",
       "    this.ws.send(JSON.stringify(properties));\n",
       "}\n",
       "\n",
       "mpl.figure.prototype.send_draw_message = function() {\n",
       "    if (!this.waiting) {\n",
       "        this.waiting = true;\n",
       "        this.ws.send(JSON.stringify({type: \"draw\", figure_id: this.id}));\n",
       "    }\n",
       "}\n",
       "\n",
       "\n",
       "mpl.figure.prototype.handle_save = function(fig, msg) {\n",
       "    var format_dropdown = fig.format_dropdown;\n",
       "    var format = format_dropdown.options[format_dropdown.selectedIndex].value;\n",
       "    fig.ondownload(fig, format);\n",
       "}\n",
       "\n",
       "\n",
       "mpl.figure.prototype.handle_resize = function(fig, msg) {\n",
       "    var size = msg['size'];\n",
       "    if (size[0] != fig.canvas.width || size[1] != fig.canvas.height) {\n",
       "        fig._resize_canvas(size[0], size[1]);\n",
       "        fig.send_message(\"refresh\", {});\n",
       "    };\n",
       "}\n",
       "\n",
       "mpl.figure.prototype.handle_rubberband = function(fig, msg) {\n",
       "    var x0 = msg['x0'] / mpl.ratio;\n",
       "    var y0 = (fig.canvas.height - msg['y0']) / mpl.ratio;\n",
       "    var x1 = msg['x1'] / mpl.ratio;\n",
       "    var y1 = (fig.canvas.height - msg['y1']) / mpl.ratio;\n",
       "    x0 = Math.floor(x0) + 0.5;\n",
       "    y0 = Math.floor(y0) + 0.5;\n",
       "    x1 = Math.floor(x1) + 0.5;\n",
       "    y1 = Math.floor(y1) + 0.5;\n",
       "    var min_x = Math.min(x0, x1);\n",
       "    var min_y = Math.min(y0, y1);\n",
       "    var width = Math.abs(x1 - x0);\n",
       "    var height = Math.abs(y1 - y0);\n",
       "\n",
       "    fig.rubberband_context.clearRect(\n",
       "        0, 0, fig.canvas.width, fig.canvas.height);\n",
       "\n",
       "    fig.rubberband_context.strokeRect(min_x, min_y, width, height);\n",
       "}\n",
       "\n",
       "mpl.figure.prototype.handle_figure_label = function(fig, msg) {\n",
       "    // Updates the figure title.\n",
       "    fig.header.textContent = msg['label'];\n",
       "}\n",
       "\n",
       "mpl.figure.prototype.handle_cursor = function(fig, msg) {\n",
       "    var cursor = msg['cursor'];\n",
       "    switch(cursor)\n",
       "    {\n",
       "    case 0:\n",
       "        cursor = 'pointer';\n",
       "        break;\n",
       "    case 1:\n",
       "        cursor = 'default';\n",
       "        break;\n",
       "    case 2:\n",
       "        cursor = 'crosshair';\n",
       "        break;\n",
       "    case 3:\n",
       "        cursor = 'move';\n",
       "        break;\n",
       "    }\n",
       "    fig.rubberband_canvas.style.cursor = cursor;\n",
       "}\n",
       "\n",
       "mpl.figure.prototype.handle_message = function(fig, msg) {\n",
       "    fig.message.textContent = msg['message'];\n",
       "}\n",
       "\n",
       "mpl.figure.prototype.handle_draw = function(fig, msg) {\n",
       "    // Request the server to send over a new figure.\n",
       "    fig.send_draw_message();\n",
       "}\n",
       "\n",
       "mpl.figure.prototype.handle_image_mode = function(fig, msg) {\n",
       "    fig.image_mode = msg['mode'];\n",
       "}\n",
       "\n",
       "mpl.figure.prototype.updated_canvas_event = function() {\n",
       "    // Called whenever the canvas gets updated.\n",
       "    this.send_message(\"ack\", {});\n",
       "}\n",
       "\n",
       "// A function to construct a web socket function for onmessage handling.\n",
       "// Called in the figure constructor.\n",
       "mpl.figure.prototype._make_on_message_function = function(fig) {\n",
       "    return function socket_on_message(evt) {\n",
       "        if (evt.data instanceof Blob) {\n",
       "            /* FIXME: We get \"Resource interpreted as Image but\n",
       "             * transferred with MIME type text/plain:\" errors on\n",
       "             * Chrome.  But how to set the MIME type?  It doesn't seem\n",
       "             * to be part of the websocket stream */\n",
       "            evt.data.type = \"image/png\";\n",
       "\n",
       "            /* Free the memory for the previous frames */\n",
       "            if (fig.imageObj.src) {\n",
       "                (window.URL || window.webkitURL).revokeObjectURL(\n",
       "                    fig.imageObj.src);\n",
       "            }\n",
       "\n",
       "            fig.imageObj.src = (window.URL || window.webkitURL).createObjectURL(\n",
       "                evt.data);\n",
       "            fig.updated_canvas_event();\n",
       "            fig.waiting = false;\n",
       "            return;\n",
       "        }\n",
       "        else if (typeof evt.data === 'string' && evt.data.slice(0, 21) == \"data:image/png;base64\") {\n",
       "            fig.imageObj.src = evt.data;\n",
       "            fig.updated_canvas_event();\n",
       "            fig.waiting = false;\n",
       "            return;\n",
       "        }\n",
       "\n",
       "        var msg = JSON.parse(evt.data);\n",
       "        var msg_type = msg['type'];\n",
       "\n",
       "        // Call the  \"handle_{type}\" callback, which takes\n",
       "        // the figure and JSON message as its only arguments.\n",
       "        try {\n",
       "            var callback = fig[\"handle_\" + msg_type];\n",
       "        } catch (e) {\n",
       "            console.log(\"No handler for the '\" + msg_type + \"' message type: \", msg);\n",
       "            return;\n",
       "        }\n",
       "\n",
       "        if (callback) {\n",
       "            try {\n",
       "                // console.log(\"Handling '\" + msg_type + \"' message: \", msg);\n",
       "                callback(fig, msg);\n",
       "            } catch (e) {\n",
       "                console.log(\"Exception inside the 'handler_\" + msg_type + \"' callback:\", e, e.stack, msg);\n",
       "            }\n",
       "        }\n",
       "    };\n",
       "}\n",
       "\n",
       "// from http://stackoverflow.com/questions/1114465/getting-mouse-location-in-canvas\n",
       "mpl.findpos = function(e) {\n",
       "    //this section is from http://www.quirksmode.org/js/events_properties.html\n",
       "    var targ;\n",
       "    if (!e)\n",
       "        e = window.event;\n",
       "    if (e.target)\n",
       "        targ = e.target;\n",
       "    else if (e.srcElement)\n",
       "        targ = e.srcElement;\n",
       "    if (targ.nodeType == 3) // defeat Safari bug\n",
       "        targ = targ.parentNode;\n",
       "\n",
       "    // jQuery normalizes the pageX and pageY\n",
       "    // pageX,Y are the mouse positions relative to the document\n",
       "    // offset() returns the position of the element relative to the document\n",
       "    var x = e.pageX - $(targ).offset().left;\n",
       "    var y = e.pageY - $(targ).offset().top;\n",
       "\n",
       "    return {\"x\": x, \"y\": y};\n",
       "};\n",
       "\n",
       "/*\n",
       " * return a copy of an object with only non-object keys\n",
       " * we need this to avoid circular references\n",
       " * http://stackoverflow.com/a/24161582/3208463\n",
       " */\n",
       "function simpleKeys (original) {\n",
       "  return Object.keys(original).reduce(function (obj, key) {\n",
       "    if (typeof original[key] !== 'object')\n",
       "        obj[key] = original[key]\n",
       "    return obj;\n",
       "  }, {});\n",
       "}\n",
       "\n",
       "mpl.figure.prototype.mouse_event = function(event, name) {\n",
       "    var canvas_pos = mpl.findpos(event)\n",
       "\n",
       "    if (name === 'button_press')\n",
       "    {\n",
       "        this.canvas.focus();\n",
       "        this.canvas_div.focus();\n",
       "    }\n",
       "\n",
       "    var x = canvas_pos.x * mpl.ratio;\n",
       "    var y = canvas_pos.y * mpl.ratio;\n",
       "\n",
       "    this.send_message(name, {x: x, y: y, button: event.button,\n",
       "                             step: event.step,\n",
       "                             guiEvent: simpleKeys(event)});\n",
       "\n",
       "    /* This prevents the web browser from automatically changing to\n",
       "     * the text insertion cursor when the button is pressed.  We want\n",
       "     * to control all of the cursor setting manually through the\n",
       "     * 'cursor' event from matplotlib */\n",
       "    event.preventDefault();\n",
       "    return false;\n",
       "}\n",
       "\n",
       "mpl.figure.prototype._key_event_extra = function(event, name) {\n",
       "    // Handle any extra behaviour associated with a key event\n",
       "}\n",
       "\n",
       "mpl.figure.prototype.key_event = function(event, name) {\n",
       "\n",
       "    // Prevent repeat events\n",
       "    if (name == 'key_press')\n",
       "    {\n",
       "        if (event.which === this._key)\n",
       "            return;\n",
       "        else\n",
       "            this._key = event.which;\n",
       "    }\n",
       "    if (name == 'key_release')\n",
       "        this._key = null;\n",
       "\n",
       "    var value = '';\n",
       "    if (event.ctrlKey && event.which != 17)\n",
       "        value += \"ctrl+\";\n",
       "    if (event.altKey && event.which != 18)\n",
       "        value += \"alt+\";\n",
       "    if (event.shiftKey && event.which != 16)\n",
       "        value += \"shift+\";\n",
       "\n",
       "    value += 'k';\n",
       "    value += event.which.toString();\n",
       "\n",
       "    this._key_event_extra(event, name);\n",
       "\n",
       "    this.send_message(name, {key: value,\n",
       "                             guiEvent: simpleKeys(event)});\n",
       "    return false;\n",
       "}\n",
       "\n",
       "mpl.figure.prototype.toolbar_button_onclick = function(name) {\n",
       "    if (name == 'download') {\n",
       "        this.handle_save(this, null);\n",
       "    } else {\n",
       "        this.send_message(\"toolbar_button\", {name: name});\n",
       "    }\n",
       "};\n",
       "\n",
       "mpl.figure.prototype.toolbar_button_onmouseover = function(tooltip) {\n",
       "    this.message.textContent = tooltip;\n",
       "};\n",
       "mpl.toolbar_items = [[\"Home\", \"Reset original view\", \"fa fa-home icon-home\", \"home\"], [\"Back\", \"Back to previous view\", \"fa fa-arrow-left icon-arrow-left\", \"back\"], [\"Forward\", \"Forward to next view\", \"fa fa-arrow-right icon-arrow-right\", \"forward\"], [\"\", \"\", \"\", \"\"], [\"Pan\", \"Pan axes with left mouse, zoom with right\", \"fa fa-arrows icon-move\", \"pan\"], [\"Zoom\", \"Zoom to rectangle\", \"fa fa-square-o icon-check-empty\", \"zoom\"], [\"\", \"\", \"\", \"\"], [\"Download\", \"Download plot\", \"fa fa-floppy-o icon-save\", \"download\"]];\n",
       "\n",
       "mpl.extensions = [\"eps\", \"jpeg\", \"pdf\", \"png\", \"ps\", \"raw\", \"svg\", \"tif\"];\n",
       "\n",
       "mpl.default_extension = \"png\";var comm_websocket_adapter = function(comm) {\n",
       "    // Create a \"websocket\"-like object which calls the given IPython comm\n",
       "    // object with the appropriate methods. Currently this is a non binary\n",
       "    // socket, so there is still some room for performance tuning.\n",
       "    var ws = {};\n",
       "\n",
       "    ws.close = function() {\n",
       "        comm.close()\n",
       "    };\n",
       "    ws.send = function(m) {\n",
       "        //console.log('sending', m);\n",
       "        comm.send(m);\n",
       "    };\n",
       "    // Register the callback with on_msg.\n",
       "    comm.on_msg(function(msg) {\n",
       "        //console.log('receiving', msg['content']['data'], msg);\n",
       "        // Pass the mpl event to the overridden (by mpl) onmessage function.\n",
       "        ws.onmessage(msg['content']['data'])\n",
       "    });\n",
       "    return ws;\n",
       "}\n",
       "\n",
       "mpl.mpl_figure_comm = function(comm, msg) {\n",
       "    // This is the function which gets called when the mpl process\n",
       "    // starts-up an IPython Comm through the \"matplotlib\" channel.\n",
       "\n",
       "    var id = msg.content.data.id;\n",
       "    // Get hold of the div created by the display call when the Comm\n",
       "    // socket was opened in Python.\n",
       "    var element = $(\"#\" + id);\n",
       "    var ws_proxy = comm_websocket_adapter(comm)\n",
       "\n",
       "    function ondownload(figure, format) {\n",
       "        window.open(figure.imageObj.src);\n",
       "    }\n",
       "\n",
       "    var fig = new mpl.figure(id, ws_proxy,\n",
       "                           ondownload,\n",
       "                           element.get(0));\n",
       "\n",
       "    // Call onopen now - mpl needs it, as it is assuming we've passed it a real\n",
       "    // web socket which is closed, not our websocket->open comm proxy.\n",
       "    ws_proxy.onopen();\n",
       "\n",
       "    fig.parent_element = element.get(0);\n",
       "    fig.cell_info = mpl.find_output_cell(\"<div id='\" + id + \"'></div>\");\n",
       "    if (!fig.cell_info) {\n",
       "        console.error(\"Failed to find cell for figure\", id, fig);\n",
       "        return;\n",
       "    }\n",
       "\n",
       "    var output_index = fig.cell_info[2]\n",
       "    var cell = fig.cell_info[0];\n",
       "\n",
       "};\n",
       "\n",
       "mpl.figure.prototype.handle_close = function(fig, msg) {\n",
       "    var width = fig.canvas.width/mpl.ratio\n",
       "    fig.root.unbind('remove')\n",
       "\n",
       "    // Update the output cell to use the data from the current canvas.\n",
       "    fig.push_to_output();\n",
       "    var dataURL = fig.canvas.toDataURL();\n",
       "    // Re-enable the keyboard manager in IPython - without this line, in FF,\n",
       "    // the notebook keyboard shortcuts fail.\n",
       "    IPython.keyboard_manager.enable()\n",
       "    $(fig.parent_element).html('<img src=\"' + dataURL + '\" width=\"' + width + '\">');\n",
       "    fig.close_ws(fig, msg);\n",
       "}\n",
       "\n",
       "mpl.figure.prototype.close_ws = function(fig, msg){\n",
       "    fig.send_message('closing', msg);\n",
       "    // fig.ws.close()\n",
       "}\n",
       "\n",
       "mpl.figure.prototype.push_to_output = function(remove_interactive) {\n",
       "    // Turn the data on the canvas into data in the output cell.\n",
       "    var width = this.canvas.width/mpl.ratio\n",
       "    var dataURL = this.canvas.toDataURL();\n",
       "    this.cell_info[1]['text/html'] = '<img src=\"' + dataURL + '\" width=\"' + width + '\">';\n",
       "}\n",
       "\n",
       "mpl.figure.prototype.updated_canvas_event = function() {\n",
       "    // Tell IPython that the notebook contents must change.\n",
       "    IPython.notebook.set_dirty(true);\n",
       "    this.send_message(\"ack\", {});\n",
       "    var fig = this;\n",
       "    // Wait a second, then push the new image to the DOM so\n",
       "    // that it is saved nicely (might be nice to debounce this).\n",
       "    setTimeout(function () { fig.push_to_output() }, 1000);\n",
       "}\n",
       "\n",
       "mpl.figure.prototype._init_toolbar = function() {\n",
       "    var fig = this;\n",
       "\n",
       "    var nav_element = $('<div/>')\n",
       "    nav_element.attr('style', 'width: 100%');\n",
       "    this.root.append(nav_element);\n",
       "\n",
       "    // Define a callback function for later on.\n",
       "    function toolbar_event(event) {\n",
       "        return fig.toolbar_button_onclick(event['data']);\n",
       "    }\n",
       "    function toolbar_mouse_event(event) {\n",
       "        return fig.toolbar_button_onmouseover(event['data']);\n",
       "    }\n",
       "\n",
       "    for(var toolbar_ind in mpl.toolbar_items){\n",
       "        var name = mpl.toolbar_items[toolbar_ind][0];\n",
       "        var tooltip = mpl.toolbar_items[toolbar_ind][1];\n",
       "        var image = mpl.toolbar_items[toolbar_ind][2];\n",
       "        var method_name = mpl.toolbar_items[toolbar_ind][3];\n",
       "\n",
       "        if (!name) { continue; };\n",
       "\n",
       "        var button = $('<button class=\"btn btn-default\" href=\"#\" title=\"' + name + '\"><i class=\"fa ' + image + ' fa-lg\"></i></button>');\n",
       "        button.click(method_name, toolbar_event);\n",
       "        button.mouseover(tooltip, toolbar_mouse_event);\n",
       "        nav_element.append(button);\n",
       "    }\n",
       "\n",
       "    // Add the status bar.\n",
       "    var status_bar = $('<span class=\"mpl-message\" style=\"text-align:right; float: right;\"/>');\n",
       "    nav_element.append(status_bar);\n",
       "    this.message = status_bar[0];\n",
       "\n",
       "    // Add the close button to the window.\n",
       "    var buttongrp = $('<div class=\"btn-group inline pull-right\"></div>');\n",
       "    var button = $('<button class=\"btn btn-mini btn-primary\" href=\"#\" title=\"Stop Interaction\"><i class=\"fa fa-power-off icon-remove icon-large\"></i></button>');\n",
       "    button.click(function (evt) { fig.handle_close(fig, {}); } );\n",
       "    button.mouseover('Stop Interaction', toolbar_mouse_event);\n",
       "    buttongrp.append(button);\n",
       "    var titlebar = this.root.find($('.ui-dialog-titlebar'));\n",
       "    titlebar.prepend(buttongrp);\n",
       "}\n",
       "\n",
       "mpl.figure.prototype._root_extra_style = function(el){\n",
       "    var fig = this\n",
       "    el.on(\"remove\", function(){\n",
       "\tfig.close_ws(fig, {});\n",
       "    });\n",
       "}\n",
       "\n",
       "mpl.figure.prototype._canvas_extra_style = function(el){\n",
       "    // this is important to make the div 'focusable\n",
       "    el.attr('tabindex', 0)\n",
       "    // reach out to IPython and tell the keyboard manager to turn it's self\n",
       "    // off when our div gets focus\n",
       "\n",
       "    // location in version 3\n",
       "    if (IPython.notebook.keyboard_manager) {\n",
       "        IPython.notebook.keyboard_manager.register_events(el);\n",
       "    }\n",
       "    else {\n",
       "        // location in version 2\n",
       "        IPython.keyboard_manager.register_events(el);\n",
       "    }\n",
       "\n",
       "}\n",
       "\n",
       "mpl.figure.prototype._key_event_extra = function(event, name) {\n",
       "    var manager = IPython.notebook.keyboard_manager;\n",
       "    if (!manager)\n",
       "        manager = IPython.keyboard_manager;\n",
       "\n",
       "    // Check for shift+enter\n",
       "    if (event.shiftKey && event.which == 13) {\n",
       "        this.canvas_div.blur();\n",
       "        event.shiftKey = false;\n",
       "        // Send a \"J\" for go to next cell\n",
       "        event.which = 74;\n",
       "        event.keyCode = 74;\n",
       "        manager.command_mode();\n",
       "        manager.handle_keydown(event);\n",
       "    }\n",
       "}\n",
       "\n",
       "mpl.figure.prototype.handle_save = function(fig, msg) {\n",
       "    fig.ondownload(fig, null);\n",
       "}\n",
       "\n",
       "\n",
       "mpl.find_output_cell = function(html_output) {\n",
       "    // Return the cell and output element which can be found *uniquely* in the notebook.\n",
       "    // Note - this is a bit hacky, but it is done because the \"notebook_saving.Notebook\"\n",
       "    // IPython event is triggered only after the cells have been serialised, which for\n",
       "    // our purposes (turning an active figure into a static one), is too late.\n",
       "    var cells = IPython.notebook.get_cells();\n",
       "    var ncells = cells.length;\n",
       "    for (var i=0; i<ncells; i++) {\n",
       "        var cell = cells[i];\n",
       "        if (cell.cell_type === 'code'){\n",
       "            for (var j=0; j<cell.output_area.outputs.length; j++) {\n",
       "                var data = cell.output_area.outputs[j];\n",
       "                if (data.data) {\n",
       "                    // IPython >= 3 moved mimebundle to data attribute of output\n",
       "                    data = data.data;\n",
       "                }\n",
       "                if (data['text/html'] == html_output) {\n",
       "                    return [cell, data, j];\n",
       "                }\n",
       "            }\n",
       "        }\n",
       "    }\n",
       "}\n",
       "\n",
       "// Register the function which deals with the matplotlib target/channel.\n",
       "// The kernel may be null if the page has been refreshed.\n",
       "if (IPython.notebook.kernel != null) {\n",
       "    IPython.notebook.kernel.comm_manager.register_target('matplotlib', mpl.mpl_figure_comm);\n",
       "}\n"
      ],
      "text/plain": [
       "<IPython.core.display.Javascript object>"
      ]
     },
     "metadata": {},
     "output_type": "display_data"
    },
    {
     "data": {
      "text/html": [
       "<img src=\"data:image/png;base64,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\" width=\"640\">"
      ],
      "text/plain": [
       "<IPython.core.display.HTML object>"
      ]
     },
     "metadata": {},
     "output_type": "display_data"
    },
    {
     "data": {
      "application/vnd.jupyter.widget-view+json": {
       "model_id": "ca0ee1e13d704d76840a135522769a25",
       "version_major": 2,
       "version_minor": 0
      },
      "text/plain": [
       "interactive(children=(FloatSlider(value=1.5, description='Initial point', max=4.0, min=-4.0), FloatSlider(valu…"
      ]
     },
     "metadata": {},
     "output_type": "display_data"
    }
   ],
   "source": [
    "f = lambda x: np.power(x, 2)\n",
    "gradf = lambda x: 2 * x\n",
    "\n",
    "fig = plt.figure()\n",
    "ax = fig.add_subplot(1, 1, 1)\n",
    "\n",
    "\n",
    "\n",
    "def update(x0, step):\n",
    "    gd = methods.fo.GradientDescent(f, gradf, ss.ConstantStepSize(step))\n",
    "    _ = gd.solve(np.array([x0]), max_iter=10)\n",
    "    x_hist = gd.get_convergence()\n",
    "    x = np.linspace(-5, 5)\n",
    "    ax.clear()\n",
    "    ax.plot(x, f(x), color=\"r\", label=\"$f(x) = x^2$\")\n",
    "    y_hist = np.array([f(x) for x in x_hist])\n",
    "    x_hist = np.array(x_hist)\n",
    "    plt.quiver(x_hist[:-1], y_hist[:-1], x_hist[1:]-x_hist[:-1], y_hist[1:]-y_hist[:-1], \n",
    "               scale_units='xy', angles='xy', scale=1, width=0.005, color=\"green\", label=\"Descent path\")\n",
    "    ax.legend()\n",
    "    fig.canvas.draw()\n",
    "\n",
    "step_slider = ipywidg.FloatSlider(value=0.8, min=0, max=1.2, step=0.1, description=\"Step\")\n",
    "x0_slider = ipywidg.FloatSlider(value=1.5, min=-4, max=4, step=0.1, description=\"Initial point\")\n",
    "_ = ipywidg.interact(update, x0=x0_slider, step=step_slider)"
   ]
  },
  {
   "cell_type": "code",
   "execution_count": null,
   "metadata": {
    "slideshow": {
     "slide_type": "slide"
    }
   },
   "outputs": [],
   "source": [
    "def plot_alpha(f, grad, x, h, alphas, beta1, beta2):\n",
    "    df = np.zeros_like(alphas)\n",
    "    for i, alpha in enumerate(alphas):\n",
    "        df[i] = f(x + alpha * h)\n",
    "    upper_bound = f(x) + beta1 * alphas * grad(x) * h\n",
    "    lower_bound = f(x) + beta2 * alphas * grad(x) * h\n",
    "    plt.plot(alphas, df, label=r\"$f(x + \\alpha h)$\")\n",
    "    plt.plot(alphas, upper_bound, label=\"Upper bound\")\n",
    "    plt.plot(alphas, lower_bound, label=\"Lower bound\")\n",
    "    plt.xlabel(r\"$\\alpha$\", fontsize=18)\n",
    "    plt.legend(loc=\"best\", fontsize=18)"
   ]
  },
  {
   "cell_type": "code",
   "execution_count": null,
   "metadata": {
    "slideshow": {
     "slide_type": "slide"
    }
   },
   "outputs": [],
   "source": [
    "f = lambda x: x**2\n",
    "grad = lambda x: 2 * x\n",
    "beta1 = 0.1\n",
    "beta2 = 0.9\n",
    "x0 = 0.5\n",
    "plot_alpha(f, grad, x0, -grad(x0), np.linspace(1e-3, 1.01, 10), beta1, beta2)"
   ]
  },
  {
   "cell_type": "markdown",
   "metadata": {
    "slideshow": {
     "slide_type": "slide"
    }
   },
   "source": [
    "## $f(x) = x\\log x$"
   ]
  },
  {
   "cell_type": "code",
   "execution_count": null,
   "metadata": {
    "slideshow": {
     "slide_type": "slide"
    }
   },
   "outputs": [],
   "source": [
    "x_range = np.linspace(1e-10, 4)\n",
    "plt.plot(x_range, x_range * np.log(x_range))"
   ]
  },
  {
   "cell_type": "code",
   "execution_count": null,
   "metadata": {
    "slideshow": {
     "slide_type": "slide"
    }
   },
   "outputs": [],
   "source": [
    "x0 = 1\n",
    "f = lambda x: x * np.log(x)\n",
    "grad = lambda x: np.log(x) + 1\n",
    "beta1 = 0.3\n",
    "beta2 = 0.7\n",
    "plot_alpha(f, grad, x0, -grad(x0), np.linspace(1e-3, 0.9, 10), beta1, beta2)"
   ]
  },
  {
   "cell_type": "markdown",
   "metadata": {
    "slideshow": {
     "slide_type": "slide"
    }
   },
   "source": [
    "### Backtracking \n",
    "\n",
    "```python\n",
    "def SelectStepSize(x, f, h, rho, alpha0, beta1, beta2):\n",
    "    \n",
    "    # 0 < rho < 1\n",
    "    \n",
    "    # alpha0 - initial guess of step size\n",
    "    \n",
    "    # beta1 and beta2 - constants from conditions\n",
    "    \n",
    "    alpha = alpha0\n",
    "    \n",
    "    # Check violating sufficient decrease and curvature conditions\n",
    "    \n",
    "    while (f(x - alpha * h) >= f(x) + beta1 * alpha grad_f(x_k).dot(h)) and \n",
    "    \n",
    "          (grad_f(x - alpha * h).dot(h) <= beta2 * grad_f(x_k).dot(h)):\n",
    "            \n",
    "        alpha *= rho\n",
    "        \n",
    "    return alpha\n",
    "\n",
    "```"
   ]
  },
  {
   "cell_type": "markdown",
   "metadata": {
    "slideshow": {
     "slide_type": "slide"
    }
   },
   "source": [
    "## Теоремы сходимости (Б.Т. Поляк Введение в оптимизацию, гл. 1, $\\S$ 4;  гл. 3, $\\S$ 1; Ю.Е. Нестеров Введение в выпуклую оптимизацию, $\\S$ 2.2)\n",
    "От общего к частному:"
   ]
  },
  {
   "cell_type": "markdown",
   "metadata": {
    "slideshow": {
     "slide_type": "fragment"
    }
   },
   "source": [
    "**Теорема 1.** \n",
    "Пусть \n",
    "\n",
    "- $f(x)$ дифференцируема на $\\mathbb{R}^n$, \n",
    "- градиент $f(x)$ удовлетворяет условию Липшица с константой $L$\n",
    "- $f(x)$ ограничена снизу\n",
    "- $\\alpha = const$ и $0 < \\alpha < \\frac{2}{L}$\n",
    "\n",
    "Тогда для градиентного метода выполнено:\n",
    "\n",
    "$$\n",
    "\\lim\\limits_{k \\to \\infty} f'(x_k) = 0,\n",
    "$$\n",
    "\n",
    "а функция монотонно убывает $f(x_{k+1}) < f(x_k)$."
   ]
  },
  {
   "cell_type": "markdown",
   "metadata": {
    "slideshow": {
     "slide_type": "fragment"
    }
   },
   "source": [
    "**Теорема 2.** Пусть\n",
    "- $f(x)$ дифференцируема на $\\mathbb{R}^n$\n",
    "- $f(x)$ выпукла \n",
    "- $f'(x)$ удовлетворяет условию Липшица с константой $L$\n",
    "- $\\alpha = \\dfrac{1}{L}$\n",
    "\n",
    "Тогда \n",
    "\n",
    "$$\n",
    "f(x_k) - f^* \\leq \\dfrac{2L \\| x_0 - x^*\\|^2_2}{k+4}\n",
    "$$\n"
   ]
  },
  {
   "cell_type": "markdown",
   "metadata": {
    "collapsed": true,
    "slideshow": {
     "slide_type": "fragment"
    }
   },
   "source": [
    "**Теорема 3.**\n",
    "Пусть \n",
    "- $f(x)$ дважды дифференцируема и $\\mu\\mathbf{I} \\preceq f''(x) \\preceq L\\mathbf{I}$ для всех $x$\n",
    "- $\\alpha = const$ и $0 < \\alpha < \\frac{2}{L}$\n",
    "\n",
    "Тогда \n",
    "\n",
    "$$\n",
    "\\| x_k - x^*\\|_2 \\leq \\|x_0 - x^*\\|_2 q^k, \\qquad q = \\max(|1 - \\alpha l|, |1 - \\alpha L|) < 1\n",
    "$$\n",
    "\n",
    "и минимальное $q^* = \\dfrac{L - \\mu}{L + \\mu}$ при $\\alpha^* = \\dfrac{2}{L + \\mu}$"
   ]
  },
  {
   "cell_type": "markdown",
   "metadata": {
    "slideshow": {
     "slide_type": "slide"
    }
   },
   "source": [
    "### От чего зависит $q^*$ и как это использовать?\n",
    "Из Теоремы 3 имеем \n",
    "\n",
    "$$\n",
    "q^* = \\dfrac{L - \\mu}{L + \\mu} = \\dfrac{L/\\mu - 1}{L/\\mu + 1} = \\dfrac{M - 1}{M + 1},\n",
    "$$\n",
    "\n",
    "где $M$ - оценка числа обусловленности $f''(x)$.\n",
    "\n",
    "**Вопрос**: что такое число обусловленности матрицы?\n",
    "\n",
    "- При $M \\gg 1$, $q^* \\to 1 \\Rightarrow$ оооочень **медленная** сходимости градиентного метода. Например при $M = 100$: $q^* \\approx 0.98 $\n",
    "- При $M \\simeq 1$, $q^* \\to 0 \\Rightarrow$ **ускорение** сходимости градиентного метода. Например при $M = 4$: $q^* = 0.6 $\n",
    "\n",
    "**Вопрос**: какая геометрия у этого требования?\n",
    "\n",
    "**Мораль**: необходимо сделать оценку $M$ как можно ближе к 1!\n",
    "\n",
    "О том, как это сделать, Вам будет предложено подумать в домашнем задании :)"
   ]
  },
  {
   "cell_type": "markdown",
   "metadata": {
    "collapsed": true,
    "slideshow": {
     "slide_type": "slide"
    }
   },
   "source": [
    "## Вычислительный аспект и эксперименты\n",
    "1. Для каждого шага метода нужно хранить только текущую точку и вектор градиента: $O(n)$ памяти\n",
    "2. Поиск $\\alpha_k$:\n",
    "\n",
    "    - дан априори\n",
    "    - ищется из аналитического решения задачи наискорейшего спуска\n",
    "    - заканчивается за конечное число шагов\n",
    "3. Для каждого шага метода нужно вычислять линейную комбинацию векторов: $O(n)$ вычислений + высокопроизводительные реализации"
   ]
  },
  {
   "cell_type": "markdown",
   "metadata": {
    "slideshow": {
     "slide_type": "slide"
    }
   },
   "source": [
    "### Pеализация градиентного спуска"
   ]
  },
  {
   "cell_type": "code",
   "execution_count": null,
   "metadata": {
    "slideshow": {
     "slide_type": "fragment"
    }
   },
   "outputs": [],
   "source": [
    "def GradientDescent(f, gradf, x0, epsilon, num_iter, line_search, \n",
    "                    disp=False, callback=None, **kwargs):\n",
    "    x = x0.copy()\n",
    "    iteration = 0\n",
    "    opt_arg = {\"f\": f, \"grad_f\": gradf}\n",
    "    for key in kwargs:\n",
    "        opt_arg[key] = kwargs[key]\n",
    "    while True:\n",
    "        gradient = gradf(x)\n",
    "        alpha = line_search(x, -gradient, **opt_arg)\n",
    "        x = x - alpha * gradient\n",
    "        if callback is not None:\n",
    "            callback(x)\n",
    "        iteration += 1\n",
    "        if disp:\n",
    "            print(\"Current function val =\", f(x))\n",
    "            print(\"Current gradient norm = \", np.linalg.norm(gradf(x)))\n",
    "        if np.linalg.norm(gradf(x)) < epsilon:\n",
    "            break\n",
    "        if iteration >= num_iter:\n",
    "            break\n",
    "    res = {\"x\": x, \"num_iter\": iteration, \"tol\": np.linalg.norm(gradf(x))}\n",
    "    return res"
   ]
  },
  {
   "cell_type": "markdown",
   "metadata": {
    "slideshow": {
     "slide_type": "slide"
    }
   },
   "source": [
    "### Выбор шага\n",
    "\n",
    "Реализации различных способов выбора шага приведены [тут](https://github.com/amkatrutsa/liboptpy/blob/master/step_size.py)"
   ]
  },
  {
   "cell_type": "markdown",
   "metadata": {
    "slideshow": {
     "slide_type": "slide"
    }
   },
   "source": [
    "### Зависимость от обусловленности матрицы $f''(x)$\n",
    "Рассмотрим задачу \n",
    "$$\n",
    "\\min f(x),\n",
    "$$ \n",
    "где\n",
    "$$ f(x) = x^{\\top}Ax, \\; A = \\begin{bmatrix} 1 & 0\\\\ 0 & \\gamma \\end{bmatrix} $$\n",
    "\n",
    "$$\n",
    "f'(x) = 2Ax\n",
    "$$"
   ]
  },
  {
   "cell_type": "code",
   "execution_count": null,
   "metadata": {
    "slideshow": {
     "slide_type": "fragment"
    }
   },
   "outputs": [],
   "source": [
    "def my_f(x, A):\n",
    "    return 0.5 * x.dot(A.dot(x))\n",
    "\n",
    "def my_gradf(x, A):\n",
    "    return A.dot(x)"
   ]
  },
  {
   "cell_type": "code",
   "execution_count": null,
   "metadata": {
    "slideshow": {
     "slide_type": "slide"
    }
   },
   "outputs": [],
   "source": [
    "plt.rc(\"text\", usetex=True)\n",
    "\n",
    "gammas = [0.1, 0.5, 1, 2, 3, 4, 5, 10, 20, 50, 100, 1000, 5000, 10000]\n",
    "# gammas = [1]\n",
    "num_iter_converg = []\n",
    "for g in gammas:\n",
    "    A = np.array([[1, 0], \n",
    "                  [0, g]], dtype=np.float64)\n",
    "    f = lambda x: my_f(x, A)\n",
    "    gradf = lambda x: my_gradf(x, A)\n",
    "#     x0 = np.random.rand(A.shape[0])\n",
    "#     x0 = np.sort(x0)\n",
    "#     x0 = x0[::-1]\n",
    "    x0 = np.array([g, 1], dtype=np.float64)\n",
    "#     print x0[1] / x0[0]\n",
    "    gd = methods.fo.GradientDescent(f, gradf, ss.ExactLineSearch4Quad(A))\n",
    "    x = gd.solve(x0, tol=1e-7, max_iter=100)\n",
    "    num_iter_converg.append(len(gd.get_convergence()))\n",
    "\n",
    "plt.figure(figsize=(8, 6))\n",
    "plt.loglog(gammas, num_iter_converg)\n",
    "plt.xticks(fontsize = 20)\n",
    "plt.yticks(fontsize = 20)\n",
    "plt.xlabel(r\"$\\gamma$\", fontsize=20)\n",
    "plt.ylabel(r\"Number of iterations with $\\varepsilon = 10^{-7}$\", fontsize=20)"
   ]
  },
  {
   "cell_type": "markdown",
   "metadata": {
    "slideshow": {
     "slide_type": "slide"
    }
   },
   "source": [
    "- При неудачном начальном приближении сходимость для плохо обусловенной задачи очень медленная\n",
    "- При случайном начальном приближении сходимость может быть гораздо быстрее теоретических оценок"
   ]
  },
  {
   "cell_type": "markdown",
   "metadata": {
    "slideshow": {
     "slide_type": "slide"
    }
   },
   "source": [
    "## Эксперимент на многомерной задаче\n",
    "Пусть $A \\in \\mathbb{R}^{m \\times n}$. Рассмотрим систему линейных неравенств: $Ax \\leq 1$ при условии $|x_i| \\leq 1$ для всех $i$.\n",
    "\n",
    "**Определение.** Аналитическим центром системы неравенств $Ax \\leq 1$ при условии $|x_i| \\leq 1$ является решение задачи\n",
    "$$\n",
    "f(x) = - \\sum_{i=1}^m \\log(1 - a_i^{\\top}x) - \\sum_{i = 1}^n \\log (1 - x^2_i) \\to \\min_x\n",
    "$$\n",
    "$$\n",
    "f'(x) - ?\n",
    "$$"
   ]
  },
  {
   "cell_type": "markdown",
   "metadata": {
    "slideshow": {
     "slide_type": "slide"
    }
   },
   "source": [
    "### Точное решение с помощью CVXPy"
   ]
  },
  {
   "cell_type": "code",
   "execution_count": null,
   "metadata": {
    "slideshow": {
     "slide_type": "fragment"
    }
   },
   "outputs": [],
   "source": [
    "import numpy as np\n",
    "\n",
    "n = 1000\n",
    "m = 2000\n",
    "A = np.random.rand(n, m)\n",
    "\n",
    "x = cvx.Variable(n)\n",
    "\n",
    "obj = cvx.Minimize(cvx.sum(-cvx.log(1 - A.T * x)) - \n",
    "                   cvx.sum(cvx.log(1 - cvx.square(x))))\n",
    "prob = cvx.Problem(obj)\n",
    "prob.solve(solver=\"SCS\", verbose=True)\n",
    "x = x.value\n",
    "print(\"Optimal value =\", prob.value)"
   ]
  },
  {
   "cell_type": "markdown",
   "metadata": {
    "slideshow": {
     "slide_type": "slide"
    }
   },
   "source": [
    "### Решение с помощью градиентного спуска"
   ]
  },
  {
   "cell_type": "code",
   "execution_count": null,
   "metadata": {
    "slideshow": {
     "slide_type": "fragment"
    }
   },
   "outputs": [],
   "source": [
    "import cvxpy as cvx\n",
    "print(cvx.installed_solvers())\n",
    "\n",
    "# !pip install jax \n",
    "# !pip install jaxlib\n",
    "\n",
    "import jax.numpy as jnp\n",
    "import jax\n",
    "\n",
    "# from jax.config import config\n",
    "# config.update(\"jax_enable_x64\", True)\n",
    "\n",
    "A = jnp.array(A)\n",
    "print(A.dtype)\n",
    "x0 = jnp.zeros(n)\n",
    "f = lambda x: -jnp.sum(jnp.log(1 - A.T@x)) - jnp.sum(jnp.log(1 - x*x))\n",
    "grad_f = lambda x: jnp.sum(A @ (jnp.diagflat(1 / (1 - A.T @ x))), \\\n",
    "                          axis=1) + 2 * x / (1 - jnp.power(x, 2))\n",
    "grad_f_jax = jax.grad(f)\n",
    "print(jnp.linalg.norm(grad_f(x0) - grad_f_jax(x0)))"
   ]
  },
  {
   "cell_type": "markdown",
   "metadata": {
    "slideshow": {
     "slide_type": "fragment"
    }
   },
   "source": [
    "Подробнее про jax, его возможности и особенности можно посмотреть например [тут](https://github.com/amkatrutsa/MIPT-Opt/blob/master/Fall2020/03-MatrixCalculus/jax_autodiff_tutorial.ipynb)"
   ]
  },
  {
   "cell_type": "code",
   "execution_count": null,
   "metadata": {
    "slideshow": {
     "slide_type": "slide"
    }
   },
   "outputs": [],
   "source": [
    "gd = methods.fo.GradientDescent(f, grad_f_jax, ss.Backtracking(\"Armijo\", rho=0.5, beta=0.1, init_alpha=1.))\n",
    "x = gd.solve(x0, tol=1e-5, max_iter=100, disp=True)\n",
    "\n",
    "x_conv = gd.get_convergence()\n",
    "grad_conv = [jnp.linalg.norm(grad_f_jax(x)) for x in x_conv]\n",
    "plt.figure(figsize=(8,6))\n",
    "plt.semilogy(grad_conv, label=r\"$\\| f'(x_k) \\|_2$\")\n",
    "plt.semilogy([np.linalg.norm(x - np.array(x_k)) for x_k in x_conv], label=r\"$\\|x_k - x^*\\|_2$\")\n",
    "plt.semilogy([np.linalg.norm(prob.value - f(np.array(x_k))) for x_k in x_conv], label=r\"$\\|f(x_k) - f^*\\|_2$\")\n",
    "plt.semilogy([np.linalg.norm(np.array(x_conv[i]) - np.array(x_conv[i+1])) for i in range(len(x_conv) - 1)], label=r\"$\\|x_k - x_{k+1}\\|_2$\")\n",
    "plt.semilogy([np.linalg.norm(f(np.array(x_conv[i])) - f(np.array(x_conv[i+1]))) for i in range(len(x_conv) - 1)], label=r\"$\\|f(x_k) - f(x_{k+1})\\|_2$\")\n",
    "plt.xlabel(r\"Number of iteration, $k$\", fontsize=20)\n",
    "plt.ylabel(r\"Convergence rate\", fontsize=20)\n",
    "plt.xticks(fontsize = 20)\n",
    "plt.yticks(fontsize = 20)\n",
    "plt.legend(loc=\"best\", fontsize=20)\n",
    "plt.tight_layout()"
   ]
  },
  {
   "cell_type": "markdown",
   "metadata": {
    "slideshow": {
     "slide_type": "slide"
    }
   },
   "source": [
    "## Pro & Contra\n",
    "\n",
    "Pro\n",
    "- легко реализовать\n",
    "- сходимость как минимум к стационарной точке\n",
    "- параметры при выборе шага влияют на сходимость не столь сильно\n",
    "- имеет многочисленные вариации\n",
    "\n",
    "Contra\n",
    "- линейная сходимость для сильно выпуклых функций\n",
    "- очень сильно зависит от числа обусловленности $f''(x)$, выбор начального приближения может помочь\n",
    "- не является оптимальным для выпуклых функций с липшицевым градиентом и сильновыпуклых функций (см. [ускорение Нестерова](https://blogs.princeton.edu/imabandit/2013/04/01/acceleratedgradientdescent/))"
   ]
  },
  {
   "cell_type": "markdown",
   "metadata": {
    "slideshow": {
     "slide_type": "slide"
    }
   },
   "source": [
    "## Резюме\n",
    "1. Методы спуска\n",
    "2. Направление убывания\n",
    "3. Метод градиентного спуска\n",
    "4. Правила выбора шага\n",
    "5. Теоремы сходимости\n",
    "6. Эксперименты"
   ]
  }
 ],
 "metadata": {
  "anaconda-cloud": {},
  "celltoolbar": "Slideshow",
  "kernelspec": {
   "display_name": "Python 3 (cvxpy)",
   "language": "python",
   "name": "cvxpy"
  },
  "language_info": {
   "codemirror_mode": {
    "name": "ipython",
    "version": 3
   },
   "file_extension": ".py",
   "mimetype": "text/x-python",
   "name": "python",
   "nbconvert_exporter": "python",
   "pygments_lexer": "ipython3",
   "version": "3.6.8"
  },
  "nbpresent": {
   "slides": {
    "b738dfa0-30f4-4350-8338-c31d236608ec": {
     "id": "b738dfa0-30f4-4350-8338-c31d236608ec",
     "prev": null,
     "regions": {
      "96278b08-d857-478b-803c-5921bd08bbcd": {
       "attrs": {
        "height": 0.8,
        "width": 0.8,
        "x": 0.1,
        "y": 0.1
       },
       "content": {
        "cell": "196b8a50-3d29-45c3-82b9-f4a09b49491d",
        "part": "whole"
       },
       "id": "96278b08-d857-478b-803c-5921bd08bbcd"
      },
      "9b98a7cc-d9d4-4a02-ac7e-30168dcde7af": {
       "attrs": {
        "height": 0.4,
        "width": 0.8,
        "x": 0.1,
        "y": 0.5
       },
       "content": {
        "cell": "2a573842-172b-4931-b0dd-9c9d3c47a450",
        "part": "whole"
       },
       "id": "9b98a7cc-d9d4-4a02-ac7e-30168dcde7af"
      }
     }
    }
   },
   "themes": {}
  }
 },
 "nbformat": 4,
 "nbformat_minor": 1
}
